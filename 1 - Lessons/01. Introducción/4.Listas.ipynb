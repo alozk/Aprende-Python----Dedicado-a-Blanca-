{
  "nbformat": 4,
  "nbformat_minor": 0,
  "metadata": {
    "colab": {
      "name": "4.Listas.ipynb",
      "provenance": []
    },
    "kernelspec": {
      "name": "python3",
      "display_name": "Python 3"
    },
    "language_info": {
      "name": "python"
    }
  },
  "cells": [
    {
      "cell_type": "code",
      "execution_count": 1,
      "metadata": {
        "id": "6Pt4aIQF0hpo"
      },
      "outputs": [],
      "source": [
        "numeros = [1,2,3,4]"
      ]
    },
    {
      "cell_type": "code",
      "source": [
        "datos = [4, 'palabra', 23,6.7,'otra palabra']"
      ],
      "metadata": {
        "id": "RAZVV6yi001y"
      },
      "execution_count": 2,
      "outputs": []
    },
    {
      "cell_type": "code",
      "source": [
        "#Recuerda que hay posicion 0\n",
        "#preguntamos por el contenido de numeros en la segunda posicion\n",
        "numeros[2]"
      ],
      "metadata": {
        "colab": {
          "base_uri": "https://localhost:8080/"
        },
        "id": "R9vMK8p_1BXR",
        "outputId": "a71cda6d-a50b-412a-f509-386fe61a8ab4"
      },
      "execution_count": 3,
      "outputs": [
        {
          "output_type": "execute_result",
          "data": {
            "text/plain": [
              "3"
            ]
          },
          "metadata": {},
          "execution_count": 3
        }
      ]
    },
    {
      "cell_type": "code",
      "source": [
        "#preguntamos por el contenido de datos en la última posicion\n",
        "datos[-1]"
      ],
      "metadata": {
        "colab": {
          "base_uri": "https://localhost:8080/",
          "height": 35
        },
        "id": "6ezyR9bs1GFm",
        "outputId": "54bda26a-1983-47b3-b0d4-9c5726ebbdde"
      },
      "execution_count": 4,
      "outputs": [
        {
          "output_type": "execute_result",
          "data": {
            "application/vnd.google.colaboratory.intrinsic+json": {
              "type": "string"
            },
            "text/plain": [
              "'otra palabra'"
            ]
          },
          "metadata": {},
          "execution_count": 4
        }
      ]
    },
    {
      "cell_type": "code",
      "source": [
        "#preguntamos por el contenido de datos en las dos últimas posiciones\n",
        "datos[-2:]"
      ],
      "metadata": {
        "colab": {
          "base_uri": "https://localhost:8080/"
        },
        "id": "_3QydoSg1qxE",
        "outputId": "44c22a19-46db-47e3-ef13-a3b536fa1d76"
      },
      "execution_count": 5,
      "outputs": [
        {
          "output_type": "execute_result",
          "data": {
            "text/plain": [
              "[6.7, 'otra palabra']"
            ]
          },
          "metadata": {},
          "execution_count": 5
        }
      ]
    },
    {
      "cell_type": "code",
      "source": [
        "#Añadimos mas numeros a la lista numeros\n",
        "numeros + [5,6,7,8,9,10]"
      ],
      "metadata": {
        "colab": {
          "base_uri": "https://localhost:8080/"
        },
        "id": "BosMQ4eE14nx",
        "outputId": "b07a236e-605f-4405-84f7-d82ef685e10b"
      },
      "execution_count": 6,
      "outputs": [
        {
          "output_type": "execute_result",
          "data": {
            "text/plain": [
              "[1, 2, 3, 4, 5, 6, 7, 8, 9, 10]"
            ]
          },
          "metadata": {},
          "execution_count": 6
        }
      ]
    },
    {
      "cell_type": "code",
      "source": [
        "#Creamos una lista de numeros impares\n",
        "impares = [1,2,5,7,9]"
      ],
      "metadata": {
        "id": "cJDqyjxv2M3g"
      },
      "execution_count": 7,
      "outputs": []
    },
    {
      "cell_type": "code",
      "source": [
        "#Corregimos el error\n",
        "impares [1] = 3"
      ],
      "metadata": {
        "id": "ZlkIn4dw2T09"
      },
      "execution_count": 8,
      "outputs": []
    },
    {
      "cell_type": "code",
      "source": [
        "impares"
      ],
      "metadata": {
        "colab": {
          "base_uri": "https://localhost:8080/"
        },
        "id": "oUnUVjj82vXR",
        "outputId": "11cc4a75-f0ab-4d40-9d8c-67e8255b5a4b"
      },
      "execution_count": 9,
      "outputs": [
        {
          "output_type": "execute_result",
          "data": {
            "text/plain": [
              "[1, 3, 5, 7, 9]"
            ]
          },
          "metadata": {},
          "execution_count": 9
        }
      ]
    },
    {
      "cell_type": "code",
      "source": [
        "#Operamos con un numero de la lista\n",
        "impares [3] - 4"
      ],
      "metadata": {
        "colab": {
          "base_uri": "https://localhost:8080/"
        },
        "id": "l0tT2i2J27Vo",
        "outputId": "a41ebb9b-1946-43cb-879f-91b1704d8384"
      },
      "execution_count": 10,
      "outputs": [
        {
          "output_type": "execute_result",
          "data": {
            "text/plain": [
              "3"
            ]
          },
          "metadata": {},
          "execution_count": 10
        }
      ]
    },
    {
      "cell_type": "code",
      "source": [
        "#Añadimos de otra manera, un numero a impares\n",
        "impares.append(11)"
      ],
      "metadata": {
        "id": "jmFj_O-g3TA0"
      },
      "execution_count": 11,
      "outputs": []
    },
    {
      "cell_type": "code",
      "source": [
        "impares"
      ],
      "metadata": {
        "colab": {
          "base_uri": "https://localhost:8080/"
        },
        "id": "Gn-L40cK3fx3",
        "outputId": "d4889b67-603b-4466-cb2a-8687e0521ee8"
      },
      "execution_count": 12,
      "outputs": [
        {
          "output_type": "execute_result",
          "data": {
            "text/plain": [
              "[1, 3, 5, 7, 9, 11]"
            ]
          },
          "metadata": {},
          "execution_count": 12
        }
      ]
    },
    {
      "cell_type": "code",
      "source": [
        "#Añadimos otro numero pero operando\n",
        "impares.append(2*5+3)"
      ],
      "metadata": {
        "id": "xYOIkO-b3oid"
      },
      "execution_count": 13,
      "outputs": []
    },
    {
      "cell_type": "code",
      "source": [
        "impares"
      ],
      "metadata": {
        "colab": {
          "base_uri": "https://localhost:8080/"
        },
        "id": "toaaLqP43wUL",
        "outputId": "cd3936a3-c012-47e7-9b36-01e10d7fb5e5"
      },
      "execution_count": 14,
      "outputs": [
        {
          "output_type": "execute_result",
          "data": {
            "text/plain": [
              "[1, 3, 5, 7, 9, 11, 13]"
            ]
          },
          "metadata": {},
          "execution_count": 14
        }
      ]
    },
    {
      "cell_type": "code",
      "source": [
        "abc = ['a','b','c','d','e','f']"
      ],
      "metadata": {
        "id": "s4XWRzbn33lk"
      },
      "execution_count": 15,
      "outputs": []
    },
    {
      "cell_type": "code",
      "source": [
        "abc[:2]"
      ],
      "metadata": {
        "colab": {
          "base_uri": "https://localhost:8080/"
        },
        "id": "v9fGlPwu4JJ6",
        "outputId": "d5351aa0-9020-4240-e45a-3a27295b8671"
      },
      "execution_count": 16,
      "outputs": [
        {
          "output_type": "execute_result",
          "data": {
            "text/plain": [
              "['a', 'b']"
            ]
          },
          "metadata": {},
          "execution_count": 16
        }
      ]
    },
    {
      "cell_type": "code",
      "source": [
        "#Momentaneamente queremos la 'a' en mayusculas\n",
        "abc[0].upper()"
      ],
      "metadata": {
        "colab": {
          "base_uri": "https://localhost:8080/",
          "height": 35
        },
        "id": "hAtlWalw4jEK",
        "outputId": "4cc65851-1776-4ae0-b5be-0a3f2baf9b88"
      },
      "execution_count": 17,
      "outputs": [
        {
          "output_type": "execute_result",
          "data": {
            "application/vnd.google.colaboratory.intrinsic+json": {
              "type": "string"
            },
            "text/plain": [
              "'A'"
            ]
          },
          "metadata": {},
          "execution_count": 17
        }
      ]
    },
    {
      "cell_type": "code",
      "source": [
        "abc"
      ],
      "metadata": {
        "colab": {
          "base_uri": "https://localhost:8080/"
        },
        "id": "K4UukC0G5Aep",
        "outputId": "52a5b602-1cf6-466d-c1a7-4ca70c7cf3b4"
      },
      "execution_count": 18,
      "outputs": [
        {
          "output_type": "execute_result",
          "data": {
            "text/plain": [
              "['a', 'b', 'c', 'd', 'e', 'f']"
            ]
          },
          "metadata": {},
          "execution_count": 18
        }
      ]
    },
    {
      "cell_type": "code",
      "source": [
        "#Cambiamos de manera fija y manual algunas letras a mayusculas\n",
        "abc[:2] = ['A','B']"
      ],
      "metadata": {
        "id": "DJz67Q8r5N9G"
      },
      "execution_count": 19,
      "outputs": []
    },
    {
      "cell_type": "code",
      "source": [
        "abc"
      ],
      "metadata": {
        "colab": {
          "base_uri": "https://localhost:8080/"
        },
        "id": "ugOdhzOx5nZk",
        "outputId": "49cea94d-6284-45e9-c21a-9cec4c23a0ad"
      },
      "execution_count": 20,
      "outputs": [
        {
          "output_type": "execute_result",
          "data": {
            "text/plain": [
              "['A', 'B', 'c', 'd', 'e', 'f']"
            ]
          },
          "metadata": {},
          "execution_count": 20
        }
      ]
    },
    {
      "cell_type": "code",
      "source": [
        "#Queremos quitar las letras 'A' y 'B'\n",
        "abc [:2] = []"
      ],
      "metadata": {
        "id": "K502_8fc5v-j"
      },
      "execution_count": 21,
      "outputs": []
    },
    {
      "cell_type": "code",
      "source": [
        "abc"
      ],
      "metadata": {
        "colab": {
          "base_uri": "https://localhost:8080/"
        },
        "id": "lrEOu2-o5_9O",
        "outputId": "ae053a8d-a779-4e49-b6f0-8dbb26170a02"
      },
      "execution_count": 22,
      "outputs": [
        {
          "output_type": "execute_result",
          "data": {
            "text/plain": [
              "['c', 'd', 'e', 'f']"
            ]
          },
          "metadata": {},
          "execution_count": 22
        }
      ]
    },
    {
      "cell_type": "code",
      "source": [
        "#Pedimos la longitud que tiene la lista abc ['length']\n",
        "len(abc)"
      ],
      "metadata": {
        "colab": {
          "base_uri": "https://localhost:8080/"
        },
        "id": "RjUI3vEK6lSg",
        "outputId": "7c058c63-19e3-4c04-db74-f49fe9649e61"
      },
      "execution_count": 23,
      "outputs": [
        {
          "output_type": "execute_result",
          "data": {
            "text/plain": [
              "4"
            ]
          },
          "metadata": {},
          "execution_count": 23
        }
      ]
    },
    {
      "cell_type": "code",
      "source": [
        "a = [1,2,3]\n",
        "b = [4,5,6]\n",
        "c = [7,8,9]\n",
        "r = [a,b,c]"
      ],
      "metadata": {
        "id": "1KNoldvo7VTA"
      },
      "execution_count": 24,
      "outputs": []
    },
    {
      "cell_type": "code",
      "source": [
        "r"
      ],
      "metadata": {
        "colab": {
          "base_uri": "https://localhost:8080/"
        },
        "id": "zrNqsb477mdc",
        "outputId": "4499cc4f-c477-42ef-af90-e061af8221b1"
      },
      "execution_count": 25,
      "outputs": [
        {
          "output_type": "execute_result",
          "data": {
            "text/plain": [
              "[[1, 2, 3], [4, 5, 6], [7, 8, 9]]"
            ]
          },
          "metadata": {},
          "execution_count": 25
        }
      ]
    },
    {
      "cell_type": "code",
      "source": [
        "#Pedimos a r el primer conjunto\n",
        "r[0]"
      ],
      "metadata": {
        "colab": {
          "base_uri": "https://localhost:8080/"
        },
        "id": "BKi_EEPg7r5Q",
        "outputId": "7954940e-1e7f-4fe4-9d4a-f33348a23642"
      },
      "execution_count": 26,
      "outputs": [
        {
          "output_type": "execute_result",
          "data": {
            "text/plain": [
              "[1, 2, 3]"
            ]
          },
          "metadata": {},
          "execution_count": 26
        }
      ]
    },
    {
      "cell_type": "code",
      "source": [
        "#Pedimos a r el ultimo conjunto\n",
        "r[-1]"
      ],
      "metadata": {
        "colab": {
          "base_uri": "https://localhost:8080/"
        },
        "id": "UzfxOUE17zc9",
        "outputId": "4ccbd433-20fa-4943-f1bc-c38c500b3ea5"
      },
      "execution_count": 27,
      "outputs": [
        {
          "output_type": "execute_result",
          "data": {
            "text/plain": [
              "[7, 8, 9]"
            ]
          },
          "metadata": {},
          "execution_count": 27
        }
      ]
    },
    {
      "cell_type": "code",
      "source": [
        "#Queremos el primer numero de r\n",
        "r[0][0]"
      ],
      "metadata": {
        "colab": {
          "base_uri": "https://localhost:8080/"
        },
        "id": "Wvg34No474vV",
        "outputId": "d5600de5-5ba9-49b8-9bf6-1043346d60d9"
      },
      "execution_count": 28,
      "outputs": [
        {
          "output_type": "execute_result",
          "data": {
            "text/plain": [
              "1"
            ]
          },
          "metadata": {},
          "execution_count": 28
        }
      ]
    },
    {
      "cell_type": "code",
      "source": [
        "#Queremos el numero 8 de r\n",
        "r[2][1]\n"
      ],
      "metadata": {
        "colab": {
          "base_uri": "https://localhost:8080/"
        },
        "id": "W_pBdk1aDnHw",
        "outputId": "e5300904-13e2-4c91-b029-9c142c2a2652"
      },
      "execution_count": 29,
      "outputs": [
        {
          "output_type": "execute_result",
          "data": {
            "text/plain": [
              "8"
            ]
          },
          "metadata": {},
          "execution_count": 29
        }
      ]
    },
    {
      "cell_type": "code",
      "source": [
        "#Queremos multiplicar el 6 por el 8\n",
        "r[1][2]*r[-1][-2]"
      ],
      "metadata": {
        "colab": {
          "base_uri": "https://localhost:8080/"
        },
        "id": "7gHK8K6uEPiT",
        "outputId": "ef090ffd-dc62-4646-acfe-f5771beef1dc"
      },
      "execution_count": 30,
      "outputs": [
        {
          "output_type": "execute_result",
          "data": {
            "text/plain": [
              "48"
            ]
          },
          "metadata": {},
          "execution_count": 30
        }
      ]
    },
    {
      "cell_type": "markdown",
      "source": [
        "A continuación vamos a hacer uso de las funciones 'sort' o 'sorted' al igual que 'reverse' o 'reversed' para ordenar una lista o invertir su orden.\n",
        "\n",
        "Ojo, invertir el orden no es ordenar, simplemente es darle la vuelta."
      ],
      "metadata": {
        "id": "jhkkit95p89H"
      }
    },
    {
      "cell_type": "code",
      "source": [
        "#Creamos una lista simple de números\n",
        "lista = [1,7,4,6,2,3]"
      ],
      "metadata": {
        "id": "yndnYsEMqYQW"
      },
      "execution_count": 31,
      "outputs": []
    },
    {
      "cell_type": "code",
      "source": [
        "#La ordeno, la forma predeterminada de python seria ordenar de menor a mayor una secuencia de números\n",
        "print(sorted(lista))  #Recordemos que podemos hacer así un print o guardarla en una variable y ejecutarla"
      ],
      "metadata": {
        "colab": {
          "base_uri": "https://localhost:8080/"
        },
        "id": "ERtk8-2Hqiui",
        "outputId": "e8d15990-6b4a-4794-f880-39324cda1def"
      },
      "execution_count": 32,
      "outputs": [
        {
          "output_type": "stream",
          "name": "stdout",
          "text": [
            "[1, 2, 3, 4, 6, 7]\n"
          ]
        }
      ]
    },
    {
      "cell_type": "code",
      "source": [
        "#Hagámoslo ahora guardando en una variable para que quede claro\n",
        "lista_ordenada = sorted(lista)\n",
        "lista_ordenada"
      ],
      "metadata": {
        "colab": {
          "base_uri": "https://localhost:8080/"
        },
        "id": "-1nxUsu1rOMl",
        "outputId": "cf82f48c-f144-4f31-e3ae-87cdf0e9b6b6"
      },
      "execution_count": 33,
      "outputs": [
        {
          "output_type": "execute_result",
          "data": {
            "text/plain": [
              "[1, 2, 3, 4, 6, 7]"
            ]
          },
          "metadata": {},
          "execution_count": 33
        }
      ]
    },
    {
      "cell_type": "code",
      "source": [
        "#Si usamos 'reverse' en la lista original, funcionaría de la siguiente manera\n",
        "lista = [1,7,4,6,2,3]#Mencionamos otra vez la lista porque sino usaría la lista con el sorted realizado en la ejecución [48]\n",
        "lista.reverse()\n",
        "lista"
      ],
      "metadata": {
        "colab": {
          "base_uri": "https://localhost:8080/"
        },
        "id": "SVgxnopsrfJS",
        "outputId": "b2b74c5c-2c4d-4570-82e3-454934bad0ea"
      },
      "execution_count": 34,
      "outputs": [
        {
          "output_type": "execute_result",
          "data": {
            "text/plain": [
              "[3, 2, 6, 4, 7, 1]"
            ]
          },
          "metadata": {},
          "execution_count": 34
        }
      ]
    },
    {
      "cell_type": "code",
      "source": [
        "#Si queremos que la lista quede ordenada de mayor a menor podemos hacer primero un 'sorted' y después hacer un 'reverse'\n",
        "#Como ya tenemos la lista_ordenada creada, nos ahorramos ese paso\n",
        "lista_ordenada.reverse()\n",
        "lista_ordenada"
      ],
      "metadata": {
        "colab": {
          "base_uri": "https://localhost:8080/"
        },
        "id": "yPUfTAKbsiNr",
        "outputId": "fb88b957-03a0-48a4-c59c-9b9e5c8a8d2d"
      },
      "execution_count": 35,
      "outputs": [
        {
          "output_type": "execute_result",
          "data": {
            "text/plain": [
              "[7, 6, 4, 3, 2, 1]"
            ]
          },
          "metadata": {},
          "execution_count": 35
        }
      ]
    }
  ]
}