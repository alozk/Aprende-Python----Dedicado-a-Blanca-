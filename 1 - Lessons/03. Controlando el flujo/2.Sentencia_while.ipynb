{
  "nbformat": 4,
  "nbformat_minor": 0,
  "metadata": {
    "colab": {
      "name": "b11_Sentencia_while.ipynb",
      "provenance": []
    },
    "kernelspec": {
      "name": "python3",
      "display_name": "Python 3"
    },
    "language_info": {
      "name": "python"
    }
  },
  "cells": [
    {
      "cell_type": "markdown",
      "source": [
        "# WHILE"
      ],
      "metadata": {
        "id": "wz3IRvzrwvS0"
      }
    },
    {
      "cell_type": "code",
      "execution_count": 9,
      "metadata": {
        "colab": {
          "base_uri": "https://localhost:8080/"
        },
        "id": "ygIQyjt9wGIE",
        "outputId": "64299981-fda4-4432-b9b6-0c5a031f7ec0"
      },
      "outputs": [
        {
          "output_type": "stream",
          "name": "stdout",
          "text": [
            "13  es menor que 20\n",
            "14  es menor que 20\n",
            "15  es menor que 20\n",
            "16  es menor que 20\n",
            "17  es menor que 20\n",
            "18  es menor que 20\n",
            "19  es menor que 20\n"
          ]
        }
      ],
      "source": [
        "mi_numero = 12\n",
        "while mi_numero < 19:\n",
        "  mi_numero+=1\n",
        "  print(mi_numero, ' es menor que 20')"
      ]
    },
    {
      "cell_type": "code",
      "source": [
        "mi_numero = 12\n",
        "while mi_numero > 3:\n",
        "  mi_numero-=1\n",
        "  print(' 12 es mayor que ', mi_numero)"
      ],
      "metadata": {
        "colab": {
          "base_uri": "https://localhost:8080/"
        },
        "id": "t3AU-JbcxpRC",
        "outputId": "4084a823-35f4-4ed3-be56-b1be16427350"
      },
      "execution_count": 10,
      "outputs": [
        {
          "output_type": "stream",
          "name": "stdout",
          "text": [
            " 12 es mayor que  11\n",
            " 12 es mayor que  10\n",
            " 12 es mayor que  9\n",
            " 12 es mayor que  8\n",
            " 12 es mayor que  7\n",
            " 12 es mayor que  6\n",
            " 12 es mayor que  5\n",
            " 12 es mayor que  4\n",
            " 12 es mayor que  3\n"
          ]
        }
      ]
    },
    {
      "cell_type": "markdown",
      "source": [
        "Con el 'while' hay que establecer bien los límites o entraremos en un bucle infinito en el que la sentencia se ejecuta infinitamente.\n",
        "\\\n",
        "\\\n",
        "Ejemplo de bucle infinito:\n",
        "```\n",
        "mi_numero = 0\n",
        "while mi_numero >-1:\n",
        "  mi_numero +=1\n",
        "  print(mi_numero)\n",
        "```\n",
        "\n"
      ],
      "metadata": {
        "id": "Y7_HE6XaypGT"
      }
    },
    {
      "cell_type": "markdown",
      "source": [
        "# BREAK\n",
        "\n",
        "Para evitar bucles podemos hacer uso de la sentencia 'break' con el que rompemos la ejecución al cumplirse una condición.\n",
        "\\\n",
        "\\\n",
        "Veamos ejemplos:"
      ],
      "metadata": {
        "id": "M3xFEZRi0i9F"
      }
    },
    {
      "cell_type": "code",
      "source": [
        "mi_numero = 0\n",
        "while mi_numero >-1:\n",
        "  mi_numero +=1\n",
        "  print(mi_numero)\n",
        "  if mi_numero == 8:\n",
        "    break             #Pedimos que detenga el while cuando lleguemos a 8"
      ],
      "metadata": {
        "colab": {
          "base_uri": "https://localhost:8080/"
        },
        "id": "w3JAhq1s0CdK",
        "outputId": "1068e596-aaa4-4eae-cc49-2cd2c9c10e89"
      },
      "execution_count": 23,
      "outputs": [
        {
          "output_type": "stream",
          "name": "stdout",
          "text": [
            "1\n",
            "2\n",
            "3\n",
            "4\n",
            "5\n",
            "6\n",
            "7\n",
            "8\n"
          ]
        }
      ]
    },
    {
      "cell_type": "code",
      "source": [
        "mi_numero = 0\n",
        "while mi_numero >-1:\n",
        "  mi_numero +=1\n",
        "  print(mi_numero)\n",
        "  if mi_numero % 3 == 0:\n",
        "    print('Hemos encontrado un número divisible entre 3')\n",
        "    break           #Pedimos que detenga el while cuando sea divisible entre 3\n"
      ],
      "metadata": {
        "colab": {
          "base_uri": "https://localhost:8080/"
        },
        "id": "R7Z2DqvX1ZOZ",
        "outputId": "4d6e5476-1dc8-4779-da1b-f69321c3b0fe"
      },
      "execution_count": 35,
      "outputs": [
        {
          "output_type": "stream",
          "name": "stdout",
          "text": [
            "1\n",
            "2\n",
            "3\n",
            "Hemos encontrado un número divisible entre 3\n"
          ]
        }
      ]
    },
    {
      "cell_type": "code",
      "source": [
        "mi_numero = 0\n",
        "print('Comprobamos número a número si se cumple la condición:')\n",
        "while mi_numero >-1:\n",
        "  mi_numero +=1\n",
        "  print(mi_numero)\n",
        "  if mi_numero **5== 16807:\n",
        "    print('Hemos encontrado un número que elevado a 5 es igual a 16807')\n",
        "    break"
      ],
      "metadata": {
        "colab": {
          "base_uri": "https://localhost:8080/"
        },
        "id": "5HQNJupE6EOr",
        "outputId": "23caafb3-abc5-411b-dcd0-9c33ea603ed8"
      },
      "execution_count": 48,
      "outputs": [
        {
          "output_type": "stream",
          "name": "stdout",
          "text": [
            "Comprobamos número a número si se cumple la condición:\n",
            "1\n",
            "2\n",
            "3\n",
            "4\n",
            "5\n",
            "6\n",
            "7\n",
            "Hemos encontrado un número que elevado a 5 es igual a 16807\n"
          ]
        }
      ]
    },
    {
      "cell_type": "markdown",
      "source": [
        "# CONTINUE"
      ],
      "metadata": {
        "id": "2-q9g5UGHG65"
      }
    },
    {
      "cell_type": "code",
      "source": [
        "mi_numero = 0\n",
        "print('Comprobamos número a número si se cumple la condición:')\n",
        "while mi_numero <8:\n",
        "  mi_numero +=1\n",
        "  if mi_numero == 7:\n",
        "    continue            #No quiero que compruebe el 7\n",
        "  print('comprobamos si',mi_numero, 'cumple la condición...')\n",
        "  if mi_numero **2== 16 or mi_numero **2==36:\n",
        "    print('Hemos encontrado un número que elevado al cuadrado es igual a 16 o 36')\n",
        "    print(mi_numero, 'si cumple la condición')\n",
        "  else:\n",
        "    print('no se cumple')"
      ],
      "metadata": {
        "colab": {
          "base_uri": "https://localhost:8080/"
        },
        "id": "Pt53wxpVATa7",
        "outputId": "250b3871-adcc-4207-887d-fd173eab94ad"
      },
      "execution_count": 86,
      "outputs": [
        {
          "output_type": "stream",
          "name": "stdout",
          "text": [
            "Comprobamos número a número si se cumple la condición:\n",
            "comprobamos si 1 cumple la condición...\n",
            "no se cumple\n",
            "comprobamos si 2 cumple la condición...\n",
            "no se cumple\n",
            "comprobamos si 3 cumple la condición...\n",
            "no se cumple\n",
            "comprobamos si 4 cumple la condición...\n",
            "Hemos encontrado un número que elevado al cuadrado es igual a 16 o 36\n",
            "4 si cumple la condición\n",
            "comprobamos si 5 cumple la condición...\n",
            "no se cumple\n",
            "comprobamos si 6 cumple la condición...\n",
            "Hemos encontrado un número que elevado al cuadrado es igual a 16 o 36\n",
            "6 si cumple la condición\n",
            "comprobamos si 8 cumple la condición...\n",
            "no se cumple\n"
          ]
        }
      ]
    },
    {
      "cell_type": "markdown",
      "source": [
        "Repetimos el ejemplo pero usando el continue cuando si se cumple su condición, a ver que ocurre."
      ],
      "metadata": {
        "id": "sVN5pJ0wIQ_m"
      }
    },
    {
      "cell_type": "code",
      "source": [
        "mi_numero = 0\n",
        "print('Comprobamos número a número si se cumple la condición:')\n",
        "while mi_numero <8:\n",
        "  mi_numero +=1\n",
        "  if mi_numero == 4:\n",
        "    continue            #No quiero que compruebe el 4\n",
        "  print('comprobamos si',mi_numero, 'cumple la condición...')\n",
        "  if mi_numero **2== 16 or mi_numero **2==36:\n",
        "    print('Hemos encontrado un número que elevado al cuadrado es igual a 16 o 36')\n",
        "    print(mi_numero, 'si cumple la condición')\n",
        "  else:\n",
        "    print('no se cumple')"
      ],
      "metadata": {
        "colab": {
          "base_uri": "https://localhost:8080/"
        },
        "id": "EbHTUb-rIZ6a",
        "outputId": "de3890a3-f779-492b-86ae-f241c90bcd26"
      },
      "execution_count": 87,
      "outputs": [
        {
          "output_type": "stream",
          "name": "stdout",
          "text": [
            "Comprobamos número a número si se cumple la condición:\n",
            "comprobamos si 1 cumple la condición...\n",
            "no se cumple\n",
            "comprobamos si 2 cumple la condición...\n",
            "no se cumple\n",
            "comprobamos si 3 cumple la condición...\n",
            "no se cumple\n",
            "comprobamos si 5 cumple la condición...\n",
            "no se cumple\n",
            "comprobamos si 6 cumple la condición...\n",
            "Hemos encontrado un número que elevado al cuadrado es igual a 16 o 36\n",
            "6 si cumple la condición\n",
            "comprobamos si 7 cumple la condición...\n",
            "no se cumple\n",
            "comprobamos si 8 cumple la condición...\n",
            "no se cumple\n"
          ]
        }
      ]
    },
    {
      "cell_type": "markdown",
      "source": [
        "A pesar de haber cumplido la condición, no muestra ningún resultado referente al número usado con el 'continue' (no muestra  nada del número 4)."
      ],
      "metadata": {
        "id": "LYNlX7hvI0UO"
      }
    },
    {
      "cell_type": "markdown",
      "source": [
        "# Menú interactivo"
      ],
      "metadata": {
        "id": "MfF0QRvxNHFY"
      }
    },
    {
      "cell_type": "code",
      "source": [
        "print('Bienvenido al GitHub de Álvaro')\n",
        "while(True):\n",
        "  print(\"\"\"¿Qué te gustaría aprender? Elíge una opción\n",
        "  1) Aprender Python\n",
        "  2) Aprender Docker\n",
        "  3) Aprender SQL\n",
        "  4) Nada, tengo sueño\"\"\")\n",
        "  opcion = input()\n",
        "  if opcion == '1':\n",
        "    print('Bienvenido al repositorio de Python')\n",
        "  elif opcion == '2':\n",
        "    print('Bienvenido al repositorio de Docker')\n",
        "  elif opcion == '3':\n",
        "    print('Bienvenido al repositorio de SQL')\n",
        "  elif opcion == '4':\n",
        "    print('Descansa. Nos vemos pronto')\n",
        "  else:\n",
        "    print('Opción no válida')\n",
        "  break                   #Sin el break nos preguntará todo el rato"
      ],
      "metadata": {
        "colab": {
          "base_uri": "https://localhost:8080/"
        },
        "id": "vkx5_ZbXNLvZ",
        "outputId": "50b72367-be51-423b-d3f2-3c5b56ebb490"
      },
      "execution_count": 98,
      "outputs": [
        {
          "output_type": "stream",
          "name": "stdout",
          "text": [
            "Bienvenido al GitHub de Álvaro\n",
            "¿Qué te gustaría aprender? Elíge una opción\n",
            "  1) Aprender Python\n",
            "  2) Aprender Docker\n",
            "  3) Aprender SQL\n",
            "  4) Nada, tengo sueño\n",
            "2\n",
            "Bienvenido al repositorio de Docker\n"
          ]
        }
      ]
    }
  ]
}