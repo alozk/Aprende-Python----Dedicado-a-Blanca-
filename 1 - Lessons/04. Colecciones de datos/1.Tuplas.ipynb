{
  "nbformat": 4,
  "nbformat_minor": 0,
  "metadata": {
    "colab": {
      "name": "b13_Tuplas.ipynb",
      "provenance": []
    },
    "kernelspec": {
      "name": "python3",
      "display_name": "Python 3"
    },
    "language_info": {
      "name": "python"
    }
  },
  "cells": [
    {
      "cell_type": "markdown",
      "source": [
        "# Tuplas\n",
        "\n",
        "Las tuplas son unas colecciones parecidas a las listas, sin embargo, estas son inmutables.\n",
        "\n",
        "Con lo cual se utilizan para asegurarnos de que ciertos datos no se pueden"
      ],
      "metadata": {
        "id": "PmyaOc0rubdS"
      }
    },
    {
      "cell_type": "code",
      "execution_count": 1,
      "metadata": {
        "id": "mMZAm6-CsIqb"
      },
      "outputs": [],
      "source": [
        "tupla = ('Álvaro', 1997,[177, 81, 24],-22)"
      ]
    },
    {
      "cell_type": "code",
      "source": [
        "tupla"
      ],
      "metadata": {
        "colab": {
          "base_uri": "https://localhost:8080/"
        },
        "id": "z5PjoxxXxNlh",
        "outputId": "be73e5e2-e558-40bc-89ad-ffe1bf905442"
      },
      "execution_count": 2,
      "outputs": [
        {
          "output_type": "execute_result",
          "data": {
            "text/plain": [
              "('Álvaro', 1997, [177, 81, 24], -22)"
            ]
          },
          "metadata": {},
          "execution_count": 2
        }
      ]
    },
    {
      "cell_type": "code",
      "source": [
        "#Se puede hacer slicing con las tuplas\n",
        "tupla[0]"
      ],
      "metadata": {
        "colab": {
          "base_uri": "https://localhost:8080/",
          "height": 35
        },
        "id": "HAc2JCLqxWVC",
        "outputId": "67704012-ce27-4a44-8e15-7fe70e3fa1b7"
      },
      "execution_count": 3,
      "outputs": [
        {
          "output_type": "execute_result",
          "data": {
            "application/vnd.google.colaboratory.intrinsic+json": {
              "type": "string"
            },
            "text/plain": [
              "'Álvaro'"
            ]
          },
          "metadata": {},
          "execution_count": 3
        }
      ]
    },
    {
      "cell_type": "code",
      "source": [
        "tupla[-1]"
      ],
      "metadata": {
        "colab": {
          "base_uri": "https://localhost:8080/"
        },
        "id": "WRjjC5xaxd7C",
        "outputId": "f6ecf1a1-25b8-493a-a69b-f001350d1c28"
      },
      "execution_count": 4,
      "outputs": [
        {
          "output_type": "execute_result",
          "data": {
            "text/plain": [
              "-22"
            ]
          },
          "metadata": {},
          "execution_count": 4
        }
      ]
    },
    {
      "cell_type": "code",
      "source": [
        "tupla[-2:]"
      ],
      "metadata": {
        "colab": {
          "base_uri": "https://localhost:8080/"
        },
        "id": "0ZBHhk2qxgt-",
        "outputId": "57f4ca10-9e2f-4ff1-c9bd-8d07d60d3834"
      },
      "execution_count": 5,
      "outputs": [
        {
          "output_type": "execute_result",
          "data": {
            "text/plain": [
              "([177, 81, 24], -22)"
            ]
          },
          "metadata": {},
          "execution_count": 5
        }
      ]
    },
    {
      "cell_type": "code",
      "source": [
        "#También podemos acceder a valores internos de la tupla (lista dentro de lista)\n",
        "tupla[2][1]"
      ],
      "metadata": {
        "colab": {
          "base_uri": "https://localhost:8080/"
        },
        "id": "PoTzOYkNxm7N",
        "outputId": "68431e3e-2a1e-413d-f46b-f7ee479ddb13"
      },
      "execution_count": 6,
      "outputs": [
        {
          "output_type": "execute_result",
          "data": {
            "text/plain": [
              "81"
            ]
          },
          "metadata": {},
          "execution_count": 6
        }
      ]
    },
    {
      "cell_type": "code",
      "source": [
        "#Reitero que no se puede modificar, dará error\n",
        "tupla[0] = 123"
      ],
      "metadata": {
        "colab": {
          "base_uri": "https://localhost:8080/",
          "height": 182
        },
        "id": "J48B4hwax-uz",
        "outputId": "b3cc325b-3f4e-4d62-e25d-60f80e26d2e3"
      },
      "execution_count": 7,
      "outputs": [
        {
          "output_type": "error",
          "ename": "TypeError",
          "evalue": "ignored",
          "traceback": [
            "\u001b[0;31m---------------------------------------------------------------------------\u001b[0m",
            "\u001b[0;31mTypeError\u001b[0m                                 Traceback (most recent call last)",
            "\u001b[0;32m<ipython-input-7-d7f403e2d1da>\u001b[0m in \u001b[0;36m<module>\u001b[0;34m()\u001b[0m\n\u001b[1;32m      1\u001b[0m \u001b[0;31m#Reitero que no se puede modificar, dará error\u001b[0m\u001b[0;34m\u001b[0m\u001b[0;34m\u001b[0m\u001b[0;34m\u001b[0m\u001b[0m\n\u001b[0;32m----> 2\u001b[0;31m \u001b[0mtupla\u001b[0m\u001b[0;34m[\u001b[0m\u001b[0;36m0\u001b[0m\u001b[0;34m]\u001b[0m \u001b[0;34m=\u001b[0m \u001b[0;36m123\u001b[0m\u001b[0;34m\u001b[0m\u001b[0;34m\u001b[0m\u001b[0m\n\u001b[0m",
            "\u001b[0;31mTypeError\u001b[0m: 'tuple' object does not support item assignment"
          ]
        }
      ]
    },
    {
      "cell_type": "markdown",
      "source": [
        "☝TypeError: 'tuple' object does not support item assignment"
      ],
      "metadata": {
        "id": "eDNdVEGgyL75"
      }
    },
    {
      "cell_type": "code",
      "source": [
        "#También podemos saber la cantidad de información que contiene la tupla\n",
        "len(tupla)"
      ],
      "metadata": {
        "colab": {
          "base_uri": "https://localhost:8080/"
        },
        "id": "UQNcWl8NEL5Z",
        "outputId": "b7cae542-ed9a-424c-f8fd-805ed13aec2e"
      },
      "execution_count": 8,
      "outputs": [
        {
          "output_type": "execute_result",
          "data": {
            "text/plain": [
              "4"
            ]
          },
          "metadata": {},
          "execution_count": 8
        }
      ]
    },
    {
      "cell_type": "code",
      "source": [
        "#Al igual que la cantidad dentro de una parte de la tupla\n",
        "len(tupla[2])"
      ],
      "metadata": {
        "colab": {
          "base_uri": "https://localhost:8080/"
        },
        "id": "jJNMf277EcpL",
        "outputId": "c05890f3-00a9-496a-aff6-015b29f29a5c"
      },
      "execution_count": 9,
      "outputs": [
        {
          "output_type": "execute_result",
          "data": {
            "text/plain": [
              "3"
            ]
          },
          "metadata": {},
          "execution_count": 9
        }
      ]
    },
    {
      "cell_type": "code",
      "source": [
        "tupla"
      ],
      "metadata": {
        "colab": {
          "base_uri": "https://localhost:8080/"
        },
        "id": "fFzHmj5RE68_",
        "outputId": "b76ea6bd-1805-45ff-f931-2a86cac4fa98"
      },
      "execution_count": 10,
      "outputs": [
        {
          "output_type": "execute_result",
          "data": {
            "text/plain": [
              "('Álvaro', 1997, [177, 81, 24], -22)"
            ]
          },
          "metadata": {},
          "execution_count": 10
        }
      ]
    },
    {
      "cell_type": "code",
      "source": [
        "#Podemos preguntar que posición ocupa un dato en concreto\n",
        "tupla.index(1997)"
      ],
      "metadata": {
        "colab": {
          "base_uri": "https://localhost:8080/"
        },
        "id": "3sOrKROmE8qY",
        "outputId": "52906690-aa1b-4e45-c625-401ec1409562"
      },
      "execution_count": 11,
      "outputs": [
        {
          "output_type": "execute_result",
          "data": {
            "text/plain": [
              "1"
            ]
          },
          "metadata": {},
          "execution_count": 11
        }
      ]
    },
    {
      "cell_type": "code",
      "source": [
        "tupla[2].index(177)"
      ],
      "metadata": {
        "colab": {
          "base_uri": "https://localhost:8080/"
        },
        "id": "T5DOFjaCFMxQ",
        "outputId": "a15f8850-671e-4514-8170-7b2d74e99225"
      },
      "execution_count": 12,
      "outputs": [
        {
          "output_type": "execute_result",
          "data": {
            "text/plain": [
              "0"
            ]
          },
          "metadata": {},
          "execution_count": 12
        }
      ]
    },
    {
      "cell_type": "code",
      "source": [
        "#Podemos ver la cantidad de veces que hay un dato en una tupla\n",
        "#Voy a crear otra tupla para que el ejemplo sirva\n",
        "tupla2 = ('Álvaro', 1997, -22, 81, 36, 81, 77)\n",
        "tupla2.count(81)"
      ],
      "metadata": {
        "colab": {
          "base_uri": "https://localhost:8080/"
        },
        "id": "RWl2Ivh8FryZ",
        "outputId": "15b474d1-4abc-4d2c-ed6d-5972b64f7b28"
      },
      "execution_count": 13,
      "outputs": [
        {
          "output_type": "execute_result",
          "data": {
            "text/plain": [
              "2"
            ]
          },
          "metadata": {},
          "execution_count": 13
        }
      ]
    },
    {
      "cell_type": "markdown",
      "source": [
        "Como último comentario, dado que las tuplas no pueden ser modificadas,\n",
        "\n",
        "**'append' tampoco funcionaría** como método para añadir un valor a la tupla."
      ],
      "metadata": {
        "id": "SW8SiFz7Ghky"
      }
    }
  ]
}