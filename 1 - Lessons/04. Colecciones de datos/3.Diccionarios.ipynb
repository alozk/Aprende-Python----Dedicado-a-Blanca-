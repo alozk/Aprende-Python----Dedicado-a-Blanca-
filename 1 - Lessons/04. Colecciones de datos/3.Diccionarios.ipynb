{
  "nbformat": 4,
  "nbformat_minor": 0,
  "metadata": {
    "colab": {
      "name": "b15_Diccionarios.ipynb",
      "provenance": []
    },
    "kernelspec": {
      "name": "python3",
      "display_name": "Python 3"
    },
    "language_info": {
      "name": "python"
    }
  },
  "cells": [
    {
      "cell_type": "code",
      "execution_count": 1,
      "metadata": {
        "id": "UxUNQIJLlKfO"
      },
      "outputs": [],
      "source": [
        "#Para crear un diccionario vacío por ejemplo\n",
        "vacio = {}"
      ]
    },
    {
      "cell_type": "code",
      "source": [
        "vacio"
      ],
      "metadata": {
        "colab": {
          "base_uri": "https://localhost:8080/"
        },
        "id": "1FylCaX_loPJ",
        "outputId": "e8da9196-a077-4890-e1ab-31f795feb66e"
      },
      "execution_count": 2,
      "outputs": [
        {
          "output_type": "execute_result",
          "data": {
            "text/plain": [
              "{}"
            ]
          },
          "metadata": {},
          "execution_count": 2
        }
      ]
    },
    {
      "cell_type": "code",
      "source": [
        "#Comprobamos si se trata de un diccionario con 'type'\n",
        "type(vacio)"
      ],
      "metadata": {
        "colab": {
          "base_uri": "https://localhost:8080/"
        },
        "id": "eoBilb-Blvj0",
        "outputId": "3c2e2dc1-18a8-4ad7-f4b2-d43b7375312c"
      },
      "execution_count": 3,
      "outputs": [
        {
          "output_type": "execute_result",
          "data": {
            "text/plain": [
              "dict"
            ]
          },
          "metadata": {},
          "execution_count": 3
        }
      ]
    },
    {
      "cell_type": "code",
      "source": [
        "#Vamos a crear un diccionario de números y su escritura en coreano\n",
        "numeros = {'uno':'일','dos':'이','tres':'삼','cuatro':'사'}"
      ],
      "metadata": {
        "id": "s0_cJrx5l635"
      },
      "execution_count": 4,
      "outputs": []
    },
    {
      "cell_type": "code",
      "source": [
        "#Nos lo va a ordenar alfabéticamente por el número en español\n",
        "numeros"
      ],
      "metadata": {
        "colab": {
          "base_uri": "https://localhost:8080/"
        },
        "id": "xhTDucERmVMc",
        "outputId": "a77f736b-ffaf-4cfe-d048-6e0e6ed9e696"
      },
      "execution_count": 5,
      "outputs": [
        {
          "output_type": "execute_result",
          "data": {
            "text/plain": [
              "{'cuatro': '사', 'dos': '이', 'tres': '삼', 'uno': '일'}"
            ]
          },
          "metadata": {},
          "execution_count": 5
        }
      ]
    },
    {
      "cell_type": "code",
      "source": [
        "#Queremos saber como se dice el número 3 en coreano\n",
        "numeros['tres']"
      ],
      "metadata": {
        "colab": {
          "base_uri": "https://localhost:8080/",
          "height": 35
        },
        "id": "sX1mDHFAmro2",
        "outputId": "6cd7c4b2-4727-40f5-9197-df95c8650066"
      },
      "execution_count": 6,
      "outputs": [
        {
          "output_type": "execute_result",
          "data": {
            "application/vnd.google.colaboratory.intrinsic+json": {
              "type": "string"
            },
            "text/plain": [
              "'삼'"
            ]
          },
          "metadata": {},
          "execution_count": 6
        }
      ]
    },
    {
      "cell_type": "code",
      "source": [
        "#También funciona con 'integers' y 'floats' y combinación con 'strings'\n",
        "#Asociemos ahora un número en 'integers' y su prononciación en coreano\n",
        "numeros2 = {1:'il',2:'i',3:'sam',4:'sa'}"
      ],
      "metadata": {
        "id": "FwNSDEvdnjCl"
      },
      "execution_count": 7,
      "outputs": []
    },
    {
      "cell_type": "code",
      "source": [
        "print('Pedro: ¿Cómo se dice 4 en coreano?\\n','Álvaro: Cuatro en coreano se dice', numeros2[4])"
      ],
      "metadata": {
        "colab": {
          "base_uri": "https://localhost:8080/"
        },
        "id": "rV1gFFG5oCoa",
        "outputId": "ad463e0f-6037-4de7-d3b0-50fbccb0a5ab"
      },
      "execution_count": 8,
      "outputs": [
        {
          "output_type": "stream",
          "name": "stdout",
          "text": [
            "Pedro: ¿Cómo se dice 4 en coreano?\n",
            " Álvaro: Cuatro en coreano se dice sa\n"
          ]
        }
      ]
    },
    {
      "cell_type": "code",
      "source": [
        "#Hagamos un ejemplo más, esta vez operando con el diccionario\n",
        "estatura = {'Alvaro':177,'Adrian':168,'Hector':183}"
      ],
      "metadata": {
        "id": "PX11rhXkp4Em"
      },
      "execution_count": 9,
      "outputs": []
    },
    {
      "cell_type": "code",
      "source": [
        "#Adrian había dado su estatura sin estar descalzo, mide 2cm menos\n",
        "estatura['Adrian'] - 2"
      ],
      "metadata": {
        "colab": {
          "base_uri": "https://localhost:8080/"
        },
        "id": "gSoxF-0nqQHx",
        "outputId": "fe133c61-85fa-462b-f680-8f974fd35f74"
      },
      "execution_count": 10,
      "outputs": [
        {
          "output_type": "execute_result",
          "data": {
            "text/plain": [
              "166"
            ]
          },
          "metadata": {},
          "execution_count": 10
        }
      ]
    },
    {
      "cell_type": "code",
      "source": [
        "#¿Cuantos cms de estatura acumulan Héctor y Álvaro?\n",
        "estatura['Alvaro'] + estatura['Hector']"
      ],
      "metadata": {
        "colab": {
          "base_uri": "https://localhost:8080/"
        },
        "id": "372xsBKWqhYt",
        "outputId": "b6568934-7534-4edc-8119-b9e047d92bcc"
      },
      "execution_count": 11,
      "outputs": [
        {
          "output_type": "execute_result",
          "data": {
            "text/plain": [
              "360"
            ]
          },
          "metadata": {},
          "execution_count": 11
        }
      ]
    },
    {
      "cell_type": "markdown",
      "source": [
        "Ahora vamos a crear un diccionario con amigos y sus características"
      ],
      "metadata": {
        "id": "1gGUJ4JHr73j"
      }
    },
    {
      "cell_type": "code",
      "source": [
        "#Creamos diccionario vacío\n",
        "amigos = []"
      ],
      "metadata": {
        "id": "tHgAP58BsD2G"
      },
      "execution_count": 12,
      "outputs": []
    },
    {
      "cell_type": "code",
      "source": [
        "#Creamos variable con un amigo y sus características\n",
        "a = {'Nombre':'Blanca','Estatura':168,'Ojos':'Castaño','Calificativo':'Amable'}"
      ],
      "metadata": {
        "id": "iS1Cl68SsKbF"
      },
      "execution_count": 13,
      "outputs": []
    },
    {
      "cell_type": "code",
      "source": [
        "#Añadimos dicho amigo/a al diccionario con 'append'\n",
        "amigos.append(a)"
      ],
      "metadata": {
        "id": "wLA0Sgf2s0WB"
      },
      "execution_count": 14,
      "outputs": []
    },
    {
      "cell_type": "code",
      "source": [
        "amigos"
      ],
      "metadata": {
        "colab": {
          "base_uri": "https://localhost:8080/"
        },
        "id": "-nS7cN0dtIgl",
        "outputId": "76647150-a197-453e-93d8-e0b07285ddf5"
      },
      "execution_count": 15,
      "outputs": [
        {
          "output_type": "execute_result",
          "data": {
            "text/plain": [
              "[{'Calificativo': 'Amable',\n",
              "  'Estatura': 168,\n",
              "  'Nombre': 'Blanca',\n",
              "  'Ojos': 'Castaño'}]"
            ]
          },
          "metadata": {},
          "execution_count": 15
        }
      ]
    },
    {
      "cell_type": "code",
      "source": [
        "a"
      ],
      "metadata": {
        "colab": {
          "base_uri": "https://localhost:8080/"
        },
        "id": "xPq88Ci4tNID",
        "outputId": "b7c94eee-983c-443d-9c1c-0489a97adfd8"
      },
      "execution_count": 16,
      "outputs": [
        {
          "output_type": "execute_result",
          "data": {
            "text/plain": [
              "{'Calificativo': 'Amable',\n",
              " 'Estatura': 168,\n",
              " 'Nombre': 'Blanca',\n",
              " 'Ojos': 'Castaño'}"
            ]
          },
          "metadata": {},
          "execution_count": 16
        }
      ]
    },
    {
      "cell_type": "code",
      "source": [
        "#Puedo volver a usar 'a' para otro amigo dado que aunque me cambie el contenido de la variable, ya la he almacenado en el diccionario\n",
        "a = {'Nombre':'Fran','Estatura':178,'Ojos':'Castaño','Calificativo':'Alegre'}"
      ],
      "metadata": {
        "id": "qb8eMBuwus-F"
      },
      "execution_count": 17,
      "outputs": []
    },
    {
      "cell_type": "code",
      "source": [
        "amigos.append(a)"
      ],
      "metadata": {
        "id": "QYgnwwE6vh73"
      },
      "execution_count": 18,
      "outputs": []
    },
    {
      "cell_type": "code",
      "source": [
        "amigos"
      ],
      "metadata": {
        "colab": {
          "base_uri": "https://localhost:8080/"
        },
        "id": "Q8sJedI_veFG",
        "outputId": "63bd9825-eb86-45de-9650-b9d5ba65353e"
      },
      "execution_count": 19,
      "outputs": [
        {
          "output_type": "execute_result",
          "data": {
            "text/plain": [
              "[{'Calificativo': 'Amable',\n",
              "  'Estatura': 168,\n",
              "  'Nombre': 'Blanca',\n",
              "  'Ojos': 'Castaño'},\n",
              " {'Calificativo': 'Alegre',\n",
              "  'Estatura': 178,\n",
              "  'Nombre': 'Fran',\n",
              "  'Ojos': 'Castaño'}]"
            ]
          },
          "metadata": {},
          "execution_count": 19
        }
      ]
    },
    {
      "cell_type": "code",
      "source": [
        "#Si queremos obtener del diccionario unas características específicas podemos hacer uso del 'for'\n",
        "for a in amigos:\n",
        "  print(a['Nombre'],a['Calificativo'])"
      ],
      "metadata": {
        "colab": {
          "base_uri": "https://localhost:8080/"
        },
        "id": "CXbOHCH7v4Sy",
        "outputId": "14be1be3-c069-48c8-fec6-464f7146c156"
      },
      "execution_count": 20,
      "outputs": [
        {
          "output_type": "stream",
          "name": "stdout",
          "text": [
            "Blanca Amable\n",
            "Fran Alegre\n"
          ]
        }
      ]
    }
  ]
}