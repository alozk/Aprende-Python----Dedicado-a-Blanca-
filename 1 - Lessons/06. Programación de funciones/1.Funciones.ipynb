{
  "nbformat": 4,
  "nbformat_minor": 0,
  "metadata": {
    "colab": {
      "name": "b20_Funciones.ipynb",
      "provenance": []
    },
    "kernelspec": {
      "name": "python3",
      "display_name": "Python 3"
    },
    "language_info": {
      "name": "python"
    }
  },
  "cells": [
    {
      "cell_type": "code",
      "execution_count": 1,
      "metadata": {
        "colab": {
          "base_uri": "https://localhost:8080/"
        },
        "id": "JKxw6m5dcTfH",
        "outputId": "fc2820c3-ea44-4f99-f76f-4f1c750ce31a"
      },
      "outputs": [
        {
          "output_type": "stream",
          "name": "stdout",
          "text": [
            "Hola, estoy creado una función\n"
          ]
        }
      ],
      "source": [
        "def saludar():\n",
        "  print(\"Hola, estoy creado una función\")\n",
        "saludar()"
      ]
    },
    {
      "cell_type": "code",
      "source": [
        "#Creamos con una función la table del 3\n",
        "def tabla_del_3():\n",
        "    for i in range(10):\n",
        "        print(\"3 *\",i,\"=\",i*3)\n",
        "tabla_del_3()"
      ],
      "metadata": {
        "colab": {
          "base_uri": "https://localhost:8080/"
        },
        "id": "YNIVEIb9ctRS",
        "outputId": "f554d64e-3355-48df-8dd9-752c5a49fdab"
      },
      "execution_count": 6,
      "outputs": [
        {
          "output_type": "stream",
          "name": "stdout",
          "text": [
            "3 * 0 = 0\n",
            "3 * 1 = 3\n",
            "3 * 2 = 6\n",
            "3 * 3 = 9\n",
            "3 * 4 = 12\n",
            "3 * 5 = 15\n",
            "3 * 6 = 18\n",
            "3 * 7 = 21\n",
            "3 * 8 = 24\n",
            "3 * 9 = 27\n"
          ]
        }
      ]
    },
    {
      "cell_type": "markdown",
      "source": [
        "Si creamos una variable dentro de una función, fuera de esta nos dirá que no existe tal variable"
      ],
      "metadata": {
        "id": "uhKuXuQ9eviA"
      }
    },
    {
      "cell_type": "code",
      "source": [
        "def prueba():\n",
        "  v = 2\n",
        "prueba()"
      ],
      "metadata": {
        "id": "xIB9mRnGe13v"
      },
      "execution_count": 8,
      "outputs": []
    },
    {
      "cell_type": "markdown",
      "source": [
        "Comprueba ahora por ti mismo hacer un 'print' de 'v'"
      ],
      "metadata": {
        "id": "5tBjfzsIe_is"
      }
    },
    {
      "cell_type": "markdown",
      "source": [
        "También cabe decir que pueden haber variables con el mismo nombre, que estén dentro de una función y que no esté dentro de ninguna función.\n",
        "\n",
        "Veamos un ejemplo:"
      ],
      "metadata": {
        "id": "CqAdtp6ngzYC"
      }
    },
    {
      "cell_type": "code",
      "source": [
        "def prueba():\n",
        "  x = 3\n",
        "  print(x)\n",
        "prueba()\n",
        "\n",
        "x=4\n",
        "prueba()\n",
        "print(x)"
      ],
      "metadata": {
        "colab": {
          "base_uri": "https://localhost:8080/"
        },
        "id": "XQKNDhefg2Pr",
        "outputId": "3108ece7-3b98-4e6b-f189-2f0558fbffba"
      },
      "execution_count": 9,
      "outputs": [
        {
          "output_type": "stream",
          "name": "stdout",
          "text": [
            "3\n",
            "3\n",
            "4\n"
          ]
        }
      ]
    }
  ]
}