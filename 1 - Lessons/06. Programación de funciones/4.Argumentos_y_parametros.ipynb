{
  "cells": [
    {
      "cell_type": "code",
      "execution_count": 3,
      "metadata": {
        "colab": {
          "base_uri": "https://localhost:8080/"
        },
        "id": "kDlzAAZmgM4p",
        "outputId": "eb7acdf4-770f-4a58-8e9f-6103a2f7deb5"
      },
      "outputs": [
        {
          "data": {
            "text/plain": [
              "4"
            ]
          },
          "execution_count": 3,
          "metadata": {},
          "output_type": "execute_result"
        }
      ],
      "source": [
        "def resta(a,b):\n",
        "  return a-b\n",
        "\n",
        "resta(7,3)"
      ]
    },
    {
      "cell_type": "markdown",
      "metadata": {
        "id": "39h362YakqlE"
      },
      "source": [
        "Si cambiasemos el orden de los números e, el resultado sería diferente porque lo estamos haciendo por posición."
      ]
    },
    {
      "cell_type": "code",
      "execution_count": 4,
      "metadata": {
        "colab": {
          "base_uri": "https://localhost:8080/"
        },
        "id": "1azz8wQvkz1e",
        "outputId": "8230dc00-1483-45ee-b7e3-7f27f265d343"
      },
      "outputs": [
        {
          "data": {
            "text/plain": [
              "-4"
            ]
          },
          "execution_count": 4,
          "metadata": {},
          "output_type": "execute_result"
        }
      ],
      "source": [
        "def resta(a,b):\n",
        "  return a-b\n",
        "\n",
        "resta(3,7)"
      ]
    },
    {
      "cell_type": "markdown",
      "metadata": {
        "id": "g6BWJoD5k-5C"
      },
      "source": [
        "Si embargo también podemos enviar los argumentos por nombre.\n",
        "\n",
        "Así asociamos directamente el valor con su nombre.\n",
        "\n",
        "Si tuvieramos muchos valores, sería más cómoda esta forma para no estar comprobando la posición correcta de su ejecución."
      ]
    },
    {
      "cell_type": "code",
      "execution_count": 2,
      "metadata": {
        "colab": {
          "base_uri": "https://localhost:8080/"
        },
        "id": "TU8AiJ81gvN-",
        "outputId": "2b7e1269-7a8a-4442-99a8-08e0f426731b"
      },
      "outputs": [
        {
          "data": {
            "text/plain": [
              "-1"
            ]
          },
          "execution_count": 2,
          "metadata": {},
          "output_type": "execute_result"
        }
      ],
      "source": [
        "resta(b=2,a=1)"
      ]
    },
    {
      "cell_type": "markdown",
      "metadata": {
        "id": "wAXIk1WMllzZ"
      },
      "source": [
        "También podemos asignar un valor por defecto a los parámetros de una función, para evitar que por ejemplo se ejecute una función incorrectamente.\n",
        "\n",
        "Dado que si utilizamos la función resta pero no añadimos los valores..."
      ]
    },
    {
      "cell_type": "code",
      "execution_count": 5,
      "metadata": {
        "colab": {
          "base_uri": "https://localhost:8080/",
          "height": 165
        },
        "id": "XIM0qCvQmCrp",
        "outputId": "426dea00-4fc1-42a2-dd0e-2f014031d1c5"
      },
      "outputs": [
        {
          "ename": "TypeError",
          "evalue": "ignored",
          "output_type": "error",
          "traceback": [
            "\u001b[0;31m---------------------------------------------------------------------------\u001b[0m",
            "\u001b[0;31mTypeError\u001b[0m                                 Traceback (most recent call last)",
            "\u001b[0;32m<ipython-input-5-35f11603f204>\u001b[0m in \u001b[0;36m<module>\u001b[0;34m()\u001b[0m\n\u001b[0;32m----> 1\u001b[0;31m \u001b[0mresta\u001b[0m\u001b[0;34m(\u001b[0m\u001b[0;34m)\u001b[0m \u001b[0;31m#Nos dará Error\u001b[0m\u001b[0;34m\u001b[0m\u001b[0;34m\u001b[0m\u001b[0m\n\u001b[0m",
            "\u001b[0;31mTypeError\u001b[0m: resta() missing 2 required positional arguments: 'a' and 'b'"
          ]
        }
      ],
      "source": [
        "resta() #Nos dará Error"
      ]
    },
    {
      "cell_type": "markdown",
      "metadata": {
        "id": "xBeieXjNmIha"
      },
      "source": [
        "Para arreglar el error podriamos definir la resta de a y b, asignarles un valor por defecto."
      ]
    },
    {
      "cell_type": "code",
      "execution_count": 6,
      "metadata": {
        "colab": {
          "base_uri": "https://localhost:8080/",
          "height": 304
        },
        "id": "smnKJNRTmHph",
        "outputId": "866da5ab-17fb-4349-b167-d032ef3b0aca"
      },
      "outputs": [
        {
          "ename": "TypeError",
          "evalue": "ignored",
          "output_type": "error",
          "traceback": [
            "\u001b[0;31m---------------------------------------------------------------------------\u001b[0m",
            "\u001b[0;31mTypeError\u001b[0m                                 Traceback (most recent call last)",
            "\u001b[0;32m<ipython-input-6-455b23506ce5>\u001b[0m in \u001b[0;36m<module>\u001b[0;34m()\u001b[0m\n\u001b[1;32m      2\u001b[0m \u001b[0;32mdef\u001b[0m \u001b[0mresta\u001b[0m\u001b[0;34m(\u001b[0m\u001b[0ma\u001b[0m\u001b[0;34m=\u001b[0m\u001b[0;32mNone\u001b[0m\u001b[0;34m,\u001b[0m\u001b[0mb\u001b[0m\u001b[0;34m=\u001b[0m\u001b[0;32mNone\u001b[0m\u001b[0;34m)\u001b[0m\u001b[0;34m:\u001b[0m\u001b[0;34m\u001b[0m\u001b[0;34m\u001b[0m\u001b[0m\n\u001b[1;32m      3\u001b[0m   \u001b[0;32mreturn\u001b[0m \u001b[0ma\u001b[0m\u001b[0;34m-\u001b[0m\u001b[0mb\u001b[0m\u001b[0;34m\u001b[0m\u001b[0;34m\u001b[0m\u001b[0m\n\u001b[0;32m----> 4\u001b[0;31m \u001b[0mresta\u001b[0m\u001b[0;34m(\u001b[0m\u001b[0;34m)\u001b[0m\u001b[0;34m\u001b[0m\u001b[0;34m\u001b[0m\u001b[0m\n\u001b[0m",
            "\u001b[0;32m<ipython-input-6-455b23506ce5>\u001b[0m in \u001b[0;36mresta\u001b[0;34m(a, b)\u001b[0m\n\u001b[1;32m      1\u001b[0m \u001b[0;31m#Por ejemplo, valor por defecto None\u001b[0m\u001b[0;34m\u001b[0m\u001b[0;34m\u001b[0m\u001b[0;34m\u001b[0m\u001b[0m\n\u001b[1;32m      2\u001b[0m \u001b[0;32mdef\u001b[0m \u001b[0mresta\u001b[0m\u001b[0;34m(\u001b[0m\u001b[0ma\u001b[0m\u001b[0;34m=\u001b[0m\u001b[0;32mNone\u001b[0m\u001b[0;34m,\u001b[0m\u001b[0mb\u001b[0m\u001b[0;34m=\u001b[0m\u001b[0;32mNone\u001b[0m\u001b[0;34m)\u001b[0m\u001b[0;34m:\u001b[0m\u001b[0;34m\u001b[0m\u001b[0;34m\u001b[0m\u001b[0m\n\u001b[0;32m----> 3\u001b[0;31m   \u001b[0;32mreturn\u001b[0m \u001b[0ma\u001b[0m\u001b[0;34m-\u001b[0m\u001b[0mb\u001b[0m\u001b[0;34m\u001b[0m\u001b[0;34m\u001b[0m\u001b[0m\n\u001b[0m\u001b[1;32m      4\u001b[0m \u001b[0mresta\u001b[0m\u001b[0;34m(\u001b[0m\u001b[0;34m)\u001b[0m\u001b[0;34m\u001b[0m\u001b[0;34m\u001b[0m\u001b[0m\n",
            "\u001b[0;31mTypeError\u001b[0m: unsupported operand type(s) for -: 'NoneType' and 'NoneType'"
          ]
        }
      ],
      "source": [
        "#Por ejemplo, valor por defecto None\n",
        "def resta(a=None,b=None):\n",
        "  return a-b\n",
        "resta()"
      ]
    },
    {
      "cell_type": "markdown",
      "metadata": {
        "id": "be78s4tFmolL"
      },
      "source": [
        "Pero ahora el error sería que el tipo 'Nonetype', ya que no se puede realizar una operación entre estos Nones. Por tanto, habría que ver si el valor que tiene antes de devolver la resta es diferente de None.\n",
        "\n",
        "Por ejemplo:"
      ]
    },
    {
      "cell_type": "code",
      "execution_count": 7,
      "metadata": {
        "colab": {
          "base_uri": "https://localhost:8080/"
        },
        "id": "gt3hFEB3nHkT",
        "outputId": "cfb5f21d-e806-43cb-89ab-bd19f41088cb"
      },
      "outputs": [
        {
          "name": "stdout",
          "output_type": "stream",
          "text": [
            "Error, debes enviar dos números a la función\n"
          ]
        }
      ],
      "source": [
        "#Esta es una forma\n",
        "def resta(a=None,b=None):\n",
        "  if a == None or b == None:\n",
        "    print('Error, debes enviar dos números a la función')\n",
        "    return\n",
        "\n",
        "  return a-b\n",
        "resta()"
      ]
    },
    {
      "cell_type": "code",
      "execution_count": 8,
      "metadata": {
        "colab": {
          "base_uri": "https://localhost:8080/"
        },
        "id": "8kwwKlHBnjRU",
        "outputId": "d6bfebe9-2f2e-444f-d99b-92a1d93e886c"
      },
      "outputs": [
        {
          "name": "stdout",
          "output_type": "stream",
          "text": [
            "Error, debes enviar dos números a la función\n"
          ]
        }
      ],
      "source": [
        "#Y esta otra\n",
        "def resta(a=None,b=None):\n",
        "  if a == None or b == None:\n",
        "    print('Error, debes enviar dos números a la función')\n",
        "    return\n",
        "  else:\n",
        "    return a-b\n",
        "resta()"
      ]
    },
    {
      "cell_type": "code",
      "execution_count": 9,
      "metadata": {
        "colab": {
          "base_uri": "https://localhost:8080/"
        },
        "id": "JEysH5PhnwRK",
        "outputId": "ba7a8d6c-77a2-4fad-e68f-b96c5d7de271"
      },
      "outputs": [
        {
          "name": "stdout",
          "output_type": "stream",
          "text": [
            "Error, debes enviar dos números a la función\n"
          ]
        }
      ],
      "source": [
        "#Si damos un valor, saldrá aún el error\n",
        "def resta(a=None,b=None):\n",
        "  if a == None or b == None:\n",
        "    print('Error, debes enviar dos números a la función')\n",
        "    return\n",
        "  else:\n",
        "    return a-b\n",
        "resta(1)"
      ]
    },
    {
      "cell_type": "code",
      "execution_count": 11,
      "metadata": {
        "colab": {
          "base_uri": "https://localhost:8080/"
        },
        "id": "QJrmJoH4n5Bo",
        "outputId": "07b024fb-7489-471c-b495-335afe363693"
      },
      "outputs": [
        {
          "data": {
            "text/plain": [
              "-2"
            ]
          },
          "execution_count": 11,
          "metadata": {},
          "output_type": "execute_result"
        }
      ],
      "source": [
        "#Si damos los dos valores, ya estará correcto\n",
        "def resta(a=None,b=None):\n",
        "  if a == None or b == None:\n",
        "    print('Error, debes enviar dos números a la función')\n",
        "    return\n",
        "  else:\n",
        "    return a-b\n",
        "resta(1,3)"
      ]
    },
    {
      "cell_type": "markdown",
      "metadata": {},
      "source": [
        "En la siguiente lección aprenderemos la diferencia entre el paso por valor y el paso por referencia."
      ]
    }
  ],
  "metadata": {
    "colab": {
      "name": "b23_Argumentos_y_parametros.ipynb",
      "provenance": []
    },
    "kernelspec": {
      "display_name": "Python 3",
      "name": "python3"
    },
    "language_info": {
      "name": "python"
    }
  },
  "nbformat": 4,
  "nbformat_minor": 0
}
