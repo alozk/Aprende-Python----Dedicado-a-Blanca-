{
  "nbformat": 4,
  "nbformat_minor": 0,
  "metadata": {
    "colab": {
      "name": "b27_Funciones_integradas.ipynb",
      "provenance": []
    },
    "kernelspec": {
      "name": "python3",
      "display_name": "Python 3"
    },
    "language_info": {
      "name": "python"
    }
  },
  "cells": [
    {
      "cell_type": "markdown",
      "source": [
        "Y nos faltaban por ver las funciones integradas.\n",
        "\n",
        "Muchas de ellas son para hacer conversiones entre tipos de datos y otras para manipular información."
      ],
      "metadata": {
        "id": "DCcZbVlkmLPe"
      }
    },
    {
      "cell_type": "markdown",
      "source": [
        "Sabemos que cuando tenemos una cadena de caracteres podemos transformarla a un entero o a un flotante, por ejemplo:"
      ],
      "metadata": {
        "id": "a1RzQyZdmf0a"
      }
    },
    {
      "cell_type": "code",
      "execution_count": 1,
      "metadata": {
        "colab": {
          "base_uri": "https://localhost:8080/"
        },
        "id": "t2C44N_wl-cN",
        "outputId": "0c8730c7-de38-4ee6-bb74-eea86f02fd99"
      },
      "outputs": [
        {
          "output_type": "execute_result",
          "data": {
            "text/plain": [
              "10"
            ]
          },
          "metadata": {},
          "execution_count": 1
        }
      ],
      "source": [
        "n = int(\"10\")\n",
        "n"
      ]
    },
    {
      "cell_type": "code",
      "source": [
        "f = float(\"3.14\")\n",
        "f"
      ],
      "metadata": {
        "colab": {
          "base_uri": "https://localhost:8080/"
        },
        "id": "9bMgZiCImucu",
        "outputId": "612ca7ef-b70c-4b0a-d586-b9e66c8c6af7"
      },
      "execution_count": 2,
      "outputs": [
        {
          "output_type": "execute_result",
          "data": {
            "text/plain": [
              "3.14"
            ]
          },
          "metadata": {},
          "execution_count": 2
        }
      ]
    },
    {
      "cell_type": "markdown",
      "source": [
        "Hemos pasado de texto a número pero, ¿cómo se haría al contrario?"
      ],
      "metadata": {
        "id": "MkBRXGKgm0y9"
      }
    },
    {
      "cell_type": "code",
      "source": [
        "c = \"Texto y un número \" + str(10)\n",
        "c"
      ],
      "metadata": {
        "colab": {
          "base_uri": "https://localhost:8080/",
          "height": 35
        },
        "id": "rP-mx0wqnAEe",
        "outputId": "a8272be2-28c4-472a-8a79-4aa55b3547ec"
      },
      "execution_count": 4,
      "outputs": [
        {
          "output_type": "execute_result",
          "data": {
            "application/vnd.google.colaboratory.intrinsic+json": {
              "type": "string"
            },
            "text/plain": [
              "'Texto y un número 10'"
            ]
          },
          "metadata": {},
          "execution_count": 4
        }
      ]
    },
    {
      "cell_type": "markdown",
      "source": [
        "También podemos transformar un número entero a binario:"
      ],
      "metadata": {
        "id": "iCMOBHOcnN0v"
      }
    },
    {
      "cell_type": "code",
      "source": [
        "bin(10) "
      ],
      "metadata": {
        "colab": {
          "base_uri": "https://localhost:8080/",
          "height": 35
        },
        "id": "x9KgOZPCnSns",
        "outputId": "7f504385-226c-4760-8b10-9340f9d624ce"
      },
      "execution_count": 5,
      "outputs": [
        {
          "output_type": "execute_result",
          "data": {
            "application/vnd.google.colaboratory.intrinsic+json": {
              "type": "string"
            },
            "text/plain": [
              "'0b1010'"
            ]
          },
          "metadata": {},
          "execution_count": 5
        }
      ]
    },
    {
      "cell_type": "markdown",
      "source": [
        "El '0b' inicial del resultado significa que es binario y el resultado de 10 en binario es 1010.\n",
        "\n",
        "También podemos mostrar un número en hexadecimal:"
      ],
      "metadata": {
        "id": "m-XTjCmQnZ8l"
      }
    },
    {
      "cell_type": "code",
      "source": [
        "hex(10)"
      ],
      "metadata": {
        "colab": {
          "base_uri": "https://localhost:8080/",
          "height": 35
        },
        "id": "7icGJz-lnpsN",
        "outputId": "944dfcdd-8022-4629-c627-beb7a5031884"
      },
      "execution_count": 6,
      "outputs": [
        {
          "output_type": "execute_result",
          "data": {
            "application/vnd.google.colaboratory.intrinsic+json": {
              "type": "string"
            },
            "text/plain": [
              "'0xa'"
            ]
          },
          "metadata": {},
          "execution_count": 6
        }
      ]
    },
    {
      "cell_type": "markdown",
      "source": [
        "El '0x' nos indica que es en hexadecimal y el valor de 10 en hexadecimal corresponde a una 'a'."
      ],
      "metadata": {
        "id": "YjjRDnton0Xz"
      }
    },
    {
      "cell_type": "code",
      "source": [
        "#Para hacer al revés la conversión, podemos hacerlo de la siguiente forma:\n",
        "int('0b1010',2) #Base 2, binario es base 2, porque solo tiene ceros y unos (2)"
      ],
      "metadata": {
        "colab": {
          "base_uri": "https://localhost:8080/"
        },
        "id": "WRoiBCBGn7nY",
        "outputId": "001e1b62-c861-472e-c130-c8f512d03e4e"
      },
      "execution_count": 7,
      "outputs": [
        {
          "output_type": "execute_result",
          "data": {
            "text/plain": [
              "10"
            ]
          },
          "metadata": {},
          "execution_count": 7
        }
      ]
    },
    {
      "cell_type": "code",
      "source": [
        "int('0xa',16) #Hexadecimal corresponde evidentemente el 16"
      ],
      "metadata": {
        "colab": {
          "base_uri": "https://localhost:8080/"
        },
        "id": "R1YZMdkmoceR",
        "outputId": "c588886e-4327-47ff-efc3-bfd17a7faf77"
      },
      "execution_count": 8,
      "outputs": [
        {
          "output_type": "execute_result",
          "data": {
            "text/plain": [
              "10"
            ]
          },
          "metadata": {},
          "execution_count": 8
        }
      ]
    },
    {
      "cell_type": "markdown",
      "source": [
        "También tenemos la función 'abs' que nos devuelve el valor absoluto de un número:"
      ],
      "metadata": {
        "id": "vsIhxMKWosoy"
      }
    },
    {
      "cell_type": "code",
      "source": [
        "abs(-1345)"
      ],
      "metadata": {
        "colab": {
          "base_uri": "https://localhost:8080/"
        },
        "id": "ZOadr35-ozRr",
        "outputId": "b9ad3be9-e796-4683-864a-98a174a4ebe2"
      },
      "execution_count": 9,
      "outputs": [
        {
          "output_type": "execute_result",
          "data": {
            "text/plain": [
              "1345"
            ]
          },
          "metadata": {},
          "execution_count": 9
        }
      ]
    },
    {
      "cell_type": "markdown",
      "source": [
        "También podemos redondear:"
      ],
      "metadata": {
        "id": "KFYkD2Xmo71j"
      }
    },
    {
      "cell_type": "code",
      "source": [
        "round(7.3)"
      ],
      "metadata": {
        "colab": {
          "base_uri": "https://localhost:8080/"
        },
        "id": "HQ-hI3aEo7Jy",
        "outputId": "478581c0-3ebe-45bd-cd8b-1c19c591bdf9"
      },
      "execution_count": 10,
      "outputs": [
        {
          "output_type": "execute_result",
          "data": {
            "text/plain": [
              "7"
            ]
          },
          "metadata": {},
          "execution_count": 10
        }
      ]
    },
    {
      "cell_type": "code",
      "source": [
        "round(7.6)"
      ],
      "metadata": {
        "colab": {
          "base_uri": "https://localhost:8080/"
        },
        "id": "MkhBowS1pAX4",
        "outputId": "e2d19bca-546c-41c1-832b-625efc815e69"
      },
      "execution_count": 11,
      "outputs": [
        {
          "output_type": "execute_result",
          "data": {
            "text/plain": [
              "8"
            ]
          },
          "metadata": {},
          "execution_count": 11
        }
      ]
    },
    {
      "cell_type": "markdown",
      "source": [
        "También podemos evaluar una expresión en una cadena:"
      ],
      "metadata": {
        "id": "tD0RDu00pJyk"
      }
    },
    {
      "cell_type": "code",
      "source": [
        "eval('2+3') #Aunque sea una cadena, la intepreta como una operación"
      ],
      "metadata": {
        "colab": {
          "base_uri": "https://localhost:8080/"
        },
        "id": "jIVvCw8_pRZB",
        "outputId": "c80ac7ee-1a29-41d7-f10c-4fee2b3c30a4"
      },
      "execution_count": 13,
      "outputs": [
        {
          "output_type": "execute_result",
          "data": {
            "text/plain": [
              "5"
            ]
          },
          "metadata": {},
          "execution_count": 13
        }
      ]
    },
    {
      "cell_type": "code",
      "source": [
        "#También soporta variables\n",
        "a = 3\n",
        "b = 4\n",
        "eval('a+b*4')"
      ],
      "metadata": {
        "colab": {
          "base_uri": "https://localhost:8080/"
        },
        "id": "6o-OQ6QxpbCT",
        "outputId": "98a7a6c1-67bd-443f-b04f-dcfeb7b28491"
      },
      "execution_count": 14,
      "outputs": [
        {
          "output_type": "execute_result",
          "data": {
            "text/plain": [
              "19"
            ]
          },
          "metadata": {},
          "execution_count": 14
        }
      ]
    },
    {
      "cell_type": "markdown",
      "source": [
        "La otra que ya sabemos es 'len', para saber la longitud de una cadena:"
      ],
      "metadata": {
        "id": "9-b5Gc1kp81C"
      }
    },
    {
      "cell_type": "code",
      "source": [
        "len('Una texto para Blanca')"
      ],
      "metadata": {
        "colab": {
          "base_uri": "https://localhost:8080/"
        },
        "id": "G9y5oVsFqB0C",
        "outputId": "be2b7c61-5155-40bf-e0ec-13ac4d152d2f"
      },
      "execution_count": 15,
      "outputs": [
        {
          "output_type": "execute_result",
          "data": {
            "text/plain": [
              "21"
            ]
          },
          "metadata": {},
          "execution_count": 15
        }
      ]
    },
    {
      "cell_type": "markdown",
      "source": [
        "Y cuando Álvaro no te pueda echar un cable, siempre quedará la ayuda de Python:"
      ],
      "metadata": {
        "id": "gsGjQdqXqJ-J"
      }
    },
    {
      "cell_type": "code",
      "source": [
        "help()"
      ],
      "metadata": {
        "colab": {
          "base_uri": "https://localhost:8080/"
        },
        "id": "Xc7QnVdyqPhi",
        "outputId": "74fc06f7-249d-475a-be39-53079e6b9eb1"
      },
      "execution_count": 16,
      "outputs": [
        {
          "output_type": "stream",
          "name": "stdout",
          "text": [
            "\n",
            "You are now leaving help and returning to the Python interpreter.\n",
            "If you want to ask for help on a particular object directly from the\n",
            "interpreter, you can type \"help(object)\".  Executing \"help('string')\"\n",
            "has the same effect as typing a particular string at the help> prompt.\n"
          ]
        }
      ]
    }
  ]
}