{
  "nbformat": 4,
  "nbformat_minor": 0,
  "metadata": {
    "colab": {
      "name": "b28_Excepciones.ipynb",
      "provenance": []
    },
    "kernelspec": {
      "name": "python3",
      "display_name": "Python 3"
    },
    "language_info": {
      "name": "python"
    }
  },
  "cells": [
    {
      "cell_type": "markdown",
      "source": [
        "Consideramos excepción a un bloque de código que nos permitirá continuar con la ejecución aunque ocurra un error."
      ],
      "metadata": {
        "id": "aKHbgXGa8Ew-"
      }
    },
    {
      "cell_type": "code",
      "execution_count": 1,
      "metadata": {
        "colab": {
          "base_uri": "https://localhost:8080/",
          "height": 217
        },
        "id": "jHzmG3u2NeYy",
        "outputId": "be1761c4-e751-4371-8582-20aec88d3e1d"
      },
      "outputs": [
        {
          "name": "stdout",
          "output_type": "stream",
          "text": [
            "Introduce un número: argsd\n"
          ]
        },
        {
          "output_type": "error",
          "ename": "ValueError",
          "evalue": "ignored",
          "traceback": [
            "\u001b[0;31m---------------------------------------------------------------------------\u001b[0m",
            "\u001b[0;31mValueError\u001b[0m                                Traceback (most recent call last)",
            "\u001b[0;32m<ipython-input-1-431039645fb9>\u001b[0m in \u001b[0;36m<module>\u001b[0;34m()\u001b[0m\n\u001b[0;32m----> 1\u001b[0;31m \u001b[0mn\u001b[0m \u001b[0;34m=\u001b[0m \u001b[0mfloat\u001b[0m\u001b[0;34m(\u001b[0m\u001b[0minput\u001b[0m\u001b[0;34m(\u001b[0m\u001b[0;34m'Introduce un número: '\u001b[0m\u001b[0;34m)\u001b[0m\u001b[0;34m)\u001b[0m\u001b[0;34m\u001b[0m\u001b[0;34m\u001b[0m\u001b[0m\n\u001b[0m\u001b[1;32m      2\u001b[0m \u001b[0mm\u001b[0m \u001b[0;34m=\u001b[0m \u001b[0;36m7\u001b[0m\u001b[0;34m\u001b[0m\u001b[0;34m\u001b[0m\u001b[0m\n\u001b[1;32m      3\u001b[0m \u001b[0mprint\u001b[0m\u001b[0;34m(\u001b[0m\u001b[0;34m\"{}/{}={}\"\u001b[0m\u001b[0;34m.\u001b[0m\u001b[0mformat\u001b[0m\u001b[0;34m(\u001b[0m\u001b[0mn\u001b[0m\u001b[0;34m,\u001b[0m\u001b[0mm\u001b[0m\u001b[0;34m,\u001b[0m\u001b[0mn\u001b[0m\u001b[0;34m/\u001b[0m\u001b[0mm\u001b[0m\u001b[0;34m)\u001b[0m\u001b[0;34m)\u001b[0m\u001b[0;34m\u001b[0m\u001b[0;34m\u001b[0m\u001b[0m\n",
            "\u001b[0;31mValueError\u001b[0m: could not convert string to float: 'argsd'"
          ]
        }
      ],
      "source": [
        "n = float(input('Introduce un número: '))\n",
        "m = 7\n",
        "print(\"{}/{}={}\".format(n,m,n/m))"
      ]
    },
    {
      "cell_type": "code",
      "source": [
        "#Para evitar que nos de error incluso estando mal:\n",
        "try:\n",
        "  n = float(input('Introduce un número: '))\n",
        "  m = 7\n",
        "  print(\"{}/{}={}\".format(n,m,n/m))\n",
        "except:\n",
        "  print(\"Ha ocurrido un error.\")"
      ],
      "metadata": {
        "colab": {
          "base_uri": "https://localhost:8080/"
        },
        "id": "OE0luwt780R3",
        "outputId": "98e9f839-b756-4158-a239-69c377327a10"
      },
      "execution_count": 2,
      "outputs": [
        {
          "output_type": "stream",
          "name": "stdout",
          "text": [
            "Introduce un número: sdfg\n",
            "Ha ocurrido un error.\n"
          ]
        }
      ]
    },
    {
      "cell_type": "code",
      "source": [
        "#Otro método:\n",
        "while(True):\n",
        "  try:\n",
        "    n = float(input('Introduce un número: '))\n",
        "    m = 7\n",
        "    print(\"{}/{}={}\".format(n,m,n/m))\n",
        "    break #Importante romper la iteración si todo sale bien\n",
        "  except:\n",
        "    print(\"Ha ocurrido un error.\")"
      ],
      "metadata": {
        "colab": {
          "base_uri": "https://localhost:8080/"
        },
        "id": "vTba4iv09Lvs",
        "outputId": "26d31ccb-dc0e-4651-9689-d4685013e7b1"
      },
      "execution_count": 3,
      "outputs": [
        {
          "output_type": "stream",
          "name": "stdout",
          "text": [
            "Introduce un número: asfd\n",
            "Ha ocurrido un error.\n",
            "Introduce un número: as\n",
            "Ha ocurrido un error.\n",
            "Introduce un número: 2\n",
            "2.0/7=0.2857142857142857\n"
          ]
        }
      ]
    },
    {
      "cell_type": "markdown",
      "source": [
        "En el ejemplo que acabamos de hacer, nos preguntará hasta que introduzcamos un valor válido."
      ],
      "metadata": {
        "id": "Jm2pdRfb9eyU"
      }
    },
    {
      "cell_type": "code",
      "source": [
        "#Otro método:\n",
        "while(True):\n",
        "  try:\n",
        "    n = float(input('Introduce un número: '))\n",
        "    m = 7\n",
        "    print(\"{}/{}={}\".format(n,m,n/m))\n",
        "  except:\n",
        "    print(\"Ha ocurrido un error.\")\n",
        "  else:\n",
        "    print(\"Todo ha funcionado correctamente\")\n",
        "    break #Importante romper la iteración si todo sale bien"
      ],
      "metadata": {
        "colab": {
          "base_uri": "https://localhost:8080/"
        },
        "id": "BqD-TXX99pvm",
        "outputId": "c984b4d9-31fa-4cba-b80d-c388c36d8d8a"
      },
      "execution_count": 4,
      "outputs": [
        {
          "output_type": "stream",
          "name": "stdout",
          "text": [
            "Introduce un número: dfgs\n",
            "Ha ocurrido un error.\n",
            "Introduce un número: 3\n",
            "3.0/7=0.42857142857142855\n",
            "Todo ha funcionado correctamente\n"
          ]
        }
      ]
    },
    {
      "cell_type": "code",
      "source": [
        "#Otro método:\n",
        "while(True):\n",
        "  try:\n",
        "    n = float(input('Introduce un número: '))\n",
        "    m = 7\n",
        "    print(\"{}/{}={}\".format(n,m,n/m))\n",
        "  except:\n",
        "    print(\"Ha ocurrido un error.\")\n",
        "  else:\n",
        "    print(\"Todo ha funcionado correctamente\")\n",
        "    break #Importante romper la iteración si todo sale bien\n",
        "  finally:\n",
        "    print(\"Fin de la iteración\")"
      ],
      "metadata": {
        "colab": {
          "base_uri": "https://localhost:8080/"
        },
        "id": "Obns7z7M9609",
        "outputId": "07eaa597-5bb4-43fb-9b29-a3a7e688abbe"
      },
      "execution_count": 5,
      "outputs": [
        {
          "output_type": "stream",
          "name": "stdout",
          "text": [
            "Introduce un número: strh\n",
            "Ha ocurrido un error.\n",
            "Fin de la iteración\n",
            "Introduce un número: 6\n",
            "6.0/7=0.8571428571428571\n",
            "Todo ha funcionado correctamente\n",
            "Fin de la iteración\n"
          ]
        }
      ]
    },
    {
      "cell_type": "markdown",
      "source": [
        "Resumiendo, **tenemos 4 bloques de excepción**:\n",
        "\n",
        "\n",
        "\n",
        "*   El bloque '**try**', para calcular cualquier error dentro de un bloque de instrucciones.\n",
        "*   El '**except**', para definir el código excepcional.\n",
        "*   El '**else**', para definir el código que se ejecutará si no ocurre ningún error.\n",
        "*   El '**finally**', para definir el código que se ejecutará al final, haya o no un error.\n",
        "\n",
        "\n"
      ],
      "metadata": {
        "id": "O7QCaU0a-GUS"
      }
    }
  ]
}