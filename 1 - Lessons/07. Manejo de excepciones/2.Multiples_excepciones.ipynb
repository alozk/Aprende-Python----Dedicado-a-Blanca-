{
  "nbformat": 4,
  "nbformat_minor": 0,
  "metadata": {
    "colab": {
      "name": "b29_Multiples_excepciones.ipynb",
      "provenance": []
    },
    "kernelspec": {
      "name": "python3",
      "display_name": "Python 3"
    },
    "language_info": {
      "name": "python"
    }
  },
  "cells": [
    {
      "cell_type": "markdown",
      "source": [
        "Vamos a rizar el rizo respecto a la última lección.\n",
        "Es posible definir distintas excepciones, eso podemos hacerlo gracias a que cuando ocurre un error dentro del 'try', cada excepción tiene su propio identificador. Si lo capturamos y lo guardamos en un variable, podríamos hacer un truco para mostrar el nombre de la excepción."
      ],
      "metadata": {
        "id": "3svQdnkB_siE"
      }
    },
    {
      "cell_type": "code",
      "source": [
        "try :\n",
        "  n = input(\"Introduce un número: \")\n",
        "  4/n\n",
        "except:\n",
        "  print(\"Error\")"
      ],
      "metadata": {
        "colab": {
          "base_uri": "https://localhost:8080/"
        },
        "id": "495zESzM_3oW",
        "outputId": "ab9c2688-86a1-4d54-ecf2-444fe3efdbdb"
      },
      "execution_count": null,
      "outputs": [
        {
          "output_type": "stream",
          "name": "stdout",
          "text": [
            "Introduce un número: sdfs\n",
            "Error\n"
          ]
        }
      ]
    },
    {
      "cell_type": "markdown",
      "source": [
        "Para poder sacar el identificador del error, ese código que tiene, podemos hacer lo siguiente:"
      ],
      "metadata": {
        "id": "htwB2jXwAW6e"
      }
    },
    {
      "cell_type": "code",
      "source": [
        "#De esta forma guardamos una excepción genérica en la variable 'e'.try :\n",
        "try:\n",
        "  n = input(\"Introduce un número: \")\n",
        "  4/n\n",
        "except Exception as e:\n",
        "  print(type(e).__name__) #Para conseguir el nombre del error"
      ],
      "metadata": {
        "colab": {
          "base_uri": "https://localhost:8080/"
        },
        "id": "xJZmI3fHAe8o",
        "outputId": "75b52142-acb2-4be2-e2a5-a085bad63da6"
      },
      "execution_count": 3,
      "outputs": [
        {
          "output_type": "stream",
          "name": "stdout",
          "text": [
            "Introduce un número: sdf\n",
            "TypeError\n"
          ]
        }
      ]
    },
    {
      "cell_type": "markdown",
      "source": [
        "Mejoremos el ejemplo para encadenar diferentes excepciones:"
      ],
      "metadata": {
        "id": "hmddxQ6eBQ9J"
      }
    },
    {
      "cell_type": "code",
      "source": [
        "try:\n",
        "  n = float(input(\"Introduce un número: \"))\n",
        "  4/n\n",
        "except TypeError:\n",
        "  print(\"No se puede dividir el número por una cadena\")\n",
        "except Exception as e:\n",
        "  print(type(e).__name__) #Para conseguir el nombre del error"
      ],
      "metadata": {
        "id": "LhqfVBhmBWL7",
        "colab": {
          "base_uri": "https://localhost:8080/"
        },
        "outputId": "3dbe1038-8fdd-4aa0-a92e-3e51cd64454e"
      },
      "execution_count": 5,
      "outputs": [
        {
          "output_type": "stream",
          "name": "stdout",
          "text": [
            "Introduce un número: dsfv\n",
            "ValueError\n"
          ]
        }
      ]
    },
    {
      "cell_type": "markdown",
      "source": [
        "Según vamos descubriendo diferentes errores, los vamos añadiendo a nuestro bloque de código a base de 'except':"
      ],
      "metadata": {
        "id": "CsRA9t_RCWhm"
      }
    },
    {
      "cell_type": "code",
      "source": [
        "try:\n",
        "  n = float(input(\"Introduce un número: \"))\n",
        "  4/n\n",
        "except TypeError:\n",
        "  print(\"No se puede dividir el número por una cadena\")\n",
        "except ValueError:\n",
        "  print(\"Debes introducir una cadena que sea un número\")\n",
        "except Exception as e:\n",
        "  print(type(e).__name__) #Para conseguir el nombre del error"
      ],
      "metadata": {
        "colab": {
          "base_uri": "https://localhost:8080/"
        },
        "id": "0YkfZUZ3CfkJ",
        "outputId": "1449bf60-1917-406a-e46f-7d7011deb51e"
      },
      "execution_count": 6,
      "outputs": [
        {
          "output_type": "stream",
          "name": "stdout",
          "text": [
            "Introduce un número: adgf\n",
            "Debes introducir una cadena que sea un número\n"
          ]
        }
      ]
    },
    {
      "cell_type": "markdown",
      "source": [
        "Pero aún nos queda un tipo de error, si nos fijamos en la operación que queremos realizar, es un 4/n. Si decidiésemos que la 'n' valiese 0, ¿qué tipo de error daría? "
      ],
      "metadata": {
        "id": "rrNmdtu7CvgK"
      }
    },
    {
      "cell_type": "code",
      "source": [
        "#VAMOS A COMPROBAR\n",
        "try:\n",
        "  n = float(input(\"Introduce un número: \"))\n",
        "  4/n\n",
        "except TypeError:\n",
        "  print(\"No se puede dividir el número por una cadena\")\n",
        "except ValueError:\n",
        "  print(\"Debes introducir una cadena que sea un número\")\n",
        "except Exception as e:\n",
        "  print(type(e).__name__) #Para conseguir el nombre del error"
      ],
      "metadata": {
        "colab": {
          "base_uri": "https://localhost:8080/"
        },
        "id": "bn4rGoOKDGqP",
        "outputId": "7924c6f6-eb09-40bf-8ce1-b819948993ee"
      },
      "execution_count": 7,
      "outputs": [
        {
          "output_type": "stream",
          "name": "stdout",
          "text": [
            "Introduce un número: 0\n",
            "ZeroDivisionError\n"
          ]
        }
      ]
    },
    {
      "cell_type": "markdown",
      "source": [
        "Pues añadimos ZeroDivisionError a con otro 'except':"
      ],
      "metadata": {
        "id": "w_4dtbM4DMSh"
      }
    },
    {
      "cell_type": "code",
      "source": [
        "try:\n",
        "  n = float(input(\"Introduce un número: \"))\n",
        "  4/n\n",
        "except TypeError:\n",
        "  print(\"No se puede dividir el número por una cadena\")\n",
        "except ValueError:\n",
        "  print(\"Debes introducir una cadena que sea un número\")\n",
        "except ZeroDivisionError:\n",
        "  print(\"Debes introducir un número distinto de 0\")\n",
        "except Exception as e:\n",
        "  print(type(e).__name__) #Para conseguir el nombre del error"
      ],
      "metadata": {
        "colab": {
          "base_uri": "https://localhost:8080/"
        },
        "id": "7nZIreu3DRqN",
        "outputId": "bf404846-82f8-47b1-c2ea-493e5101c453"
      },
      "execution_count": 8,
      "outputs": [
        {
          "output_type": "stream",
          "name": "stdout",
          "text": [
            "Introduce un número: 0\n",
            "Debes introducir un número distinto de 0\n"
          ]
        }
      ]
    }
  ]
}