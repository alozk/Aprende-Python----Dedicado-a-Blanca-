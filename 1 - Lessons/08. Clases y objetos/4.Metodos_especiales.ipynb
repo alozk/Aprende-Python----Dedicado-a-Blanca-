{
  "nbformat": 4,
  "nbformat_minor": 0,
  "metadata": {
    "colab": {
      "name": "b34_Metodos_especiales.ipynb",
      "provenance": []
    },
    "kernelspec": {
      "name": "python3",
      "display_name": "Python 3"
    },
    "language_info": {
      "name": "python"
    }
  },
  "cells": [
    {
      "cell_type": "code",
      "execution_count": 1,
      "metadata": {
        "colab": {
          "base_uri": "https://localhost:8080/"
        },
        "id": "I-yBAq0LwGIQ",
        "outputId": "2c0fbaf6-596a-4433-d94e-d5723804d0de"
      },
      "outputs": [
        {
          "output_type": "stream",
          "name": "stdout",
          "text": [
            "Se ha creado la película El Padrino\n"
          ]
        }
      ],
      "source": [
        "class Pelicula:\n",
        "   #Constructor de clase\n",
        "  def __init__(self,titulo,duracion,lanzamiento):\n",
        "    self.titulo = titulo\n",
        "    self.duracion = duracion\n",
        "    self.lanzamiento = lanzamiento\n",
        "    print(\"Se ha creado la película\", self.titulo)\n",
        "\n",
        "p = Pelicula(\"El Padrino\",175,1972)\n"
      ]
    },
    {
      "cell_type": "markdown",
      "source": [
        "De la misma forma que existe el constructor, también existe el destructor, que se ejecuta al borrar una instancia.\n",
        "\n",
        "Por defecto el destructor pasa desapercivido, pero podemos sobreescribirlo para ejecutar algún tipo de instrucción. Por ejemplo:"
      ],
      "metadata": {
        "id": "gADGPZAU4vZ9"
      }
    },
    {
      "cell_type": "code",
      "source": [
        "class Pelicula:\n",
        "   #Constructor de clase\n",
        "  def __init__(self,titulo,duracion,lanzamiento):\n",
        "    self.titulo = titulo\n",
        "    self.duracion = duracion\n",
        "    self.lanzamiento = lanzamiento\n",
        "    print(\"Se ha creado la película\", self.titulo)\n",
        "\n",
        "  #Destructor de clase\n",
        "  def __del__(self):\n",
        "    print(\"Se está borrando la películar\", self.titulo)\n",
        "\n",
        "p = Pelicula(\"El Padrino\",175,1972)\n",
        "del(p)"
      ],
      "metadata": {
        "colab": {
          "base_uri": "https://localhost:8080/"
        },
        "id": "B3oJ5RIW4vCD",
        "outputId": "8f9328fb-5743-4241-95f7-75af66dfdc4b"
      },
      "execution_count": 6,
      "outputs": [
        {
          "output_type": "stream",
          "name": "stdout",
          "text": [
            "Se ha creado la película El Padrino\n",
            "Se está borrando la películar El Padrino\n"
          ]
        }
      ]
    },
    {
      "cell_type": "code",
      "source": [
        "#Hacemos lo mismo pero no borramo 'p', para poder continuar la lección\n",
        "class Pelicula:\n",
        "   #Constructor de clase\n",
        "  def __init__(self,titulo,duracion,lanzamiento):\n",
        "    self.titulo = titulo\n",
        "    self.duracion = duracion\n",
        "    self.lanzamiento = lanzamiento\n",
        "    print(\"Se ha creado la película\", self.titulo)\n",
        "\n",
        "  #Destructor de clase\n",
        "  def __del__(self):\n",
        "    print(\"Se está borrando la películar\", self.titulo)\n",
        "\n",
        "p = Pelicula(\"El Padrino\",175,1972)"
      ],
      "metadata": {
        "colab": {
          "base_uri": "https://localhost:8080/"
        },
        "id": "FT_wZQpC_yog",
        "outputId": "8fc208bf-7aea-4f32-e907-4092d39756f7"
      },
      "execution_count": 8,
      "outputs": [
        {
          "output_type": "stream",
          "name": "stdout",
          "text": [
            "Se ha creado la película El Padrino\n"
          ]
        }
      ]
    },
    {
      "cell_type": "code",
      "source": [
        "p"
      ],
      "metadata": {
        "colab": {
          "base_uri": "https://localhost:8080/"
        },
        "id": "Xd9AFSh9_rMa",
        "outputId": "9cff8eac-28ec-434b-a2aa-07d27dc33f9a"
      },
      "execution_count": 9,
      "outputs": [
        {
          "output_type": "execute_result",
          "data": {
            "text/plain": [
              "<__main__.Pelicula at 0x7fa7ee8bf790>"
            ]
          },
          "metadata": {},
          "execution_count": 9
        }
      ]
    },
    {
      "cell_type": "markdown",
      "source": [
        "También tenemos el método 'string', que es lo que ocurre cuando le pasamos a una cadena 'str' un valor, sabemos que lo convierte a una cadena de caracteres."
      ],
      "metadata": {
        "id": "xTCkwsUM-8w9"
      }
    },
    {
      "cell_type": "code",
      "source": [
        "str(10)"
      ],
      "metadata": {
        "colab": {
          "base_uri": "https://localhost:8080/",
          "height": 35
        },
        "id": "yo3fG-qK5XYO",
        "outputId": "ec4899e1-32ff-4450-a677-dc1d5a6bb07c"
      },
      "execution_count": 3,
      "outputs": [
        {
          "output_type": "execute_result",
          "data": {
            "application/vnd.google.colaboratory.intrinsic+json": {
              "type": "string"
            },
            "text/plain": [
              "'10'"
            ]
          },
          "metadata": {},
          "execution_count": 3
        }
      ]
    },
    {
      "cell_type": "code",
      "source": [
        "str(p)"
      ],
      "metadata": {
        "colab": {
          "base_uri": "https://localhost:8080/",
          "height": 35
        },
        "id": "GAE5lm5m_QIN",
        "outputId": "213a6119-68db-4e33-c4f2-49eec2e1a75b"
      },
      "execution_count": 10,
      "outputs": [
        {
          "output_type": "execute_result",
          "data": {
            "application/vnd.google.colaboratory.intrinsic+json": {
              "type": "string"
            },
            "text/plain": [
              "'<__main__.Pelicula object at 0x7fa7ee8bf790>'"
            ]
          },
          "metadata": {},
          "execution_count": 10
        }
      ]
    },
    {
      "cell_type": "markdown",
      "source": [
        "Podemos redeclarar esta función 'string' para mostrar algo un poco más interesante a la hora de transformar 'p' en una cadena.\n",
        "\n",
        "Vamos a redefinir la película con un método 'string' interno, por ejemplo:"
      ],
      "metadata": {
        "id": "o3N3xZfL__kS"
      }
    },
    {
      "cell_type": "code",
      "source": [
        "class Pelicula:\n",
        "   #Constructor de clase\n",
        "  def __init__(self,titulo,duracion,lanzamiento):\n",
        "    self.titulo = titulo\n",
        "    self.duracion = duracion\n",
        "    self.lanzamiento = lanzamiento\n",
        "    print(\"Se ha creado la película\", self.titulo)\n",
        "\n",
        "  #Destructor de clase\n",
        "  def __del__(self):\n",
        "    print(\"Se está borrando la películar\", self.titulo)\n",
        "  \n",
        "  #Redefinimos el método string\n",
        "  def __str__(self):\n",
        "    return \"{} lanzada en {} con una duración de {} en minutos\".format(self.titulo,self.lanzamiento,self.duracion)\n",
        "\n",
        "p = Pelicula(\"El Padrino\",175,1972)"
      ],
      "metadata": {
        "colab": {
          "base_uri": "https://localhost:8080/"
        },
        "id": "zlds--NgAU_7",
        "outputId": "826a2586-9c36-49e4-e723-692360e573d8"
      },
      "execution_count": 12,
      "outputs": [
        {
          "output_type": "stream",
          "name": "stdout",
          "text": [
            "Se ha creado la película El Padrino\n"
          ]
        }
      ]
    },
    {
      "cell_type": "code",
      "source": [
        "str(p)"
      ],
      "metadata": {
        "colab": {
          "base_uri": "https://localhost:8080/",
          "height": 35
        },
        "id": "sdP8fXoKA2nf",
        "outputId": "e98a60f0-76b0-421b-c4cc-c21fbe59b056"
      },
      "execution_count": 13,
      "outputs": [
        {
          "output_type": "execute_result",
          "data": {
            "application/vnd.google.colaboratory.intrinsic+json": {
              "type": "string"
            },
            "text/plain": [
              "'El Padrino lanzada en 1972 con una duración de 175 en minutos'"
            ]
          },
          "metadata": {},
          "execution_count": 13
        }
      ]
    },
    {
      "cell_type": "markdown",
      "source": [
        "Ya has visto que 'string' sirve más que nada para conseguir información nosotros sobre estos objetos que acabamos de crear en la memoria.\n",
        "\n",
        "Otro método muy especial es el 'len', la longitud en una colección o cadena pero también podemos adapatarlo a nuestros objetos. Por ejemplo podríamos hacer que 'len' nos diga cuanto dura una película y cuantos son los minutos de duración que tiene.\n",
        "\n",
        "Miremos como al utilizar 'len' de primeras con la película nos da error:"
      ],
      "metadata": {
        "id": "Tyh2bWFeA7O8"
      }
    },
    {
      "cell_type": "code",
      "source": [
        "len(p)"
      ],
      "metadata": {
        "colab": {
          "base_uri": "https://localhost:8080/",
          "height": 165
        },
        "id": "D6-I9ZEiB1TV",
        "outputId": "c75eb9fa-7f48-4237-e916-7ac321886245"
      },
      "execution_count": 14,
      "outputs": [
        {
          "output_type": "error",
          "ename": "TypeError",
          "evalue": "ignored",
          "traceback": [
            "\u001b[0;31m---------------------------------------------------------------------------\u001b[0m",
            "\u001b[0;31mTypeError\u001b[0m                                 Traceback (most recent call last)",
            "\u001b[0;32m<ipython-input-14-3d9d6586c8d9>\u001b[0m in \u001b[0;36m<module>\u001b[0;34m()\u001b[0m\n\u001b[0;32m----> 1\u001b[0;31m \u001b[0mlen\u001b[0m\u001b[0;34m(\u001b[0m\u001b[0mp\u001b[0m\u001b[0;34m)\u001b[0m\u001b[0;34m\u001b[0m\u001b[0;34m\u001b[0m\u001b[0m\n\u001b[0m",
            "\u001b[0;31mTypeError\u001b[0m: object of type 'Pelicula' has no len()"
          ]
        }
      ]
    },
    {
      "cell_type": "markdown",
      "source": [
        "Nos da un error porque por defecto este método no existe, no está implementado en la clase.\n",
        "\n",
        "Lo que tenemos que hacer es crearlo, vamos a copiar todo lo que teníamos anteriormente y redefinimos."
      ],
      "metadata": {
        "id": "VQK--PoZB4na"
      }
    },
    {
      "cell_type": "code",
      "source": [
        "class Pelicula:\n",
        "   #Constructor de clase\n",
        "  def __init__(self,titulo,duracion,lanzamiento):\n",
        "    self.titulo = titulo\n",
        "    self.duracion = duracion\n",
        "    self.lanzamiento = lanzamiento\n",
        "    print(\"Se ha creado la película\", self.titulo)\n",
        "\n",
        "  #Destructor de clase\n",
        "  def __del__(self):\n",
        "    print(\"Se está borrando la películar\", self.titulo)\n",
        "  \n",
        "  #Redefinimos el método string\n",
        "  def __str__(self):\n",
        "    return \"{} lanzada en {} con una duración de {} en minutos\".format(self.titulo,self.lanzamiento,self.duracion)\n",
        "\n",
        "  #Redefinimos el método length\n",
        "  def __len__(self):\n",
        "    return self.duracion\n",
        "\n",
        "p = Pelicula(\"El Padrino\",175,1972)"
      ],
      "metadata": {
        "colab": {
          "base_uri": "https://localhost:8080/"
        },
        "id": "i6EkW4kkCRQq",
        "outputId": "8c93c9ea-0f3d-4e74-c432-f519bc45e86b"
      },
      "execution_count": 20,
      "outputs": [
        {
          "output_type": "stream",
          "name": "stdout",
          "text": [
            "Se ha creado la película El Padrino\n",
            "\n",
            "Se está borrando la películar El Padrino\n"
          ]
        }
      ]
    },
    {
      "cell_type": "code",
      "source": [
        "len(p)"
      ],
      "metadata": {
        "id": "U-y47ZiiDTbN",
        "outputId": "df728790-4832-4876-d867-5668c8c5bda9",
        "colab": {
          "base_uri": "https://localhost:8080/"
        }
      },
      "execution_count": 21,
      "outputs": [
        {
          "output_type": "execute_result",
          "data": {
            "text/plain": [
              "175"
            ]
          },
          "metadata": {},
          "execution_count": 21
        }
      ]
    }
  ]
}