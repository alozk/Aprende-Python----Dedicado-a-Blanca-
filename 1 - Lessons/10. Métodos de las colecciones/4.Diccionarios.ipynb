{
  "nbformat": 4,
  "nbformat_minor": 0,
  "metadata": {
    "colab": {
      "name": "b43_Diccionarios.ipynb",
      "provenance": []
    },
    "kernelspec": {
      "name": "python3",
      "display_name": "Python 3"
    },
    "language_info": {
      "name": "python"
    }
  },
  "cells": [
    {
      "cell_type": "code",
      "execution_count": 1,
      "metadata": {
        "id": "UK9Yc0AOh4kL"
      },
      "outputs": [],
      "source": [
        "colores = {\"amarillo\":\"yellow\",\"azul\":\"blue\",\"verde\":\"green\"}"
      ]
    },
    {
      "cell_type": "code",
      "source": [
        "colores[\"amarillo\"]"
      ],
      "metadata": {
        "colab": {
          "base_uri": "https://localhost:8080/",
          "height": 35
        },
        "id": "6VP-5Mvdix_y",
        "outputId": "2422eda6-1533-47de-dc13-5fdead478b9e"
      },
      "execution_count": 2,
      "outputs": [
        {
          "output_type": "execute_result",
          "data": {
            "application/vnd.google.colaboratory.intrinsic+json": {
              "type": "string"
            },
            "text/plain": [
              "'yellow'"
            ]
          },
          "metadata": {},
          "execution_count": 2
        }
      ]
    },
    {
      "cell_type": "code",
      "source": [
        "#Otra forma de pedir la información es:\n",
        "colores.get('azul','no se encuentra') #Lo segundo es por si diera error"
      ],
      "metadata": {
        "colab": {
          "base_uri": "https://localhost:8080/",
          "height": 35
        },
        "id": "wsy1V-q1joPj",
        "outputId": "87bb4a19-511f-42ee-fe9f-74b661960a2b"
      },
      "execution_count": 4,
      "outputs": [
        {
          "output_type": "execute_result",
          "data": {
            "application/vnd.google.colaboratory.intrinsic+json": {
              "type": "string"
            },
            "text/plain": [
              "'blue'"
            ]
          },
          "metadata": {},
          "execution_count": 4
        }
      ]
    },
    {
      "cell_type": "code",
      "source": [
        "#Vamos a darle uso a lo segundo\n",
        "colores.get('negro','no se encuentra')"
      ],
      "metadata": {
        "colab": {
          "base_uri": "https://localhost:8080/",
          "height": 35
        },
        "id": "wATejlHdjrbx",
        "outputId": "29c14f2a-7250-4518-83eb-db8a20d8cd6f"
      },
      "execution_count": 5,
      "outputs": [
        {
          "output_type": "execute_result",
          "data": {
            "application/vnd.google.colaboratory.intrinsic+json": {
              "type": "string"
            },
            "text/plain": [
              "'no se encuentra'"
            ]
          },
          "metadata": {},
          "execution_count": 5
        }
      ]
    },
    {
      "cell_type": "code",
      "source": [
        "#Probamos con 'True' y 'False' para saber si tenemos un color\n",
        "'negro' in colores"
      ],
      "metadata": {
        "colab": {
          "base_uri": "https://localhost:8080/"
        },
        "id": "10ZCNHX3j-Ik",
        "outputId": "57ba6489-9bbe-4947-f4e7-938e06a47af7"
      },
      "execution_count": 6,
      "outputs": [
        {
          "output_type": "execute_result",
          "data": {
            "text/plain": [
              "False"
            ]
          },
          "metadata": {},
          "execution_count": 6
        }
      ]
    },
    {
      "cell_type": "markdown",
      "source": [
        "Si quisiéramos una lista únicamente con las claves del diccionario:"
      ],
      "metadata": {
        "id": "-1YSmY6dk_D3"
      }
    },
    {
      "cell_type": "code",
      "source": [
        "colores.keys()"
      ],
      "metadata": {
        "colab": {
          "base_uri": "https://localhost:8080/"
        },
        "id": "FxMChWnglC2Y",
        "outputId": "cc1ca019-7eaf-495f-b4fc-2d388285131a"
      },
      "execution_count": 7,
      "outputs": [
        {
          "output_type": "execute_result",
          "data": {
            "text/plain": [
              "dict_keys(['amarillo', 'azul', 'verde'])"
            ]
          },
          "metadata": {},
          "execution_count": 7
        }
      ]
    },
    {
      "cell_type": "markdown",
      "source": [
        "Si quisiéramos saber por otro lado los valores del diccionario pondríamos:"
      ],
      "metadata": {
        "id": "X7CinJvxlLTN"
      }
    },
    {
      "cell_type": "code",
      "source": [
        "colores.values()"
      ],
      "metadata": {
        "colab": {
          "base_uri": "https://localhost:8080/"
        },
        "id": "NOWF2BDVlTUi",
        "outputId": "ca656eb0-dbd2-4f38-c17e-a9d7f3f18177"
      },
      "execution_count": 8,
      "outputs": [
        {
          "output_type": "execute_result",
          "data": {
            "text/plain": [
              "dict_values(['yellow', 'blue', 'green'])"
            ]
          },
          "metadata": {},
          "execution_count": 8
        }
      ]
    },
    {
      "cell_type": "markdown",
      "source": [
        "Y si quisiéramos una mezcla entre claves y valores a la vez, podríamos utilizar:"
      ],
      "metadata": {
        "id": "OMRBAwW3lnAN"
      }
    },
    {
      "cell_type": "code",
      "source": [
        "colores.items()"
      ],
      "metadata": {
        "colab": {
          "base_uri": "https://localhost:8080/"
        },
        "id": "vyCxg-59lsu9",
        "outputId": "1f2ae6dc-69d2-4d63-fccb-afcd51a903b4"
      },
      "execution_count": 9,
      "outputs": [
        {
          "output_type": "execute_result",
          "data": {
            "text/plain": [
              "dict_items([('amarillo', 'yellow'), ('azul', 'blue'), ('verde', 'green')])"
            ]
          },
          "metadata": {},
          "execution_count": 9
        }
      ]
    },
    {
      "cell_type": "markdown",
      "source": [
        "Para mostrar los colores..."
      ],
      "metadata": {
        "id": "RRv9fAEDmKqc"
      }
    },
    {
      "cell_type": "code",
      "source": [
        "for c in colores.keys():\n",
        "  print(c)"
      ],
      "metadata": {
        "colab": {
          "base_uri": "https://localhost:8080/"
        },
        "id": "A4t_rFxQmN5p",
        "outputId": "3e3aeb7d-069d-4a15-f0b2-61867b8cd36e"
      },
      "execution_count": 10,
      "outputs": [
        {
          "output_type": "stream",
          "name": "stdout",
          "text": [
            "amarillo\n",
            "azul\n",
            "verde\n"
          ]
        }
      ]
    },
    {
      "cell_type": "code",
      "source": [
        "for c in colores.values():\n",
        "  print(c)"
      ],
      "metadata": {
        "colab": {
          "base_uri": "https://localhost:8080/"
        },
        "id": "K20iXS-wmVDA",
        "outputId": "be54f1c9-775f-491e-b670-74798accb8e2"
      },
      "execution_count": 11,
      "outputs": [
        {
          "output_type": "stream",
          "name": "stdout",
          "text": [
            "yellow\n",
            "blue\n",
            "green\n"
          ]
        }
      ]
    },
    {
      "cell_type": "code",
      "source": [
        "for c in colores.items():\n",
        "  print(c)"
      ],
      "metadata": {
        "colab": {
          "base_uri": "https://localhost:8080/"
        },
        "id": "MhyvLX3bmXSL",
        "outputId": "c3cf2ce0-164d-4be9-e1fc-df86e400550c"
      },
      "execution_count": 12,
      "outputs": [
        {
          "output_type": "stream",
          "name": "stdout",
          "text": [
            "('amarillo', 'yellow')\n",
            "('azul', 'blue')\n",
            "('verde', 'green')\n"
          ]
        }
      ]
    },
    {
      "cell_type": "code",
      "source": [
        "for c,v in colores.items():\n",
        "  print(c,v)"
      ],
      "metadata": {
        "colab": {
          "base_uri": "https://localhost:8080/"
        },
        "id": "X6XhLMkImgRL",
        "outputId": "685f8eca-8a75-4e34-d8ea-de3fc3258486"
      },
      "execution_count": 13,
      "outputs": [
        {
          "output_type": "stream",
          "name": "stdout",
          "text": [
            "amarillo yellow\n",
            "azul blue\n",
            "verde green\n"
          ]
        }
      ]
    },
    {
      "cell_type": "markdown",
      "source": [
        "Otro método que tienen los diccionarios y compartido con las listas, es el 'pop':"
      ],
      "metadata": {
        "id": "qZr1OIn8mn8Y"
      }
    },
    {
      "cell_type": "code",
      "source": [
        "colores.pop(\"amarillo\",\"no se ha encontrado\")"
      ],
      "metadata": {
        "colab": {
          "base_uri": "https://localhost:8080/",
          "height": 35
        },
        "id": "g2ElukzfmvDW",
        "outputId": "9bab921d-ef52-4ae1-ceb2-4f6962eb2f52"
      },
      "execution_count": 14,
      "outputs": [
        {
          "output_type": "execute_result",
          "data": {
            "application/vnd.google.colaboratory.intrinsic+json": {
              "type": "string"
            },
            "text/plain": [
              "'yellow'"
            ]
          },
          "metadata": {},
          "execution_count": 14
        }
      ]
    },
    {
      "cell_type": "code",
      "source": [
        "colores"
      ],
      "metadata": {
        "colab": {
          "base_uri": "https://localhost:8080/"
        },
        "id": "jn1HSyV_m6Om",
        "outputId": "83eb25a7-cd27-47d6-84b1-c739b210e418"
      },
      "execution_count": 15,
      "outputs": [
        {
          "output_type": "execute_result",
          "data": {
            "text/plain": [
              "{'azul': 'blue', 'verde': 'green'}"
            ]
          },
          "metadata": {},
          "execution_count": 15
        }
      ]
    },
    {
      "cell_type": "markdown",
      "source": [
        "Podemos vaciar un diccionario con 'clear':"
      ],
      "metadata": {
        "id": "0jTia0-onCTm"
      }
    },
    {
      "cell_type": "code",
      "source": [
        "colores.clear()"
      ],
      "metadata": {
        "id": "gez7APcynA5Y"
      },
      "execution_count": 16,
      "outputs": []
    },
    {
      "cell_type": "code",
      "source": [
        "colores"
      ],
      "metadata": {
        "colab": {
          "base_uri": "https://localhost:8080/"
        },
        "id": "0Zv1sL46nHgl",
        "outputId": "11aa9d8d-1e39-44f8-d1cd-ffc09c41dbac"
      },
      "execution_count": 17,
      "outputs": [
        {
          "output_type": "execute_result",
          "data": {
            "text/plain": [
              "{}"
            ]
          },
          "metadata": {},
          "execution_count": 17
        }
      ]
    }
  ]
}