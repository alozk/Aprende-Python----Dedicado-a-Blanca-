{
  "nbformat": 4,
  "nbformat_minor": 0,
  "metadata": {
    "colab": {
      "name": "2_Textos.ipynb",
      "provenance": []
    },
    "kernelspec": {
      "name": "python3",
      "display_name": "Python 3"
    },
    "language_info": {
      "name": "python"
    }
  },
  "cells": [
    {
      "cell_type": "code",
      "execution_count": 1,
      "metadata": {
        "colab": {
          "base_uri": "https://localhost:8080/",
          "height": 35
        },
        "id": "b8PtIcMHkwsq",
        "outputId": "614a6c96-1d44-4329-9b32-6c512ef15311"
      },
      "outputs": [
        {
          "output_type": "execute_result",
          "data": {
            "application/vnd.google.colaboratory.intrinsic+json": {
              "type": "string"
            },
            "text/plain": [
              "'Hola Mundo'"
            ]
          },
          "metadata": {},
          "execution_count": 1
        }
      ],
      "source": [
        "'Hola Mundo'"
      ]
    },
    {
      "cell_type": "code",
      "source": [
        "\"Hola Mundo\""
      ],
      "metadata": {
        "colab": {
          "base_uri": "https://localhost:8080/",
          "height": 35
        },
        "id": "kdGkgDgXnRk-",
        "outputId": "5200c517-ec74-4063-d10e-5751d2852d1b"
      },
      "execution_count": 2,
      "outputs": [
        {
          "output_type": "execute_result",
          "data": {
            "application/vnd.google.colaboratory.intrinsic+json": {
              "type": "string"
            },
            "text/plain": [
              "'Hola Mundo'"
            ]
          },
          "metadata": {},
          "execution_count": 2
        }
      ]
    },
    {
      "cell_type": "code",
      "source": [
        "'Este texto contiene unas \" \"'"
      ],
      "metadata": {
        "colab": {
          "base_uri": "https://localhost:8080/",
          "height": 35
        },
        "id": "Sk_nIe7-nYra",
        "outputId": "db8c5137-8623-4cd2-c8e0-271dd5d6c799"
      },
      "execution_count": 4,
      "outputs": [
        {
          "output_type": "execute_result",
          "data": {
            "application/vnd.google.colaboratory.intrinsic+json": {
              "type": "string"
            },
            "text/plain": [
              "'Este texto contiene unas \" \"'"
            ]
          },
          "metadata": {},
          "execution_count": 4
        }
      ]
    },
    {
      "cell_type": "code",
      "source": [
        "#Así solo imprime el último texto\n",
        "'Escribo un texto'\n",
        "\"Y otro más\"\n",
        "'Escribo un texto más'"
      ],
      "metadata": {
        "colab": {
          "base_uri": "https://localhost:8080/",
          "height": 35
        },
        "id": "Kl86CCmOnfrJ",
        "outputId": "950007f4-4bf9-4baa-9f25-b46258e23cb5"
      },
      "execution_count": 8,
      "outputs": [
        {
          "output_type": "execute_result",
          "data": {
            "application/vnd.google.colaboratory.intrinsic+json": {
              "type": "string"
            },
            "text/plain": [
              "'Escribo un texto más'"
            ]
          },
          "metadata": {},
          "execution_count": 8
        }
      ]
    },
    {
      "cell_type": "code",
      "source": [
        "#Y aquí llega el print para resolverlo\n",
        "print('Escribo un texto')\n",
        "print(\"Y otro más\")\n",
        "print('Escribo un texto más')"
      ],
      "metadata": {
        "colab": {
          "base_uri": "https://localhost:8080/"
        },
        "id": "qgnppJZLokJF",
        "outputId": "060b259b-cdf3-4fbb-a8f6-d4fe4a2408db"
      },
      "execution_count": 9,
      "outputs": [
        {
          "output_type": "stream",
          "name": "stdout",
          "text": [
            "Escribo un texto\n",
            "Y otro más\n",
            "Escribo un texto más\n"
          ]
        }
      ]
    },
    {
      "cell_type": "code",
      "source": [
        "print(\"Escribimos un texto\\tuna tabulación\")"
      ],
      "metadata": {
        "colab": {
          "base_uri": "https://localhost:8080/"
        },
        "id": "ijGHkpOMq3Dd",
        "outputId": "aa240430-452c-41d8-c8be-325921c2882e"
      },
      "execution_count": 10,
      "outputs": [
        {
          "output_type": "stream",
          "name": "stdout",
          "text": [
            "Escribimos un texto\tuna tabulación\n"
          ]
        }
      ]
    },
    {
      "cell_type": "code",
      "source": [
        "print(\"Escribimos \\ncon una nueva línea de texto\")"
      ],
      "metadata": {
        "colab": {
          "base_uri": "https://localhost:8080/"
        },
        "id": "rO7T3YKSrIzP",
        "outputId": "d9b58706-95ef-44fc-9e1d-c7c02d913bcd"
      },
      "execution_count": 12,
      "outputs": [
        {
          "output_type": "stream",
          "name": "stdout",
          "text": [
            "Escribimos \n",
            "con una nueva línea de texto\n"
          ]
        }
      ]
    },
    {
      "cell_type": "markdown",
      "source": [
        "Sin embargo, puede darse el caso de que no nos interese que un símbolo especial (en este caso, la contrabarra) nos cambie el código introducido.\n",
        "\n",
        "\n",
        "La solución seria utilizar 👉 **raw** ['r']"
      ],
      "metadata": {
        "id": "7BE7PfoCrvZb"
      }
    },
    {
      "cell_type": "code",
      "source": [
        "#Veamos un ejemplo\n",
        "print(r\"C:\\Users\\Alvaro\\Desktop\\GITHUB\\Aprende Python - [Dedicado a Blanca]\")"
      ],
      "metadata": {
        "colab": {
          "base_uri": "https://localhost:8080/"
        },
        "id": "biGHzcFYse5O",
        "outputId": "a51084b3-279b-45fd-c744-98eb03588987"
      },
      "execution_count": 14,
      "outputs": [
        {
          "output_type": "stream",
          "name": "stdout",
          "text": [
            "C:\\Users\\Alvaro\\Desktop\\GITHUB\\Aprende Python - [Dedicado a Blanca]\n"
          ]
        }
      ]
    },
    {
      "cell_type": "code",
      "source": [
        "#Otra forma de trabajar con comillas\n",
        "print(\"\"\"Escribo 3 comillas...\n",
        "has visto Blanca,\n",
        "como me gustan...\\t'las comillas'\"\"\")"
      ],
      "metadata": {
        "colab": {
          "base_uri": "https://localhost:8080/"
        },
        "id": "tE6hJ-yPtCUM",
        "outputId": "15b73870-2e1e-4930-f459-a8ac587db686"
      },
      "execution_count": 22,
      "outputs": [
        {
          "output_type": "stream",
          "name": "stdout",
          "text": [
            "Escribo 3 comillas...\n",
            "has visto Blanca,\n",
            "como me gustan...\t'las comillas'\n"
          ]
        }
      ]
    },
    {
      "cell_type": "markdown",
      "source": [
        "Veamos otras formas de trabajar con tabulaciones o salto de línea.\n",
        "\n",
        "La primera forma no funciona, pero la segunda si. Bendiciones al *print*."
      ],
      "metadata": {
        "id": "r-7HA8nTt37n"
      }
    },
    {
      "cell_type": "code",
      "source": [
        "texto_tabulado = \"Escribo un texto \\tcon tabulación\""
      ],
      "metadata": {
        "id": "uZ_KwfdquDnM"
      },
      "execution_count": 23,
      "outputs": []
    },
    {
      "cell_type": "code",
      "source": [
        "#De esta forma no va a funcionar:\n",
        "texto_tabulado"
      ],
      "metadata": {
        "colab": {
          "base_uri": "https://localhost:8080/",
          "height": 35
        },
        "id": "pWYHCmn_uP5n",
        "outputId": "6d6115f1-b789-4715-eccf-ff3f46e5dfa5"
      },
      "execution_count": 25,
      "outputs": [
        {
          "output_type": "execute_result",
          "data": {
            "application/vnd.google.colaboratory.intrinsic+json": {
              "type": "string"
            },
            "text/plain": [
              "'Escribo un texto \\tcon tabulación'"
            ]
          },
          "metadata": {},
          "execution_count": 25
        }
      ]
    },
    {
      "cell_type": "code",
      "source": [
        "#Usamos el print\n",
        "print(texto_tabulado)"
      ],
      "metadata": {
        "colab": {
          "base_uri": "https://localhost:8080/"
        },
        "id": "6ULYuCcJuWvJ",
        "outputId": "08834364-3e88-475d-9d64-7fbdb7cd29ea"
      },
      "execution_count": 26,
      "outputs": [
        {
          "output_type": "stream",
          "name": "stdout",
          "text": [
            "Escribo un texto \tcon tabulación\n"
          ]
        }
      ]
    },
    {
      "cell_type": "code",
      "source": [
        "texto_multilinea = \"Texto con \\ndos líneas\"\n",
        "texto_multilinea"
      ],
      "metadata": {
        "colab": {
          "base_uri": "https://localhost:8080/",
          "height": 35
        },
        "id": "fqP9tWIMu0EC",
        "outputId": "b4f77ff2-ace4-4daa-e8ca-9f4a084bbe09"
      },
      "execution_count": 29,
      "outputs": [
        {
          "output_type": "execute_result",
          "data": {
            "application/vnd.google.colaboratory.intrinsic+json": {
              "type": "string"
            },
            "text/plain": [
              "'Texto con \\ndos líneas'"
            ]
          },
          "metadata": {},
          "execution_count": 29
        }
      ]
    },
    {
      "cell_type": "code",
      "source": [
        "print(texto_multilinea)"
      ],
      "metadata": {
        "colab": {
          "base_uri": "https://localhost:8080/"
        },
        "id": "yPOlbgR_vC_f",
        "outputId": "25ca0a57-634c-4e79-cf51-e8b3d650893d"
      },
      "execution_count": 30,
      "outputs": [
        {
          "output_type": "stream",
          "name": "stdout",
          "text": [
            "Texto con \n",
            "dos líneas\n"
          ]
        }
      ]
    },
    {
      "cell_type": "markdown",
      "source": [
        "Ahora vamos a concatenar cadenas de texto"
      ],
      "metadata": {
        "id": "TVf7fAP8x-Eb"
      }
    },
    {
      "cell_type": "code",
      "source": [
        "texto = 'Te escribo una cadena \\ncon algunas lineas \\nde mas. '\n",
        "print (texto)"
      ],
      "metadata": {
        "colab": {
          "base_uri": "https://localhost:8080/"
        },
        "id": "qg5B_J4zzoAi",
        "outputId": "048d8bcf-cab2-4cbd-fd2a-f0057f0a33e4"
      },
      "execution_count": 51,
      "outputs": [
        {
          "output_type": "stream",
          "name": "stdout",
          "text": [
            "Te escribo una cadena \n",
            "con algunas lineas \n",
            "de mas. \n"
          ]
        }
      ]
    },
    {
      "cell_type": "code",
      "source": [
        "#Así saldrá extraño\n",
        "texto + texto"
      ],
      "metadata": {
        "colab": {
          "base_uri": "https://localhost:8080/",
          "height": 35
        },
        "id": "irQAz8qGzya5",
        "outputId": "c9cf5de1-d3b8-47b0-a281-25c004373e77"
      },
      "execution_count": 52,
      "outputs": [
        {
          "output_type": "execute_result",
          "data": {
            "application/vnd.google.colaboratory.intrinsic+json": {
              "type": "string"
            },
            "text/plain": [
              "'Te escribo una cadena \\ncon algunas lineas \\nde mas. Te escribo una cadena \\ncon algunas lineas \\nde mas. '"
            ]
          },
          "metadata": {},
          "execution_count": 52
        }
      ]
    },
    {
      "cell_type": "code",
      "source": [
        "print(texto + texto)"
      ],
      "metadata": {
        "colab": {
          "base_uri": "https://localhost:8080/"
        },
        "id": "ipBQNl7t2kJ6",
        "outputId": "d2de0d8b-0616-4652-83db-8d8bc87521b0"
      },
      "execution_count": 53,
      "outputs": [
        {
          "output_type": "stream",
          "name": "stdout",
          "text": [
            "Te escribo una cadena \n",
            "con algunas lineas \n",
            "de mas. Te escribo una cadena \n",
            "con algunas lineas \n",
            "de mas. \n"
          ]
        }
      ]
    },
    {
      "cell_type": "markdown",
      "source": [
        "También podemos multiplicar texto"
      ],
      "metadata": {
        "id": "iyWOHlXp274a"
      }
    },
    {
      "cell_type": "code",
      "source": [
        "quiero_19_espacios = \" \" * 19\n",
        "print(quiero_19_espacios + \"Venga y te escribo algo de texto.\")"
      ],
      "metadata": {
        "colab": {
          "base_uri": "https://localhost:8080/"
        },
        "id": "BpuwNNlR3M8e",
        "outputId": "73842b9a-5abc-4eed-de51-d2d4dd79eb6c"
      },
      "execution_count": 55,
      "outputs": [
        {
          "output_type": "stream",
          "name": "stdout",
          "text": [
            "                   Venga y te escribo algo de texto.\n"
          ]
        }
      ]
    },
    {
      "cell_type": "markdown",
      "source": [
        "# 🎵 **We Wish You a Merry Xmas** 🎵"
      ],
      "metadata": {
        "id": "ro2g5CBK3957"
      }
    },
    {
      "cell_type": "code",
      "source": [
        "xmas = \"We wish you a Merry Christmas,\\n\" *3 + \"and a Happy New Year\"\n",
        "print(xmas)"
      ],
      "metadata": {
        "colab": {
          "base_uri": "https://localhost:8080/"
        },
        "id": "cc2n3fUX3e7K",
        "outputId": "425a832d-e051-48cd-9f1b-81419641dcc9"
      },
      "execution_count": 59,
      "outputs": [
        {
          "output_type": "stream",
          "name": "stdout",
          "text": [
            "We wish you a Merry Christmas,\n",
            "We wish you a Merry Christmas,\n",
            "We wish you a Merry Christmas,\n",
            "and a Happy New Year\n"
          ]
        }
      ]
    }
  ]
}
