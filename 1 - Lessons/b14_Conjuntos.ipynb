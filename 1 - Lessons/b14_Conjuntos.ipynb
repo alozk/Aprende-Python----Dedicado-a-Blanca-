{
  "nbformat": 4,
  "nbformat_minor": 0,
  "metadata": {
    "colab": {
      "name": "b14_Conjuntos.ipynb",
      "provenance": []
    },
    "kernelspec": {
      "name": "python3",
      "display_name": "Python 3"
    },
    "language_info": {
      "name": "python"
    }
  },
  "cells": [
    {
      "cell_type": "markdown",
      "source": [
        "# Conjuntos\n",
        "Un conjunto es una colección **no ordenada de objetos únicos**. Python provee este tipo de datos «por defecto» al igual que otras colecciones más convencionales como las listas, tuplas y diccionarios.\n",
        "\n",
        "Se utilizan normalmente para hacer **pruebas de pertenencia en grupos y eliminación de elementos duplicados**. También se pueden utilizar para hacer operaciones matemáticas avanzadas."
      ],
      "metadata": {
        "id": "ochTs4wYY-fM"
      }
    },
    {
      "cell_type": "code",
      "execution_count": 1,
      "metadata": {
        "id": "GEG9S0WlYpos"
      },
      "outputs": [],
      "source": [
        "#Utilizamos 'set' para crear un conjunto\n",
        "conjunto = set()"
      ]
    },
    {
      "cell_type": "code",
      "source": [
        "#Comprobamos que funciona, evidentemente está vacío\n",
        "set()"
      ],
      "metadata": {
        "colab": {
          "base_uri": "https://localhost:8080/"
        },
        "id": "0TX-YY8CZo66",
        "outputId": "9939ae28-78ca-42d1-d2e9-a04cc5b97b7c"
      },
      "execution_count": 2,
      "outputs": [
        {
          "output_type": "execute_result",
          "data": {
            "text/plain": [
              "set()"
            ]
          },
          "metadata": {},
          "execution_count": 2
        }
      ]
    },
    {
      "cell_type": "code",
      "source": [
        "#También podemos hacer uso de las '{}' para crear un 'set'\n",
        "conjunto = {1,2,3}\n",
        "#Comprobamos\n",
        "conjunto"
      ],
      "metadata": {
        "colab": {
          "base_uri": "https://localhost:8080/"
        },
        "id": "QLhD0u09Zv4o",
        "outputId": "876b7717-6f12-4cb3-918d-55b28d39365d"
      },
      "execution_count": 3,
      "outputs": [
        {
          "output_type": "execute_result",
          "data": {
            "text/plain": [
              "{1, 2, 3}"
            ]
          },
          "metadata": {},
          "execution_count": 3
        }
      ]
    },
    {
      "cell_type": "code",
      "source": [
        "#Para añadir se utiliza 'add'\n",
        "conjunto.add(4)\n",
        "#Comprobamos\n",
        "conjunto"
      ],
      "metadata": {
        "colab": {
          "base_uri": "https://localhost:8080/"
        },
        "id": "7-eIEzoPaEXA",
        "outputId": "089c271e-c79e-4e5a-c448-6a7a886abba4"
      },
      "execution_count": 4,
      "outputs": [
        {
          "output_type": "execute_result",
          "data": {
            "text/plain": [
              "{1, 2, 3, 4}"
            ]
          },
          "metadata": {},
          "execution_count": 4
        }
      ]
    },
    {
      "cell_type": "code",
      "source": [
        "#Comprobamos añadiendo un 0 para ver si realmente ordena los números\n",
        "conjunto.add(0)\n",
        "conjunto"
      ],
      "metadata": {
        "colab": {
          "base_uri": "https://localhost:8080/"
        },
        "id": "bYxFuB4WaNI9",
        "outputId": "16f7afc0-911d-4e90-ad11-1e7663a5945f"
      },
      "execution_count": 5,
      "outputs": [
        {
          "output_type": "execute_result",
          "data": {
            "text/plain": [
              "{0, 1, 2, 3, 4}"
            ]
          },
          "metadata": {},
          "execution_count": 5
        }
      ]
    },
    {
      "cell_type": "code",
      "source": [
        "#¿Y si añadimos letras?\n",
        "conjunto.add('H')\n",
        "conjunto"
      ],
      "metadata": {
        "colab": {
          "base_uri": "https://localhost:8080/"
        },
        "id": "dJhMZly0a6Ku",
        "outputId": "1933b5b4-300a-4595-d8ba-1aee3c789005"
      },
      "execution_count": 6,
      "outputs": [
        {
          "output_type": "execute_result",
          "data": {
            "text/plain": [
              "{0, 1, 2, 3, 4, 'H'}"
            ]
          },
          "metadata": {},
          "execution_count": 6
        }
      ]
    },
    {
      "cell_type": "code",
      "source": [
        "#Parece que primero posiciona los números y luego las letras\n",
        "#¿Pero ordena realmente las letras también?\n",
        "conjunto.add('A')"
      ],
      "metadata": {
        "id": "Py1DJ7ctbCOM"
      },
      "execution_count": 7,
      "outputs": []
    },
    {
      "cell_type": "code",
      "source": [
        "conjunto.add('Z')"
      ],
      "metadata": {
        "id": "rpXdCqwLbeVf"
      },
      "execution_count": 8,
      "outputs": []
    },
    {
      "cell_type": "code",
      "source": [
        "conjunto"
      ],
      "metadata": {
        "colab": {
          "base_uri": "https://localhost:8080/"
        },
        "id": "M0uow_VecEg1",
        "outputId": "2b97bb31-9d2b-488f-dea1-bc984ca8e303"
      },
      "execution_count": 9,
      "outputs": [
        {
          "output_type": "execute_result",
          "data": {
            "text/plain": [
              "{0, 1, 2, 3, 4, 'A', 'H', 'Z'}"
            ]
          },
          "metadata": {},
          "execution_count": 9
        }
      ]
    },
    {
      "cell_type": "code",
      "source": [
        "#Creamos un set con nombres de mis colegas\n",
        "colegas = {'Héctor', 'Luis', 'Blanca','Fran', 'Pablo'}"
      ],
      "metadata": {
        "id": "7TvUrBjQeCME"
      },
      "execution_count": 18,
      "outputs": []
    },
    {
      "cell_type": "code",
      "source": [
        "#Comprobamos si Blanca es mi colega o no\n",
        "'Blanca' in colegas"
      ],
      "metadata": {
        "colab": {
          "base_uri": "https://localhost:8080/"
        },
        "id": "APd5l1fmeNMg",
        "outputId": "68f51a76-c5a9-483e-ea2c-5c5eddd6d6db"
      },
      "execution_count": 19,
      "outputs": [
        {
          "output_type": "execute_result",
          "data": {
            "text/plain": [
              "True"
            ]
          },
          "metadata": {},
          "execution_count": 19
        }
      ]
    },
    {
      "cell_type": "code",
      "source": [
        "#¿Y Pepe?\n",
        "'Pepe' in colegas"
      ],
      "metadata": {
        "colab": {
          "base_uri": "https://localhost:8080/"
        },
        "id": "s6ISXIEleTzC",
        "outputId": "514dfb51-38db-4f08-eec9-a9acbf744a69"
      },
      "execution_count": 20,
      "outputs": [
        {
          "output_type": "execute_result",
          "data": {
            "text/plain": [
              "False"
            ]
          },
          "metadata": {},
          "execution_count": 20
        }
      ]
    },
    {
      "cell_type": "code",
      "source": [
        "#Podemos comprobar si alguien no está en mi grupo de colegas\n",
        "'Luis' not in colegas"
      ],
      "metadata": {
        "colab": {
          "base_uri": "https://localhost:8080/"
        },
        "id": "sDfaK8vwewMh",
        "outputId": "731d5697-e6d4-4203-a52f-4bce5560b2bc"
      },
      "execution_count": 21,
      "outputs": [
        {
          "output_type": "execute_result",
          "data": {
            "text/plain": [
              "False"
            ]
          },
          "metadata": {},
          "execution_count": 21
        }
      ]
    },
    {
      "cell_type": "markdown",
      "source": [
        "Continuamos...\n",
        "\n",
        "Normalmente las letras no suele ordenarlas, en mi caso si ha ocurrido (Ejemplo de las ejecuciones del [6] al [9]). Hago mención a la función de ordenar alfabéticamente por si pudieras o pudiéramos necesitarlo más adelante. Dicha función es **'sorted'** o **'sort'** y **'reverse'** o **'reversed'** si queremos invertir el orden.\n",
        "\n",
        "Los **sets no dejará invertirlos**, sólo ordenarlos (TypeError: 'set' object is not reversible), ya sea con números o con letras (no de forma conjunta)."
      ],
      "metadata": {
        "id": "le0T94SJccds"
      }
    },
    {
      "cell_type": "code",
      "source": [
        "conjunto2 = {2,1,5,3,7,1,9}\n",
        "sorted(conjunto2)"
      ],
      "metadata": {
        "colab": {
          "base_uri": "https://localhost:8080/"
        },
        "id": "e3oryv0tgVQr",
        "outputId": "0295699c-4f21-464f-a40b-53c18b4ffe9d"
      },
      "execution_count": 10,
      "outputs": [
        {
          "output_type": "execute_result",
          "data": {
            "text/plain": [
              "[1, 2, 3, 5, 7, 9]"
            ]
          },
          "metadata": {},
          "execution_count": 10
        }
      ]
    },
    {
      "cell_type": "code",
      "source": [
        "conjunto3 = {'R','Y','D'}\n",
        "sorted(conjunto3)"
      ],
      "metadata": {
        "colab": {
          "base_uri": "https://localhost:8080/"
        },
        "id": "NQip8De-krXG",
        "outputId": "fcd71e3d-f354-4d03-9c4f-3d53103b540c"
      },
      "execution_count": 11,
      "outputs": [
        {
          "output_type": "execute_result",
          "data": {
            "text/plain": [
              "['D', 'R', 'Y']"
            ]
          },
          "metadata": {},
          "execution_count": 11
        }
      ]
    },
    {
      "cell_type": "markdown",
      "source": [
        "Ahora vamos a comprobar como un 'set' elimina las duplicaciones de datos. A diferencia de las listas, que no lo elimina.\n",
        "\n",
        "Así que, mejor veamos un ejemplo de manera conjunta con ambos casos."
      ],
      "metadata": {
        "id": "GKy2b8lpfsWY"
      }
    },
    {
      "cell_type": "code",
      "source": [
        "#Creamos una lista básica con números, algunos de ellos repetidos\n",
        "lista = [1,3,5,6,3,5]"
      ],
      "metadata": {
        "id": "U4mw9B8cf-tx"
      },
      "execution_count": 22,
      "outputs": []
    },
    {
      "cell_type": "code",
      "source": [
        "#Comprobamos si devuelve números duplicados\n",
        "lista"
      ],
      "metadata": {
        "colab": {
          "base_uri": "https://localhost:8080/"
        },
        "id": "nt7GNU4AgQVh",
        "outputId": "8c47b9c3-30ea-4230-d61c-ee1913974f95"
      },
      "execution_count": 23,
      "outputs": [
        {
          "output_type": "execute_result",
          "data": {
            "text/plain": [
              "[1, 3, 5, 6, 3, 5]"
            ]
          },
          "metadata": {},
          "execution_count": 23
        }
      ]
    },
    {
      "cell_type": "code",
      "source": [
        "#Vemos que si y decidimos pasar el contenido de la lista a un 'set'\n",
        "mi_set = set(lista)"
      ],
      "metadata": {
        "id": "R93xOJDVgWt9"
      },
      "execution_count": 24,
      "outputs": []
    },
    {
      "cell_type": "code",
      "source": [
        ""
      ],
      "metadata": {
        "id": "tBXfzpt7hDd2"
      },
      "execution_count": null,
      "outputs": []
    },
    {
      "cell_type": "code",
      "source": [
        "#Comprobamos que datos expone estando la lista de mis números en un 'set'\n",
        "mi_set"
      ],
      "metadata": {
        "colab": {
          "base_uri": "https://localhost:8080/"
        },
        "id": "TQJZAG9KglRN",
        "outputId": "14b641f3-d839-4e8d-979e-5c2744323e14"
      },
      "execution_count": 25,
      "outputs": [
        {
          "output_type": "execute_result",
          "data": {
            "text/plain": [
              "{1, 3, 5, 6}"
            ]
          },
          "metadata": {},
          "execution_count": 25
        }
      ]
    },
    {
      "cell_type": "markdown",
      "source": [
        "Como podemos observar, cuando se trata de un set, no hay valores que se repitan, el set se encarga de que eso ocurra. Es por tanto la función a usar en caso de que no queramos valores repetidos.\n",
        "\n",
        "Vamos a comprobarlo con nombres también."
      ],
      "metadata": {
        "id": "KtjMQzDUgwXl"
      }
    },
    {
      "cell_type": "code",
      "source": [
        "mi_set2 = {'Paco','Juan','Miguel', 'Pedro','Juan','Pedro'}"
      ],
      "metadata": {
        "id": "MLb-iCQFhEgR"
      },
      "execution_count": 26,
      "outputs": []
    },
    {
      "cell_type": "code",
      "source": [
        "mi_set2"
      ],
      "metadata": {
        "colab": {
          "base_uri": "https://localhost:8080/"
        },
        "id": "vWmJZDZ8hRvy",
        "outputId": "f69386e4-070d-4aa2-d53d-b006eeb23cab"
      },
      "execution_count": 27,
      "outputs": [
        {
          "output_type": "execute_result",
          "data": {
            "text/plain": [
              "{'Juan', 'Miguel', 'Paco', 'Pedro'}"
            ]
          },
          "metadata": {},
          "execution_count": 27
        }
      ]
    },
    {
      "cell_type": "code",
      "source": [
        "#Si quisiéramos que en una línea de código, quitar los valores repetidos de una lista...\n",
        "#Podemos una lista convertirla en 'set' y devolverla como lista a la vez\n",
        "lista = [1,3,5,6,3,5]"
      ],
      "metadata": {
        "id": "PMFNOnb3hqfY"
      },
      "execution_count": 28,
      "outputs": []
    },
    {
      "cell_type": "code",
      "source": [
        "#Hagamos la conversión\n",
        "lista = list( set(lista))"
      ],
      "metadata": {
        "id": "zgOLIrt7iGwS"
      },
      "execution_count": 29,
      "outputs": []
    },
    {
      "cell_type": "code",
      "source": [
        "#Veamos que contenido devuelve mi lista\n",
        "lista"
      ],
      "metadata": {
        "colab": {
          "base_uri": "https://localhost:8080/"
        },
        "id": "5dx4ak7oiQ34",
        "outputId": "0e159820-2d3d-4076-e1a4-d73a6679dd81"
      },
      "execution_count": 30,
      "outputs": [
        {
          "output_type": "execute_result",
          "data": {
            "text/plain": [
              "[1, 3, 5, 6]"
            ]
          },
          "metadata": {},
          "execution_count": 30
        }
      ]
    },
    {
      "cell_type": "code",
      "source": [
        "#Veamos también hacer un 'set' a una palabra\n",
        "musculo = 'esternocleidomastoideo'\n",
        "set(musculo)"
      ],
      "metadata": {
        "colab": {
          "base_uri": "https://localhost:8080/"
        },
        "id": "netTvjYfikEE",
        "outputId": "896bec3c-d4b2-4552-cccd-5952f8a35469"
      },
      "execution_count": 31,
      "outputs": [
        {
          "output_type": "execute_result",
          "data": {
            "text/plain": [
              "{'a', 'c', 'd', 'e', 'i', 'l', 'm', 'n', 'o', 'r', 's', 't'}"
            ]
          },
          "metadata": {},
          "execution_count": 31
        }
      ]
    },
    {
      "cell_type": "markdown",
      "source": [
        "Con este último ejemplo hemos comprobado que podemos realizar una extracción de las diferentes letras que contiene una palabra de una forma muy simple usando el 'set'."
      ],
      "metadata": {
        "id": "QwSY7ic_jBMF"
      }
    }
  ]
}