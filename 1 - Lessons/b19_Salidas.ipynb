{
  "nbformat": 4,
  "nbformat_minor": 0,
  "metadata": {
    "colab": {
      "name": "b19_Salidas.ipynb",
      "provenance": []
    },
    "kernelspec": {
      "name": "python3",
      "display_name": "Python 3"
    },
    "language_info": {
      "name": "python"
    }
  },
  "cells": [
    {
      "cell_type": "markdown",
      "source": [
        "# SALIDAS\n",
        "\n",
        "A continuación la forma en la que hemos aprendido o estamos acostumbrados a concatenar textos con variables"
      ],
      "metadata": {
        "id": "3qWWtGpUdAbY"
      }
    },
    {
      "cell_type": "code",
      "execution_count": 12,
      "metadata": {
        "colab": {
          "base_uri": "https://localhost:8080/"
        },
        "id": "uHRyetw2SPKd",
        "outputId": "831f1f9e-ca4c-4d2c-f871-10200fc9bfd1"
      },
      "outputs": [
        {
          "output_type": "stream",
          "name": "stdout",
          "text": [
            "Una cadena de texto palabra y el valor de la n es: 3\n"
          ]
        }
      ],
      "source": [
        "t = 'palabra'\n",
        "n = 3\n",
        "print(\"Una cadena de texto\",t,'y el valor de la n es:',n)"
      ]
    },
    {
      "cell_type": "markdown",
      "source": [
        "Sin embargo hay mejores formas y mas simples de hacerlo, donde pongamos las \"{}\" aparecerán los valores que queramos."
      ],
      "metadata": {
        "id": "CMmde57QdOWG"
      }
    },
    {
      "cell_type": "code",
      "source": [
        "c = \"Una cadena de texto '{}' y el valor de la n es '{}'\".format(t,n)\n",
        "c"
      ],
      "metadata": {
        "colab": {
          "base_uri": "https://localhost:8080/",
          "height": 35
        },
        "id": "_uOifkSpcwvh",
        "outputId": "01c05f11-2050-4bbe-9273-c23550426872"
      },
      "execution_count": 13,
      "outputs": [
        {
          "output_type": "execute_result",
          "data": {
            "application/vnd.google.colaboratory.intrinsic+json": {
              "type": "string"
            },
            "text/plain": [
              "\"Una cadena de texto 'palabra' y el valor de la n es '3'\""
            ]
          },
          "metadata": {},
          "execution_count": 13
        }
      ]
    },
    {
      "cell_type": "code",
      "source": [
        "#Esta es la forma original en la que trabajaría el código\n",
        "print(\"Una cadena de texto {0} y el valor de la n es {1}\".format(t,n))"
      ],
      "metadata": {
        "colab": {
          "base_uri": "https://localhost:8080/"
        },
        "id": "3jxK8qyQdhTS",
        "outputId": "cb991bae-b999-473a-c317-8bc3ad18f13f"
      },
      "execution_count": 14,
      "outputs": [
        {
          "output_type": "stream",
          "name": "stdout",
          "text": [
            "Una cadena de texto palabra y el valor de la n es 3\n"
          ]
        }
      ]
    },
    {
      "cell_type": "code",
      "source": [
        "#Sin embargo podemos cambiarlo\n",
        "print(\"Una cadena de texto '{1}' y el valor de la n es '{0}'\".format(t,n))"
      ],
      "metadata": {
        "colab": {
          "base_uri": "https://localhost:8080/"
        },
        "id": "8KYsO7mEd8sD",
        "outputId": "c28e5f0b-c1a9-4803-bdb5-159c697c0e76"
      },
      "execution_count": 15,
      "outputs": [
        {
          "output_type": "stream",
          "name": "stdout",
          "text": [
            "Una cadena de texto '3' y el valor de la n es 'palabra'\n"
          ]
        }
      ]
    },
    {
      "cell_type": "code",
      "source": [
        "#Sin embargo podemos cambiarlo\n",
        "print(\"Una cadena de texto '{t}' y el valor de la n es '{n}'\".format(n=n,t=t))"
      ],
      "metadata": {
        "colab": {
          "base_uri": "https://localhost:8080/"
        },
        "id": "kkkoFDRdem0E",
        "outputId": "d4f81abf-e13f-47c8-f48a-a94ea8f40914"
      },
      "execution_count": 16,
      "outputs": [
        {
          "output_type": "stream",
          "name": "stdout",
          "text": [
            "Una cadena de texto 'palabra' y el valor de la n es '3'\n"
          ]
        }
      ]
    },
    {
      "cell_type": "code",
      "source": [
        "#De manera que también podemos hacer lo siguiente\n",
        "print(\"{t},{t}\".format(t=t))"
      ],
      "metadata": {
        "colab": {
          "base_uri": "https://localhost:8080/"
        },
        "id": "kitXBTamiV6s",
        "outputId": "d140446c-ee88-4e62-b429-e19e8482393c"
      },
      "execution_count": 17,
      "outputs": [
        {
          "output_type": "stream",
          "name": "stdout",
          "text": [
            "palabra,palabra\n"
          ]
        }
      ]
    },
    {
      "cell_type": "code",
      "source": [
        "#También podemos usar el 'format' para mover el texto(en un rango de 40 caracteres)\n",
        "print(\"{:>40}\".format(\"palabra\"))"
      ],
      "metadata": {
        "colab": {
          "base_uri": "https://localhost:8080/"
        },
        "id": "KYQ1Vzdbi6lc",
        "outputId": "1f72381f-1085-4335-ab33-772ffe880fc3"
      },
      "execution_count": 18,
      "outputs": [
        {
          "output_type": "stream",
          "name": "stdout",
          "text": [
            "                                 palabra\n"
          ]
        }
      ]
    },
    {
      "cell_type": "code",
      "source": [
        "#También centrarlo (en rango de 40 caracteres como ejemplo otra vez)\n",
        "print(\"{:^40}\".format(\"palabra\"))"
      ],
      "metadata": {
        "colab": {
          "base_uri": "https://localhost:8080/"
        },
        "id": "KclGpJb-mvZ_",
        "outputId": "f27bd7e9-6e5c-4da3-caa3-c86395edfaf4"
      },
      "execution_count": 19,
      "outputs": [
        {
          "output_type": "stream",
          "name": "stdout",
          "text": [
            "                palabra                 \n"
          ]
        }
      ]
    },
    {
      "cell_type": "markdown",
      "source": [
        "Cuando digo que es en un rango de 40 caracteres no hay más que comprobarlo intentando seleccionar la palabra y verás como hay espacios vacíos de caracteres. En el primer ejemplo se encuentran a la izquierda esos espacios y en el segundo ejemplo a izquierda y derecha (por eso digo que está centrado en un rango de 40 caracteres)."
      ],
      "metadata": {
        "id": "qAXmCbuFoFf7"
      }
    },
    {
      "cell_type": "code",
      "source": [
        "#Podemos hacer truncamientos y mostrar unos caracteres específicos de un texto\n",
        "print(\"{:.3}\".format(\"palabra\"))"
      ],
      "metadata": {
        "colab": {
          "base_uri": "https://localhost:8080/"
        },
        "id": "bxIaqf3qvT9k",
        "outputId": "00373476-90fd-4a06-e223-9bd7f34271b1"
      },
      "execution_count": 20,
      "outputs": [
        {
          "output_type": "stream",
          "name": "stdout",
          "text": [
            "pal\n"
          ]
        }
      ]
    },
    {
      "cell_type": "code",
      "source": [
        "#Y hacer las dos cosas a la vez\n",
        "print(\"{:>40.2}\".format(\"palabra\"))"
      ],
      "metadata": {
        "colab": {
          "base_uri": "https://localhost:8080/"
        },
        "id": "J5WUARekvjEy",
        "outputId": "9c9106ea-35a7-4545-fee5-f0612d145027"
      },
      "execution_count": 21,
      "outputs": [
        {
          "output_type": "stream",
          "name": "stdout",
          "text": [
            "                                      pa\n"
          ]
        }
      ]
    },
    {
      "cell_type": "code",
      "source": [
        "#Utilizamos lo aprendido para alinear números\n",
        "#La 'd' utilizada se refiere a dígitos(si usamos la 'd' después de un '.' entonces decimales)\n",
        "print(\"{:4d}\".format(10))\n",
        "print(\"{:4d}\".format(100))\n",
        "print(\"{:4d}\".format(1000))"
      ],
      "metadata": {
        "colab": {
          "base_uri": "https://localhost:8080/"
        },
        "id": "odva9xQJO1aN",
        "outputId": "2ea3e26c-f889-449e-a3e3-fd927b52be49"
      },
      "execution_count": 22,
      "outputs": [
        {
          "output_type": "stream",
          "name": "stdout",
          "text": [
            "  10\n",
            " 100\n",
            "1000\n"
          ]
        }
      ]
    }
  ]
}