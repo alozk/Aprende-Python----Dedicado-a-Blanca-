{
  "nbformat": 4,
  "nbformat_minor": 0,
  "metadata": {
    "colab": {
      "name": "b25_Argumentos_indeterminados.ipynb",
      "provenance": []
    },
    "kernelspec": {
      "name": "python3",
      "display_name": "Python 3"
    },
    "language_info": {
      "name": "python"
    }
  },
  "cells": [
    {
      "cell_type": "markdown",
      "source": [
        "Recordamos que tenemos dos formas de enviar datos, por posición y por nombre.\n",
        "\n",
        "Python implementa dos formas distintas de gestionar los valores indeterminados.\n",
        "\n",
        "Para manejar por ejemplo los argumentos por posición, lo que debemos hacer es indicar un parámetro iterable de la siguiente forma:"
      ],
      "metadata": {
        "id": "HdR0FiVNwMjM"
      }
    },
    {
      "cell_type": "code",
      "execution_count": 6,
      "metadata": {
        "colab": {
          "base_uri": "https://localhost:8080/"
        },
        "id": "hqlXlWIwwDnR",
        "outputId": "b2124ccc-3335-4734-b63f-7ec49f9cc343"
      },
      "outputs": [
        {
          "output_type": "stream",
          "name": "stdout",
          "text": [
            "(5, 'Hola', [1, 2, 3, 4])\n"
          ]
        }
      ],
      "source": [
        "def indeter_posicion(*args): #args de argumentos\n",
        "  print(args)\n",
        "\n",
        "indeter_posicion(5,\"Hola\",[1,2,3,4])"
      ]
    },
    {
      "cell_type": "markdown",
      "source": [
        "Con el 'for' también podemos:"
      ],
      "metadata": {
        "id": "2D-I2nVG05SB"
      }
    },
    {
      "cell_type": "code",
      "source": [
        "def indeter_posicion(*args): #args de argumentos\n",
        "  for arg in args:\n",
        "    print(arg)\n",
        "\n",
        "indeter_posicion(5,\"Hola\",[1,2,3,4])"
      ],
      "metadata": {
        "colab": {
          "base_uri": "https://localhost:8080/"
        },
        "id": "l4TVFf9K08p4",
        "outputId": "93c5ac4d-de41-4425-de8d-fb8609c033eb"
      },
      "execution_count": 7,
      "outputs": [
        {
          "output_type": "stream",
          "name": "stdout",
          "text": [
            "5\n",
            "Hola\n",
            "[1, 2, 3, 4]\n"
          ]
        }
      ]
    },
    {
      "cell_type": "markdown",
      "source": [
        "Ahora por nombre:"
      ],
      "metadata": {
        "id": "qkWDkbE62Yla"
      }
    },
    {
      "cell_type": "code",
      "source": [
        "def indeter_nombre(**kwargs): #key word args\n",
        "  print(kwargs)\n",
        "indeter_nombre(a=3,b=\"Adios\",c=[1,2,3]) #Y tendriamos un diccionario"
      ],
      "metadata": {
        "colab": {
          "base_uri": "https://localhost:8080/"
        },
        "id": "ieTNovVP1-pr",
        "outputId": "04838e49-8c55-4d52-97c9-df4f4e8b5b5f"
      },
      "execution_count": 8,
      "outputs": [
        {
          "output_type": "stream",
          "name": "stdout",
          "text": [
            "{'a': 3, 'b': 'Adios', 'c': [1, 2, 3]}\n"
          ]
        }
      ]
    },
    {
      "cell_type": "code",
      "source": [
        "def indeter_nombre(**kwargs): #key word args\n",
        "  for kwarg in kwargs:\n",
        "    print(kwarg)\n",
        "indeter_nombre(a=3,b=\"Adios\",c=[1,2,3]) #Y tendriamos un diccionario"
      ],
      "metadata": {
        "colab": {
          "base_uri": "https://localhost:8080/"
        },
        "id": "jhPN3V-n2ekH",
        "outputId": "e495462a-a75d-41d6-fc06-724992c0f260"
      },
      "execution_count": 9,
      "outputs": [
        {
          "output_type": "stream",
          "name": "stdout",
          "text": [
            "a\n",
            "b\n",
            "c\n"
          ]
        }
      ]
    },
    {
      "cell_type": "code",
      "source": [
        "def indeter_nombre(**kwargs): #key word args\n",
        "  for kwarg in kwargs:\n",
        "    print(kwarg,\" \",kwargs[kwarg])\n",
        "indeter_nombre(a=3,b=\"Adios\",c=[1,2,3]) #Y tendriamos un diccionario"
      ],
      "metadata": {
        "colab": {
          "base_uri": "https://localhost:8080/"
        },
        "id": "v9hadCMP2tpz",
        "outputId": "d5c4efa0-bddf-42ad-9c59-c85d4ca7c4fa"
      },
      "execution_count": 11,
      "outputs": [
        {
          "output_type": "stream",
          "name": "stdout",
          "text": [
            "a   3\n",
            "b   Adios\n",
            "c   [1, 2, 3]\n"
          ]
        }
      ]
    },
    {
      "cell_type": "code",
      "source": [
        "def super_funcion(*args,**kwargs):\n",
        "  t = 0\n",
        "  for arg in args:\n",
        "    t+=arg\n",
        "  print(\"Sumatorio indeterminado es\", t)\n",
        "  for kwarg in kwargs:\n",
        "    print(kwarg,\" \",kwargs[kwarg])\n",
        "  \n",
        "  \n",
        "super_funcion(2,5,-7,3.14,nombre=\"Alvaro\", edad=24)\n"
      ],
      "metadata": {
        "colab": {
          "base_uri": "https://localhost:8080/"
        },
        "id": "kFgaT6sN3FCo",
        "outputId": "3c8be7c2-e5bd-4d1a-ebc9-a1973547c7f8"
      },
      "execution_count": 12,
      "outputs": [
        {
          "output_type": "stream",
          "name": "stdout",
          "text": [
            "Sumatorio indeterminado es 3.14\n",
            "nombre   Alvaro\n",
            "edad   24\n"
          ]
        }
      ]
    }
  ]
}