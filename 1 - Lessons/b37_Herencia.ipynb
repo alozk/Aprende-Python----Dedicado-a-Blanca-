{
  "nbformat": 4,
  "nbformat_minor": 0,
  "metadata": {
    "colab": {
      "name": "b37_Herencia.ipynb",
      "provenance": []
    },
    "kernelspec": {
      "name": "python3",
      "display_name": "Python 3"
    },
    "language_info": {
      "name": "python"
    }
  },
  "cells": [
    {
      "cell_type": "markdown",
      "source": [
        "# Herencia\n",
        "\n",
        "¿Qué es?\n",
        "\n",
        "Es la capacidad de una clase de heredar atributos y métodos de otra, además de agregar de nuevos o modificar los heredados. De ahí la existencia de clases 'madres' (superclases) y clases 'hijas' (subclases)."
      ],
      "metadata": {
        "id": "6ZRT4B-a6sDZ"
      }
    },
    {
      "cell_type": "markdown",
      "source": [
        "Imaginemos una tienda donde los productos que venden son:\n",
        "\n",
        "*   Adornos\n",
        "*   Alimentos\n",
        "*   Libros\n",
        "\n",
        "\n",
        "Cuyas características son:\n",
        "Nombre, Precio y Descripción\n",
        "\n",
        "*   Nombre\n",
        "*   Precio\n",
        "*   Descripción\n",
        "\n",
        "También añadir en los alimentos:\n",
        "\n",
        "*   Productor\n",
        "*   Distribuidor\n",
        "\n",
        "Y en los libros: un código ISBN y Autor.\n",
        "\n",
        "\n",
        "*   código ISBN\n",
        "*   Autor\n",
        "\n",
        "\n"
      ],
      "metadata": {
        "id": "nS2LZ08m7tZd"
      }
    },
    {
      "cell_type": "code",
      "execution_count": 1,
      "metadata": {
        "id": "Wz6FTf0o6fCu"
      },
      "outputs": [],
      "source": [
        "class Producto:\n",
        "  def __init__(self,referencia,tipo,nombre,pvp,descripcion,productor=None,distribuidor=None,isbn=None,autor=None):\n",
        "    #Los que llevan None son los que no son características que posean todos los tipos de producto\n",
        "    self.referencia = referencia\n",
        "    self.tipo = tipo\n",
        "    self.nombre = nombre\n",
        "    self.pvp = pvp\n",
        "    self.descripcion = descripcion\n",
        "    self.productor = productor\n",
        "    self.distribuidor = distribuidor\n",
        "    self.isbn = isbn\n",
        "    self.autor = autor\n",
        "\n",
        "adorno = Producto('000A','ADORNO','Vela',15,'Vela aromática naranja')"
      ]
    },
    {
      "cell_type": "code",
      "source": [
        "adorno"
      ],
      "metadata": {
        "colab": {
          "base_uri": "https://localhost:8080/"
        },
        "id": "S6eAIWhqAB0z",
        "outputId": "a0930353-bbb3-461b-fe51-7dc02233b7f7"
      },
      "execution_count": 2,
      "outputs": [
        {
          "output_type": "execute_result",
          "data": {
            "text/plain": [
              "<__main__.Producto at 0x7ff5b2619b90>"
            ]
          },
          "metadata": {},
          "execution_count": 2
        }
      ]
    },
    {
      "cell_type": "code",
      "source": [
        "adorno.tipo"
      ],
      "metadata": {
        "colab": {
          "base_uri": "https://localhost:8080/",
          "height": 35
        },
        "id": "4sY_8hK6AHL6",
        "outputId": "9314e035-03e0-4d9f-f319-e2a6aa8f257c"
      },
      "execution_count": 3,
      "outputs": [
        {
          "output_type": "execute_result",
          "data": {
            "application/vnd.google.colaboratory.intrinsic+json": {
              "type": "string"
            },
            "text/plain": [
              "'ADORNO'"
            ]
          },
          "metadata": {},
          "execution_count": 3
        }
      ]
    },
    {
      "cell_type": "code",
      "source": [
        "adorno.descripcion"
      ],
      "metadata": {
        "colab": {
          "base_uri": "https://localhost:8080/",
          "height": 35
        },
        "id": "dVc09acMAPdz",
        "outputId": "214ed75d-1be3-4e0d-ba71-c8b522c51a53"
      },
      "execution_count": 4,
      "outputs": [
        {
          "output_type": "execute_result",
          "data": {
            "application/vnd.google.colaboratory.intrinsic+json": {
              "type": "string"
            },
            "text/plain": [
              "'Vela aromática naranja'"
            ]
          },
          "metadata": {},
          "execution_count": 4
        }
      ]
    },
    {
      "cell_type": "markdown",
      "source": [
        "¿Has podido identificar cuales son las superclases y cuales son las subclases?\n",
        "\n",
        "Superclase es Producto.\n",
        "\n",
        "Subclases serían: Adorno, Alimento y Libro.\n",
        "\n",
        "Y luego estaráin los atributos comunes y específicos de cada uno.\n",
        "\n",
        "Ahora que sabemos las subclases y atributos, podemos comenzar a implementar el orden hereditario, comenzamos con la superclase:"
      ],
      "metadata": {
        "id": "UXnXSf5zAkl5"
      }
    },
    {
      "cell_type": "code",
      "source": [
        "class Producto:\n",
        "  def __init__(self,referencia,nombre,pvp,descripcion):\n",
        "    self.referencia = referencia\n",
        "    self.nombre = nombre\n",
        "    self.pvp = pvp\n",
        "    self.descripcion = descripcion\n",
        "\n",
        "  def __str__(self):\n",
        "    return \"\"\"\\\n",
        "REFERENCIA:\\t{}\n",
        "NOMBRE:\\t\\t{}\n",
        "PVP:\\t\\t{}\n",
        "DESCRIPCIÓN:\\t{}\"\"\".format(self.referencia,self.nombre,self.pvp,self.descripcion)\n",
        "#La '\\t' es para poner tabulaciones, he puesto hasta que quedase bien el print de abajo\n",
        "\n",
        "class Adorno(Producto): #Para indicarle que es hija de producto ponemos '(Producto)'\n",
        "  pass\n",
        "\n",
        "a = Adorno(2034,\"Vela\",15,\"Vela arómatica naranja\")\n",
        "print(a)\n"
      ],
      "metadata": {
        "colab": {
          "base_uri": "https://localhost:8080/"
        },
        "id": "wlyAuRhhBZX9",
        "outputId": "19a7247f-69b6-4ae0-9278-13eea9b6e884"
      },
      "execution_count": 11,
      "outputs": [
        {
          "output_type": "stream",
          "name": "stdout",
          "text": [
            "REFERENCIA:\t2034\n",
            "NOMBRE:\t\tVela\n",
            "PVP:\t\t15\n",
            "DESCRIPCIÓN:\tVela arómatica naranja\n"
          ]
        }
      ]
    },
    {
      "cell_type": "markdown",
      "source": [
        "Ya tenemos nuestro primer Adorno, ahora vamos a por el primer Alimento.\n",
        "\n",
        "Vamos a utilizar asignación externa para los atributos propios únicos en Alimento."
      ],
      "metadata": {
        "id": "bUjphls0J14l"
      }
    },
    {
      "cell_type": "code",
      "source": [
        "class Alimento(Producto):\n",
        "  productor = \"\"\n",
        "  distribuidor = \"\"\n",
        "  \n",
        "  def __str__(self):  #Sobreescribimos el 'str' para añadir los atributos únicos de Alimento\n",
        "    return \"\"\"\\\n",
        "REFERENCIA:\\t{}\n",
        "NOMBRE:\\t\\t{}\n",
        "PVP:\\t\\t{}\n",
        "DESCRIPCIÓN:\\t{}\n",
        "PRODUCTOR:\\t{}\n",
        "DISTRIBUIDOR:\\t{}\"\"\".format(self.referencia,self.nombre,self.pvp,self.descripcion,self.productor,self.distribuidor)\n",
        "\n",
        "\n",
        "al = Alimento(2035,\"Botella de Aceite de Oliva\",7,\"250 ML\")\n",
        "al.productor = \"L'oli d'Antella\"\n",
        "al.distribuidor = \"Paco Porras SL\"\n",
        "\n",
        "print(al)"
      ],
      "metadata": {
        "colab": {
          "base_uri": "https://localhost:8080/"
        },
        "id": "4paBQQCdKKHX",
        "outputId": "5342f9e0-9c5f-4b9a-af06-b5f724baebcf"
      },
      "execution_count": 15,
      "outputs": [
        {
          "output_type": "stream",
          "name": "stdout",
          "text": [
            "REFERENCIA:\t2035\n",
            "NOMBRE:\t\tBotella de Aceite de Oliva\n",
            "PVP:\t\t7\n",
            "DESCRIPCIÓN:\t250 ML\n",
            "PRODUCTOR:\tL'oli d'Antella\n",
            "DISTRIBUIDOR:\tPaco Porras SL\n"
          ]
        }
      ]
    },
    {
      "cell_type": "markdown",
      "source": [
        "Y nos quedaría el Libro:"
      ],
      "metadata": {
        "id": "fI8m0Qd0WP1G"
      }
    },
    {
      "cell_type": "code",
      "source": [
        "class Libro(Producto):\n",
        "  autor = \"\"\n",
        "  isbn = \"\"\n",
        "  \n",
        "  def __str__(self):  #Sobreescribimos el 'str' para añadir los atributos únicos de Alimento\n",
        "    return \"\"\"\\\n",
        "REFERENCIA:\\t{}\n",
        "NOMBRE:\\t\\t{}\n",
        "PVP:\\t\\t{}\n",
        "DESCRIPCIÓN:\\t{}\n",
        "ISBN:\\t\\t{}\n",
        "AUTOR:\\t\\t{}\"\"\".format(self.referencia,self.nombre,self.pvp,self.descripcion,self.isbn,self.autor)\n",
        "\n",
        "li = Libro(2036,\"Cuentos infantiles\",1.85,\"El lobo feroz\")\n",
        "li.isbn = \"0-123456-78-9\"\n",
        "li.autor = \"Manulife\"\n",
        "\n",
        "print(li)"
      ],
      "metadata": {
        "colab": {
          "base_uri": "https://localhost:8080/"
        },
        "id": "RvWVnOHlWSxs",
        "outputId": "c7ee7b2a-9c31-4d46-c0fe-8d683ac23a13"
      },
      "execution_count": 17,
      "outputs": [
        {
          "output_type": "stream",
          "name": "stdout",
          "text": [
            "REFERENCIA:\t2036\n",
            "NOMBRE:\t\tCuentos infantiles\n",
            "PVP:\t\t1.85\n",
            "DESCRIPCIÓN:\tEl lobo feroz\n",
            "ISBN:\t\t0-123456-78-9\n",
            "AUTOR:\t\tManulife\n"
          ]
        }
      ]
    }
  ]
}