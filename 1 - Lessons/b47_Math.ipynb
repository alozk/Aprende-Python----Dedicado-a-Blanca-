{
  "nbformat": 4,
  "nbformat_minor": 0,
  "metadata": {
    "colab": {
      "name": "b47_Math.ipynb",
      "provenance": []
    },
    "kernelspec": {
      "name": "python3",
      "display_name": "Python 3"
    },
    "language_info": {
      "name": "python"
    }
  },
  "cells": [
    {
      "cell_type": "code",
      "execution_count": 2,
      "metadata": {
        "id": "9XPLAFDVqIu7"
      },
      "outputs": [],
      "source": [
        "import math"
      ]
    },
    {
      "cell_type": "markdown",
      "source": [
        "# Redondear"
      ],
      "metadata": {
        "id": "kgxSbjSZuLph"
      }
    },
    {
      "cell_type": "code",
      "source": [
        "#Empecemos con los redondeos\n",
        "pi = 3.14159"
      ],
      "metadata": {
        "id": "YSdiiFUIrtRt"
      },
      "execution_count": 3,
      "outputs": []
    },
    {
      "cell_type": "code",
      "source": [
        "round(pi) #redondearía así a la baja"
      ],
      "metadata": {
        "colab": {
          "base_uri": "https://localhost:8080/"
        },
        "id": "aAk8APwUrytL",
        "outputId": "e0ad8eef-e86c-4253-bdfb-959ff4a37634"
      },
      "execution_count": 6,
      "outputs": [
        {
          "output_type": "execute_result",
          "data": {
            "text/plain": [
              "3"
            ]
          },
          "metadata": {},
          "execution_count": 6
        }
      ]
    },
    {
      "cell_type": "code",
      "source": [
        "round(3.5)  #redondearía así a la alta"
      ],
      "metadata": {
        "colab": {
          "base_uri": "https://localhost:8080/"
        },
        "id": "pkCc4XwXr7HH",
        "outputId": "01b06002-c79c-4598-f156-501e476cf22d"
      },
      "execution_count": 7,
      "outputs": [
        {
          "output_type": "execute_result",
          "data": {
            "text/plain": [
              "4"
            ]
          },
          "metadata": {},
          "execution_count": 7
        }
      ]
    },
    {
      "cell_type": "code",
      "source": [
        "#Con math podemos elegir. Con 'floor' siempre redonde a la baja:\n",
        "math.floor(pi)"
      ],
      "metadata": {
        "colab": {
          "base_uri": "https://localhost:8080/"
        },
        "id": "On_rVo_csE1s",
        "outputId": "c916989c-cc28-4555-8e00-7c76730843c8"
      },
      "execution_count": 11,
      "outputs": [
        {
          "output_type": "execute_result",
          "data": {
            "text/plain": [
              "3"
            ]
          },
          "metadata": {},
          "execution_count": 11
        }
      ]
    },
    {
      "cell_type": "code",
      "source": [
        "math.floor(3.5)"
      ],
      "metadata": {
        "colab": {
          "base_uri": "https://localhost:8080/"
        },
        "id": "cWTqLzWtsl92",
        "outputId": "b4422ea2-0faf-412e-973d-eb8e02b31e5a"
      },
      "execution_count": 12,
      "outputs": [
        {
          "output_type": "execute_result",
          "data": {
            "text/plain": [
              "3"
            ]
          },
          "metadata": {},
          "execution_count": 12
        }
      ]
    },
    {
      "cell_type": "code",
      "source": [
        "math.floor(3.9)"
      ],
      "metadata": {
        "colab": {
          "base_uri": "https://localhost:8080/"
        },
        "id": "Wfo3uI-7snNq",
        "outputId": "bbf21fd7-561a-42e6-f4b9-1704b32bf60d"
      },
      "execution_count": 13,
      "outputs": [
        {
          "output_type": "execute_result",
          "data": {
            "text/plain": [
              "3"
            ]
          },
          "metadata": {},
          "execution_count": 13
        }
      ]
    },
    {
      "cell_type": "code",
      "source": [
        "#Con 'ceil' siempre redondea a la alta:\n",
        "math.ceil(3.0000001)"
      ],
      "metadata": {
        "colab": {
          "base_uri": "https://localhost:8080/"
        },
        "id": "ZYnLQOgesqJo",
        "outputId": "c30dc3c9-3fc2-40f6-9676-2cc21f722ed4"
      },
      "execution_count": 16,
      "outputs": [
        {
          "output_type": "execute_result",
          "data": {
            "text/plain": [
              "4"
            ]
          },
          "metadata": {},
          "execution_count": 16
        }
      ]
    },
    {
      "cell_type": "markdown",
      "source": [
        "# Valor absoluto"
      ],
      "metadata": {
        "id": "gUU_p_sluQOa"
      }
    },
    {
      "cell_type": "code",
      "source": [
        "#Valor absoluto\n",
        "abs(-10)"
      ],
      "metadata": {
        "colab": {
          "base_uri": "https://localhost:8080/"
        },
        "id": "LiJmazyos3XN",
        "outputId": "081db325-a1f0-408e-9d9f-5cd319ab208b"
      },
      "execution_count": 17,
      "outputs": [
        {
          "output_type": "execute_result",
          "data": {
            "text/plain": [
              "10"
            ]
          },
          "metadata": {},
          "execution_count": 17
        }
      ]
    },
    {
      "cell_type": "markdown",
      "source": [
        "# Sumatorio"
      ],
      "metadata": {
        "id": "agsKpSpZuTL0"
      }
    },
    {
      "cell_type": "code",
      "source": [
        "#Sumatorio\n",
        "n = [1,2,3]\n",
        "sum(n)"
      ],
      "metadata": {
        "colab": {
          "base_uri": "https://localhost:8080/"
        },
        "id": "KZfxAjsitNIw",
        "outputId": "be9a8442-555e-4294-aaf6-13b19a392d3e"
      },
      "execution_count": 18,
      "outputs": [
        {
          "output_type": "execute_result",
          "data": {
            "text/plain": [
              "6"
            ]
          },
          "metadata": {},
          "execution_count": 18
        }
      ]
    },
    {
      "cell_type": "code",
      "source": [
        "#Sumatorio con math\n",
        "math.fsum(n)"
      ],
      "metadata": {
        "colab": {
          "base_uri": "https://localhost:8080/"
        },
        "id": "P0egzmZhtUlr",
        "outputId": "cbe88bbe-c7b5-4e27-9167-05cda36f4bf1"
      },
      "execution_count": 19,
      "outputs": [
        {
          "output_type": "execute_result",
          "data": {
            "text/plain": [
              "6.0"
            ]
          },
          "metadata": {},
          "execution_count": 19
        }
      ]
    },
    {
      "cell_type": "markdown",
      "source": [
        "¿Por qué es mejor el sumatorio con math?\n",
        "\n",
        "Veamos un claro ejemplo de cuando usando math es mejor:"
      ],
      "metadata": {
        "id": "RZEWDvQ3tmfN"
      }
    },
    {
      "cell_type": "code",
      "source": [
        "n = [0.9999999,1,2,3]\n",
        "sum(n)  #el resultado que nos dará, no será correcto"
      ],
      "metadata": {
        "colab": {
          "base_uri": "https://localhost:8080/"
        },
        "id": "oith7nPbtyqJ",
        "outputId": "5f1fd996-4b29-4138-fea8-1599bf25f208"
      },
      "execution_count": 21,
      "outputs": [
        {
          "output_type": "execute_result",
          "data": {
            "text/plain": [
              "6.999999900000001"
            ]
          },
          "metadata": {},
          "execution_count": 21
        }
      ]
    },
    {
      "cell_type": "code",
      "source": [
        "#Hagámoslo con math\n",
        "math.fsum(n)"
      ],
      "metadata": {
        "colab": {
          "base_uri": "https://localhost:8080/"
        },
        "id": "vNISf-brt-q5",
        "outputId": "fa77e5b9-39e6-41e0-b53d-a6cbc3b7ae92"
      },
      "execution_count": 22,
      "outputs": [
        {
          "output_type": "execute_result",
          "data": {
            "text/plain": [
              "6.9999999"
            ]
          },
          "metadata": {},
          "execution_count": 22
        }
      ]
    },
    {
      "cell_type": "markdown",
      "source": [
        "# Truncar"
      ],
      "metadata": {
        "id": "otKV3iRKubuc"
      }
    },
    {
      "cell_type": "code",
      "source": [
        "math.trunc(100.12435364567)"
      ],
      "metadata": {
        "colab": {
          "base_uri": "https://localhost:8080/"
        },
        "id": "x6lczo_AuIAj",
        "outputId": "f44f5adf-3b8c-4b0d-b94f-354b0e5fa4aa"
      },
      "execution_count": 23,
      "outputs": [
        {
          "output_type": "execute_result",
          "data": {
            "text/plain": [
              "100"
            ]
          },
          "metadata": {},
          "execution_count": 23
        }
      ]
    },
    {
      "cell_type": "markdown",
      "source": [
        "# Potencias"
      ],
      "metadata": {
        "id": "v9cT0dn1uiyD"
      }
    },
    {
      "cell_type": "code",
      "source": [
        "math.pow(2,3) #Esto sería 2 elevado a 3"
      ],
      "metadata": {
        "colab": {
          "base_uri": "https://localhost:8080/"
        },
        "id": "GQHA6i2iukv1",
        "outputId": "486fdc16-3600-44a4-be1b-5accf8dc3798"
      },
      "execution_count": 24,
      "outputs": [
        {
          "output_type": "execute_result",
          "data": {
            "text/plain": [
              "8.0"
            ]
          },
          "metadata": {},
          "execution_count": 24
        }
      ]
    },
    {
      "cell_type": "markdown",
      "source": [
        "# Raíz"
      ],
      "metadata": {
        "id": "51BU3wsguqqj"
      }
    },
    {
      "cell_type": "code",
      "source": [
        "math.sqrt(9)  #Raíz cuadrada de 9"
      ],
      "metadata": {
        "colab": {
          "base_uri": "https://localhost:8080/"
        },
        "id": "jAVPc1CyutG2",
        "outputId": "e45b61ba-fc82-425a-be8c-807213351468"
      },
      "execution_count": 25,
      "outputs": [
        {
          "output_type": "execute_result",
          "data": {
            "text/plain": [
              "3.0"
            ]
          },
          "metadata": {},
          "execution_count": 25
        }
      ]
    },
    {
      "cell_type": "markdown",
      "source": [
        "# Pi"
      ],
      "metadata": {
        "id": "bnA2Y57Ew5Hk"
      }
    },
    {
      "cell_type": "code",
      "source": [
        "math.pi"
      ],
      "metadata": {
        "colab": {
          "base_uri": "https://localhost:8080/"
        },
        "id": "A4oIV_hZw7ho",
        "outputId": "e0ccab1c-e144-4a61-9bfe-df12cc7c0103"
      },
      "execution_count": 26,
      "outputs": [
        {
          "output_type": "execute_result",
          "data": {
            "text/plain": [
              "3.141592653589793"
            ]
          },
          "metadata": {},
          "execution_count": 26
        }
      ]
    },
    {
      "cell_type": "markdown",
      "source": [
        "# E"
      ],
      "metadata": {
        "id": "9fCx04jaw98R"
      }
    },
    {
      "cell_type": "code",
      "source": [
        "math.e"
      ],
      "metadata": {
        "colab": {
          "base_uri": "https://localhost:8080/"
        },
        "id": "wym8V6tdw_xb",
        "outputId": "d19c1a5d-5073-48d5-e925-a9ba96b0265c"
      },
      "execution_count": 27,
      "outputs": [
        {
          "output_type": "execute_result",
          "data": {
            "text/plain": [
              "2.718281828459045"
            ]
          },
          "metadata": {},
          "execution_count": 27
        }
      ]
    }
  ]
}