{
  "nbformat": 4,
  "nbformat_minor": 0,
  "metadata": {
    "colab": {
      "name": "b48_Random.ipynb",
      "provenance": []
    },
    "kernelspec": {
      "name": "python3",
      "display_name": "Python 3"
    },
    "language_info": {
      "name": "python"
    }
  },
  "cells": [
    {
      "cell_type": "code",
      "execution_count": 2,
      "metadata": {
        "id": "xDRlJ6p7gVL5"
      },
      "outputs": [],
      "source": [
        "import random"
      ]
    },
    {
      "cell_type": "code",
      "source": [
        "#generamos un número aleatorio\n",
        "random.random() # >=0 y < 1.0, es decir, un flotante entre 0 y 1"
      ],
      "metadata": {
        "colab": {
          "base_uri": "https://localhost:8080/"
        },
        "id": "nmaUa7xXggpx",
        "outputId": "573e5fee-fff7-4036-8041-214f49117042"
      },
      "execution_count": 5,
      "outputs": [
        {
          "output_type": "execute_result",
          "data": {
            "text/plain": [
              "0.06844045207942728"
            ]
          },
          "metadata": {},
          "execution_count": 5
        }
      ]
    },
    {
      "cell_type": "markdown",
      "source": [
        "# Por rango"
      ],
      "metadata": {
        "id": "hekx0MZrgv26"
      }
    },
    {
      "cell_type": "code",
      "source": [
        "random.uniform(1,10) # >=1 y <10.0"
      ],
      "metadata": {
        "colab": {
          "base_uri": "https://localhost:8080/"
        },
        "id": "grwDquIOgyYf",
        "outputId": "13828501-05c4-4c51-eb80-df14dde671bf"
      },
      "execution_count": 6,
      "outputs": [
        {
          "output_type": "execute_result",
          "data": {
            "text/plain": [
              "3.33889784985832"
            ]
          },
          "metadata": {},
          "execution_count": 6
        }
      ]
    },
    {
      "cell_type": "code",
      "source": [
        "#Si queremos entero, es decir, no flotantes, sería de la siguiente forma:\n",
        "random.randrange(10) # >0 y <10"
      ],
      "metadata": {
        "colab": {
          "base_uri": "https://localhost:8080/"
        },
        "id": "JQ4rJ4e8g-xy",
        "outputId": "11e3a73e-b9b5-4893-8b52-a523e98b2c58"
      },
      "execution_count": 11,
      "outputs": [
        {
          "output_type": "execute_result",
          "data": {
            "text/plain": [
              "6"
            ]
          },
          "metadata": {},
          "execution_count": 11
        }
      ]
    },
    {
      "cell_type": "code",
      "source": [
        "#Por rango pero múltiples de 2, para sacar un número par, hasta el 100:\n",
        "random.randrange(0,101,2)"
      ],
      "metadata": {
        "colab": {
          "base_uri": "https://localhost:8080/"
        },
        "id": "Eq95GwaKhXrx",
        "outputId": "0b0e4b39-aed0-4240-9b7e-52d1d69b40f3"
      },
      "execution_count": 12,
      "outputs": [
        {
          "output_type": "execute_result",
          "data": {
            "text/plain": [
              "72"
            ]
          },
          "metadata": {},
          "execution_count": 12
        }
      ]
    },
    {
      "cell_type": "markdown",
      "source": [
        "# Letra aleatoria"
      ],
      "metadata": {
        "id": "tQpWln2Mhoao"
      }
    },
    {
      "cell_type": "code",
      "source": [
        "c = \"El repositorio de Alvaro\""
      ],
      "metadata": {
        "id": "2SFBEUbOhq78"
      },
      "execution_count": 13,
      "outputs": []
    },
    {
      "cell_type": "code",
      "source": [
        "random.choice(c)"
      ],
      "metadata": {
        "colab": {
          "base_uri": "https://localhost:8080/",
          "height": 35
        },
        "id": "zxhCLfXdhx85",
        "outputId": "91a31950-a38e-4084-b9d0-1ab3e3f08525"
      },
      "execution_count": 14,
      "outputs": [
        {
          "output_type": "execute_result",
          "data": {
            "text/plain": [
              "'e'"
            ],
            "application/vnd.google.colaboratory.intrinsic+json": {
              "type": "string"
            }
          },
          "metadata": {},
          "execution_count": 14
        }
      ]
    },
    {
      "cell_type": "markdown",
      "source": [
        "# Aleatorio desde lista"
      ],
      "metadata": {
        "id": "OUkFJK8piEzl"
      }
    },
    {
      "cell_type": "code",
      "source": [
        "l = [1,2,3,4,5]"
      ],
      "metadata": {
        "id": "vqaz_Lqoh3B3"
      },
      "execution_count": 17,
      "outputs": []
    },
    {
      "cell_type": "code",
      "source": [
        "random.choice(l)"
      ],
      "metadata": {
        "colab": {
          "base_uri": "https://localhost:8080/"
        },
        "id": "s1xz9A0Bh9bb",
        "outputId": "35b8ef69-9c52-48d1-c37a-b1f3f89b3a74"
      },
      "execution_count": 16,
      "outputs": [
        {
          "output_type": "execute_result",
          "data": {
            "text/plain": [
              "2"
            ]
          },
          "metadata": {},
          "execution_count": 16
        }
      ]
    },
    {
      "cell_type": "markdown",
      "source": [
        "# Aleatoriedad en una colección y guardado"
      ],
      "metadata": {
        "id": "AVurNjk3iMKj"
      }
    },
    {
      "cell_type": "code",
      "source": [
        "random.shuffle(l) #Se barajan los números guardados en l y se guardan"
      ],
      "metadata": {
        "id": "_xCODh79iWGF"
      },
      "execution_count": 18,
      "outputs": []
    },
    {
      "cell_type": "code",
      "source": [
        "l"
      ],
      "metadata": {
        "colab": {
          "base_uri": "https://localhost:8080/"
        },
        "id": "TJvWRsSmii-d",
        "outputId": "6ae673b6-946e-448c-f085-f4803f421072"
      },
      "execution_count": 19,
      "outputs": [
        {
          "output_type": "execute_result",
          "data": {
            "text/plain": [
              "[3, 5, 1, 4, 2]"
            ]
          },
          "metadata": {},
          "execution_count": 19
        }
      ]
    },
    {
      "cell_type": "code",
      "source": [
        "#Si de la lista anterior solo queremos 3 elementos:\n",
        "random.sample(l,3)"
      ],
      "metadata": {
        "colab": {
          "base_uri": "https://localhost:8080/"
        },
        "id": "F-lA5Frpi4sJ",
        "outputId": "2cddf370-920d-4369-effb-9f320322cf47"
      },
      "execution_count": 21,
      "outputs": [
        {
          "output_type": "execute_result",
          "data": {
            "text/plain": [
              "[3, 1, 2]"
            ]
          },
          "metadata": {},
          "execution_count": 21
        }
      ]
    }
  ]
}