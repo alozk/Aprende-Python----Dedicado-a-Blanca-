{
  "nbformat": 4,
  "nbformat_minor": 0,
  "metadata": {
    "colab": {
      "name": "1. Numeros.ipynb",
      "provenance": [],
      "collapsed_sections": []
    },
    "kernelspec": {
      "name": "python3",
      "display_name": "Python 3"
    },
    "language_info": {
      "name": "python"
    }
  },
  "cells": [
    {
      "cell_type": "code",
      "execution_count": null,
      "metadata": {
        "colab": {
          "base_uri": "https://localhost:8080/"
        },
        "id": "titIqCtvFO4D",
        "outputId": "c91156ee-810d-4e16-87f5-a952bd6af8b9"
      },
      "outputs": [
        {
          "output_type": "execute_result",
          "data": {
            "text/plain": [
              "6"
            ]
          },
          "metadata": {},
          "execution_count": 2
        }
      ],
      "source": [
        "#Suma\n",
        "3+2"
      ]
    },
    {
      "cell_type": "code",
      "source": [
        "#Resta\n",
        "3-2"
      ],
      "metadata": {
        "colab": {
          "base_uri": "https://localhost:8080/"
        },
        "id": "AOq1WwY-FXX5",
        "outputId": "122d9951-c08b-4981-8016-968a5028d5f5"
      },
      "execution_count": null,
      "outputs": [
        {
          "output_type": "execute_result",
          "data": {
            "text/plain": [
              "1"
            ]
          },
          "metadata": {},
          "execution_count": 3
        }
      ]
    },
    {
      "cell_type": "code",
      "source": [
        "#División\n",
        "4/2"
      ],
      "metadata": {
        "colab": {
          "base_uri": "https://localhost:8080/"
        },
        "id": "-lKuYQXBFq3d",
        "outputId": "b0593755-8adf-4882-cf5a-2a7cbbe0d47d"
      },
      "execution_count": null,
      "outputs": [
        {
          "output_type": "execute_result",
          "data": {
            "text/plain": [
              "2.0"
            ]
          },
          "metadata": {},
          "execution_count": 4
        }
      ]
    },
    {
      "cell_type": "code",
      "source": [
        "#Multiplicación\n",
        "3*2"
      ],
      "metadata": {
        "colab": {
          "base_uri": "https://localhost:8080/"
        },
        "id": "DfTe5gd9FsuB",
        "outputId": "b5c943a6-4e85-43d3-8456-e73d826cf1db"
      },
      "execution_count": null,
      "outputs": [
        {
          "output_type": "execute_result",
          "data": {
            "text/plain": [
              "6"
            ]
          },
          "metadata": {},
          "execution_count": 5
        }
      ]
    },
    {
      "cell_type": "code",
      "source": [
        "#Módulo\n",
        "3%2"
      ],
      "metadata": {
        "colab": {
          "base_uri": "https://localhost:8080/"
        },
        "id": "uY-TUJDjFwFe",
        "outputId": "5f039e17-eea3-4c20-b628-4705d68782d8"
      },
      "execution_count": null,
      "outputs": [
        {
          "output_type": "execute_result",
          "data": {
            "text/plain": [
              "1"
            ]
          },
          "metadata": {},
          "execution_count": 7
        }
      ]
    },
    {
      "cell_type": "code",
      "source": [
        "#Potencia\n",
        "3**2"
      ],
      "metadata": {
        "colab": {
          "base_uri": "https://localhost:8080/"
        },
        "id": "2BZ-aVl5GaJL",
        "outputId": "5970cef2-d90e-48c6-899c-fe9d1de49b52"
      },
      "execution_count": null,
      "outputs": [
        {
          "output_type": "execute_result",
          "data": {
            "text/plain": [
              "9"
            ]
          },
          "metadata": {},
          "execution_count": 8
        }
      ]
    },
    {
      "cell_type": "markdown",
      "source": [
        "# Números vistos: enteros (integers ['int']) y decimales (flotantes ['float'])"
      ],
      "metadata": {
        "id": "q89EAhlqHPey"
      }
    },
    {
      "cell_type": "code",
      "source": [
        "#Las multiplicaciones tienen prioridad en las operaciones\n",
        "3-2+4*10"
      ],
      "metadata": {
        "colab": {
          "base_uri": "https://localhost:8080/"
        },
        "id": "vhZlpFbCHZjp",
        "outputId": "f0c4b699-c61b-4620-89cd-431c488f39a3"
      },
      "execution_count": null,
      "outputs": [
        {
          "output_type": "execute_result",
          "data": {
            "text/plain": [
              "41"
            ]
          },
          "metadata": {},
          "execution_count": 12
        }
      ]
    },
    {
      "cell_type": "code",
      "source": [
        "#Asignación de un valor a una variable\n",
        "n = 3\n",
        "n"
      ],
      "metadata": {
        "colab": {
          "base_uri": "https://localhost:8080/"
        },
        "id": "RaKI2UlAH1rX",
        "outputId": "b90cc4db-89b6-4d1f-9026-4bb9f16629d5"
      },
      "execution_count": null,
      "outputs": [
        {
          "output_type": "execute_result",
          "data": {
            "text/plain": [
              "3"
            ]
          },
          "metadata": {},
          "execution_count": 13
        }
      ]
    },
    {
      "cell_type": "code",
      "source": [
        "n*2"
      ],
      "metadata": {
        "colab": {
          "base_uri": "https://localhost:8080/"
        },
        "id": "lAAANJzLH75o",
        "outputId": "3df1c9f5-0bc2-494d-8bba-bd8ccaa0b660"
      },
      "execution_count": null,
      "outputs": [
        {
          "output_type": "execute_result",
          "data": {
            "text/plain": [
              "6"
            ]
          },
          "metadata": {},
          "execution_count": 14
        }
      ]
    },
    {
      "cell_type": "code",
      "source": [
        "m = 10"
      ],
      "metadata": {
        "id": "qULK6XUMH-1q"
      },
      "execution_count": null,
      "outputs": []
    },
    {
      "cell_type": "code",
      "source": [
        "n + m"
      ],
      "metadata": {
        "colab": {
          "base_uri": "https://localhost:8080/"
        },
        "id": "tAQwmRWmIC7f",
        "outputId": "178dd179-bdf6-402b-fd3d-e60aa702c6dd"
      },
      "execution_count": null,
      "outputs": [
        {
          "output_type": "execute_result",
          "data": {
            "text/plain": [
              "13"
            ]
          },
          "metadata": {},
          "execution_count": 16
        }
      ]
    },
    {
      "cell_type": "code",
      "source": [
        "#Podemos redefinir los valores de las variables\n",
        "n = 10\n",
        "m = 15\n",
        "n+m"
      ],
      "metadata": {
        "colab": {
          "base_uri": "https://localhost:8080/"
        },
        "id": "qGNWQraJIEt0",
        "outputId": "4451f208-2a30-4a6b-c15e-057b8c5759ac"
      },
      "execution_count": null,
      "outputs": [
        {
          "output_type": "execute_result",
          "data": {
            "text/plain": [
              "25"
            ]
          },
          "metadata": {},
          "execution_count": 17
        }
      ]
    },
    {
      "cell_type": "code",
      "source": [
        "n-m"
      ],
      "metadata": {
        "colab": {
          "base_uri": "https://localhost:8080/"
        },
        "id": "w4aSe1WYIMyd",
        "outputId": "873074d5-18d6-4f58-c897-da42aee1c583"
      },
      "execution_count": null,
      "outputs": [
        {
          "output_type": "execute_result",
          "data": {
            "text/plain": [
              "-5"
            ]
          },
          "metadata": {},
          "execution_count": 18
        }
      ]
    },
    {
      "cell_type": "code",
      "source": [
        "#Volvemos a cambiar el valor de n\n",
        "n = m+10\n",
        "n"
      ],
      "metadata": {
        "colab": {
          "base_uri": "https://localhost:8080/"
        },
        "id": "VDLy81HRIVad",
        "outputId": "9fab0223-2c09-41d9-c4c8-526ba6f123fa"
      },
      "execution_count": null,
      "outputs": [
        {
          "output_type": "execute_result",
          "data": {
            "text/plain": [
              "25"
            ]
          },
          "metadata": {},
          "execution_count": 21
        }
      ]
    },
    {
      "cell_type": "markdown",
      "source": [
        "# Los nombres de una variable:\n",
        "1.  No pueden comenzar por un número\n",
        "2.  No pueden tener espacios\n",
        "3.  No pueden tener símbolos especiales\n",
        "4.  Podemos usar _ para los espacios\n",
        "\n",
        "\n",
        "\n"
      ],
      "metadata": {
        "id": "tRkhBqftIiCG"
      }
    },
    {
      "cell_type": "code",
      "source": [
        "#Creamos 4 variables diferentes:\n",
        "nota_examen1 = 5\n",
        "nota_examen2 = 10\n",
        "nota_examen3 = 3\n",
        "nota_media = nota_examen1 + nota_examen2 + nota_examen3/3\n",
        "print('¿Es correcta que la media sea ' + str(nota_media) + '?')"
      ],
      "metadata": {
        "colab": {
          "base_uri": "https://localhost:8080/"
        },
        "id": "xgwwm6BUJVmP",
        "outputId": "bffd3c9e-6e23-40d3-f451-095f5515d14f"
      },
      "execution_count": null,
      "outputs": [
        {
          "output_type": "stream",
          "name": "stdout",
          "text": [
            "¿Es correcta que la media sea 16.0?\n"
          ]
        }
      ]
    },
    {
      "cell_type": "markdown",
      "source": [
        "**Ese cálculo de media es incorrecto**\n",
        "\n",
        "Como hemos comentado antes, es necesario establecer un orden en las operaciones con el uso de los paréntesis.\n",
        "\n",
        "Si no se usan los paréntesis, la prioridad la tiene la división.\n"
      ],
      "metadata": {
        "id": "o_Q5yUCoLBlN"
      }
    },
    {
      "cell_type": "code",
      "source": [
        "nota_media = (nota_examen1 + nota_examen2 + nota_examen3)/3\n",
        "nota_media"
      ],
      "metadata": {
        "colab": {
          "base_uri": "https://localhost:8080/"
        },
        "id": "hztN6wmqMAv8",
        "outputId": "8abeb55c-7351-4598-92b8-5202414a5c48"
      },
      "execution_count": null,
      "outputs": [
        {
          "output_type": "execute_result",
          "data": {
            "text/plain": [
              "6.0"
            ]
          },
          "metadata": {},
          "execution_count": 40
        }
      ]
    },
    {
      "cell_type": "markdown",
      "source": [
        "El último *print* se ha realizado de esa manera porque no se puede concatenar texto (str) con numeros (int o float). Es por ello que convertimos la nota_media en un *string* para poder poner un texto junto a un número."
      ],
      "metadata": {
        "id": "r5W1yAsrNK8d"
      }
    },
    {
      "cell_type": "markdown",
      "source": [
        "# Hagamos un ejemplo más calculando medias\n",
        "Imaginemos que hacemos 2 exámenes parciales y un examen global\n",
        "La forma de evaluar la asignatura es la siguiente:\n",
        "1. Los parciales cuentan un 30% de la nota final\n",
        "2. El examen global un 70% de la nota final\n",
        "¿Cómo se calcularía la nota final?\n",
        "Notas de los parciales: 7.2 y 6.7\n",
        "Nota del global: 8.64\n"
      ],
      "metadata": {
        "id": "m2w9KjpOfRtV"
      }
    },
    {
      "cell_type": "code",
      "source": [
        "#Guardamos las variables con sus respectivas notas\n",
        "nota_parcial1 = 7.2\n",
        "nota_parcial2 = 6.7\n",
        "nota_global = 8.64"
      ],
      "metadata": {
        "id": "K1-iSAbPgLNG"
      },
      "execution_count": 43,
      "outputs": []
    },
    {
      "cell_type": "code",
      "source": [
        "nota_final = (((nota_parcial1 + nota_parcial2)/2) * 0.3) + (nota_global * 0.7)\n",
        "print('Su nota final es de: ' + str(nota_final))"
      ],
      "metadata": {
        "colab": {
          "base_uri": "https://localhost:8080/"
        },
        "id": "gxy9rkuVgl3p",
        "outputId": "d838be19-a19d-4d1f-f705-3f55feeda30a"
      },
      "execution_count": 52,
      "outputs": [
        {
          "output_type": "stream",
          "name": "stdout",
          "text": [
            "Su nota final es de: 8.133\n"
          ]
        }
      ]
    }
  ]
}