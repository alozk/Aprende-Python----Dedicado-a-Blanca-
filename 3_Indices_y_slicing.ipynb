{
  "nbformat": 4,
  "nbformat_minor": 0,
  "metadata": {
    "colab": {
      "name": "3_Indices_y_slicing.ipynb",
      "provenance": []
    },
    "kernelspec": {
      "name": "python3",
      "display_name": "Python 3"
    },
    "language_info": {
      "name": "python"
    }
  },
  "cells": [
    {
      "cell_type": "markdown",
      "source": [
        "# Índices y Slicing"
      ],
      "metadata": {
        "id": "9KJhKVW0P8HH"
      }
    },
    {
      "cell_type": "code",
      "source": [
        "palabra = \"botifarra\""
      ],
      "metadata": {
        "id": "Zcf-LwPPP_rm"
      },
      "execution_count": 1,
      "outputs": []
    },
    {
      "cell_type": "code",
      "source": [
        "palabra [0] #caracter en la posición 0"
      ],
      "metadata": {
        "colab": {
          "base_uri": "https://localhost:8080/",
          "height": 35
        },
        "id": "qj-z4JbiQKiF",
        "outputId": "837b79d7-629c-4e0e-835f-d335752becb3"
      },
      "execution_count": 3,
      "outputs": [
        {
          "output_type": "execute_result",
          "data": {
            "application/vnd.google.colaboratory.intrinsic+json": {
              "type": "string"
            },
            "text/plain": [
              "'b'"
            ]
          },
          "metadata": {},
          "execution_count": 3
        }
      ]
    },
    {
      "cell_type": "markdown",
      "source": [
        "La palabra utilizada tendría los índices asignados de la siguiente manera:\n",
        "\n",
        "b  |  o  |  t  |  i  |  f  |  a  |  r  |  r  |  a\n",
        "\n",
        "\n",
        "0 | 1 | 2| 3| 4 | 5| 6 | 7| 8"
      ],
      "metadata": {
        "id": "tjf7P0uDQcMO"
      }
    },
    {
      "cell_type": "code",
      "source": [
        "#Si queremos que nos imprima la 'f'\n",
        "palabra[4]"
      ],
      "metadata": {
        "colab": {
          "base_uri": "https://localhost:8080/",
          "height": 35
        },
        "id": "pjKc78N8RZQ5",
        "outputId": "7f0d301b-797d-4922-aa53-794228bc0c0a"
      },
      "execution_count": 4,
      "outputs": [
        {
          "output_type": "execute_result",
          "data": {
            "application/vnd.google.colaboratory.intrinsic+json": {
              "type": "string"
            },
            "text/plain": [
              "'f'"
            ]
          },
          "metadata": {},
          "execution_count": 4
        }
      ]
    },
    {
      "cell_type": "markdown",
      "source": [
        "También podemos utilizar los números negativos (el orden estará invertido)\n",
        "\n",
        "b  |  o  |  t  |  i  |  f  |  a  |  r  |  r  |  a\n",
        "\n",
        "\n",
        "-9|-8 |-7|-6|-5|-4|-3|-2|-1\n",
        "\n",
        "Es evidente que la última letra no puede ser asignada con un 0, porque el 0 ya se refiere a la primer letra ['b'], como hemos visto arriba (con los índices positivos)."
      ],
      "metadata": {
        "id": "QEcoP_lwRt9I"
      }
    },
    {
      "cell_type": "code",
      "source": [
        "#Pedimos la 't' con números negativos\n",
        "palabra[-7]"
      ],
      "metadata": {
        "colab": {
          "base_uri": "https://localhost:8080/",
          "height": 35
        },
        "id": "mpUeILUJSHcM",
        "outputId": "1d7f2053-cafc-4111-ecbe-890342f33641"
      },
      "execution_count": 8,
      "outputs": [
        {
          "output_type": "execute_result",
          "data": {
            "application/vnd.google.colaboratory.intrinsic+json": {
              "type": "string"
            },
            "text/plain": [
              "'t'"
            ]
          },
          "metadata": {},
          "execution_count": 8
        }
      ]
    },
    {
      "cell_type": "markdown",
      "source": [
        "Ahora vamos a ver como podemos pedirle mas de una letra"
      ],
      "metadata": {
        "id": "2-7HwmweUnCb"
      }
    },
    {
      "cell_type": "code",
      "source": [
        "palabra [0:2]"
      ],
      "metadata": {
        "colab": {
          "base_uri": "https://localhost:8080/",
          "height": 35
        },
        "id": "LDEQMOu-UsiX",
        "outputId": "18879ea2-7d08-4037-c8bd-a94e1705463c"
      },
      "execution_count": 9,
      "outputs": [
        {
          "output_type": "execute_result",
          "data": {
            "application/vnd.google.colaboratory.intrinsic+json": {
              "type": "string"
            },
            "text/plain": [
              "'bo'"
            ]
          },
          "metadata": {},
          "execution_count": 9
        }
      ]
    },
    {
      "cell_type": "markdown",
      "source": [
        "Puede que haya resultado extraño que solo cogiera las dos primeras letras.\n",
        "\n",
        "Y bien, con un [0:1] solo hubiera cogido la ['b'], ese es el motivo."
      ],
      "metadata": {
        "id": "41L5RrNLU2F0"
      }
    },
    {
      "cell_type": "code",
      "source": [
        "palabra [:3]"
      ],
      "metadata": {
        "colab": {
          "base_uri": "https://localhost:8080/",
          "height": 35
        },
        "id": "ZFcpLewvVJRY",
        "outputId": "805213aa-f70e-4cf4-edd0-e5d6dcaee2ea"
      },
      "execution_count": 10,
      "outputs": [
        {
          "output_type": "execute_result",
          "data": {
            "application/vnd.google.colaboratory.intrinsic+json": {
              "type": "string"
            },
            "text/plain": [
              "'bot'"
            ]
          },
          "metadata": {},
          "execution_count": 10
        }
      ]
    },
    {
      "cell_type": "markdown",
      "source": [
        "Cuando se ponen los ':' antes de un número, cogerá desde el inicio.\n",
        "\n",
        "Por el contrario, si se pone un número y luego los ':', cogerá hasta el final. Veamos:"
      ],
      "metadata": {
        "id": "60GY5cPGVO9-"
      }
    },
    {
      "cell_type": "code",
      "source": [
        "palabra [4:]"
      ],
      "metadata": {
        "colab": {
          "base_uri": "https://localhost:8080/",
          "height": 35
        },
        "id": "SMApj8zZVf0i",
        "outputId": "64818687-2dd2-4d19-c96a-de502379397f"
      },
      "execution_count": 12,
      "outputs": [
        {
          "output_type": "execute_result",
          "data": {
            "application/vnd.google.colaboratory.intrinsic+json": {
              "type": "string"
            },
            "text/plain": [
              "'farra'"
            ]
          },
          "metadata": {},
          "execution_count": 12
        }
      ]
    },
    {
      "cell_type": "code",
      "source": [
        "#Veamos otro ejemplo para pedir varias letras\n",
        "palabra [2:7]"
      ],
      "metadata": {
        "colab": {
          "base_uri": "https://localhost:8080/",
          "height": 35
        },
        "id": "a7lChASUVrnp",
        "outputId": "bd5a8ebe-fff1-4620-f6ad-13bf6d08288d"
      },
      "execution_count": 16,
      "outputs": [
        {
          "output_type": "execute_result",
          "data": {
            "application/vnd.google.colaboratory.intrinsic+json": {
              "type": "string"
            },
            "text/plain": [
              "'tifar'"
            ]
          },
          "metadata": {},
          "execution_count": 16
        }
      ]
    },
    {
      "cell_type": "code",
      "source": [
        "#Ahora con números negativos\n",
        "palabra [-7:-2]"
      ],
      "metadata": {
        "colab": {
          "base_uri": "https://localhost:8080/",
          "height": 35
        },
        "id": "Jh1529FyV-5Z",
        "outputId": "a35e6600-c1dc-4731-e167-87ad2ecba41f"
      },
      "execution_count": 18,
      "outputs": [
        {
          "output_type": "execute_result",
          "data": {
            "application/vnd.google.colaboratory.intrinsic+json": {
              "type": "string"
            },
            "text/plain": [
              "'tifar'"
            ]
          },
          "metadata": {},
          "execution_count": 18
        }
      ]
    },
    {
      "cell_type": "markdown",
      "source": [
        "Ha salido lo mismo introduciendo los mismo números, la diferencia es el orden. El primer número ha de ser siempre el pequeño de los dos, de no ser así, no funciona."
      ],
      "metadata": {
        "id": "LyeOCtGfWI31"
      }
    },
    {
      "cell_type": "code",
      "source": [
        "#Otro ejemplo más con números negativos\n",
        "palabra [:-3]\n"
      ],
      "metadata": {
        "colab": {
          "base_uri": "https://localhost:8080/",
          "height": 35
        },
        "id": "grLIwWwMWXPu",
        "outputId": "c718e3bc-eb2e-43bb-d628-c12fdd89e38b"
      },
      "execution_count": 20,
      "outputs": [
        {
          "output_type": "execute_result",
          "data": {
            "application/vnd.google.colaboratory.intrinsic+json": {
              "type": "string"
            },
            "text/plain": [
              "'botifa'"
            ]
          },
          "metadata": {},
          "execution_count": 20
        }
      ]
    },
    {
      "cell_type": "markdown",
      "source": [
        "¿Qué pasaría si pedimos un rango fuera de la palabra? Veamos:"
      ],
      "metadata": {
        "id": "w8EaCji_W-Ck"
      }
    },
    {
      "cell_type": "code",
      "source": [
        "#Hago un print para poner los dos métodos a la vez\n",
        "print(palabra [:99])\n",
        "print(palabra [-99:])"
      ],
      "metadata": {
        "colab": {
          "base_uri": "https://localhost:8080/"
        },
        "id": "sPcJwNxOXHB_",
        "outputId": "861ee165-8a2a-4bd9-e33a-276efbfbef1a"
      },
      "execution_count": 26,
      "outputs": [
        {
          "output_type": "stream",
          "name": "stdout",
          "text": [
            "botifarra\n",
            "botifarra\n"
          ]
        }
      ]
    },
    {
      "cell_type": "markdown",
      "source": [
        "Como vemos, coge toda la palabra.\n",
        "\n",
        "Sin embargo, si lo hacemos de la siguiente manera, no saldrá ninguna letra."
      ],
      "metadata": {
        "id": "Y5FYG024XKut"
      }
    },
    {
      "cell_type": "code",
      "source": [
        "print(palabra [99:])\n",
        "print(palabra [:-99])"
      ],
      "metadata": {
        "colab": {
          "base_uri": "https://localhost:8080/"
        },
        "id": "HNsQryPVXbkU",
        "outputId": "b1f9af9d-48bf-4128-96a4-d38fd9d0932f"
      },
      "execution_count": 25,
      "outputs": [
        {
          "output_type": "stream",
          "name": "stdout",
          "text": [
            "\n",
            "\n"
          ]
        }
      ]
    },
    {
      "cell_type": "code",
      "source": [
        ""
      ],
      "metadata": {
        "id": "DJYpuIy6Y7wU"
      },
      "execution_count": null,
      "outputs": []
    },
    {
      "cell_type": "markdown",
      "source": [
        "¿Por qué sucede? La palabra no se encuentra dentro de ese rango."
      ],
      "metadata": {
        "id": "uRMT8nhmYJq9"
      }
    },
    {
      "cell_type": "markdown",
      "source": [
        "# Vamos a complicarlo más usando slicing"
      ],
      "metadata": {
        "id": "Pgzz1a5yY3kj"
      }
    },
    {
      "cell_type": "code",
      "source": [
        "#Quiero cambiarle a mi palabra la primera letra por una 'p'\n",
        "palabra[0] = \"P\""
      ],
      "metadata": {
        "colab": {
          "base_uri": "https://localhost:8080/",
          "height": 182
        },
        "id": "1tnUDLIcY-nf",
        "outputId": "74fe6ff6-65f2-459b-93ac-1e2938f69170"
      },
      "execution_count": 27,
      "outputs": [
        {
          "output_type": "error",
          "ename": "TypeError",
          "evalue": "ignored",
          "traceback": [
            "\u001b[0;31m---------------------------------------------------------------------------\u001b[0m",
            "\u001b[0;31mTypeError\u001b[0m                                 Traceback (most recent call last)",
            "\u001b[0;32m<ipython-input-27-d59ed53bf895>\u001b[0m in \u001b[0;36m<module>\u001b[0;34m()\u001b[0m\n\u001b[1;32m      1\u001b[0m \u001b[0;31m#Quiero cambiarle a mi palabra la primera letra por una 'p'\u001b[0m\u001b[0;34m\u001b[0m\u001b[0;34m\u001b[0m\u001b[0;34m\u001b[0m\u001b[0m\n\u001b[0;32m----> 2\u001b[0;31m \u001b[0mpalabra\u001b[0m\u001b[0;34m[\u001b[0m\u001b[0;36m0\u001b[0m\u001b[0;34m]\u001b[0m \u001b[0;34m=\u001b[0m \u001b[0;34m\"P\"\u001b[0m\u001b[0;34m\u001b[0m\u001b[0;34m\u001b[0m\u001b[0m\n\u001b[0m",
            "\u001b[0;31mTypeError\u001b[0m: 'str' object does not support item assignment"
          ]
        }
      ]
    },
    {
      "cell_type": "markdown",
      "source": [
        "**TypeError: 'str' object does not support item assignment**\n",
        "\n",
        "No funciona. Por ello, vamos a utilizar slicing."
      ],
      "metadata": {
        "id": "0Q3gVNX4ZmWS"
      }
    },
    {
      "cell_type": "code",
      "source": [
        "#Y lo hacemos concatenando\n",
        "palabra = 'P' + palabra[1:]\n",
        "palabra"
      ],
      "metadata": {
        "colab": {
          "base_uri": "https://localhost:8080/",
          "height": 35
        },
        "id": "5Cyx1nZvZwSY",
        "outputId": "4038c1ec-fde3-462d-887f-64e676c78a26"
      },
      "execution_count": 30,
      "outputs": [
        {
          "output_type": "execute_result",
          "data": {
            "application/vnd.google.colaboratory.intrinsic+json": {
              "type": "string"
            },
            "text/plain": [
              "'Potifarra'"
            ]
          },
          "metadata": {},
          "execution_count": 30
        }
      ]
    },
    {
      "cell_type": "markdown",
      "source": [
        "Este último código pide literalmente que la nueva palabra está compuesta por:\n",
        "\n",
        "Una 'P' en la posición inicial junto con nuestra palabra original desde la segunda posición [1] hasta el final[:].\n",
        "\n",
        "Resultado : [P] + [otifarra]"
      ],
      "metadata": {
        "id": "WY6sBx09aDZl"
      }
    },
    {
      "cell_type": "markdown",
      "source": [
        "**Podemos también pedir la longitud de la palabra mediante 'length'[len]**"
      ],
      "metadata": {
        "id": "cW191SS6bLLG"
      }
    },
    {
      "cell_type": "code",
      "source": [
        "len(palabra)"
      ],
      "metadata": {
        "colab": {
          "base_uri": "https://localhost:8080/"
        },
        "id": "c_aZSdfwbM38",
        "outputId": "ed061cb9-5a72-47a8-fa41-9d71358561a5"
      },
      "execution_count": 31,
      "outputs": [
        {
          "output_type": "execute_result",
          "data": {
            "text/plain": [
              "9"
            ]
          },
          "metadata": {},
          "execution_count": 31
        }
      ]
    },
    {
      "cell_type": "code",
      "source": [
        "#Ahora probemos cosas nuevas\n",
        "palabra = 'Botifarra'"
      ],
      "metadata": {
        "id": "q__-8ccObe-f"
      },
      "execution_count": 41,
      "outputs": []
    },
    {
      "cell_type": "code",
      "source": [
        "#Pidamos una Botifarra con ganas\n",
        "palabra = palabra[:] + 'aaaaaaa'\n",
        "palabra"
      ],
      "metadata": {
        "colab": {
          "base_uri": "https://localhost:8080/",
          "height": 35
        },
        "id": "fC4dxLeqbvIC",
        "outputId": "8acba9fc-83f3-4fa2-b0d5-d16e99bbb968"
      },
      "execution_count": 42,
      "outputs": [
        {
          "output_type": "execute_result",
          "data": {
            "application/vnd.google.colaboratory.intrinsic+json": {
              "type": "string"
            },
            "text/plain": [
              "'Botifarraaaaaaaa'"
            ]
          },
          "metadata": {},
          "execution_count": 42
        }
      ]
    },
    {
      "cell_type": "code",
      "source": [
        "#Queremos una Botifarra con abreviatura\n",
        "palabra = palabra[:0] + 'Boti'\n",
        "palabra"
      ],
      "metadata": {
        "colab": {
          "base_uri": "https://localhost:8080/",
          "height": 35
        },
        "id": "4q5yDF9kcVCW",
        "outputId": "ee6f94d4-8427-4e77-da04-b62366db4056"
      },
      "execution_count": 44,
      "outputs": [
        {
          "output_type": "execute_result",
          "data": {
            "application/vnd.google.colaboratory.intrinsic+json": {
              "type": "string"
            },
            "text/plain": [
              "'Boti'"
            ]
          },
          "metadata": {},
          "execution_count": 44
        }
      ]
    },
    {
      "cell_type": "markdown",
      "source": [
        "Ahora, con lo aprendido.\n",
        "\n",
        "# **¡Hagamos más real el cántico de Merry Christmas!** 🎵"
      ],
      "metadata": {
        "id": "jcH2Civ7cnsb"
      }
    },
    {
      "cell_type": "code",
      "source": [
        "#Creamos las variables\n",
        "xmas = \"We wish you a Merry Christmas,\\n\"\n",
        "new_year = \"and a Happy New Year!!!!!!!!\""
      ],
      "metadata": {
        "id": "8SFWu2FDc0SK"
      },
      "execution_count": 87,
      "outputs": []
    },
    {
      "cell_type": "code",
      "source": [
        "print(xmas *2 + xmas[:27] + 'aaaaaaa'+ xmas[28:] + new_year)"
      ],
      "metadata": {
        "colab": {
          "base_uri": "https://localhost:8080/"
        },
        "id": "D97ZFiP2dFU2",
        "outputId": "ec423bcb-10f6-4b8f-a576-fc5e12e81bc8"
      },
      "execution_count": 89,
      "outputs": [
        {
          "output_type": "stream",
          "name": "stdout",
          "text": [
            "We wish you a Merry Christmas,\n",
            "We wish you a Merry Christmas,\n",
            "We wish you a Merry Christmaaaaaaas,\n",
            "and a Happy New Year!!!!!!!!\n"
          ]
        }
      ]
    }
  ]
}