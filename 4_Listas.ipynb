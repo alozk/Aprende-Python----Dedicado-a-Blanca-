{
  "nbformat": 4,
  "nbformat_minor": 0,
  "metadata": {
    "colab": {
      "name": "4.Listas.ipynb",
      "provenance": []
    },
    "kernelspec": {
      "name": "python3",
      "display_name": "Python 3"
    },
    "language_info": {
      "name": "python"
    }
  },
  "cells": [
    {
      "cell_type": "code",
      "execution_count": 126,
      "metadata": {
        "id": "6Pt4aIQF0hpo"
      },
      "outputs": [],
      "source": [
        "numeros = [1,2,3,4]"
      ]
    },
    {
      "cell_type": "code",
      "source": [
        "datos = [4, 'palabra', 23,6.7,'otra palabra']"
      ],
      "metadata": {
        "id": "RAZVV6yi001y"
      },
      "execution_count": 127,
      "outputs": []
    },
    {
      "cell_type": "code",
      "source": [
        "#Recuerda que hay posicion 0\n",
        "#preguntamos por el contenido de numeros en la segunda posicion\n",
        "numeros[2]"
      ],
      "metadata": {
        "colab": {
          "base_uri": "https://localhost:8080/"
        },
        "id": "R9vMK8p_1BXR",
        "outputId": "7b9c7300-a5c8-4d52-8926-4d8105e9ce7e"
      },
      "execution_count": 128,
      "outputs": [
        {
          "output_type": "execute_result",
          "data": {
            "text/plain": [
              "3"
            ]
          },
          "metadata": {},
          "execution_count": 128
        }
      ]
    },
    {
      "cell_type": "code",
      "source": [
        "#preguntamos por el contenido de datos en la última posicion\n",
        "datos[-1]"
      ],
      "metadata": {
        "colab": {
          "base_uri": "https://localhost:8080/",
          "height": 35
        },
        "id": "6ezyR9bs1GFm",
        "outputId": "166f5bb3-f596-42e6-a817-8c6d450f41da"
      },
      "execution_count": 129,
      "outputs": [
        {
          "output_type": "execute_result",
          "data": {
            "application/vnd.google.colaboratory.intrinsic+json": {
              "type": "string"
            },
            "text/plain": [
              "'otra palabra'"
            ]
          },
          "metadata": {},
          "execution_count": 129
        }
      ]
    },
    {
      "cell_type": "code",
      "source": [
        "#preguntamos por el contenido de datos en las dos últimas posiciones\n",
        "datos[-2:]"
      ],
      "metadata": {
        "colab": {
          "base_uri": "https://localhost:8080/"
        },
        "id": "_3QydoSg1qxE",
        "outputId": "2f19a1fa-3136-4124-b66d-db330ae2bfe8"
      },
      "execution_count": 130,
      "outputs": [
        {
          "output_type": "execute_result",
          "data": {
            "text/plain": [
              "[6.7, 'otra palabra']"
            ]
          },
          "metadata": {},
          "execution_count": 130
        }
      ]
    },
    {
      "cell_type": "code",
      "source": [
        "#Añadimos mas numeros a la lista numeros\n",
        "numeros + [5,6,7,8,9,10]"
      ],
      "metadata": {
        "colab": {
          "base_uri": "https://localhost:8080/"
        },
        "id": "BosMQ4eE14nx",
        "outputId": "67e34965-1314-4518-9e4f-cfd649161b73"
      },
      "execution_count": 131,
      "outputs": [
        {
          "output_type": "execute_result",
          "data": {
            "text/plain": [
              "[1, 2, 3, 4, 5, 6, 7, 8, 9, 10]"
            ]
          },
          "metadata": {},
          "execution_count": 131
        }
      ]
    },
    {
      "cell_type": "code",
      "source": [
        "#Creamos una lista de numeros impares\n",
        "impares = [1,2,5,7,9]"
      ],
      "metadata": {
        "id": "cJDqyjxv2M3g"
      },
      "execution_count": 132,
      "outputs": []
    },
    {
      "cell_type": "code",
      "source": [
        "#Corregimos el error\n",
        "impares [1] = 3"
      ],
      "metadata": {
        "id": "ZlkIn4dw2T09"
      },
      "execution_count": 133,
      "outputs": []
    },
    {
      "cell_type": "code",
      "source": [
        "impares"
      ],
      "metadata": {
        "colab": {
          "base_uri": "https://localhost:8080/"
        },
        "id": "oUnUVjj82vXR",
        "outputId": "8b15a39a-2137-4f77-bb80-06a0f64fb822"
      },
      "execution_count": 134,
      "outputs": [
        {
          "output_type": "execute_result",
          "data": {
            "text/plain": [
              "[1, 3, 5, 7, 9]"
            ]
          },
          "metadata": {},
          "execution_count": 134
        }
      ]
    },
    {
      "cell_type": "code",
      "source": [
        "#Operamos con un numero de la lista\n",
        "impares [3] - 4"
      ],
      "metadata": {
        "colab": {
          "base_uri": "https://localhost:8080/"
        },
        "id": "l0tT2i2J27Vo",
        "outputId": "f0c82fb1-ae75-417c-d2c0-86374b3f4544"
      },
      "execution_count": 135,
      "outputs": [
        {
          "output_type": "execute_result",
          "data": {
            "text/plain": [
              "3"
            ]
          },
          "metadata": {},
          "execution_count": 135
        }
      ]
    },
    {
      "cell_type": "code",
      "source": [
        "#Añadimos de otra manera, un numero a impares\n",
        "impares.append(11)"
      ],
      "metadata": {
        "id": "jmFj_O-g3TA0"
      },
      "execution_count": 136,
      "outputs": []
    },
    {
      "cell_type": "code",
      "source": [
        "impares"
      ],
      "metadata": {
        "colab": {
          "base_uri": "https://localhost:8080/"
        },
        "id": "Gn-L40cK3fx3",
        "outputId": "4c5bfc94-8bc1-44e7-90e7-d73fbfcd86d2"
      },
      "execution_count": 137,
      "outputs": [
        {
          "output_type": "execute_result",
          "data": {
            "text/plain": [
              "[1, 3, 5, 7, 9, 11]"
            ]
          },
          "metadata": {},
          "execution_count": 137
        }
      ]
    },
    {
      "cell_type": "code",
      "source": [
        "#Añadimos otro numero pero operando\n",
        "impares.append(2*5+3)"
      ],
      "metadata": {
        "id": "xYOIkO-b3oid"
      },
      "execution_count": 138,
      "outputs": []
    },
    {
      "cell_type": "code",
      "source": [
        "impares"
      ],
      "metadata": {
        "colab": {
          "base_uri": "https://localhost:8080/"
        },
        "id": "toaaLqP43wUL",
        "outputId": "81c24ebd-3706-4c6d-e6f5-b5141b97f5af"
      },
      "execution_count": 139,
      "outputs": [
        {
          "output_type": "execute_result",
          "data": {
            "text/plain": [
              "[1, 3, 5, 7, 9, 11, 13]"
            ]
          },
          "metadata": {},
          "execution_count": 139
        }
      ]
    },
    {
      "cell_type": "code",
      "source": [
        "abc = ['a','b','c','d','e','f']"
      ],
      "metadata": {
        "id": "s4XWRzbn33lk"
      },
      "execution_count": 140,
      "outputs": []
    },
    {
      "cell_type": "code",
      "source": [
        "abc[:2]"
      ],
      "metadata": {
        "colab": {
          "base_uri": "https://localhost:8080/"
        },
        "id": "v9fGlPwu4JJ6",
        "outputId": "832ef349-ed6a-47ea-afec-49c20f554d89"
      },
      "execution_count": 141,
      "outputs": [
        {
          "output_type": "execute_result",
          "data": {
            "text/plain": [
              "['a', 'b']"
            ]
          },
          "metadata": {},
          "execution_count": 141
        }
      ]
    },
    {
      "cell_type": "code",
      "source": [
        "#Momentaneamente queremos la 'a' en mayusculas\n",
        "abc[0].upper()"
      ],
      "metadata": {
        "colab": {
          "base_uri": "https://localhost:8080/",
          "height": 35
        },
        "id": "hAtlWalw4jEK",
        "outputId": "25e50295-00f9-4188-9b28-9cb2b00600c0"
      },
      "execution_count": 142,
      "outputs": [
        {
          "output_type": "execute_result",
          "data": {
            "application/vnd.google.colaboratory.intrinsic+json": {
              "type": "string"
            },
            "text/plain": [
              "'A'"
            ]
          },
          "metadata": {},
          "execution_count": 142
        }
      ]
    },
    {
      "cell_type": "code",
      "source": [
        "abc"
      ],
      "metadata": {
        "colab": {
          "base_uri": "https://localhost:8080/"
        },
        "id": "K4UukC0G5Aep",
        "outputId": "95db195b-e902-4d1b-8117-eb232351eb1e"
      },
      "execution_count": 143,
      "outputs": [
        {
          "output_type": "execute_result",
          "data": {
            "text/plain": [
              "['a', 'b', 'c', 'd', 'e', 'f']"
            ]
          },
          "metadata": {},
          "execution_count": 143
        }
      ]
    },
    {
      "cell_type": "code",
      "source": [
        "#Cambiamos de manera fija y manual algunas letras a mayusculas\n",
        "abc[:2] = ['A','B']"
      ],
      "metadata": {
        "id": "DJz67Q8r5N9G"
      },
      "execution_count": 144,
      "outputs": []
    },
    {
      "cell_type": "code",
      "source": [
        "abc"
      ],
      "metadata": {
        "colab": {
          "base_uri": "https://localhost:8080/"
        },
        "id": "ugOdhzOx5nZk",
        "outputId": "a1e546a4-5cad-4089-cda0-7d73c04e131f"
      },
      "execution_count": 145,
      "outputs": [
        {
          "output_type": "execute_result",
          "data": {
            "text/plain": [
              "['A', 'B', 'c', 'd', 'e', 'f']"
            ]
          },
          "metadata": {},
          "execution_count": 145
        }
      ]
    },
    {
      "cell_type": "code",
      "source": [
        "#Queremos quitar las letras 'A' y 'B'\n",
        "abc [:2] = []"
      ],
      "metadata": {
        "id": "K502_8fc5v-j"
      },
      "execution_count": 146,
      "outputs": []
    },
    {
      "cell_type": "code",
      "source": [
        "abc"
      ],
      "metadata": {
        "colab": {
          "base_uri": "https://localhost:8080/"
        },
        "id": "lrEOu2-o5_9O",
        "outputId": "162d5e9b-7181-4cfc-93de-a07322b84f56"
      },
      "execution_count": 147,
      "outputs": [
        {
          "output_type": "execute_result",
          "data": {
            "text/plain": [
              "['c', 'd', 'e', 'f']"
            ]
          },
          "metadata": {},
          "execution_count": 147
        }
      ]
    },
    {
      "cell_type": "code",
      "source": [
        "#Pedimos la longitud que tiene la lista abc ['length']\n",
        "len(abc)"
      ],
      "metadata": {
        "colab": {
          "base_uri": "https://localhost:8080/"
        },
        "id": "RjUI3vEK6lSg",
        "outputId": "f8320204-03b3-4696-91ec-582706c6f89f"
      },
      "execution_count": 149,
      "outputs": [
        {
          "output_type": "execute_result",
          "data": {
            "text/plain": [
              "4"
            ]
          },
          "metadata": {},
          "execution_count": 149
        }
      ]
    },
    {
      "cell_type": "code",
      "source": [
        "a = [1,2,3]\n",
        "b = [4,5,6]\n",
        "c = [7,8,9]\n",
        "r = [a,b,c]"
      ],
      "metadata": {
        "id": "1KNoldvo7VTA"
      },
      "execution_count": 153,
      "outputs": []
    },
    {
      "cell_type": "code",
      "source": [
        "r"
      ],
      "metadata": {
        "colab": {
          "base_uri": "https://localhost:8080/"
        },
        "id": "zrNqsb477mdc",
        "outputId": "386c5d80-314e-409b-c8b6-40776386c9cb"
      },
      "execution_count": 154,
      "outputs": [
        {
          "output_type": "execute_result",
          "data": {
            "text/plain": [
              "[[1, 2, 3], [4, 5, 6], [7, 8, 9]]"
            ]
          },
          "metadata": {},
          "execution_count": 154
        }
      ]
    },
    {
      "cell_type": "code",
      "source": [
        "#Pedimos a r el primer conjunto\n",
        "r[0]"
      ],
      "metadata": {
        "colab": {
          "base_uri": "https://localhost:8080/"
        },
        "id": "BKi_EEPg7r5Q",
        "outputId": "60820e5c-c390-4dbb-977d-bfaee5f18d45"
      },
      "execution_count": 155,
      "outputs": [
        {
          "output_type": "execute_result",
          "data": {
            "text/plain": [
              "[1, 2, 3]"
            ]
          },
          "metadata": {},
          "execution_count": 155
        }
      ]
    },
    {
      "cell_type": "code",
      "source": [
        "#Pedimos a r el ultimo conjunto\n",
        "r[-1]"
      ],
      "metadata": {
        "colab": {
          "base_uri": "https://localhost:8080/"
        },
        "id": "UzfxOUE17zc9",
        "outputId": "dc8ca70a-e192-4a91-ca16-a30f1cfb6057"
      },
      "execution_count": 156,
      "outputs": [
        {
          "output_type": "execute_result",
          "data": {
            "text/plain": [
              "[7, 8, 9]"
            ]
          },
          "metadata": {},
          "execution_count": 156
        }
      ]
    },
    {
      "cell_type": "code",
      "source": [
        "#Queremos el primer numero de r\n",
        "r[0][0]"
      ],
      "metadata": {
        "colab": {
          "base_uri": "https://localhost:8080/"
        },
        "id": "Wvg34No474vV",
        "outputId": "af9f8460-9375-4ff5-9e0b-8b2e4ae11f16"
      },
      "execution_count": 166,
      "outputs": [
        {
          "output_type": "execute_result",
          "data": {
            "text/plain": [
              "1"
            ]
          },
          "metadata": {},
          "execution_count": 166
        }
      ]
    },
    {
      "cell_type": "code",
      "source": [
        "#Queremos el numero 8 de r\n",
        "r[2][1]\n"
      ],
      "metadata": {
        "colab": {
          "base_uri": "https://localhost:8080/"
        },
        "id": "W_pBdk1aDnHw",
        "outputId": "a8b54ff2-f94e-4211-e507-ed45d14c2543"
      },
      "execution_count": 167,
      "outputs": [
        {
          "output_type": "execute_result",
          "data": {
            "text/plain": [
              "8"
            ]
          },
          "metadata": {},
          "execution_count": 167
        }
      ]
    },
    {
      "cell_type": "code",
      "source": [
        "#Queremos multiplicar el 6 por el 8\n",
        "r[1][2]*r[-1][-2]"
      ],
      "metadata": {
        "colab": {
          "base_uri": "https://localhost:8080/"
        },
        "id": "7gHK8K6uEPiT",
        "outputId": "8f52e7a6-f01f-493e-dd06-1cf01b06f234"
      },
      "execution_count": 171,
      "outputs": [
        {
          "output_type": "execute_result",
          "data": {
            "text/plain": [
              "48"
            ]
          },
          "metadata": {},
          "execution_count": 171
        }
      ]
    }
  ]
}