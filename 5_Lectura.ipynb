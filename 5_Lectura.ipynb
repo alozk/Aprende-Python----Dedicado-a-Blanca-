{
  "nbformat": 4,
  "nbformat_minor": 0,
  "metadata": {
    "colab": {
      "name": "5.Lectura.ipynb",
      "provenance": []
    },
    "kernelspec": {
      "name": "python3",
      "display_name": "Python 3"
    },
    "language_info": {
      "name": "python"
    }
  },
  "cells": [
    {
      "cell_type": "code",
      "execution_count": 8,
      "metadata": {
        "colab": {
          "base_uri": "https://localhost:8080/"
        },
        "id": "6XoiVbBuoJbU",
        "outputId": "4fb94fc0-7dcc-4977-fa3f-4012b291536b"
      },
      "outputs": [
        {
          "name": "stdout",
          "output_type": "stream",
          "text": [
            "Alvaro\n"
          ]
        }
      ],
      "source": [
        "#Introducimos una palabra a nuestra variable con input\n",
        "variable = input()"
      ]
    },
    {
      "cell_type": "code",
      "source": [
        "variable"
      ],
      "metadata": {
        "colab": {
          "base_uri": "https://localhost:8080/",
          "height": 35
        },
        "id": "XmjT2CgBojg2",
        "outputId": "87e1476c-cae8-435e-9a7b-f8f129345df7"
      },
      "execution_count": 9,
      "outputs": [
        {
          "output_type": "execute_result",
          "data": {
            "application/vnd.google.colaboratory.intrinsic+json": {
              "type": "string"
            },
            "text/plain": [
              "'Alvaro'"
            ]
          },
          "metadata": {},
          "execution_count": 9
        }
      ]
    },
    {
      "cell_type": "code",
      "source": [
        "#Si introducimos otro valor, coge el último (sigue el orden del 'run')\n",
        "variable = input()"
      ],
      "metadata": {
        "colab": {
          "base_uri": "https://localhost:8080/"
        },
        "id": "uJZ5dZQholnN",
        "outputId": "76270450-c18c-47b1-f514-1d522f92a4e7"
      },
      "execution_count": 11,
      "outputs": [
        {
          "name": "stdout",
          "output_type": "stream",
          "text": [
            "1997\n"
          ]
        }
      ]
    },
    {
      "cell_type": "code",
      "source": [
        "#Podemos acompañarlo con texto, por ejemplo:\n",
        "variable = input('La variable introducida es: ')"
      ],
      "metadata": {
        "colab": {
          "base_uri": "https://localhost:8080/"
        },
        "id": "ai2KJvoCpmUY",
        "outputId": "31d9269b-2aa1-4c05-f5e3-056755938d00"
      },
      "execution_count": 13,
      "outputs": [
        {
          "name": "stdout",
          "output_type": "stream",
          "text": [
            "La variable introducida es: 123\n"
          ]
        }
      ]
    },
    {
      "cell_type": "code",
      "source": [
        "#Si quisieramos modificar su valor mediante una operacion\n",
        "variable + 5\n",
        "#Esto no funciona"
      ],
      "metadata": {
        "colab": {
          "base_uri": "https://localhost:8080/",
          "height": 200
        },
        "id": "7BY3vKOzt9po",
        "outputId": "a55c69f3-d5c0-490f-8a0c-47f812878904"
      },
      "execution_count": 15,
      "outputs": [
        {
          "output_type": "error",
          "ename": "TypeError",
          "evalue": "ignored",
          "traceback": [
            "\u001b[0;31m---------------------------------------------------------------------------\u001b[0m",
            "\u001b[0;31mTypeError\u001b[0m                                 Traceback (most recent call last)",
            "\u001b[0;32m<ipython-input-15-aa372b0dcd16>\u001b[0m in \u001b[0;36m<module>\u001b[0;34m()\u001b[0m\n\u001b[1;32m      1\u001b[0m \u001b[0;31m#Si quisieramos modificar su valor mediante una operacion\u001b[0m\u001b[0;34m\u001b[0m\u001b[0;34m\u001b[0m\u001b[0;34m\u001b[0m\u001b[0m\n\u001b[0;32m----> 2\u001b[0;31m \u001b[0mvariable\u001b[0m \u001b[0;34m+\u001b[0m \u001b[0;36m5\u001b[0m\u001b[0;34m\u001b[0m\u001b[0;34m\u001b[0m\u001b[0m\n\u001b[0m\u001b[1;32m      3\u001b[0m \u001b[0;31m#Esto no funciona\u001b[0m\u001b[0;34m\u001b[0m\u001b[0;34m\u001b[0m\u001b[0;34m\u001b[0m\u001b[0m\n",
            "\u001b[0;31mTypeError\u001b[0m: can only concatenate str (not \"int\") to str"
          ]
        }
      ]
    },
    {
      "cell_type": "code",
      "source": [
        "#TypeError: can only concatenate str (not \"int\") to str\n",
        "#Pues convertimos el contenido de la variable en 'int'\n",
        "variable = int(variable)"
      ],
      "metadata": {
        "id": "EDuuojg1ua3v"
      },
      "execution_count": 16,
      "outputs": []
    },
    {
      "cell_type": "code",
      "source": [
        "#Probamos hacerle una operacion ahora\n",
        "variable + 5"
      ],
      "metadata": {
        "colab": {
          "base_uri": "https://localhost:8080/"
        },
        "id": "y0BosdsKulo8",
        "outputId": "6fe27bcd-1810-4d98-d56a-6f49e331fda9"
      },
      "execution_count": 19,
      "outputs": [
        {
          "output_type": "execute_result",
          "data": {
            "text/plain": [
              "128"
            ]
          },
          "metadata": {},
          "execution_count": 19
        }
      ]
    },
    {
      "cell_type": "code",
      "source": [
        "variable = input('Introduce un numero entero: ')"
      ],
      "metadata": {
        "colab": {
          "base_uri": "https://localhost:8080/"
        },
        "id": "A0lJA-zowK8c",
        "outputId": "9ef087d3-3c34-4f40-b5e5-558b6b3f664d"
      },
      "execution_count": 25,
      "outputs": [
        {
          "name": "stdout",
          "output_type": "stream",
          "text": [
            "Introduce un numero entero: 12.4\n"
          ]
        }
      ]
    },
    {
      "cell_type": "code",
      "source": [
        "#No hemos introducido uno entero, por lo que ahora nos dará error\n",
        "variable = int(variable)"
      ],
      "metadata": {
        "colab": {
          "base_uri": "https://localhost:8080/",
          "height": 182
        },
        "id": "RvkMSca7wXX1",
        "outputId": "c9a30129-d324-4ab8-ea43-4bfa73cefdb7"
      },
      "execution_count": 26,
      "outputs": [
        {
          "output_type": "error",
          "ename": "ValueError",
          "evalue": "ignored",
          "traceback": [
            "\u001b[0;31m---------------------------------------------------------------------------\u001b[0m",
            "\u001b[0;31mValueError\u001b[0m                                Traceback (most recent call last)",
            "\u001b[0;32m<ipython-input-26-3b5b896ec2f6>\u001b[0m in \u001b[0;36m<module>\u001b[0;34m()\u001b[0m\n\u001b[1;32m      1\u001b[0m \u001b[0;31m#No hemos introducido uno entero, por lo que ahora nos dará error\u001b[0m\u001b[0;34m\u001b[0m\u001b[0;34m\u001b[0m\u001b[0;34m\u001b[0m\u001b[0m\n\u001b[0;32m----> 2\u001b[0;31m \u001b[0mvariable\u001b[0m \u001b[0;34m=\u001b[0m \u001b[0mint\u001b[0m\u001b[0;34m(\u001b[0m\u001b[0mvariable\u001b[0m\u001b[0;34m)\u001b[0m\u001b[0;34m\u001b[0m\u001b[0;34m\u001b[0m\u001b[0m\n\u001b[0m",
            "\u001b[0;31mValueError\u001b[0m: invalid literal for int() with base 10: '12.4'"
          ]
        }
      ]
    },
    {
      "cell_type": "code",
      "source": [
        "#ValueError: invalid literal for int() with base 10: '12.4'\n",
        "#Da eror por que no es un 'int' sino un 'float'\n",
        "variable = float(variable)\n",
        "#ahora no tendría que dar error"
      ],
      "metadata": {
        "id": "3vbe7lBIwjho"
      },
      "execution_count": 27,
      "outputs": []
    }
  ]
}