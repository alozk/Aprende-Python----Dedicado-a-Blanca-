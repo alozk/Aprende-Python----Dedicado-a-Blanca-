{
  "nbformat": 4,
  "nbformat_minor": 0,
  "metadata": {
    "colab": {
      "name": "7_Operadores_logicos.ipynb",
      "provenance": []
    },
    "kernelspec": {
      "name": "python3",
      "display_name": "Python 3"
    },
    "language_info": {
      "name": "python"
    }
  },
  "cells": [
    {
      "cell_type": "markdown",
      "source": [
        "# Operadores lógicos"
      ],
      "metadata": {
        "id": "RCPTnPxND7kJ"
      }
    },
    {
      "cell_type": "code",
      "execution_count": 3,
      "metadata": {
        "colab": {
          "base_uri": "https://localhost:8080/"
        },
        "id": "9Ng2hDpIwmPv",
        "outputId": "188dc48b-bcb8-4a2b-b7cc-b9b496639d80"
      },
      "outputs": [
        {
          "output_type": "execute_result",
          "data": {
            "text/plain": [
              "False"
            ]
          },
          "metadata": {},
          "execution_count": 3
        }
      ],
      "source": [
        "#La negacion de la verdad es mentira\n",
        "not True"
      ]
    },
    {
      "cell_type": "code",
      "source": [
        "#La negacion de la mentira es verdad\n",
        "not True == False"
      ],
      "metadata": {
        "colab": {
          "base_uri": "https://localhost:8080/"
        },
        "id": "gBJBElVdxXVZ",
        "outputId": "818f5680-bcb0-4b63-e18e-cbda7c342419"
      },
      "execution_count": 4,
      "outputs": [
        {
          "output_type": "execute_result",
          "data": {
            "text/plain": [
              "True"
            ]
          },
          "metadata": {},
          "execution_count": 4
        }
      ]
    },
    {
      "cell_type": "markdown",
      "source": [
        "Tenemos 2 formas de expresión lógica:\n",
        "\n",
        "1.   Conjunción (agrupa uniendo)\n",
        "2.   Disyunción (agrupa separando)\n",
        "\n",
        "La unión lógica es con 'y' ['and']\n",
        "La separación lógica con 'o' ['or']\n",
        "\n",
        "\n",
        "\n"
      ],
      "metadata": {
        "id": "sh9I4icWxxGh"
      }
    },
    {
      "cell_type": "markdown",
      "source": [
        "# Expresión lógica con 'and'"
      ],
      "metadata": {
        "id": "HRioJSsxEWN6"
      }
    },
    {
      "cell_type": "code",
      "source": [
        "#Me llamo Álvaro y estoy contento\n",
        "#Lo cual es VERDADERO y VERDADERO\n",
        "True and True\n"
      ],
      "metadata": {
        "colab": {
          "base_uri": "https://localhost:8080/"
        },
        "id": "sK1oue-xyYVj",
        "outputId": "896bbcb5-fdda-48fa-c39b-ffb3f6a6aabb"
      },
      "execution_count": 5,
      "outputs": [
        {
          "output_type": "execute_result",
          "data": {
            "text/plain": [
              "True"
            ]
          },
          "metadata": {},
          "execution_count": 5
        }
      ]
    },
    {
      "cell_type": "code",
      "source": [
        "#Me llamo Francisco y estoy contento\n",
        "#Lo cual es FALSO y VERDADERO\n",
        "False and True"
      ],
      "metadata": {
        "colab": {
          "base_uri": "https://localhost:8080/"
        },
        "id": "Bu12SaQWyozm",
        "outputId": "943c42a8-3883-4236-a445-993a654886a7"
      },
      "execution_count": 6,
      "outputs": [
        {
          "output_type": "execute_result",
          "data": {
            "text/plain": [
              "False"
            ]
          },
          "metadata": {},
          "execution_count": 6
        }
      ]
    },
    {
      "cell_type": "code",
      "source": [
        "#No decir toda la verdad es considerado falso\n",
        "True and False"
      ],
      "metadata": {
        "colab": {
          "base_uri": "https://localhost:8080/"
        },
        "id": "rg5CK2idzQ3s",
        "outputId": "5a14e4dd-80b0-4ae0-934b-6d1ef4dca874"
      },
      "execution_count": 7,
      "outputs": [
        {
          "output_type": "execute_result",
          "data": {
            "text/plain": [
              "False"
            ]
          },
          "metadata": {},
          "execution_count": 7
        }
      ]
    },
    {
      "cell_type": "code",
      "source": [
        "#Dos mentiras o falsedades son por tanto:\n",
        "False and False"
      ],
      "metadata": {
        "colab": {
          "base_uri": "https://localhost:8080/"
        },
        "id": "ZC7AsfaTzZh9",
        "outputId": "545e39fd-9208-4ca6-b089-7612642e146c"
      },
      "execution_count": 9,
      "outputs": [
        {
          "output_type": "execute_result",
          "data": {
            "text/plain": [
              "False"
            ]
          },
          "metadata": {},
          "execution_count": 9
        }
      ]
    },
    {
      "cell_type": "markdown",
      "source": [
        "Llevémoslo a la práctica con números:\n",
        "\n"
      ],
      "metadata": {
        "id": "bX08Lxnn2dNC"
      }
    },
    {
      "cell_type": "code",
      "source": [
        "a = 6\n",
        "a <10 and a >4"
      ],
      "metadata": {
        "colab": {
          "base_uri": "https://localhost:8080/"
        },
        "id": "3n4aCrTi2k5x",
        "outputId": "49ae5069-c99d-4bb8-ef9e-e5a22d07d2c3"
      },
      "execution_count": 13,
      "outputs": [
        {
          "output_type": "execute_result",
          "data": {
            "text/plain": [
              "True"
            ]
          },
          "metadata": {},
          "execution_count": 13
        }
      ]
    },
    {
      "cell_type": "code",
      "source": [
        "a = 6\n",
        "a <10 and a >7"
      ],
      "metadata": {
        "colab": {
          "base_uri": "https://localhost:8080/"
        },
        "id": "czKTLeHQ2uy0",
        "outputId": "16c1588b-51ae-463d-ca97-3c7846949112"
      },
      "execution_count": 14,
      "outputs": [
        {
          "output_type": "execute_result",
          "data": {
            "text/plain": [
              "False"
            ]
          },
          "metadata": {},
          "execution_count": 14
        }
      ]
    },
    {
      "cell_type": "code",
      "source": [
        "#¿Mi cadena tiene mas de 40 caracteres y empieza por la M?\n",
        "cadena = 'Me llamo Álvaro, bienvenido a mi respositorio \"Aprende Python para Blanca\"'\n",
        "len(cadena) >40 and cadena[0] == 'M'"
      ],
      "metadata": {
        "colab": {
          "base_uri": "https://localhost:8080/"
        },
        "id": "oz5DeMmp3IFF",
        "outputId": "f8a020ac-a5d6-4187-e773-b9ac06563982"
      },
      "execution_count": 24,
      "outputs": [
        {
          "output_type": "execute_result",
          "data": {
            "text/plain": [
              "True"
            ]
          },
          "metadata": {},
          "execution_count": 24
        }
      ]
    },
    {
      "cell_type": "code",
      "source": [
        "cadena = 'Me llamo Álvaro, bienvenido a mi respositorio \"Aprende Python para Blanca\"'\n",
        "len(cadena) >40 and cadena[0] == 'e'"
      ],
      "metadata": {
        "colab": {
          "base_uri": "https://localhost:8080/"
        },
        "id": "XiISOCIP50UQ",
        "outputId": "7ddcee7d-678d-43ba-d83e-41bd75d5dc95"
      },
      "execution_count": 23,
      "outputs": [
        {
          "output_type": "execute_result",
          "data": {
            "text/plain": [
              "False"
            ]
          },
          "metadata": {},
          "execution_count": 23
        }
      ]
    },
    {
      "cell_type": "markdown",
      "source": [
        "# Expresión lógica con 'or'\n",
        "\n",
        "Ahora vemos como funciona el True y False usando el 'or'"
      ],
      "metadata": {
        "id": "qjjflVU673Cc"
      }
    },
    {
      "cell_type": "code",
      "source": [
        "#La diferencia respecto al 'y' se aprecia aquí:\n",
        "True or True"
      ],
      "metadata": {
        "colab": {
          "base_uri": "https://localhost:8080/"
        },
        "id": "2KSnEUgsC1M5",
        "outputId": "bcc3ffe5-01a3-4dbe-9904-951482f414d8"
      },
      "execution_count": 25,
      "outputs": [
        {
          "output_type": "execute_result",
          "data": {
            "text/plain": [
              "True"
            ]
          },
          "metadata": {},
          "execution_count": 25
        }
      ]
    },
    {
      "cell_type": "code",
      "source": [
        "#Con que una de las condiciones sea verdadera, será True\n",
        "cadena = 'Me llamo Álvaro, bienvenido a mi respositorio \"Aprende Python para Blanca\"'\n",
        "len(cadena) <10 or cadena[7] == 'o'"
      ],
      "metadata": {
        "colab": {
          "base_uri": "https://localhost:8080/"
        },
        "id": "HpKGXSfmDDhh",
        "outputId": "8b7b3fe6-beeb-45b0-fe9b-db208f86b5ec"
      },
      "execution_count": 29,
      "outputs": [
        {
          "output_type": "execute_result",
          "data": {
            "text/plain": [
              "True"
            ]
          },
          "metadata": {},
          "execution_count": 29
        }
      ]
    },
    {
      "cell_type": "code",
      "source": [
        "#Imaginemos que usando un programa, hay un comando que hace referencia a saludar:\n",
        "z = 'HOLA'\n",
        "z == 'HI' or z == 'HELLO' or z == 'HOLA' or z == '안녕하셔요'"
      ],
      "metadata": {
        "colab": {
          "base_uri": "https://localhost:8080/"
        },
        "id": "83BAIuPeDvrQ",
        "outputId": "83129d64-d70f-4d67-dd44-c068c976f88c"
      },
      "execution_count": 32,
      "outputs": [
        {
          "output_type": "execute_result",
          "data": {
            "text/plain": [
              "True"
            ]
          },
          "metadata": {},
          "execution_count": 32
        }
      ]
    },
    {
      "cell_type": "code",
      "source": [
        "#Compruebo si una palabra empieza por una letra, sea en minúscula o mayúscula\n",
        "nombre = 'Blanca'\n",
        "nombre[0] == 'B' or 'b'"
      ],
      "metadata": {
        "colab": {
          "base_uri": "https://localhost:8080/"
        },
        "id": "w1KvX64-Gana",
        "outputId": "6d6cbeb2-1683-447f-ea1a-53124f5b5ed2"
      },
      "execution_count": 35,
      "outputs": [
        {
          "output_type": "execute_result",
          "data": {
            "text/plain": [
              "True"
            ]
          },
          "metadata": {},
          "execution_count": 35
        }
      ]
    }
  ]
}