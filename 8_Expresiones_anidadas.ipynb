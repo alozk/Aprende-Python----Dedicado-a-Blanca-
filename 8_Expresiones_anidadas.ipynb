{
  "nbformat": 4,
  "nbformat_minor": 0,
  "metadata": {
    "colab": {
      "name": "8_Expresiones_anidadas.ipynb",
      "provenance": []
    },
    "kernelspec": {
      "name": "python3",
      "display_name": "Python 3"
    },
    "language_info": {
      "name": "python"
    }
  },
  "cells": [
    {
      "cell_type": "markdown",
      "source": [
        "# Expresiones anidadas"
      ],
      "metadata": {
        "id": "VzNMI0whUhiV"
      }
    },
    {
      "cell_type": "markdown",
      "source": [
        "Veamos cuales son las prioridades en las operaciones:\n",
        "\n",
        "\n",
        "\n",
        "1.   **Paréntesis**\n",
        "    \n",
        "    5 * 2 - 2**2 >= 20 and not (10 % 5) != 0\n",
        "    \n",
        "    5 * 2 - 2**2 >= 20 and not 0 != 0 #paréntesis\n",
        "\n",
        "2.  **Expresiones aritméticas por sus propias reglas**\n",
        "\n",
        "    5 * 2 - 2**2 >= 20 and not 0 !=0\n",
        "    \n",
        "    5 * 2 - 4 >= 20 and not 0 !=0 #exponente\n",
        "    \n",
        "    10 - 4 >= 20 and not 0 !=0 #multiplicación\n",
        "    \n",
        "    6 >= 20 and not 0 !=0 #resta\n",
        "\n",
        "3. **Los lógicos**\n",
        "\n",
        "    False and not True\n",
        "    \n",
        "    False and True\n",
        "    \n",
        "    False"
      ],
      "metadata": {
        "id": "F6E9qA2oJcox"
      }
    },
    {
      "cell_type": "markdown",
      "source": [
        "Veamos otro ejemplo pero corriendo el código:"
      ],
      "metadata": {
        "id": "aiIpSpa8UGGC"
      }
    },
    {
      "cell_type": "code",
      "source": [
        "    10 * 2 - 2**2 >= 8 and not (8 % 2) != 0\n",
        "\n",
        "    10 * 2 - 2**2 >= 8 and not 0 != 0         #primero, el paréntesis\n",
        "    \n",
        "    10 * 2 - 4 >= 8 and not 0 !=0             #segundo, el exponente\n",
        "    \n",
        "    20 - 4 >= 8 and not 0 !=0                 #tercero, la multiplicación\n",
        "    \n",
        "    16 >= 8 and not 0 !=0                     #cuarto, la resta"
      ],
      "metadata": {
        "colab": {
          "base_uri": "https://localhost:8080/"
        },
        "id": "8C8kPEuzSZd5",
        "outputId": "7f999bc0-5fdc-4ba3-d36e-a699732d4175"
      },
      "execution_count": 15,
      "outputs": [
        {
          "output_type": "execute_result",
          "data": {
            "text/plain": [
              "True"
            ]
          },
          "metadata": {},
          "execution_count": 15
        }
      ]
    },
    {
      "cell_type": "markdown",
      "source": [
        "Modificamos un único parámetro para que dé falso:"
      ],
      "metadata": {
        "id": "a7k48NHkUM5E"
      }
    },
    {
      "cell_type": "code",
      "source": [
        "    10 * 2 - 2**2 >= 8 and (8 % 2) != 0\n",
        "\n",
        "    10 * 2 - 2**2 >= 8 and 0 != 0         #primero, el paréntesis\n",
        "    \n",
        "    10 * 2 - 4 >= 8 and 0 !=0             #segundo, el exponente\n",
        "    \n",
        "    20 - 4 >= 8 and 0 !=0                 #tercero, la multiplicación\n",
        "    \n",
        "    16 >= 8 and 0 !=0                     #cuarto, la resta"
      ],
      "metadata": {
        "colab": {
          "base_uri": "https://localhost:8080/"
        },
        "id": "oUH2PnzWS1dz",
        "outputId": "96cb1229-7820-4d4c-af8c-d53c0c6ca01c"
      },
      "execution_count": 14,
      "outputs": [
        {
          "output_type": "execute_result",
          "data": {
            "text/plain": [
              "False"
            ]
          },
          "metadata": {},
          "execution_count": 14
        }
      ]
    }
  ]
}