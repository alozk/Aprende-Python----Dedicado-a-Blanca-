{
  "nbformat": 4,
  "nbformat_minor": 0,
  "metadata": {
    "colab": {
      "name": "9_Operadores_asignacion.ipynb",
      "provenance": []
    },
    "kernelspec": {
      "name": "python3",
      "display_name": "Python 3"
    },
    "language_info": {
      "name": "python"
    }
  },
  "cells": [
    {
      "cell_type": "markdown",
      "source": [
        "# Introducción básica"
      ],
      "metadata": {
        "id": "0rwwawFpGWaM"
      }
    },
    {
      "cell_type": "code",
      "execution_count": 1,
      "metadata": {
        "id": "fy0ftpj7EGjx"
      },
      "outputs": [],
      "source": [
        "a = 1 #Asignación simple"
      ]
    },
    {
      "cell_type": "code",
      "source": [
        "a += 1 #Suma en asignación\n",
        "a"
      ],
      "metadata": {
        "colab": {
          "base_uri": "https://localhost:8080/"
        },
        "id": "QZQD_C2GEX20",
        "outputId": "6355d238-5e37-414c-967c-dae7d4d09230"
      },
      "execution_count": 2,
      "outputs": [
        {
          "output_type": "execute_result",
          "data": {
            "text/plain": [
              "2"
            ]
          },
          "metadata": {},
          "execution_count": 2
        }
      ]
    },
    {
      "cell_type": "code",
      "source": [
        "a += 1 #Si ejecutamos otra vez, sumará otra unidad\n",
        "a"
      ],
      "metadata": {
        "colab": {
          "base_uri": "https://localhost:8080/"
        },
        "id": "05Lp0KQ4E5gi",
        "outputId": "59e5d977-5c2d-47ea-fa56-89204691ec4c"
      },
      "execution_count": 3,
      "outputs": [
        {
          "output_type": "execute_result",
          "data": {
            "text/plain": [
              "3"
            ]
          },
          "metadata": {},
          "execution_count": 3
        }
      ]
    },
    {
      "cell_type": "code",
      "source": [
        "a -= 4 #Resta en asignación, como antes, restará en cada ejecución.\n",
        "#Restará 4 cada vez en este caso.\n",
        "a"
      ],
      "metadata": {
        "colab": {
          "base_uri": "https://localhost:8080/"
        },
        "id": "JTQIkGmlFFTV",
        "outputId": "837757f2-c9c9-4ab3-8cdd-21a408bc3b13"
      },
      "execution_count": 4,
      "outputs": [
        {
          "output_type": "execute_result",
          "data": {
            "text/plain": [
              "-1"
            ]
          },
          "metadata": {},
          "execution_count": 4
        }
      ]
    },
    {
      "cell_type": "code",
      "source": [
        "a *= 2 #Multiplicación en asignación\n",
        "a"
      ],
      "metadata": {
        "colab": {
          "base_uri": "https://localhost:8080/"
        },
        "id": "t_Tgy1COFjQf",
        "outputId": "afefe36d-3105-49b6-af95-1089c4a2c226"
      },
      "execution_count": 5,
      "outputs": [
        {
          "output_type": "execute_result",
          "data": {
            "text/plain": [
              "-2"
            ]
          },
          "metadata": {},
          "execution_count": 5
        }
      ]
    },
    {
      "cell_type": "code",
      "source": [
        "a /= 2 #División en asignación\n",
        "a"
      ],
      "metadata": {
        "colab": {
          "base_uri": "https://localhost:8080/"
        },
        "id": "dVw4rhxXFWnm",
        "outputId": "6f5b2051-3d6a-4a0a-924d-193092739afb"
      },
      "execution_count": 6,
      "outputs": [
        {
          "output_type": "execute_result",
          "data": {
            "text/plain": [
              "-1.0"
            ]
          },
          "metadata": {},
          "execution_count": 6
        }
      ]
    },
    {
      "cell_type": "code",
      "source": [
        "#Potencia en asignación\n",
        "\n",
        "a = 2\n",
        "a **= 6\n",
        "a"
      ],
      "metadata": {
        "colab": {
          "base_uri": "https://localhost:8080/"
        },
        "id": "gKsLSIBKGKV5",
        "outputId": "a5789299-136c-48c8-9599-0d1c7af3543c"
      },
      "execution_count": 7,
      "outputs": [
        {
          "output_type": "execute_result",
          "data": {
            "text/plain": [
              "64"
            ]
          },
          "metadata": {},
          "execution_count": 7
        }
      ]
    },
    {
      "cell_type": "markdown",
      "source": [
        "# Avanzamos"
      ],
      "metadata": {
        "id": "6gOZCsW2GdV8"
      }
    },
    {
      "cell_type": "code",
      "source": [
        "n = 0                   #Asignación simple de 0 en n\n",
        "while n <= 8:           #Expresión relacional n <= 8, que devuelve True\n",
        "  if (n % 2) == 0:      #Expresión aritmética\n",
        "    print(n, 'es par')\n",
        "  else:\n",
        "    print(n, 'es impar')\n",
        "  n = n + 1             #Expresión aritmética n = n + 1 equivalente a operacion en asignación n += 1"
      ],
      "metadata": {
        "colab": {
          "base_uri": "https://localhost:8080/"
        },
        "id": "mW6HZ83JGgVm",
        "outputId": "60f9bec1-b75a-4144-c801-8e5396d0128c"
      },
      "execution_count": 19,
      "outputs": [
        {
          "output_type": "stream",
          "name": "stdout",
          "text": [
            "0 es par\n",
            "1 es impar\n",
            "2 es par\n",
            "3 es impar\n",
            "4 es par\n",
            "5 es impar\n",
            "6 es par\n",
            "7 es impar\n",
            "8 es par\n"
          ]
        }
      ]
    }
  ]
}