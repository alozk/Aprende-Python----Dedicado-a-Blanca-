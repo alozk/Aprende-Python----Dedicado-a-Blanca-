{
  "nbformat": 4,
  "nbformat_minor": 0,
  "metadata": {
    "colab": {
      "name": "10_Sentencia_if.ipynb",
      "provenance": []
    },
    "kernelspec": {
      "name": "python3",
      "display_name": "Python 3"
    },
    "language_info": {
      "name": "python"
    }
  },
  "cells": [
    {
      "cell_type": "markdown",
      "source": [
        "# IF\n",
        "La sentencia 'if' se utiliza para ejecutar un bloque de código **si se cumple una determinada condición.**"
      ],
      "metadata": {
        "id": "nvMAS_IPfKvd"
      }
    },
    {
      "cell_type": "code",
      "execution_count": 3,
      "metadata": {
        "colab": {
          "base_uri": "https://localhost:8080/"
        },
        "id": "TDAno-S9K_FJ",
        "outputId": "7955d0e1-9149-41a1-eb07-35a8f667c524"
      },
      "outputs": [
        {
          "output_type": "stream",
          "name": "stdout",
          "text": [
            "Condición cumplida\n"
          ]
        }
      ],
      "source": [
        "if True:                      #No olvidar los ':'\n",
        "  print('Condición cumplida')"
      ]
    },
    {
      "cell_type": "code",
      "source": [
        "if False:\n",
        "  print('Condición cumplida')"
      ],
      "metadata": {
        "id": "Cr2QpTxjPoEN"
      },
      "execution_count": 4,
      "outputs": []
    },
    {
      "cell_type": "code",
      "source": [
        "if not False:\n",
        "  print('Condición cumplida')"
      ],
      "metadata": {
        "colab": {
          "base_uri": "https://localhost:8080/"
        },
        "id": "ic_cILfxPtvq",
        "outputId": "92034d9d-8025-4dc1-fc60-d7179be18993"
      },
      "execution_count": 5,
      "outputs": [
        {
          "output_type": "stream",
          "name": "stdout",
          "text": [
            "Condición cumplida\n"
          ]
        }
      ]
    },
    {
      "cell_type": "code",
      "source": [
        "a = 2\n",
        "if a == 7:          #no olvidar los ':' después de la sentencia if\n",
        "  print('a vale siete')\n",
        "if a == 2:\n",
        "  print('a vale dos')"
      ],
      "metadata": {
        "colab": {
          "base_uri": "https://localhost:8080/"
        },
        "id": "GQj2_dAVPwih",
        "outputId": "4800160e-4deb-440a-fc73-8b5665dc7096"
      },
      "execution_count": 11,
      "outputs": [
        {
          "output_type": "stream",
          "name": "stdout",
          "text": [
            "a vale dos\n"
          ]
        }
      ]
    },
    {
      "cell_type": "code",
      "source": [
        "a = 3\n",
        "b = 9\n",
        "if a == 3:\n",
        "  print('a vale:',a)  #no olvidar la ','\n",
        "  if b == 9:\n",
        "    print('b vale:',b)"
      ],
      "metadata": {
        "colab": {
          "base_uri": "https://localhost:8080/"
        },
        "id": "QsObYenNQjht",
        "outputId": "1cfe465a-0012-47ff-a1ff-1fbf6066ca01"
      },
      "execution_count": 15,
      "outputs": [
        {
          "output_type": "stream",
          "name": "stdout",
          "text": [
            "a vale: 3\n",
            "b vale: 9\n"
          ]
        }
      ]
    },
    {
      "cell_type": "code",
      "source": [
        "if a==3 and b == 9:\n",
        "  print('a vale',a,'y b vale',b)"
      ],
      "metadata": {
        "colab": {
          "base_uri": "https://localhost:8080/"
        },
        "id": "0NvkXiuxcEhc",
        "outputId": "461c610d-5845-4699-ee24-bec4c2e9aadb"
      },
      "execution_count": 17,
      "outputs": [
        {
          "output_type": "stream",
          "name": "stdout",
          "text": [
            "a vale 3 y b vale 9\n"
          ]
        }
      ]
    },
    {
      "cell_type": "markdown",
      "source": [
        "# ELSE\n",
        "La sentencia 'else' se ejecutará si el 'if' mencionado anteriormente en el bloque del código no se cumple. Es decir, **si lo mencionado anteriormente es False, entonces se ejecutará el 'else'**"
      ],
      "metadata": {
        "id": "EtBTo1aefPbl"
      }
    },
    {
      "cell_type": "code",
      "source": [
        "n = 7\n",
        "if n % 2 == 0:\n",
        "  print(n,'es un número par')\n",
        "else:                                 #else se utiliza si no se cumple la primera condicion\n",
        "  print(n,'es un número impar')"
      ],
      "metadata": {
        "colab": {
          "base_uri": "https://localhost:8080/"
        },
        "id": "oyWrfLQdcYHG",
        "outputId": "7ea7bdc9-c355-437f-cd96-d541a4f402e7"
      },
      "execution_count": 23,
      "outputs": [
        {
          "output_type": "stream",
          "name": "stdout",
          "text": [
            "7 es un número impar\n"
          ]
        }
      ]
    },
    {
      "cell_type": "markdown",
      "source": [
        "# ELIF\n",
        "Se utiliza para verificar varias condiciones al incluir una o más verificaciones 'elif' después de su declaración if inicial.\n",
        "\n",
        "**¡Solo se ejecutará una sola condición!**"
      ],
      "metadata": {
        "id": "fKx6dCmYf3m-"
      }
    },
    {
      "cell_type": "code",
      "source": [
        "orden = 'PASSWORD'                    #Introduce aquí la orden que quieras que se ejecute\n",
        "if orden == 'SALUDAR':\n",
        "  print('Hola, bienvenido.')\n",
        "elif orden == 'TIEMPO':\n",
        "  print('Soleado')\n",
        "elif orden == 'PASSWORD':\n",
        "  print('Introduzca la contraseña:')\n",
        "else:\n",
        "  print('Error. Orden no reconocida.')"
      ],
      "metadata": {
        "colab": {
          "base_uri": "https://localhost:8080/"
        },
        "id": "ElNuviJ3dFV3",
        "outputId": "9d13dbd7-c277-4b34-e5f6-518e5ddc95bb"
      },
      "execution_count": 30,
      "outputs": [
        {
          "output_type": "stream",
          "name": "stdout",
          "text": [
            "Introduzca la contraseña:\n"
          ]
        }
      ]
    },
    {
      "cell_type": "code",
      "source": [
        "orden = 'TIEMPO'                      #Introduce aquí la orden que quieras que se ejecute\n",
        "if orden == 'SALUDAR':\n",
        "  print('Hola, bienvenido.')\n",
        "elif orden == 'TIEMPO':\n",
        "  print('Soleado')\n",
        "elif orden == 'PASSWORD':\n",
        "  print('Introduzca la contraseña:')\n",
        "else:\n",
        "  print('Error. Orden no reconocida.')"
      ],
      "metadata": {
        "colab": {
          "base_uri": "https://localhost:8080/"
        },
        "id": "HGNvmZC6eu3T",
        "outputId": "c1eb5298-97c4-4f56-eba6-1fc1b1f1929b"
      },
      "execution_count": 31,
      "outputs": [
        {
          "output_type": "stream",
          "name": "stdout",
          "text": [
            "Soleado\n"
          ]
        }
      ]
    },
    {
      "cell_type": "code",
      "source": [
        "orden = 'APAGAR'                      #Introducimos una orden que no existe\n",
        "if orden == 'SALUDAR':\n",
        "  print('Hola, bienvenido.')\n",
        "elif orden == 'TIEMPO':\n",
        "  print('Soleado')\n",
        "elif orden == 'PASSWORD':\n",
        "  print('Introduzca la contraseña:')\n",
        "else:\n",
        "  print('Error. Orden no reconocida.')"
      ],
      "metadata": {
        "colab": {
          "base_uri": "https://localhost:8080/"
        },
        "id": "9hNS8dHQnovO",
        "outputId": "47805c12-5dc5-47aa-b6eb-857b83afb0c8"
      },
      "execution_count": 32,
      "outputs": [
        {
          "output_type": "stream",
          "name": "stdout",
          "text": [
            "Error. Orden no reconocida.\n"
          ]
        }
      ]
    },
    {
      "cell_type": "markdown",
      "source": [
        "Veamos otro ejemplo:"
      ],
      "metadata": {
        "id": "j4JnJiPPn66C"
      }
    },
    {
      "cell_type": "code",
      "source": [
        "edad = int(input('Introduce tu edad: '))\n",
        "if edad >=0 and edad <13:\n",
        "  print('Estás en la niñez')\n",
        "elif edad >= 13 and edad <21:\n",
        "  print('Estás en la adolescencia')\n",
        "elif edad >=21 and edad <65:\n",
        "  print('Estás en la adultez')\n",
        "elif edad >= 65:\n",
        "  print('Estás en la vejez')\n",
        "else:\n",
        "  print('¡No se puede tener edad negativa!')"
      ],
      "metadata": {
        "colab": {
          "base_uri": "https://localhost:8080/"
        },
        "id": "kdXUWPHAn-4O",
        "outputId": "4e09ca15-57f7-49e1-e8b9-81da59047a16"
      },
      "execution_count": 47,
      "outputs": [
        {
          "output_type": "stream",
          "name": "stdout",
          "text": [
            "Introduce tu edad: 24\n",
            "Estás en la adultez\n"
          ]
        }
      ]
    }
  ]
}