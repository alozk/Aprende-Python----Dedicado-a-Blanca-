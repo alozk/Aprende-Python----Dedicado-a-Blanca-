{
  "nbformat": 4,
  "nbformat_minor": 0,
  "metadata": {
    "colab": {
      "name": "b12_Sentencia_for.ipynb",
      "provenance": []
    },
    "kernelspec": {
      "name": "python3",
      "display_name": "Python 3"
    },
    "language_info": {
      "name": "python"
    }
  },
  "cells": [
    {
      "cell_type": "markdown",
      "source": [
        "# Introducción"
      ],
      "metadata": {
        "id": "97YD_M0oWHzP"
      }
    },
    {
      "cell_type": "code",
      "source": [
        "#Esta sería una forma de mostrar una lista con 'while'\n",
        "#Le decimos de mostrar los valores de numeros a través del indice\n",
        "#Mientras índice (0) sea menor que la 'len' de números (6), muestra los valores de números de 1 en 1\n",
        "numeros = [1,2,3,4,5,6]\n",
        "indice = 0\n",
        "while(indice < len(numeros)):\n",
        "  print(numeros[indice])\n",
        "  indice+=1"
      ],
      "metadata": {
        "colab": {
          "base_uri": "https://localhost:8080/"
        },
        "id": "YtkC9JiWWK8P",
        "outputId": "2fa4e408-9923-4a38-9029-4c3b7ef64cdd"
      },
      "execution_count": 3,
      "outputs": [
        {
          "output_type": "stream",
          "name": "stdout",
          "text": [
            "1\n",
            "2\n",
            "3\n",
            "4\n",
            "5\n",
            "6\n"
          ]
        }
      ]
    },
    {
      "cell_type": "markdown",
      "source": [
        "# FOR\n",
        "\n",
        "Entremos en materia, que esta lección es sobre el 'for' y no sobre el uso de 'while'.\n",
        "\n",
        "**¡Usando el 'for' podemos hacer lo anterior en 2 líneas de código!**"
      ],
      "metadata": {
        "id": "oyDF5Cz_Z6_B"
      }
    },
    {
      "cell_type": "code",
      "source": [
        "for numero in numeros:\n",
        "   print(numero)"
      ],
      "metadata": {
        "colab": {
          "base_uri": "https://localhost:8080/"
        },
        "id": "xTL7T49qbioK",
        "outputId": "a8b32c3f-6fd4-488b-9966-9cdfd883f63a"
      },
      "execution_count": 16,
      "outputs": [
        {
          "output_type": "stream",
          "name": "stdout",
          "text": [
            "1\n",
            "2\n",
            "3\n",
            "4\n",
            "5\n",
            "6\n"
          ]
        }
      ]
    },
    {
      "cell_type": "code",
      "source": [
        "#Pedimos que nos multiplique el contenido por 2\n",
        "indice = 0\n",
        "numeros = [1,2,3,4,5,6]\n",
        "for numero in numeros:\n",
        "    numeros[indice] *= 2\n",
        "    indice +=1\n",
        "numeros"
      ],
      "metadata": {
        "colab": {
          "base_uri": "https://localhost:8080/"
        },
        "id": "vTkBhcCdc1Zy",
        "outputId": "9fcbc470-0f21-42fe-8fa6-c4c535606526"
      },
      "execution_count": 29,
      "outputs": [
        {
          "output_type": "execute_result",
          "data": {
            "text/plain": [
              "[2, 4, 6, 8, 10, 12]"
            ]
          },
          "metadata": {},
          "execution_count": 29
        }
      ]
    },
    {
      "cell_type": "code",
      "source": [
        "#Para realizar los mismo sin crear indice, usamos 'enumerate'\n",
        "numeros = [1,2,3,4,5,6]\n",
        "for indice, numero in enumerate(numeros):\n",
        "  numeros[indice] *= 3\n",
        "numeros"
      ],
      "metadata": {
        "colab": {
          "base_uri": "https://localhost:8080/"
        },
        "id": "dTsyeRfke-Y1",
        "outputId": "5048b60e-e9f7-47e0-febe-df7eb8e4892f"
      },
      "execution_count": 32,
      "outputs": [
        {
          "output_type": "execute_result",
          "data": {
            "text/plain": [
              "[3, 6, 9, 12, 15, 18]"
            ]
          },
          "metadata": {},
          "execution_count": 32
        }
      ]
    },
    {
      "cell_type": "markdown",
      "source": [
        "Hemos visto con listas de números, sin embargo, también podemos recorrer cadenas de texto."
      ],
      "metadata": {
        "id": "TB8RGDTKgA-D"
      }
    },
    {
      "cell_type": "code",
      "source": [
        "texto = '¿Qué tal?'\n",
        "for caracter  in texto:\n",
        "  print(caracter)"
      ],
      "metadata": {
        "colab": {
          "base_uri": "https://localhost:8080/"
        },
        "id": "XxhY762mf_Wl",
        "outputId": "9ed04dbf-921c-4397-c7c4-1b8b1c9df223"
      },
      "execution_count": 34,
      "outputs": [
        {
          "output_type": "stream",
          "name": "stdout",
          "text": [
            "¿\n",
            "Q\n",
            "u\n",
            "é\n",
            " \n",
            "t\n",
            "a\n",
            "l\n",
            "?\n"
          ]
        }
      ]
    },
    {
      "cell_type": "code",
      "source": [
        ""
      ],
      "metadata": {
        "colab": {
          "base_uri": "https://localhost:8080/",
          "height": 189
        },
        "id": "BPje5DRigZV1",
        "outputId": "b3fb0759-0673-43a7-ed4c-5206e95adb8c"
      },
      "execution_count": 36,
      "outputs": [
        {
          "output_type": "error",
          "ename": "TypeError",
          "evalue": "ignored",
          "traceback": [
            "\u001b[0;31m---------------------------------------------------------------------------\u001b[0m",
            "\u001b[0;31mTypeError\u001b[0m                                 Traceback (most recent call last)",
            "\u001b[0;32m<ipython-input-36-00e8569e5e42>\u001b[0m in \u001b[0;36m<module>\u001b[0;34m()\u001b[0m\n\u001b[1;32m      1\u001b[0m \u001b[0;32mfor\u001b[0m \u001b[0mi\u001b[0m\u001b[0;34m,\u001b[0m \u001b[0mc\u001b[0m \u001b[0;32min\u001b[0m \u001b[0menumerate\u001b[0m\u001b[0;34m(\u001b[0m\u001b[0mtexto\u001b[0m\u001b[0;34m)\u001b[0m\u001b[0;34m:\u001b[0m\u001b[0;34m\u001b[0m\u001b[0;34m\u001b[0m\u001b[0m\n\u001b[0;32m----> 2\u001b[0;31m   \u001b[0mtexto\u001b[0m\u001b[0;34m[\u001b[0m\u001b[0mi\u001b[0m\u001b[0;34m]\u001b[0m \u001b[0;34m=\u001b[0m \u001b[0;34m'wd'\u001b[0m\u001b[0;34m\u001b[0m\u001b[0;34m\u001b[0m\u001b[0m\n\u001b[0m",
            "\u001b[0;31mTypeError\u001b[0m: 'str' object does not support item assignment"
          ]
        }
      ]
    },
    {
      "cell_type": "code",
      "source": [
        "#Si queremos susutituir los caracteres de un texto a otro\n",
        "#Imaginemos que de texto queremos un texto 2 que sustituya caracteres por '*'\n",
        "texto2 = \"\"\n",
        "for caracter in texto:\n",
        "  texto2 += '*'\n",
        "texto2\n",
        "#En texto2, cada caracter de texto 1 es modificado por *\n",
        "#'¿Qué tal?' tiene 9 caracteres, con lo cual habrá 9 asteriscos:"
      ],
      "metadata": {
        "colab": {
          "base_uri": "https://localhost:8080/",
          "height": 36
        },
        "id": "AsWhS-5Lg0I8",
        "outputId": "1beafc5f-cf0e-446d-8fc0-6d05c3f19029"
      },
      "execution_count": 49,
      "outputs": [
        {
          "output_type": "execute_result",
          "data": {
            "application/vnd.google.colaboratory.intrinsic+json": {
              "type": "string"
            },
            "text/plain": [
              "'*********'"
            ]
          },
          "metadata": {},
          "execution_count": 49
        }
      ]
    },
    {
      "cell_type": "code",
      "source": [
        "#Si queremos que cada caracter aparezca dos veces en texto2:\n",
        "texto2 = \"\"\n",
        "for caracter in texto:\n",
        "  texto2 += caracter * 2\n",
        "texto2"
      ],
      "metadata": {
        "colab": {
          "base_uri": "https://localhost:8080/",
          "height": 36
        },
        "id": "RtldFM3WjET4",
        "outputId": "f94bd109-59fc-4fdd-ab06-84b233a9433d"
      },
      "execution_count": 50,
      "outputs": [
        {
          "output_type": "execute_result",
          "data": {
            "application/vnd.google.colaboratory.intrinsic+json": {
              "type": "string"
            },
            "text/plain": [
              "'¿¿QQuuéé  ttaall??'"
            ]
          },
          "metadata": {},
          "execution_count": 50
        }
      ]
    },
    {
      "cell_type": "code",
      "source": [
        "#También podemos hacer uso de'for' con 'range'\n",
        "for i in range(5):\n",
        "  print(i)"
      ],
      "metadata": {
        "colab": {
          "base_uri": "https://localhost:8080/"
        },
        "id": "ZbLxBkm4psuP",
        "outputId": "7e8f2d7c-87dd-46c6-d279-ecf4dffcc8e7"
      },
      "execution_count": 57,
      "outputs": [
        {
          "output_type": "stream",
          "name": "stdout",
          "text": [
            "0\n",
            "1\n",
            "2\n",
            "3\n",
            "4\n"
          ]
        }
      ]
    }
  ]
}