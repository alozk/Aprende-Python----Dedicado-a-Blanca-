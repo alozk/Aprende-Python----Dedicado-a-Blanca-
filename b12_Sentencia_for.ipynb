{
  "nbformat": 4,
  "nbformat_minor": 0,
  "metadata": {
    "colab": {
      "name": "b12_Sentencia_for.ipynb",
      "provenance": []
    },
    "kernelspec": {
      "name": "python3",
      "display_name": "Python 3"
    },
    "language_info": {
      "name": "python"
    }
  },
  "cells": [
    {
      "cell_type": "markdown",
      "source": [
        "# Introducción"
      ],
      "metadata": {
        "id": "97YD_M0oWHzP"
      }
    },
    {
      "cell_type": "code",
      "source": [
        "#Esta sería una forma de mostrar una lista con 'while'\n",
        "#Le decimos de mostrar los valores de numeros a través del indice\n",
        "#Mientras índice (0) sea menor que la 'len' de números (6), muestra los valores de números de 1 en 1\n",
        "numeros = [1,2,3,4,5,6]\n",
        "indice = 0\n",
        "while(indice < len(numeros)):\n",
        "  print(numeros[indice])\n",
        "  indice+=1"
      ],
      "metadata": {
        "colab": {
          "base_uri": "https://localhost:8080/"
        },
        "id": "YtkC9JiWWK8P",
        "outputId": "825540cc-67b7-4c22-e8bb-7e2b2c42ddf4"
      },
      "execution_count": 1,
      "outputs": [
        {
          "output_type": "stream",
          "name": "stdout",
          "text": [
            "1\n",
            "2\n",
            "3\n",
            "4\n",
            "5\n",
            "6\n"
          ]
        }
      ]
    },
    {
      "cell_type": "markdown",
      "source": [
        "# FOR\n",
        "\n",
        "Entremos en materia, que esta lección es sobre el 'for' y no sobre el uso de 'while'.\n",
        "\n",
        "**¡Usando el 'for' podemos hacer lo anterior en 2 líneas de código!**"
      ],
      "metadata": {
        "id": "oyDF5Cz_Z6_B"
      }
    },
    {
      "cell_type": "code",
      "source": [
        "for numero in numeros:\n",
        "   print(numero)"
      ],
      "metadata": {
        "colab": {
          "base_uri": "https://localhost:8080/"
        },
        "id": "xTL7T49qbioK",
        "outputId": "9b47189e-c846-4f3f-a0bf-4f48943a8666"
      },
      "execution_count": 2,
      "outputs": [
        {
          "output_type": "stream",
          "name": "stdout",
          "text": [
            "1\n",
            "2\n",
            "3\n",
            "4\n",
            "5\n",
            "6\n"
          ]
        }
      ]
    },
    {
      "cell_type": "code",
      "source": [
        "#Pedimos que nos multiplique el contenido por 2\n",
        "indice = 0\n",
        "numeros = [1,2,3,4,5,6]\n",
        "for numero in numeros:\n",
        "    numeros[indice] *= 2\n",
        "    indice +=1\n",
        "numeros"
      ],
      "metadata": {
        "colab": {
          "base_uri": "https://localhost:8080/"
        },
        "id": "vTkBhcCdc1Zy",
        "outputId": "74ab0b93-3213-41d9-fc58-6c69e313cd79"
      },
      "execution_count": 3,
      "outputs": [
        {
          "output_type": "execute_result",
          "data": {
            "text/plain": [
              "[2, 4, 6, 8, 10, 12]"
            ]
          },
          "metadata": {},
          "execution_count": 3
        }
      ]
    },
    {
      "cell_type": "code",
      "source": [
        "#Para realizar los mismo sin crear indice, usamos 'enumerate'\n",
        "numeros = [1,2,3,4,5,6]\n",
        "for indice, numero in enumerate(numeros):\n",
        "  numeros[indice] *= 3\n",
        "numeros"
      ],
      "metadata": {
        "colab": {
          "base_uri": "https://localhost:8080/"
        },
        "id": "dTsyeRfke-Y1",
        "outputId": "f97f3dba-4087-4d00-d36d-28819effa291"
      },
      "execution_count": 4,
      "outputs": [
        {
          "output_type": "execute_result",
          "data": {
            "text/plain": [
              "[3, 6, 9, 12, 15, 18]"
            ]
          },
          "metadata": {},
          "execution_count": 4
        }
      ]
    },
    {
      "cell_type": "markdown",
      "source": [
        "Hemos visto con listas de números, sin embargo, también podemos recorrer cadenas de texto."
      ],
      "metadata": {
        "id": "TB8RGDTKgA-D"
      }
    },
    {
      "cell_type": "code",
      "source": [
        "texto = '¿Qué tal?'\n",
        "for caracter  in texto:\n",
        "  print(caracter)"
      ],
      "metadata": {
        "colab": {
          "base_uri": "https://localhost:8080/"
        },
        "id": "XxhY762mf_Wl",
        "outputId": "0083ffa8-7154-45be-b8f6-742f642b315e"
      },
      "execution_count": 5,
      "outputs": [
        {
          "output_type": "stream",
          "name": "stdout",
          "text": [
            "¿\n",
            "Q\n",
            "u\n",
            "é\n",
            " \n",
            "t\n",
            "a\n",
            "l\n",
            "?\n"
          ]
        }
      ]
    },
    {
      "cell_type": "code",
      "source": [
        "#Si queremos susutituir los caracteres de un texto a otro\n",
        "#Imaginemos que de texto queremos un texto 2 que sustituya caracteres por '*'\n",
        "texto2 = \"\"\n",
        "for caracter in texto:\n",
        "  texto2 += '*'\n",
        "texto2\n",
        "#En texto2, cada caracter de texto 1 es modificado por *\n",
        "#'¿Qué tal?' tiene 9 caracteres, con lo cual habrá 9 asteriscos:"
      ],
      "metadata": {
        "colab": {
          "base_uri": "https://localhost:8080/",
          "height": 36
        },
        "id": "AsWhS-5Lg0I8",
        "outputId": "93fbafd3-6f60-4bcf-9c57-09408f923af2"
      },
      "execution_count": 6,
      "outputs": [
        {
          "output_type": "execute_result",
          "data": {
            "application/vnd.google.colaboratory.intrinsic+json": {
              "type": "string"
            },
            "text/plain": [
              "'*********'"
            ]
          },
          "metadata": {},
          "execution_count": 6
        }
      ]
    },
    {
      "cell_type": "code",
      "source": [
        "#Si queremos que cada caracter aparezca dos veces en texto2:\n",
        "texto2 = \"\"\n",
        "for caracter in texto:\n",
        "  texto2 += caracter * 2\n",
        "texto2"
      ],
      "metadata": {
        "colab": {
          "base_uri": "https://localhost:8080/",
          "height": 36
        },
        "id": "RtldFM3WjET4",
        "outputId": "ab864876-d3ab-4fe7-d9df-59a88c9b7b10"
      },
      "execution_count": 7,
      "outputs": [
        {
          "output_type": "execute_result",
          "data": {
            "application/vnd.google.colaboratory.intrinsic+json": {
              "type": "string"
            },
            "text/plain": [
              "'¿¿QQuuéé  ttaall??'"
            ]
          },
          "metadata": {},
          "execution_count": 7
        }
      ]
    },
    {
      "cell_type": "code",
      "source": [
        "#También podemos hacer uso de'for' con 'range'\n",
        "for i in range(5):\n",
        "  print(i)"
      ],
      "metadata": {
        "colab": {
          "base_uri": "https://localhost:8080/"
        },
        "id": "ZbLxBkm4psuP",
        "outputId": "e76fc22f-4b3e-40ae-8486-2f60aebe096f"
      },
      "execution_count": 8,
      "outputs": [
        {
          "output_type": "stream",
          "name": "stdout",
          "text": [
            "0\n",
            "1\n",
            "2\n",
            "3\n",
            "4\n"
          ]
        }
      ]
    }
  ]
}