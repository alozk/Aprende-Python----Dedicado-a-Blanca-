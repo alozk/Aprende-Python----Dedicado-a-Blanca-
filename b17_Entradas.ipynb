{
  "nbformat": 4,
  "nbformat_minor": 0,
  "metadata": {
    "colab": {
      "name": "b17_Entradas.ipynb",
      "provenance": []
    },
    "kernelspec": {
      "name": "python3",
      "display_name": "Python 3"
    },
    "language_info": {
      "name": "python"
    }
  },
  "cells": [
    {
      "cell_type": "markdown",
      "source": [
        "Vemos un par de ejemplos sencillos de entradas, este documento es muy corto y simple."
      ],
      "metadata": {
        "id": "HVva-XMWepKk"
      }
    },
    {
      "cell_type": "code",
      "execution_count": 1,
      "metadata": {
        "colab": {
          "base_uri": "https://localhost:8080/"
        },
        "id": "oZ4QpAYUbzIA",
        "outputId": "42c8067c-cb3f-493b-fc90-30f34a5179d0"
      },
      "outputs": [
        {
          "name": "stdout",
          "output_type": "stream",
          "text": [
            "Introduce un número con decimales: 5.6\n"
          ]
        }
      ],
      "source": [
        "decimal = float(input('Introduce un número con decimales: '))"
      ]
    },
    {
      "cell_type": "code",
      "source": [
        "valores = []"
      ],
      "metadata": {
        "id": "4z8WNltSd0HQ"
      },
      "execution_count": 2,
      "outputs": []
    },
    {
      "cell_type": "code",
      "source": [
        "print('Introduce valores')\n",
        "for x in range(2):\n",
        "  valores.append( input('Introduce un valor: '))"
      ],
      "metadata": {
        "colab": {
          "base_uri": "https://localhost:8080/"
        },
        "id": "ZmpwiPgLd31e",
        "outputId": "3eda67b8-4abb-4c4f-cc30-1cee95e24d84"
      },
      "execution_count": 3,
      "outputs": [
        {
          "name": "stdout",
          "output_type": "stream",
          "text": [
            "Introduce valores\n",
            "Introduce un valor: 3\n",
            "Introduce un valor: 2\n"
          ]
        }
      ]
    },
    {
      "cell_type": "code",
      "source": [
        "valores"
      ],
      "metadata": {
        "colab": {
          "base_uri": "https://localhost:8080/"
        },
        "id": "fWew2TxjeVIK",
        "outputId": "5a66d0e9-19fc-4cfa-db1b-1b3aea3b04ed"
      },
      "execution_count": 4,
      "outputs": [
        {
          "output_type": "execute_result",
          "data": {
            "text/plain": [
              "['3', '2']"
            ]
          },
          "metadata": {},
          "execution_count": 4
        }
      ]
    }
  ]
}