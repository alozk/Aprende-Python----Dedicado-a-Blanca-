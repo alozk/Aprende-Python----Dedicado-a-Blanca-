{
  "nbformat": 4,
  "nbformat_minor": 0,
  "metadata": {
    "colab": {
      "name": "b19_Salidas.ipynb",
      "provenance": []
    },
    "kernelspec": {
      "name": "python3",
      "display_name": "Python 3"
    },
    "language_info": {
      "name": "python"
    }
  },
  "cells": [
    {
      "cell_type": "markdown",
      "source": [
        "A continuación la forma en la que hemos aprendido o estamos acostumbrados a concatenar textos con variables"
      ],
      "metadata": {
        "id": "3qWWtGpUdAbY"
      }
    },
    {
      "cell_type": "code",
      "execution_count": 1,
      "metadata": {
        "colab": {
          "base_uri": "https://localhost:8080/"
        },
        "id": "uHRyetw2SPKd",
        "outputId": "ca364e35-2fdd-4bca-d66d-10e5c567d689"
      },
      "outputs": [
        {
          "output_type": "stream",
          "name": "stdout",
          "text": [
            "Una cadena de texto palabra y el valor de la n es: 3\n"
          ]
        }
      ],
      "source": [
        "t = 'palabra'\n",
        "n = 3\n",
        "print(\"Una cadena de texto\",t,'y el valor de la n es:',n)"
      ]
    },
    {
      "cell_type": "markdown",
      "source": [
        "Sin embargo hay mejores formas y mas simples de hacerlo, donde pongamos las \"{}\" aparecerán los valores que queramos."
      ],
      "metadata": {
        "id": "CMmde57QdOWG"
      }
    },
    {
      "cell_type": "code",
      "source": [
        "c = \"Una cadena de texto '{}' y el valor de la n es '{}'\".format(t,n)\n",
        "c"
      ],
      "metadata": {
        "colab": {
          "base_uri": "https://localhost:8080/",
          "height": 35
        },
        "id": "_uOifkSpcwvh",
        "outputId": "5a74e6cc-249a-43cd-ea21-f8495df4b49c"
      },
      "execution_count": 2,
      "outputs": [
        {
          "output_type": "execute_result",
          "data": {
            "application/vnd.google.colaboratory.intrinsic+json": {
              "type": "string"
            },
            "text/plain": [
              "\"Una cadena de texto 'palabra' y el valor de la n es '3'\""
            ]
          },
          "metadata": {},
          "execution_count": 2
        }
      ]
    },
    {
      "cell_type": "code",
      "source": [
        "#Esta es la forma original en la que trabajaría el código\n",
        "print(\"Una cadena de texto {0} y el valor de la n es {1}\".format(t,n))"
      ],
      "metadata": {
        "colab": {
          "base_uri": "https://localhost:8080/"
        },
        "id": "3jxK8qyQdhTS",
        "outputId": "ddb66920-9685-4732-83bc-e8b6bebb8a21"
      },
      "execution_count": 3,
      "outputs": [
        {
          "output_type": "stream",
          "name": "stdout",
          "text": [
            "Una cadena de texto palabra y el valor de la n es 3\n"
          ]
        }
      ]
    },
    {
      "cell_type": "code",
      "source": [
        "#Sin embargo podemos cambiarlo\n",
        "print(\"Una cadena de texto '{1}' y el valor de la n es '{0}'\".format(t,n))"
      ],
      "metadata": {
        "colab": {
          "base_uri": "https://localhost:8080/"
        },
        "id": "8KYsO7mEd8sD",
        "outputId": "739d6934-703e-4a7a-9506-7a51ed03dde8"
      },
      "execution_count": 4,
      "outputs": [
        {
          "output_type": "stream",
          "name": "stdout",
          "text": [
            "Una cadena de texto '3' y el valor de la n es 'palabra'\n"
          ]
        }
      ]
    },
    {
      "cell_type": "code",
      "source": [
        "#Sin embargo podemos cambiarlo\n",
        "print(\"Una cadena de texto '{t}' y el valor de la n es '{n}'\".format(n=n,t=t))"
      ],
      "metadata": {
        "colab": {
          "base_uri": "https://localhost:8080/"
        },
        "id": "kkkoFDRdem0E",
        "outputId": "7f943db7-07c2-4bab-ed7a-427a1ad6de71"
      },
      "execution_count": 5,
      "outputs": [
        {
          "output_type": "stream",
          "name": "stdout",
          "text": [
            "Una cadena de texto 'palabra' y el valor de la n es '3'\n"
          ]
        }
      ]
    },
    {
      "cell_type": "code",
      "source": [
        "#De manera que también podemos hacer lo siguiente\n",
        "print(\"{t},{t}\".format(t=t))"
      ],
      "metadata": {
        "colab": {
          "base_uri": "https://localhost:8080/"
        },
        "id": "kitXBTamiV6s",
        "outputId": "73afe3e3-0479-475c-d967-b64d045fa863"
      },
      "execution_count": 6,
      "outputs": [
        {
          "output_type": "stream",
          "name": "stdout",
          "text": [
            "palabra,palabra\n"
          ]
        }
      ]
    },
    {
      "cell_type": "code",
      "source": [
        "#También podemos usar el 'format' para mover el texto(en un rango de 40 caracteres)\n",
        "print(\"{:>40}\".format(\"palabra\"))"
      ],
      "metadata": {
        "colab": {
          "base_uri": "https://localhost:8080/"
        },
        "id": "KYQ1Vzdbi6lc",
        "outputId": "17b309fe-0da6-44aa-c2d2-00968d4a731c"
      },
      "execution_count": 7,
      "outputs": [
        {
          "output_type": "stream",
          "name": "stdout",
          "text": [
            "                                 palabra\n"
          ]
        }
      ]
    },
    {
      "cell_type": "code",
      "source": [
        "#También centrarlo (en rango de 40 caracteres como ejemplo otra vez)\n",
        "print(\"{:^40}\".format(\"palabra\"))"
      ],
      "metadata": {
        "colab": {
          "base_uri": "https://localhost:8080/"
        },
        "id": "KclGpJb-mvZ_",
        "outputId": "207fef81-fa9a-435f-fed5-3cf900a69d83"
      },
      "execution_count": 8,
      "outputs": [
        {
          "output_type": "stream",
          "name": "stdout",
          "text": [
            "                palabra                 \n"
          ]
        }
      ]
    },
    {
      "cell_type": "markdown",
      "source": [
        "Cuando digo que es en un rango de 40 caracteres no hay más que comprobarlo intentando seleccionar la palabra y verás como hay espacios vacíos de caracteres. En el primer ejemplo se encuentran a la izquierda esos espacios y en el segundo ejemplo a izquierda y derecha (por eso digo que está centrado en un rango de 40 caracteres)."
      ],
      "metadata": {
        "id": "qAXmCbuFoFf7"
      }
    },
    {
      "cell_type": "code",
      "source": [
        "#Podemos hacer truncamientos y mostrar unos caracteres específicos de un texto\n",
        "print(\"{:.3}\".format(\"palabra\"))"
      ],
      "metadata": {
        "colab": {
          "base_uri": "https://localhost:8080/"
        },
        "id": "bxIaqf3qvT9k",
        "outputId": "76f68708-ec1d-4af3-dd7c-cfab72652d54"
      },
      "execution_count": 9,
      "outputs": [
        {
          "output_type": "stream",
          "name": "stdout",
          "text": [
            "pal\n"
          ]
        }
      ]
    },
    {
      "cell_type": "code",
      "source": [
        "#Y hacer las dos cosas a la vez\n",
        "print(\"{:>40.2}\".format(\"palabra\"))"
      ],
      "metadata": {
        "colab": {
          "base_uri": "https://localhost:8080/"
        },
        "id": "J5WUARekvjEy",
        "outputId": "9ec059ea-6de2-4864-dd85-8f3e8ef27170"
      },
      "execution_count": 10,
      "outputs": [
        {
          "output_type": "stream",
          "name": "stdout",
          "text": [
            "                                      pa\n"
          ]
        }
      ]
    },
    {
      "cell_type": "code",
      "source": [
        "#Utilizamos lo aprendido para alinear números\n",
        "#La 'd' utilizada se refiere a dígitos(si usamos la 'd' después de un '.' entonces decimales)\n",
        "print(\"{:4d}\".format(10))\n",
        "print(\"{:4d}\".format(100))\n",
        "print(\"{:4d}\".format(1000))"
      ],
      "metadata": {
        "colab": {
          "base_uri": "https://localhost:8080/"
        },
        "id": "odva9xQJO1aN",
        "outputId": "531143dc-eba8-4e34-8fb3-bdfee1bc57b1"
      },
      "execution_count": 11,
      "outputs": [
        {
          "output_type": "stream",
          "name": "stdout",
          "text": [
            "  10\n",
            " 100\n",
            "1000\n"
          ]
        }
      ]
    }
  ]
}