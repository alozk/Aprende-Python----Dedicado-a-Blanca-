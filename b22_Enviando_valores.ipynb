{
  "nbformat": 4,
  "nbformat_minor": 0,
  "metadata": {
    "colab": {
      "name": "b22_Enviando_valores.ipynb",
      "provenance": []
    },
    "kernelspec": {
      "name": "python3",
      "display_name": "Python 3"
    },
    "language_info": {
      "name": "python"
    }
  },
  "cells": [
    {
      "cell_type": "markdown",
      "source": [
        "Esto es introductorio para lo que veremos próximamente.\n",
        "\n"
      ],
      "metadata": {
        "id": "uwZn7ejCbYSg"
      }
    },
    {
      "cell_type": "markdown",
      "source": [
        "La definición:"
      ],
      "metadata": {
        "id": "Y5ElExOpfNEo"
      }
    },
    {
      "cell_type": "code",
      "execution_count": 1,
      "metadata": {
        "id": "DB_3uRQ0WYcE"
      },
      "outputs": [],
      "source": [
        "def suma(a,b): #Aquí a y b se denominan parámetros\n",
        "  return a+b"
      ]
    },
    {
      "cell_type": "markdown",
      "source": [
        "La llamada:"
      ],
      "metadata": {
        "id": "bype0RzJfRKp"
      }
    },
    {
      "cell_type": "code",
      "source": [
        "#Primero está la a y tendrá el valor de 2 y luego la b con un valor de 5\n",
        "r = suma(2,5) #Y durante la llamada/ejecución, se denominan argumentos\n",
        "r"
      ],
      "metadata": {
        "colab": {
          "base_uri": "https://localhost:8080/"
        },
        "id": "Gq5LhvLta1iT",
        "outputId": "d66d7c3f-88c8-4b51-b523-574d482ba0d7"
      },
      "execution_count": 2,
      "outputs": [
        {
          "output_type": "execute_result",
          "data": {
            "text/plain": [
              "7"
            ]
          },
          "metadata": {},
          "execution_count": 2
        }
      ]
    },
    {
      "cell_type": "markdown",
      "source": [
        "En Python, podría darse el caso en que los argumentos y los parámetros no concuerden."
      ],
      "metadata": {
        "id": "-LYkTdTPfa1a"
      }
    }
  ]
}