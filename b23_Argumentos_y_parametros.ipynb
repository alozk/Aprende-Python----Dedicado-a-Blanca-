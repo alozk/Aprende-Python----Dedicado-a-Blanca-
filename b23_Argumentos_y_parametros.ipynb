{
  "nbformat": 4,
  "nbformat_minor": 0,
  "metadata": {
    "colab": {
      "name": "b23_Argumentos_y_parametros.ipynb",
      "provenance": []
    },
    "kernelspec": {
      "name": "python3",
      "display_name": "Python 3"
    },
    "language_info": {
      "name": "python"
    }
  },
  "cells": [
    {
      "cell_type": "code",
      "execution_count": 3,
      "metadata": {
        "colab": {
          "base_uri": "https://localhost:8080/"
        },
        "id": "kDlzAAZmgM4p",
        "outputId": "eb7acdf4-770f-4a58-8e9f-6103a2f7deb5"
      },
      "outputs": [
        {
          "output_type": "execute_result",
          "data": {
            "text/plain": [
              "4"
            ]
          },
          "metadata": {},
          "execution_count": 3
        }
      ],
      "source": [
        "def resta(a,b):\n",
        "  return a-b\n",
        "\n",
        "resta(7,3)"
      ]
    },
    {
      "cell_type": "markdown",
      "source": [
        "Si cambiasemos el orden de los números e, el resultado sería diferente porque lo estamos haciendo por posición."
      ],
      "metadata": {
        "id": "39h362YakqlE"
      }
    },
    {
      "cell_type": "code",
      "source": [
        "def resta(a,b):\n",
        "  return a-b\n",
        "\n",
        "resta(3,7)"
      ],
      "metadata": {
        "colab": {
          "base_uri": "https://localhost:8080/"
        },
        "id": "1azz8wQvkz1e",
        "outputId": "8230dc00-1483-45ee-b7e3-7f27f265d343"
      },
      "execution_count": 4,
      "outputs": [
        {
          "output_type": "execute_result",
          "data": {
            "text/plain": [
              "-4"
            ]
          },
          "metadata": {},
          "execution_count": 4
        }
      ]
    },
    {
      "cell_type": "markdown",
      "source": [
        "Si embargo también podemos enviar los argumentos por nombre.\n",
        "\n",
        "Así asociamos directamente el valor con su nombre.\n",
        "\n",
        "Si tuvieramos muchos valores, sería más cómoda esta forma para no estar comprobando la posición correcta de su ejecución."
      ],
      "metadata": {
        "id": "g6BWJoD5k-5C"
      }
    },
    {
      "cell_type": "code",
      "source": [
        "resta(b=2,a=1)"
      ],
      "metadata": {
        "colab": {
          "base_uri": "https://localhost:8080/"
        },
        "id": "TU8AiJ81gvN-",
        "outputId": "2b7e1269-7a8a-4442-99a8-08e0f426731b"
      },
      "execution_count": 2,
      "outputs": [
        {
          "output_type": "execute_result",
          "data": {
            "text/plain": [
              "-1"
            ]
          },
          "metadata": {},
          "execution_count": 2
        }
      ]
    },
    {
      "cell_type": "markdown",
      "source": [
        "También podemos asignar un valor por defecto a los parámetros de una función, para evitar que por ejemplo se ejecute una función incorrectamente.\n",
        "\n",
        "Dado que si utilizamos la función resta pero no añadimos los valores..."
      ],
      "metadata": {
        "id": "wAXIk1WMllzZ"
      }
    },
    {
      "cell_type": "code",
      "source": [
        "resta() #Nos dará Error"
      ],
      "metadata": {
        "colab": {
          "base_uri": "https://localhost:8080/",
          "height": 165
        },
        "id": "XIM0qCvQmCrp",
        "outputId": "426dea00-4fc1-42a2-dd0e-2f014031d1c5"
      },
      "execution_count": 5,
      "outputs": [
        {
          "output_type": "error",
          "ename": "TypeError",
          "evalue": "ignored",
          "traceback": [
            "\u001b[0;31m---------------------------------------------------------------------------\u001b[0m",
            "\u001b[0;31mTypeError\u001b[0m                                 Traceback (most recent call last)",
            "\u001b[0;32m<ipython-input-5-35f11603f204>\u001b[0m in \u001b[0;36m<module>\u001b[0;34m()\u001b[0m\n\u001b[0;32m----> 1\u001b[0;31m \u001b[0mresta\u001b[0m\u001b[0;34m(\u001b[0m\u001b[0;34m)\u001b[0m \u001b[0;31m#Nos dará Error\u001b[0m\u001b[0;34m\u001b[0m\u001b[0;34m\u001b[0m\u001b[0m\n\u001b[0m",
            "\u001b[0;31mTypeError\u001b[0m: resta() missing 2 required positional arguments: 'a' and 'b'"
          ]
        }
      ]
    },
    {
      "cell_type": "markdown",
      "source": [
        "Para arreglar el error podriamos definir la resta de a y b, asignarles un valor por defecto."
      ],
      "metadata": {
        "id": "xBeieXjNmIha"
      }
    },
    {
      "cell_type": "code",
      "source": [
        "#Por ejemplo, valor por defecto None\n",
        "def resta(a=None,b=None):\n",
        "  return a-b\n",
        "resta()"
      ],
      "metadata": {
        "colab": {
          "base_uri": "https://localhost:8080/",
          "height": 304
        },
        "id": "smnKJNRTmHph",
        "outputId": "866da5ab-17fb-4349-b167-d032ef3b0aca"
      },
      "execution_count": 6,
      "outputs": [
        {
          "output_type": "error",
          "ename": "TypeError",
          "evalue": "ignored",
          "traceback": [
            "\u001b[0;31m---------------------------------------------------------------------------\u001b[0m",
            "\u001b[0;31mTypeError\u001b[0m                                 Traceback (most recent call last)",
            "\u001b[0;32m<ipython-input-6-455b23506ce5>\u001b[0m in \u001b[0;36m<module>\u001b[0;34m()\u001b[0m\n\u001b[1;32m      2\u001b[0m \u001b[0;32mdef\u001b[0m \u001b[0mresta\u001b[0m\u001b[0;34m(\u001b[0m\u001b[0ma\u001b[0m\u001b[0;34m=\u001b[0m\u001b[0;32mNone\u001b[0m\u001b[0;34m,\u001b[0m\u001b[0mb\u001b[0m\u001b[0;34m=\u001b[0m\u001b[0;32mNone\u001b[0m\u001b[0;34m)\u001b[0m\u001b[0;34m:\u001b[0m\u001b[0;34m\u001b[0m\u001b[0;34m\u001b[0m\u001b[0m\n\u001b[1;32m      3\u001b[0m   \u001b[0;32mreturn\u001b[0m \u001b[0ma\u001b[0m\u001b[0;34m-\u001b[0m\u001b[0mb\u001b[0m\u001b[0;34m\u001b[0m\u001b[0;34m\u001b[0m\u001b[0m\n\u001b[0;32m----> 4\u001b[0;31m \u001b[0mresta\u001b[0m\u001b[0;34m(\u001b[0m\u001b[0;34m)\u001b[0m\u001b[0;34m\u001b[0m\u001b[0;34m\u001b[0m\u001b[0m\n\u001b[0m",
            "\u001b[0;32m<ipython-input-6-455b23506ce5>\u001b[0m in \u001b[0;36mresta\u001b[0;34m(a, b)\u001b[0m\n\u001b[1;32m      1\u001b[0m \u001b[0;31m#Por ejemplo, valor por defecto None\u001b[0m\u001b[0;34m\u001b[0m\u001b[0;34m\u001b[0m\u001b[0;34m\u001b[0m\u001b[0m\n\u001b[1;32m      2\u001b[0m \u001b[0;32mdef\u001b[0m \u001b[0mresta\u001b[0m\u001b[0;34m(\u001b[0m\u001b[0ma\u001b[0m\u001b[0;34m=\u001b[0m\u001b[0;32mNone\u001b[0m\u001b[0;34m,\u001b[0m\u001b[0mb\u001b[0m\u001b[0;34m=\u001b[0m\u001b[0;32mNone\u001b[0m\u001b[0;34m)\u001b[0m\u001b[0;34m:\u001b[0m\u001b[0;34m\u001b[0m\u001b[0;34m\u001b[0m\u001b[0m\n\u001b[0;32m----> 3\u001b[0;31m   \u001b[0;32mreturn\u001b[0m \u001b[0ma\u001b[0m\u001b[0;34m-\u001b[0m\u001b[0mb\u001b[0m\u001b[0;34m\u001b[0m\u001b[0;34m\u001b[0m\u001b[0m\n\u001b[0m\u001b[1;32m      4\u001b[0m \u001b[0mresta\u001b[0m\u001b[0;34m(\u001b[0m\u001b[0;34m)\u001b[0m\u001b[0;34m\u001b[0m\u001b[0;34m\u001b[0m\u001b[0m\n",
            "\u001b[0;31mTypeError\u001b[0m: unsupported operand type(s) for -: 'NoneType' and 'NoneType'"
          ]
        }
      ]
    },
    {
      "cell_type": "markdown",
      "source": [
        "Pero ahora el error sería que el tipo 'Nonetype', ya que no se puede realizar una operación entre estos Nones. Por tanto, habría que ver si el valor que tiene antes de devolver la resta es diferente de None.\n",
        "\n",
        "Por ejemplo:"
      ],
      "metadata": {
        "id": "be78s4tFmolL"
      }
    },
    {
      "cell_type": "code",
      "source": [
        "#Esta es una forma\n",
        "def resta(a=None,b=None):\n",
        "  if a == None or b == None:\n",
        "    print('Error, debes enviar dos números a la función')\n",
        "    return\n",
        "\n",
        "  return a-b\n",
        "resta()"
      ],
      "metadata": {
        "colab": {
          "base_uri": "https://localhost:8080/"
        },
        "id": "gt3hFEB3nHkT",
        "outputId": "cfb5f21d-e806-43cb-89ab-bd19f41088cb"
      },
      "execution_count": 7,
      "outputs": [
        {
          "output_type": "stream",
          "name": "stdout",
          "text": [
            "Error, debes enviar dos números a la función\n"
          ]
        }
      ]
    },
    {
      "cell_type": "code",
      "source": [
        "#Y esta otra\n",
        "def resta(a=None,b=None):\n",
        "  if a == None or b == None:\n",
        "    print('Error, debes enviar dos números a la función')\n",
        "    return\n",
        "  else:\n",
        "    return a-b\n",
        "resta()"
      ],
      "metadata": {
        "colab": {
          "base_uri": "https://localhost:8080/"
        },
        "id": "8kwwKlHBnjRU",
        "outputId": "d6bfebe9-2f2e-444f-d99b-92a1d93e886c"
      },
      "execution_count": 8,
      "outputs": [
        {
          "output_type": "stream",
          "name": "stdout",
          "text": [
            "Error, debes enviar dos números a la función\n"
          ]
        }
      ]
    },
    {
      "cell_type": "code",
      "source": [
        "#Si damos un valor, saldrá aún el error\n",
        "def resta(a=None,b=None):\n",
        "  if a == None or b == None:\n",
        "    print('Error, debes enviar dos números a la función')\n",
        "    return\n",
        "  else:\n",
        "    return a-b\n",
        "resta(1)"
      ],
      "metadata": {
        "colab": {
          "base_uri": "https://localhost:8080/"
        },
        "id": "JEysH5PhnwRK",
        "outputId": "ba7a8d6c-77a2-4fad-e68f-b96c5d7de271"
      },
      "execution_count": 9,
      "outputs": [
        {
          "output_type": "stream",
          "name": "stdout",
          "text": [
            "Error, debes enviar dos números a la función\n"
          ]
        }
      ]
    },
    {
      "cell_type": "code",
      "source": [
        "#Si damos los dos valores, ya estará correcto\n",
        "def resta(a=None,b=None):\n",
        "  if a == None or b == None:\n",
        "    print('Error, debes enviar dos números a la función')\n",
        "    return\n",
        "  else:\n",
        "    return a-b\n",
        "resta(1,3)"
      ],
      "metadata": {
        "colab": {
          "base_uri": "https://localhost:8080/"
        },
        "id": "QJrmJoH4n5Bo",
        "outputId": "07b024fb-7489-471c-b495-335afe363693"
      },
      "execution_count": 11,
      "outputs": [
        {
          "output_type": "execute_result",
          "data": {
            "text/plain": [
              "-2"
            ]
          },
          "metadata": {},
          "execution_count": 11
        }
      ]
    }
  ]
}