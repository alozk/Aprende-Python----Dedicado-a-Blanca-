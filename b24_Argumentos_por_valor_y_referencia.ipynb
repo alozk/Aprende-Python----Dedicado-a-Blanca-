{
  "nbformat": 4,
  "nbformat_minor": 0,
  "metadata": {
    "colab": {
      "name": "b24_Argumentos_por_valor_y_referencia.ipynb",
      "provenance": []
    },
    "kernelspec": {
      "name": "python3",
      "display_name": "Python 3"
    },
    "language_info": {
      "name": "python"
    }
  },
  "cells": [
    {
      "cell_type": "code",
      "execution_count": 1,
      "metadata": {
        "colab": {
          "base_uri": "https://localhost:8080/"
        },
        "id": "OJilM0mmjvTB",
        "outputId": "ba6d0260-3b6c-404c-81d1-899cd4a44c52"
      },
      "outputs": [
        {
          "output_type": "execute_result",
          "data": {
            "text/plain": [
              "6"
            ]
          },
          "metadata": {},
          "execution_count": 1
        }
      ],
      "source": [
        "#Paso por valor\n",
        "def doblar(numero):\n",
        "  numero*=2\n",
        "\n",
        "n = 6\n",
        "doblar(n)\n",
        "n"
      ]
    },
    {
      "cell_type": "markdown",
      "source": [
        "No ha doblado por que lo pasamos por valor y el número en verdad es una copia del número externo pero no le afecta nada de lo que hagamos dentro."
      ],
      "metadata": {
        "id": "5DV51leom9RP"
      }
    },
    {
      "cell_type": "code",
      "source": [
        "def doblar(numeros):\n",
        "  for i,n in enumerate(numeros):\n",
        "    numeros[i] *= 2\n",
        "\n",
        "a_doblar = [7,13,19]\n",
        "doblar(a_doblar)\n",
        "a_doblar"
      ],
      "metadata": {
        "colab": {
          "base_uri": "https://localhost:8080/"
        },
        "id": "Twq4WSeomJE_",
        "outputId": "bd3cc891-ef0e-4bdf-ec8a-b9caf06f3b18"
      },
      "execution_count": 2,
      "outputs": [
        {
          "output_type": "execute_result",
          "data": {
            "text/plain": [
              "[14, 26, 38]"
            ]
          },
          "metadata": {},
          "execution_count": 2
        }
      ]
    },
    {
      "cell_type": "markdown",
      "source": [
        "Las listas se pasan por referencia a diferencia de los numeros que son por valor. Con la lista se ve reflejado en el exterior.\n",
        "\n",
        "Entonces la pregunta es:\n",
        "\n",
        "¿Es posible de alguna forma indicar a Python cuando queremos pasar un argumento por valor o referencia?\n",
        "\n",
        "No, no se puede en Python. Pero hay algunos trucos."
      ],
      "metadata": {
        "id": "ZAZS-pCLpAr0"
      }
    },
    {
      "cell_type": "code",
      "source": [
        "def doblar(numero):\n",
        "  return numero*2\n",
        "\n",
        "n = 6\n",
        "n = doblar(n)\n",
        "n"
      ],
      "metadata": {
        "colab": {
          "base_uri": "https://localhost:8080/"
        },
        "id": "0uZAEUXDpASP",
        "outputId": "9f88ba39-cf10-4f6a-c32c-f46de0ab7b05"
      },
      "execution_count": 3,
      "outputs": [
        {
          "output_type": "execute_result",
          "data": {
            "text/plain": [
              "12"
            ]
          },
          "metadata": {},
          "execution_count": 3
        }
      ]
    },
    {
      "cell_type": "markdown",
      "source": [
        "Así si funcionaria.\n",
        "\n",
        "Y sobre el segundo ejemplo, vamos a hacer slicing para crear una copia de la lista y evitar modificar la lista dentro de la función."
      ],
      "metadata": {
        "id": "WdlOsgjorUIN"
      }
    }
  ]
}