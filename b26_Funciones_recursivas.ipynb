{
  "nbformat": 4,
  "nbformat_minor": 0,
  "metadata": {
    "colab": {
      "name": "b26_Funciones_recursivas.ipynb",
      "provenance": []
    },
    "kernelspec": {
      "name": "python3",
      "display_name": "Python 3"
    },
    "language_info": {
      "name": "python"
    }
  },
  "cells": [
    {
      "cell_type": "code",
      "execution_count": 5,
      "metadata": {
        "colab": {
          "base_uri": "https://localhost:8080/"
        },
        "id": "dovXCLtBS0JI",
        "outputId": "4629093d-bdd3-4762-8465-e66a7611e7f4"
      },
      "outputs": [
        {
          "output_type": "stream",
          "name": "stdout",
          "text": [
            "4\n",
            "3\n",
            "2\n",
            "1\n",
            "¡Se acabó el tiempo!\n"
          ]
        }
      ],
      "source": [
        "def cuenta_atras(num):\n",
        "  num -= 1\n",
        "  if num > 0:\n",
        "    print(num)\n",
        "    cuenta_atras(num)\n",
        "  else:\n",
        "    print(\"¡Se acabó el tiempo!\")\n",
        "\n",
        "cuenta_atras(5)"
      ]
    },
    {
      "cell_type": "markdown",
      "source": [
        "Vamos a repetir el código anterior pero mostrando un mensaje al acabar la función.\n",
        "\n"
      ],
      "metadata": {
        "id": "z6IiPkXPXbV_"
      }
    },
    {
      "cell_type": "code",
      "source": [
        "def cuenta_atras(num):\n",
        "  num -= 1\n",
        "  if num > 0:\n",
        "    print(num)\n",
        "    cuenta_atras(num)\n",
        "  else:\n",
        "    print(\"¡Se acabó el tiempo!\")\n",
        "  print('Fin de la función', num)\n",
        "\n",
        "cuenta_atras(5)"
      ],
      "metadata": {
        "colab": {
          "base_uri": "https://localhost:8080/"
        },
        "id": "7i--vGAuXjrc",
        "outputId": "d3b63b9d-8407-4ec2-a347-69b0617b6b91"
      },
      "execution_count": 6,
      "outputs": [
        {
          "output_type": "stream",
          "name": "stdout",
          "text": [
            "4\n",
            "3\n",
            "2\n",
            "1\n",
            "¡Se acabó el tiempo!\n",
            "Fin de la función 0\n",
            "Fin de la función 1\n",
            "Fin de la función 2\n",
            "Fin de la función 3\n",
            "Fin de la función 4\n"
          ]
        }
      ]
    },
    {
      "cell_type": "markdown",
      "source": [
        "Es justo después de la última recursión, despues de \"¡Se acabó el tiempo!\", que empiezan a finalizar las funciones recursivas en el orden inverso al que se han llamado.\n",
        "\n",
        "Es como si el proceso está vivo y se va ramificando hasta finalizarse y luego se cierran de forma inversa."
      ],
      "metadata": {
        "id": "vV4HPsduXq92"
      }
    },
    {
      "cell_type": "markdown",
      "source": [
        "Ahora vemos el mejor ejemplo que se puede hacer con recursión con retorno es con el cálculo de la factorial de un número.\n",
        "\n",
        "El factorial de un número es el entero que corresponde a ese número multiplicado por todos los números enteros que van antes que él hasta el 1."
      ],
      "metadata": {
        "id": "iWQJyaG7Yx9Y"
      }
    },
    {
      "cell_type": "code",
      "source": [
        "def factorial(num):\n",
        "  if num > 1:\n",
        "    num = num *factorial(num -1)\n",
        "  return num\n",
        "\n",
        "factorial(5)"
      ],
      "metadata": {
        "colab": {
          "base_uri": "https://localhost:8080/"
        },
        "id": "56R43iAwZVLH",
        "outputId": "48df987e-75bc-4c9c-f60d-b46d3e34c71e"
      },
      "execution_count": 9,
      "outputs": [
        {
          "output_type": "execute_result",
          "data": {
            "text/plain": [
              "120"
            ]
          },
          "metadata": {},
          "execution_count": 9
        }
      ]
    },
    {
      "cell_type": "markdown",
      "source": [
        "Pongamos dos prints para poder ver detalladamente las operaciones y entenderlo mejor:"
      ],
      "metadata": {
        "id": "D3NI8996i-zQ"
      }
    },
    {
      "cell_type": "code",
      "source": [
        "def factorial(num):\n",
        "  print(\"Valor inicial: \",num)\n",
        "  if num > 1:\n",
        "    num = num *factorial(num -1)\n",
        "    print(\"Valor final: \",num)\n",
        "  return num\n",
        "\n",
        "factorial(5)"
      ],
      "metadata": {
        "colab": {
          "base_uri": "https://localhost:8080/"
        },
        "id": "o0brjygui-HQ",
        "outputId": "5640a49a-2386-4423-a75a-ba8a8e3b0c0b"
      },
      "execution_count": 10,
      "outputs": [
        {
          "output_type": "stream",
          "name": "stdout",
          "text": [
            "Valor inicial:  5\n",
            "Valor inicial:  4\n",
            "Valor inicial:  3\n",
            "Valor inicial:  2\n",
            "Valor inicial:  1\n",
            "Valor final:  2\n",
            "Valor final:  6\n",
            "Valor final:  24\n",
            "Valor final:  120\n"
          ]
        },
        {
          "output_type": "execute_result",
          "data": {
            "text/plain": [
              "120"
            ]
          },
          "metadata": {},
          "execution_count": 10
        }
      ]
    }
  ]
}