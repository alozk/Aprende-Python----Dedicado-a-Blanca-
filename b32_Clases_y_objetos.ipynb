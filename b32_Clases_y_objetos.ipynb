{
  "nbformat": 4,
  "nbformat_minor": 0,
  "metadata": {
    "colab": {
      "name": "b32_Clases_y_objetos.ipynb",
      "provenance": []
    },
    "kernelspec": {
      "name": "python3",
      "display_name": "Python 3"
    },
    "language_info": {
      "name": "python"
    }
  },
  "cells": [
    {
      "cell_type": "code",
      "execution_count": 1,
      "metadata": {
        "id": "6IDB94Ai2uGc"
      },
      "outputs": [],
      "source": [
        "#La clase es como un molde para crear objetos\n",
        "class Galleta:\n",
        "  pass\n"
      ]
    },
    {
      "cell_type": "code",
      "source": [
        "una_galleta = Galleta()\n",
        "otra_galleta = Galleta()"
      ],
      "metadata": {
        "id": "fS4PMBch3rX2"
      },
      "execution_count": 2,
      "outputs": []
    },
    {
      "cell_type": "markdown",
      "source": [
        "Para distinguir bien las clases de las variables normales, optamos por utilizar la primer letra de la clase con una mayúscula.\n",
        "\n",
        "El proceso de crear un objeto a través de su clase se denomina instantación o instancia de clase.\n",
        "\n",
        "\n",
        "Continuemos, podemos saber la clase de un objeto o valor gracias a la función 'type'."
      ],
      "metadata": {
        "id": "eOuudMvC3yvo"
      }
    },
    {
      "cell_type": "code",
      "source": [
        "type(una_galleta)"
      ],
      "metadata": {
        "colab": {
          "base_uri": "https://localhost:8080/"
        },
        "id": "YuyV6DCN46ts",
        "outputId": "0e3cd36d-9635-4324-cb10-dbba1ffb82b2"
      },
      "execution_count": 3,
      "outputs": [
        {
          "output_type": "execute_result",
          "data": {
            "text/plain": [
              "__main__.Galleta"
            ]
          },
          "metadata": {},
          "execution_count": 3
        }
      ]
    },
    {
      "cell_type": "markdown",
      "source": [
        "Sabemos lo que es del tipo Galleta dado que pone .Galleta"
      ],
      "metadata": {
        "id": "k73IkjTk5AOZ"
      }
    },
    {
      "cell_type": "code",
      "source": [
        "type(10)"
      ],
      "metadata": {
        "colab": {
          "base_uri": "https://localhost:8080/"
        },
        "id": "_D7yAHAS5ID5",
        "outputId": "35edda21-0252-424c-f4b2-bd2ed5a98198"
      },
      "execution_count": 4,
      "outputs": [
        {
          "output_type": "execute_result",
          "data": {
            "text/plain": [
              "int"
            ]
          },
          "metadata": {},
          "execution_count": 4
        }
      ]
    },
    {
      "cell_type": "code",
      "source": [
        "type(3.14)"
      ],
      "metadata": {
        "colab": {
          "base_uri": "https://localhost:8080/"
        },
        "id": "Y-0ZuD2V5KJH",
        "outputId": "7e2e729a-70ff-470b-eb17-63e1ca22b873"
      },
      "execution_count": 5,
      "outputs": [
        {
          "output_type": "execute_result",
          "data": {
            "text/plain": [
              "float"
            ]
          },
          "metadata": {},
          "execution_count": 5
        }
      ]
    },
    {
      "cell_type": "code",
      "source": [
        "type(\"texto\")"
      ],
      "metadata": {
        "colab": {
          "base_uri": "https://localhost:8080/"
        },
        "id": "jFqMn6Hp5MpV",
        "outputId": "861516ad-0f04-46b9-8f03-afffe0a7d26a"
      },
      "execution_count": 6,
      "outputs": [
        {
          "output_type": "execute_result",
          "data": {
            "text/plain": [
              "str"
            ]
          },
          "metadata": {},
          "execution_count": 6
        }
      ]
    },
    {
      "cell_type": "code",
      "source": [
        "type([])"
      ],
      "metadata": {
        "colab": {
          "base_uri": "https://localhost:8080/"
        },
        "id": "da02Si8s5P6x",
        "outputId": "67cf6508-ad0d-46f4-e578-685461c126fe"
      },
      "execution_count": 7,
      "outputs": [
        {
          "output_type": "execute_result",
          "data": {
            "text/plain": [
              "list"
            ]
          },
          "metadata": {},
          "execution_count": 7
        }
      ]
    },
    {
      "cell_type": "code",
      "source": [
        "type({})"
      ],
      "metadata": {
        "colab": {
          "base_uri": "https://localhost:8080/"
        },
        "id": "lVnVdrzr5Rpn",
        "outputId": "884cd699-6a74-4806-8c2b-4962b426a790"
      },
      "execution_count": 9,
      "outputs": [
        {
          "output_type": "execute_result",
          "data": {
            "text/plain": [
              "dict"
            ]
          },
          "metadata": {},
          "execution_count": 9
        }
      ]
    },
    {
      "cell_type": "code",
      "source": [
        "type(True)"
      ],
      "metadata": {
        "colab": {
          "base_uri": "https://localhost:8080/"
        },
        "id": "TrzxzS6L5VZS",
        "outputId": "4c742afa-a1c4-477c-a00d-4757d4e5ce61"
      },
      "execution_count": 10,
      "outputs": [
        {
          "output_type": "execute_result",
          "data": {
            "text/plain": [
              "bool"
            ]
          },
          "metadata": {},
          "execution_count": 10
        }
      ]
    },
    {
      "cell_type": "code",
      "source": [
        "def hola():\n",
        "  pass\n",
        "type(hola)"
      ],
      "metadata": {
        "colab": {
          "base_uri": "https://localhost:8080/"
        },
        "id": "Uz8E1EzV5Yg_",
        "outputId": "d187f45c-d14e-4f52-bc9c-65f942b8df3b"
      },
      "execution_count": 12,
      "outputs": [
        {
          "output_type": "execute_result",
          "data": {
            "text/plain": [
              "function"
            ]
          },
          "metadata": {},
          "execution_count": 12
        }
      ]
    }
  ]
}