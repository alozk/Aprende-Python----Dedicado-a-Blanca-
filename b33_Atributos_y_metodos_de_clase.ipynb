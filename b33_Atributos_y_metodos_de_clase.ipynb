{
  "nbformat": 4,
  "nbformat_minor": 0,
  "metadata": {
    "colab": {
      "name": "b33_Atributos_y_metodos_de_clase.ipynb",
      "provenance": []
    },
    "kernelspec": {
      "name": "python3",
      "display_name": "Python 3"
    },
    "language_info": {
      "name": "python"
    }
  },
  "cells": [
    {
      "cell_type": "code",
      "execution_count": 2,
      "metadata": {
        "id": "Zo7tzdTpKX-c"
      },
      "outputs": [],
      "source": [
        "class Galleta:\n",
        "  pass\n",
        "\n",
        "una_galleta = Galleta()"
      ]
    },
    {
      "cell_type": "code",
      "source": [
        "una_galleta.sabor = \"Salado\""
      ],
      "metadata": {
        "id": "lKqz1m6iLPLR"
      },
      "execution_count": 3,
      "outputs": []
    },
    {
      "cell_type": "code",
      "source": [
        "una_galleta.color = \"Marrón\""
      ],
      "metadata": {
        "id": "-81UY8VKLSTz"
      },
      "execution_count": 4,
      "outputs": []
    },
    {
      "cell_type": "code",
      "source": [
        "print(\"El sabor de esta galleta es\", una_galleta.sabor)"
      ],
      "metadata": {
        "colab": {
          "base_uri": "https://localhost:8080/"
        },
        "id": "Hvx4WwgNLX_5",
        "outputId": "10f8e12d-7257-4733-d226-6df9965bb451"
      },
      "execution_count": 5,
      "outputs": [
        {
          "output_type": "stream",
          "name": "stdout",
          "text": [
            "El sabor de esta galleta es Salado\n"
          ]
        }
      ]
    },
    {
      "cell_type": "code",
      "source": [
        "class Galleta:\n",
        "  chocolate = False\n",
        "\n",
        "g = Galleta()\n",
        "g.chocolate"
      ],
      "metadata": {
        "colab": {
          "base_uri": "https://localhost:8080/"
        },
        "id": "61cVbb9mLgTE",
        "outputId": "8663db67-e61e-4922-e951-cb7c85adfa9d"
      },
      "execution_count": 6,
      "outputs": [
        {
          "output_type": "execute_result",
          "data": {
            "text/plain": [
              "False"
            ]
          },
          "metadata": {},
          "execution_count": 6
        }
      ]
    },
    {
      "cell_type": "code",
      "source": [
        "g.chocolate = True\n",
        "g.chocolate"
      ],
      "metadata": {
        "colab": {
          "base_uri": "https://localhost:8080/"
        },
        "id": "egZoMuHVLp3Y",
        "outputId": "09049218-c2e3-4f5f-8a82-6e9890073a5d"
      },
      "execution_count": 7,
      "outputs": [
        {
          "output_type": "execute_result",
          "data": {
            "text/plain": [
              "True"
            ]
          },
          "metadata": {},
          "execution_count": 7
        }
      ]
    },
    {
      "cell_type": "code",
      "source": [
        "class Galleta():\n",
        "  chocolate = False\n",
        "  def __init__(self):\n",
        "    print(\"Se acaba de crear una galleta.\")\n",
        "g = Galleta()"
      ],
      "metadata": {
        "colab": {
          "base_uri": "https://localhost:8080/"
        },
        "id": "5Txk1_SGL286",
        "outputId": "d980d212-6100-4ce8-b761-810736a9e538"
      },
      "execution_count": 8,
      "outputs": [
        {
          "output_type": "stream",
          "name": "stdout",
          "text": [
            "Se acaba de crear una galleta.\n"
          ]
        }
      ]
    },
    {
      "cell_type": "code",
      "source": [
        "class Galleta():\n",
        "  chocolate = False\n",
        "  \n",
        "  def __init__(self):\n",
        "    print(\"Se acaba de crear una galleta.\")\n",
        "  \n",
        "  def chocolatear(self):\n",
        "    self.chocolate = True #Hace falta el 'self.' para que sea 'True'\n",
        "\n",
        "  def tiene_chocolate(self):\n",
        "    if (self.chocolate):\n",
        "      print(\"Soy una galleta chocolateada\")\n",
        "    else:\n",
        "      print(\"Soy una galleta sin chocolate\")\n",
        "\n",
        "g = Galleta()\n",
        "g.tiene_chocolate()\n",
        "g.chocolatear()\n",
        "g.tiene_chocolate()"
      ],
      "metadata": {
        "colab": {
          "base_uri": "https://localhost:8080/"
        },
        "id": "oS89SonnMUnd",
        "outputId": "e2576b97-4229-428f-8e1a-37810ca40791"
      },
      "execution_count": 13,
      "outputs": [
        {
          "output_type": "stream",
          "name": "stdout",
          "text": [
            "Se acaba de crear una galleta.\n",
            "Soy una galleta sin chocolate\n",
            "Soy una galleta chocolateada\n"
          ]
        }
      ]
    },
    {
      "cell_type": "code",
      "source": [
        "class Galleta():\n",
        "  chocolate = False\n",
        "\n",
        "  def __init__(self, sabor, forma):\n",
        "    self.sabor = sabor\n",
        "    self.forma = forma\n",
        "    print(\"Se acaba de crear una galleta {} y {}\".format(sabor,forma))\n",
        "  \n",
        "  def chocolatear(self):\n",
        "    self.chocolate = True #Hace falta el 'self.' para que sea 'True'\n",
        "\n",
        "  def tiene_chocolate(self):\n",
        "    if (self.chocolate):\n",
        "      print(\"Soy una galleta chocolateada\")\n",
        "    else:\n",
        "      print(\"Soy una galleta sin chocolate\")"
      ],
      "metadata": {
        "id": "PKBArDtqPWyl"
      },
      "execution_count": 23,
      "outputs": []
    },
    {
      "cell_type": "code",
      "source": [
        "g = Galleta(\"salada\",\"triangular\")"
      ],
      "metadata": {
        "colab": {
          "base_uri": "https://localhost:8080/"
        },
        "id": "4yRzsp0fP7iS",
        "outputId": "e833547f-8d87-4ef6-eefb-9ac27830b23b"
      },
      "execution_count": 24,
      "outputs": [
        {
          "output_type": "stream",
          "name": "stdout",
          "text": [
            "Se acaba de crear una galleta salada y triangular\n"
          ]
        }
      ]
    },
    {
      "cell_type": "code",
      "source": [
        "class Galleta():\n",
        "  chocolate = False\n",
        "\n",
        "  def __init__(self, sabor=None, forma=None):\n",
        "    self.sabor = sabor\n",
        "    self.forma = forma\n",
        "    if sabor is not None and format is not None:\n",
        "      print(\"Se acaba de crear una galleta {} y {}\".format(sabor,forma))\n",
        "  \n",
        "  def chocolatear(self):\n",
        "    self.chocolate = True #Hace falta el 'self.' para que sea 'True'\n",
        "\n",
        "  def tiene_chocolate(self):\n",
        "    if (self.chocolate):\n",
        "      print(\"Soy una galleta chocolateada\")\n",
        "    else:\n",
        "      print(\"Soy una galleta sin chocolate\")"
      ],
      "metadata": {
        "id": "bc6u21y5Ql8p"
      },
      "execution_count": 25,
      "outputs": []
    },
    {
      "cell_type": "code",
      "source": [
        "g = Galleta(\"salada\",\"cuadrada\")"
      ],
      "metadata": {
        "colab": {
          "base_uri": "https://localhost:8080/"
        },
        "id": "f-IRvO2ZQyAf",
        "outputId": "868c236f-fe45-43bd-965b-897f65c06b56"
      },
      "execution_count": 27,
      "outputs": [
        {
          "output_type": "stream",
          "name": "stdout",
          "text": [
            "Se acaba de crear una galleta salada y cuadrada\n"
          ]
        }
      ]
    }
  ]
}