{
  "nbformat": 4,
  "nbformat_minor": 0,
  "metadata": {
    "colab": {
      "name": "b33_Atributos_y_metodos_de_clase.ipynb",
      "provenance": []
    },
    "kernelspec": {
      "name": "python3",
      "display_name": "Python 3"
    },
    "language_info": {
      "name": "python"
    }
  },
  "cells": [
    {
      "cell_type": "code",
      "execution_count": 2,
      "metadata": {
        "id": "Zo7tzdTpKX-c"
      },
      "outputs": [],
      "source": [
        "class Galleta:\n",
        "  pass\n",
        "\n",
        "una_galleta = Galleta()"
      ]
    },
    {
      "cell_type": "code",
      "source": [
        "una_galleta.sabor = \"Salado\""
      ],
      "metadata": {
        "id": "lKqz1m6iLPLR"
      },
      "execution_count": 3,
      "outputs": []
    },
    {
      "cell_type": "code",
      "source": [
        "una_galleta.color = \"Marrón\""
      ],
      "metadata": {
        "id": "-81UY8VKLSTz"
      },
      "execution_count": 4,
      "outputs": []
    },
    {
      "cell_type": "code",
      "source": [
        "print(\"El sabor de esta galleta es\", una_galleta.sabor)"
      ],
      "metadata": {
        "colab": {
          "base_uri": "https://localhost:8080/"
        },
        "id": "Hvx4WwgNLX_5",
        "outputId": "10f8e12d-7257-4733-d226-6df9965bb451"
      },
      "execution_count": 5,
      "outputs": [
        {
          "output_type": "stream",
          "name": "stdout",
          "text": [
            "El sabor de esta galleta es Salado\n"
          ]
        }
      ]
    },
    {
      "cell_type": "code",
      "source": [
        "class Galleta:\n",
        "  chocolate = False\n",
        "\n",
        "g = Galleta()\n",
        "g.chocolate"
      ],
      "metadata": {
        "colab": {
          "base_uri": "https://localhost:8080/"
        },
        "id": "61cVbb9mLgTE",
        "outputId": "8663db67-e61e-4922-e951-cb7c85adfa9d"
      },
      "execution_count": 6,
      "outputs": [
        {
          "output_type": "execute_result",
          "data": {
            "text/plain": [
              "False"
            ]
          },
          "metadata": {},
          "execution_count": 6
        }
      ]
    },
    {
      "cell_type": "code",
      "source": [
        "g.chocolate = True\n",
        "g.chocolate"
      ],
      "metadata": {
        "colab": {
          "base_uri": "https://localhost:8080/"
        },
        "id": "egZoMuHVLp3Y",
        "outputId": "09049218-c2e3-4f5f-8a82-6e9890073a5d"
      },
      "execution_count": 7,
      "outputs": [
        {
          "output_type": "execute_result",
          "data": {
            "text/plain": [
              "True"
            ]
          },
          "metadata": {},
          "execution_count": 7
        }
      ]
    },
    {
      "cell_type": "code",
      "source": [
        "class Galleta():\n",
        "  chocolate = False\n",
        "  def __init__(self):\n",
        "    print(\"Se acaba de crear una galleta.\")\n",
        "g = Galleta()"
      ],
      "metadata": {
        "colab": {
          "base_uri": "https://localhost:8080/"
        },
        "id": "5Txk1_SGL286",
        "outputId": "d980d212-6100-4ce8-b761-810736a9e538"
      },
      "execution_count": 8,
      "outputs": [
        {
          "output_type": "stream",
          "name": "stdout",
          "text": [
            "Se acaba de crear una galleta.\n"
          ]
        }
      ]
    },
    {
      "cell_type": "code",
      "source": [
        "class Galleta():\n",
        "  chocolate = False\n",
        "  def __init__(self):\n",
        "    print(\"Se acaba de crear una galleta.\")\n",
        "  \n",
        "  def chocolatear(self):\n",
        "    self.chocolate = True #Hace falta el 'self.' para que sea 'True'\n",
        "\n",
        "  def tiene_chocolate(self):\n",
        "    if (self.chocolate):\n",
        "      print(\"Soy una galleta chocolateada\")\n",
        "    else:\n",
        "      print(\"Soy una galleta sin chocolate\")\n",
        "\n",
        "g = Galleta()\n",
        "g.chocolatear()\n",
        "g.chocolate\n",
        "g.tiene_chocolate()"
      ],
      "metadata": {
        "colab": {
          "base_uri": "https://localhost:8080/"
        },
        "id": "oS89SonnMUnd",
        "outputId": "dd7e21ad-9f9f-45e8-91ba-110b1672c180"
      },
      "execution_count": 11,
      "outputs": [
        {
          "output_type": "stream",
          "name": "stdout",
          "text": [
            "Se acaba de crear una galleta.\n",
            "Soy una galleta chocolateada\n"
          ]
        }
      ]
    }
  ]
}