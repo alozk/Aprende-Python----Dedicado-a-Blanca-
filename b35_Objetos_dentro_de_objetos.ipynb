{
  "nbformat": 4,
  "nbformat_minor": 0,
  "metadata": {
    "colab": {
      "name": "b35_Objetos_dentro_de_objetos.ipynb",
      "provenance": []
    },
    "kernelspec": {
      "name": "python3",
      "display_name": "Python 3"
    },
    "language_info": {
      "name": "python"
    }
  },
  "cells": [
    {
      "cell_type": "markdown",
      "source": [
        "Como ejemplo de objetos dentro de otros, creamos un catálogo para manejar las películas del ejemplo anterior:"
      ],
      "metadata": {
        "id": "cA6kuC9k32d7"
      }
    },
    {
      "cell_type": "code",
      "execution_count": 1,
      "metadata": {
        "id": "E0Fp-jlW3qUK"
      },
      "outputs": [],
      "source": [
        "class Pelicula:\n",
        "\n",
        "  #Constructor de clase\n",
        "  def __init__(self, titulo, duracion, lanzamiento):\n",
        "    self.titulo = titulo\n",
        "    self.duracion = duracion\n",
        "    self.lanzamiento = lanzamiento\n",
        "    print(\"Se ha creado la pelicula\", self.titulo)\n",
        "\n",
        "  def __str__(self):\n",
        "    return '{} ({})'.format(self.titulo, self.lanzamiento)"
      ]
    },
    {
      "cell_type": "code",
      "source": [
        "class Catalogo:\n",
        "  peliculas = []\n",
        "\n",
        "  def __init__(self,peliculas=[]):\n",
        "    self.peliculas = peliculas\n",
        "  \n",
        "  def agregar(self,p): #Añadir 'p' es añadir pelicula\n",
        "    self.peliculas.append(p) #Y lo hacemos con 'append'\n",
        "\n",
        "  def mostrar (self):\n",
        "    for p in self.peliculas:\n",
        "      print(p)"
      ],
      "metadata": {
        "id": "qB7ynKRT4vvV"
      },
      "execution_count": 2,
      "outputs": []
    },
    {
      "cell_type": "markdown",
      "source": [
        "Y ahora vamos a crear un par de peliculas:"
      ],
      "metadata": {
        "id": "Fqh3mrm_C2rI"
      }
    },
    {
      "cell_type": "code",
      "source": [
        "p = Pelicula(\"El Padrino\", 175, 1972)\n",
        "c = Catalogo([p])"
      ],
      "metadata": {
        "colab": {
          "base_uri": "https://localhost:8080/"
        },
        "id": "KlRMLM6E40q1",
        "outputId": "237367b9-c74a-4e95-8dc6-bfee3f4b9813"
      },
      "execution_count": 3,
      "outputs": [
        {
          "output_type": "stream",
          "name": "stdout",
          "text": [
            "Se ha creado la pelicula El Padrino\n"
          ]
        }
      ]
    },
    {
      "cell_type": "code",
      "source": [
        "c.mostrar()"
      ],
      "metadata": {
        "colab": {
          "base_uri": "https://localhost:8080/"
        },
        "id": "SAOCOVoGDSAK",
        "outputId": "ef57f611-4de8-4c24-c619-f0894405808d"
      },
      "execution_count": 4,
      "outputs": [
        {
          "output_type": "stream",
          "name": "stdout",
          "text": [
            "El Padrino (1972)\n"
          ]
        }
      ]
    },
    {
      "cell_type": "markdown",
      "source": [
        "Podemos crear una nueva pelicula pero sin la necesidad de hacer todo lo anterior.\n",
        "\n",
        "Por ejemplo:"
      ],
      "metadata": {
        "id": "UBsos-_dElmm"
      }
    },
    {
      "cell_type": "code",
      "source": [
        "c.agregar(Pelicula(\"El Padrino: Parte 2\",202,1974))"
      ],
      "metadata": {
        "colab": {
          "base_uri": "https://localhost:8080/"
        },
        "id": "B1TnysYvEsUl",
        "outputId": "cea04dea-e349-476f-dfa7-12f1e11ec59b"
      },
      "execution_count": 5,
      "outputs": [
        {
          "output_type": "stream",
          "name": "stdout",
          "text": [
            "Se ha creado la pelicula El Padrino: Parte 2\n"
          ]
        }
      ]
    },
    {
      "cell_type": "code",
      "source": [
        "c.mostrar()"
      ],
      "metadata": {
        "colab": {
          "base_uri": "https://localhost:8080/"
        },
        "id": "GXJLRbhIE2Nr",
        "outputId": "ae9b1c1e-2ae8-4fbb-e6a0-89a17eb117e1"
      },
      "execution_count": 6,
      "outputs": [
        {
          "output_type": "stream",
          "name": "stdout",
          "text": [
            "El Padrino (1972)\n",
            "El Padrino: Parte 2 (1974)\n"
          ]
        }
      ]
    }
  ]
}