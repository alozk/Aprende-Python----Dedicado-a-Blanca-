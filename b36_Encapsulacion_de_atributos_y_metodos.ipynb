{
  "nbformat": 4,
  "nbformat_minor": 0,
  "metadata": {
    "colab": {
      "name": "b36_Encapsulacion_de_atributos_y_metodos.ipynb",
      "provenance": []
    },
    "kernelspec": {
      "name": "python3",
      "display_name": "Python 3"
    },
    "language_info": {
      "name": "python"
    }
  },
  "cells": [
    {
      "cell_type": "markdown",
      "source": [
        "La encapsulación es una funcionalidad que tienen muchos lenguajes para impedir el acceso externo a atributos y métodos, pero Python no ofrece esta funcionalidad.\n",
        "\n",
        "Aún así,se puede simular un comportamiento parecido precediendo los nombres de estos atributos y métodos con '__'.\n",
        "\n",
        "Por ejemplo:"
      ],
      "metadata": {
        "id": "viEuhtQuNEpG"
      }
    },
    {
      "cell_type": "code",
      "execution_count": 1,
      "metadata": {
        "id": "jXb4E1BVKSZx"
      },
      "outputs": [],
      "source": [
        "class Ejemplo:\n",
        "  __atributo = \"Soy un atributo inalcanzable desde fuera\"\n",
        "\n",
        "  def __metodo_privado(self):\n",
        "    print('Soy un método inalcanzable desde fuera')"
      ]
    },
    {
      "cell_type": "code",
      "source": [
        "e = Ejemplo()"
      ],
      "metadata": {
        "id": "ABBEhLtnNu_6"
      },
      "execution_count": 2,
      "outputs": []
    },
    {
      "cell_type": "code",
      "source": [
        "e.__atributo"
      ],
      "metadata": {
        "colab": {
          "base_uri": "https://localhost:8080/",
          "height": 165
        },
        "id": "7QrtiIwzNyrY",
        "outputId": "9099fe7e-6096-4365-bf47-2bfa72af13f8"
      },
      "execution_count": 3,
      "outputs": [
        {
          "output_type": "error",
          "ename": "AttributeError",
          "evalue": "ignored",
          "traceback": [
            "\u001b[0;31m---------------------------------------------------------------------------\u001b[0m",
            "\u001b[0;31mAttributeError\u001b[0m                            Traceback (most recent call last)",
            "\u001b[0;32m<ipython-input-3-e8462a0d3a87>\u001b[0m in \u001b[0;36m<module>\u001b[0;34m()\u001b[0m\n\u001b[0;32m----> 1\u001b[0;31m \u001b[0me\u001b[0m\u001b[0;34m.\u001b[0m\u001b[0m__atributo\u001b[0m\u001b[0;34m\u001b[0m\u001b[0;34m\u001b[0m\u001b[0m\n\u001b[0m",
            "\u001b[0;31mAttributeError\u001b[0m: 'Ejemplo' object has no attribute '__atributo'"
          ]
        }
      ]
    },
    {
      "cell_type": "markdown",
      "source": [
        "Sin embargo así nos dice que no hay atributo en Ejemplo.\n",
        "\n",
        "Probemos de otra forma."
      ],
      "metadata": {
        "id": "cRO2ul7nN3x9"
      }
    },
    {
      "cell_type": "code",
      "source": [
        "e.__metodo_privado()"
      ],
      "metadata": {
        "id": "Bg_Zkw0KODBf"
      },
      "execution_count": null,
      "outputs": []
    },
    {
      "cell_type": "markdown",
      "source": [
        "Tampoco nos deja de esta forma.\n",
        "Sin embargo desde dentro si podemos utilizarlos como atributos o métodos normales.\n",
        "\n",
        "Así que, es posible crear unos métodos que hagan de puente entre el exterior y el interior y los podemos llamar públicos (por decirlo de alguna forma).\n",
        "\n",
        "Por ejemplo para poder acceder al atributo público, vamos a volver a redefinir este ejemplo:"
      ],
      "metadata": {
        "id": "VPhckmBiOH2P"
      }
    },
    {
      "cell_type": "code",
      "source": [
        "class Ejemplo:\n",
        "  __atributo = \"Soy un atributo inalcanzable desde fuera\"\n",
        "\n",
        "  def __metodo_privado(self):\n",
        "    print('Soy un método inalcanzable desde fuera')\n",
        "\n",
        "  def atributo_publico(self): #Este si es accesible desde fuera\n",
        "    return self.__atributo_privado\n",
        "\n",
        "  def metodo_publico(self):\n",
        "    return self.__metodo_privado()"
      ],
      "metadata": {
        "id": "ESPYi2xNOqMd"
      },
      "execution_count": 4,
      "outputs": []
    },
    {
      "cell_type": "code",
      "source": [
        " e = Ejemplo()"
      ],
      "metadata": {
        "id": "axJNHjwYO1Ah"
      },
      "execution_count": 5,
      "outputs": []
    },
    {
      "cell_type": "code",
      "source": [
        "e.metodo_publico()"
      ],
      "metadata": {
        "colab": {
          "base_uri": "https://localhost:8080/"
        },
        "id": "uxFR7F3yO43A",
        "outputId": "256aedd2-cc9d-4a21-92be-a6dbf646ab26"
      },
      "execution_count": 6,
      "outputs": [
        {
          "output_type": "stream",
          "name": "stdout",
          "text": [
            "Soy un método inalcanzable desde fuera\n"
          ]
        }
      ]
    }
  ]
}