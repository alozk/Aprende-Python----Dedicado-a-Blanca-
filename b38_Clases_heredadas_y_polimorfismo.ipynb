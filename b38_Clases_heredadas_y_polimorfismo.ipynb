{
  "nbformat": 4,
  "nbformat_minor": 0,
  "metadata": {
    "colab": {
      "name": "b38_Clases_heredadas_y_polimorfismo.ipynb",
      "provenance": []
    },
    "kernelspec": {
      "name": "python3",
      "display_name": "Python 3"
    },
    "language_info": {
      "name": "python"
    }
  },
  "cells": [
    {
      "cell_type": "code",
      "execution_count": 1,
      "metadata": {
        "id": "Ijp7l40xXpBJ"
      },
      "outputs": [],
      "source": [
        "class Producto:\n",
        "  def __init__(self,referencia,nombre,pvp,descripcion):\n",
        "    self.referencia = referencia\n",
        "    self.nombre = nombre\n",
        "    self.pvp = pvp\n",
        "    self.descripcion = descripcion\n",
        "\n",
        "  def __str__(self):\n",
        "    return \"\"\"\\\n",
        "REFERENCIA:\\t{}\n",
        "NOMBRE:\\t\\t{}\n",
        "PVP:\\t\\t{}\n",
        "DESCRIPCIÓN:\\t{}\"\"\".format(self.referencia,self.nombre,self.pvp,self.descripcion)\n",
        "\n",
        "\n",
        "class Adorno(Producto):\n",
        "  pass\n",
        "\n",
        "class Alimento(Producto):\n",
        "  productor = \"\"\n",
        "  distribuidor = \"\"\n",
        "\n",
        "class Libro(Producto):\n",
        "  autor = \"\"\n",
        "  isbn = \"\"\n",
        "  \n",
        "  def __str__(self):  #Sobreescribimos el 'str' para añadir los atributos únicos de Alimento\n",
        "    return \"\"\"\\\n",
        "REFERENCIA:\\t{}\n",
        "NOMBRE:\\t\\t{}\n",
        "PVP:\\t\\t{}\n",
        "DESCRIPCIÓN:\\t{}\n",
        "ISBN:\\t\\t{}\n",
        "AUTOR:\\t\\t{}\"\"\".format(self.referencia,self.nombre,self.pvp,self.descripcion,self.isbn,self.autor)"
      ]
    },
    {
      "cell_type": "code",
      "source": [
        "ad = Adorno(2034,\"Vela\",15,\"Vela arómatica naranja\")\n",
        "\n",
        "al = Alimento(2035,\"Botella de Aceite de Oliva\",7,\"250 ML\")\n",
        "al.productor = \"L'oli d'Antella\"\n",
        "al.distribuidor = \"Paco Porras SL\"\n",
        "\n",
        "li = Libro(2036,\"Cuentos infantiles\",1.85,\"El lobo feroz\")\n",
        "li.isbn = \"0-123456-78-9\"\n",
        "li.autor = \"Manulife\""
      ],
      "metadata": {
        "id": "duJHeOGc421i"
      },
      "execution_count": 2,
      "outputs": []
    },
    {
      "cell_type": "markdown",
      "source": [
        "Creamos una lista en productos con Adornos y Alimentación."
      ],
      "metadata": {
        "id": "r_17YUc8lQW1"
      }
    },
    {
      "cell_type": "code",
      "source": [
        "productos = [ad, al]"
      ],
      "metadata": {
        "id": "ae4M9aWilNII"
      },
      "execution_count": 3,
      "outputs": []
    },
    {
      "cell_type": "code",
      "source": [
        "#Añadimos Libros\n",
        "productos.append(li)"
      ],
      "metadata": {
        "id": "BZG2djIomHq7"
      },
      "execution_count": 4,
      "outputs": []
    },
    {
      "cell_type": "code",
      "source": [
        "productos"
      ],
      "metadata": {
        "colab": {
          "base_uri": "https://localhost:8080/"
        },
        "id": "SUaLbOZwmQTz",
        "outputId": "e8b58e33-100e-46a3-f30e-10f2adf09df8"
      },
      "execution_count": 5,
      "outputs": [
        {
          "output_type": "execute_result",
          "data": {
            "text/plain": [
              "[<__main__.Adorno at 0x7f84ef07dfd0>,\n",
              " <__main__.Alimento at 0x7f84ef07d790>,\n",
              " <__main__.Libro at 0x7f84ef07de50>]"
            ]
          },
          "metadata": {},
          "execution_count": 5
        }
      ]
    },
    {
      "cell_type": "code",
      "source": [
        "for p in productos:\n",
        "  print(p,\"\\n\") #'\\n' es salto de línea, para que se vea clara la separación"
      ],
      "metadata": {
        "colab": {
          "base_uri": "https://localhost:8080/"
        },
        "id": "YOBEYqqMmT4v",
        "outputId": "4397066f-87c2-4dd0-c24e-89d55c6d136d"
      },
      "execution_count": 6,
      "outputs": [
        {
          "output_type": "stream",
          "name": "stdout",
          "text": [
            "REFERENCIA:\t2034\n",
            "NOMBRE:\t\tVela\n",
            "PVP:\t\t15\n",
            "DESCRIPCIÓN:\tVela arómatica naranja \n",
            "\n",
            "REFERENCIA:\t2035\n",
            "NOMBRE:\t\tBotella de Aceite de Oliva\n",
            "PVP:\t\t7\n",
            "DESCRIPCIÓN:\t250 ML \n",
            "\n",
            "REFERENCIA:\t2036\n",
            "NOMBRE:\t\tCuentos infantiles\n",
            "PVP:\t\t1.85\n",
            "DESCRIPCIÓN:\tEl lobo feroz\n",
            "ISBN:\t\t0-123456-78-9\n",
            "AUTOR:\t\tManulife \n",
            "\n"
          ]
        }
      ]
    },
    {
      "cell_type": "code",
      "source": [
        "#Pedimos ciertas características\n",
        "for p in productos:\n",
        "  print(p.referencia, p.nombre)"
      ],
      "metadata": {
        "colab": {
          "base_uri": "https://localhost:8080/"
        },
        "id": "IKjjS2mUm6ac",
        "outputId": "b0aea573-b6db-4187-8fc7-262224c0a736"
      },
      "execution_count": 7,
      "outputs": [
        {
          "output_type": "stream",
          "name": "stdout",
          "text": [
            "2034 Vela\n",
            "2035 Botella de Aceite de Oliva\n",
            "2036 Cuentos infantiles\n"
          ]
        }
      ]
    },
    {
      "cell_type": "markdown",
      "source": [
        "Pedir un atributo que todos tienen en común no es problema, pero pedir uno esclusivo, dará error.\n",
        "\n",
        "Por ejemplo, vamos a pedir autor, el cual es un atributo única y exclusivamente de Libro."
      ],
      "metadata": {
        "id": "FmRcuBj_nNpd"
      }
    },
    {
      "cell_type": "code",
      "source": [
        "for p in productos:\n",
        "  print(p.autor)"
      ],
      "metadata": {
        "colab": {
          "base_uri": "https://localhost:8080/",
          "height": 182
        },
        "id": "irSFqbvinb6X",
        "outputId": "ec56999c-3cc8-4536-b8f4-c4a56e82ca7c"
      },
      "execution_count": 8,
      "outputs": [
        {
          "output_type": "error",
          "ename": "AttributeError",
          "evalue": "ignored",
          "traceback": [
            "\u001b[0;31m---------------------------------------------------------------------------\u001b[0m",
            "\u001b[0;31mAttributeError\u001b[0m                            Traceback (most recent call last)",
            "\u001b[0;32m<ipython-input-8-33c6c462a86f>\u001b[0m in \u001b[0;36m<module>\u001b[0;34m()\u001b[0m\n\u001b[1;32m      1\u001b[0m \u001b[0;32mfor\u001b[0m \u001b[0mp\u001b[0m \u001b[0;32min\u001b[0m \u001b[0mproductos\u001b[0m\u001b[0;34m:\u001b[0m\u001b[0;34m\u001b[0m\u001b[0;34m\u001b[0m\u001b[0m\n\u001b[0;32m----> 2\u001b[0;31m   \u001b[0mprint\u001b[0m\u001b[0;34m(\u001b[0m\u001b[0mp\u001b[0m\u001b[0;34m.\u001b[0m\u001b[0mautor\u001b[0m\u001b[0;34m)\u001b[0m\u001b[0;34m\u001b[0m\u001b[0;34m\u001b[0m\u001b[0m\n\u001b[0m",
            "\u001b[0;31mAttributeError\u001b[0m: 'Adorno' object has no attribute 'autor'"
          ]
        }
      ]
    },
    {
      "cell_type": "markdown",
      "source": [
        "Y efectivamente, nos da error, ya que en este caso, Adorno no tiene atributo autor. Pero tenemos una solución, el uso de 'isinstance'.\n",
        "\n",
        "El 'isinstance' se usa para saber si un objeto es de un tipo.\n",
        "\n",
        "\n"
      ],
      "metadata": {
        "id": "8HawwzZZnh8z"
      }
    },
    {
      "cell_type": "code",
      "source": [
        "#Ahora usamos 'isinstance', se usa para saber si un objeto\n",
        "for p in productos:\n",
        "  if( isinstance(p, Adorno)): #Si lo es, lo imprimirá\n",
        "    print(p.referencia,p.nombre)\n",
        "  \n",
        "  elif( isinstance(p, Alimento)): #Si no es Adorno, que mire si es Alimento\n",
        "    print(p.referencia,p.nombre,p.productor)\n",
        "\n",
        "  elif( isinstance(p, Libro)): #Si no es Adorno ni Alimento, que compruebe si es Libro\n",
        "    print(p.referencia,p.nombre,p.isbn)"
      ],
      "metadata": {
        "colab": {
          "base_uri": "https://localhost:8080/"
        },
        "id": "RNsMN5Ilzgc1",
        "outputId": "8f0c325d-b76a-4201-8f9b-7a53815cd554"
      },
      "execution_count": 9,
      "outputs": [
        {
          "output_type": "stream",
          "name": "stdout",
          "text": [
            "2034 Vela\n",
            "2035 Botella de Aceite de Oliva L'oli d'Antella\n",
            "2036 Cuentos infantiles 0-123456-78-9\n"
          ]
        }
      ]
    },
    {
      "cell_type": "markdown",
      "source": [
        "Algo también interesante, es que podemos crear una función que reciba productos (por ejemplo), y realice algún tipo de modificación en sus atributos.\n",
        "\n",
        "Por ejemplo, rebajar el precio de un producto en un tanto por ciento."
      ],
      "metadata": {
        "id": "9tO38lYU06c6"
      }
    },
    {
      "cell_type": "code",
      "source": [
        "def rebajar_producto(p, rebaja):\n",
        "  \"\"\"Devuelve un producto con una rebaja en porcentaje de su precio\"\"\"\n",
        "  p.pvp = p.pvp - (p.pvp/100 * rebaja)\n",
        "  return p\n",
        "\n",
        "al_rebajado = rebajar_producto(al, 10)  #Rebaja del 10%\n",
        "print(al_rebajado)"
      ],
      "metadata": {
        "colab": {
          "base_uri": "https://localhost:8080/"
        },
        "id": "KnC_KK9O0QzH",
        "outputId": "e5c6e246-ab72-4a3c-9a3a-2198c6304b49"
      },
      "execution_count": 10,
      "outputs": [
        {
          "output_type": "stream",
          "name": "stdout",
          "text": [
            "REFERENCIA:\t2035\n",
            "NOMBRE:\t\tBotella de Aceite de Oliva\n",
            "PVP:\t\t6.3\n",
            "DESCRIPCIÓN:\t250 ML\n"
          ]
        }
      ]
    },
    {
      "cell_type": "code",
      "source": [
        "print(al)"
      ],
      "metadata": {
        "colab": {
          "base_uri": "https://localhost:8080/"
        },
        "id": "OgUwSl0_2GFS",
        "outputId": "7e47e1ae-bf34-43e7-9514-d7a9e1573875"
      },
      "execution_count": 11,
      "outputs": [
        {
          "output_type": "stream",
          "name": "stdout",
          "text": [
            "REFERENCIA:\t2035\n",
            "NOMBRE:\t\tBotella de Aceite de Oliva\n",
            "PVP:\t\t6.3\n",
            "DESCRIPCIÓN:\t250 ML\n"
          ]
        }
      ]
    }
  ]
}