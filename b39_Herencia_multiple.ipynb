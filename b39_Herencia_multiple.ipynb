{
  "nbformat": 4,
  "nbformat_minor": 0,
  "metadata": {
    "colab": {
      "name": "b39_Herencia_multiple.ipynb",
      "provenance": []
    },
    "kernelspec": {
      "name": "python3",
      "display_name": "Python 3"
    },
    "language_info": {
      "name": "python"
    }
  },
  "cells": [
    {
      "cell_type": "markdown",
      "source": [
        "La herencia múltiple hace referencia a la posibilidad de que una subclase herede de varias superclases a la vez de manera que se pueden heredar multitud de atributos y métodos.\n",
        "\n",
        "Sin embargo, hay un problema y este aparece cuando tenemos comportamientos comunes en las superclases, es decir, tiene métodos o atributos iguales. En estos casos Python lo que hará es dar prioridad a las superclases más a la izquierda en la declaración.\n",
        "\n",
        "\n",
        "Por ejemplo:"
      ],
      "metadata": {
        "id": "a0qacnKvLcxE"
      }
    },
    {
      "cell_type": "code",
      "execution_count": 3,
      "metadata": {
        "colab": {
          "base_uri": "https://localhost:8080/"
        },
        "id": "tS-2uHxd7aDb",
        "outputId": "71e07f11-bc39-4259-b091-a95f255b0a37"
      },
      "outputs": [
        {
          "output_type": "stream",
          "name": "stdout",
          "text": [
            "Soy de clase A\n"
          ]
        }
      ],
      "source": [
        "class A:\n",
        "  def __init__(self):\n",
        "    print(\"Soy de clase A\")\n",
        "\n",
        "class B:\n",
        "  def __init__(self):\n",
        "    print(\"Soy de clase B\")\n",
        "\n",
        "class C(A,B): #Hereda de clase A y B\n",
        "  pass\n",
        "\n",
        "c = C()"
      ]
    },
    {
      "cell_type": "markdown",
      "source": [
        "Observamos que C queda guardado primero de A y lo vemos en el print, dado que imprime en pantall 'Soy de clase A' al mecionar C().\n",
        "\n",
        "Si cambiamos de orden la mención y ponemos: 'class C(B,A):', la cosa cambia:"
      ],
      "metadata": {
        "id": "x5aXqBmUM9Cf"
      }
    },
    {
      "cell_type": "code",
      "source": [
        "class A:\n",
        "  def __init__(self):\n",
        "    print(\"Soy de clase A\")\n",
        "\n",
        "class B:\n",
        "  def __init__(self):\n",
        "    print(\"Soy de clase B\")\n",
        "\n",
        "class C(B,A): #Hereda de clase A y B\n",
        "  pass\n",
        "\n",
        "c = C()"
      ],
      "metadata": {
        "colab": {
          "base_uri": "https://localhost:8080/"
        },
        "id": "mRurun74NUkq",
        "outputId": "19afd66a-9e85-4145-9b5c-2cfcf012460b"
      },
      "execution_count": 4,
      "outputs": [
        {
          "output_type": "stream",
          "name": "stdout",
          "text": [
            "Soy de clase B\n"
          ]
        }
      ]
    },
    {
      "cell_type": "markdown",
      "source": [
        "Ahora para comprobar como se heredan todos los métodos de las superclases, podemos añadir algunos métodos específicos de clase, por ejemplo:"
      ],
      "metadata": {
        "id": "g_AsI7CwNgv9"
      }
    },
    {
      "cell_type": "code",
      "source": [
        "class A:\n",
        "  def __init__(self):\n",
        "    print(\"Soy de clase A\")\n",
        "  def a(self):\n",
        "    print(\"Este método lo heredo de A\")\n",
        "\n",
        "class B:\n",
        "  def __init__(self):\n",
        "    print(\"Soy de clase B\")\n",
        "  def b(self):\n",
        "    print(\"Este método lo heredo de B\")\n",
        "\n",
        "class C(B,A):\n",
        "  def c(self):\n",
        "    print(\"Este método lo heredo de C\")\n",
        "  pass\n",
        "\n",
        "c = C()"
      ],
      "metadata": {
        "colab": {
          "base_uri": "https://localhost:8080/"
        },
        "id": "tsgeMtIONrrW",
        "outputId": "9b4ab6db-03eb-4259-c366-282ae0c89d51"
      },
      "execution_count": 11,
      "outputs": [
        {
          "output_type": "stream",
          "name": "stdout",
          "text": [
            "Soy de clase B\n"
          ]
        }
      ]
    },
    {
      "cell_type": "code",
      "source": [
        "c.a()"
      ],
      "metadata": {
        "colab": {
          "base_uri": "https://localhost:8080/"
        },
        "id": "8oxXeDMzTlT3",
        "outputId": "dec1cecd-db4a-4f2a-9d11-9a54e5923cc1"
      },
      "execution_count": 12,
      "outputs": [
        {
          "output_type": "stream",
          "name": "stdout",
          "text": [
            "Este método lo heredo de A\n"
          ]
        }
      ]
    },
    {
      "cell_type": "code",
      "source": [
        "c.b()"
      ],
      "metadata": {
        "colab": {
          "base_uri": "https://localhost:8080/"
        },
        "id": "nHB0OdokT74c",
        "outputId": "f3dd042e-e1b7-4b43-e6b8-06a2706ce37a"
      },
      "execution_count": 13,
      "outputs": [
        {
          "output_type": "stream",
          "name": "stdout",
          "text": [
            "Este método lo heredo de B\n"
          ]
        }
      ]
    },
    {
      "cell_type": "code",
      "source": [
        "c.c()"
      ],
      "metadata": {
        "colab": {
          "base_uri": "https://localhost:8080/"
        },
        "id": "J3wGU6vUT9Lt",
        "outputId": "27d32ea7-ccaa-4122-fdce-f121535b0adc"
      },
      "execution_count": 14,
      "outputs": [
        {
          "output_type": "stream",
          "name": "stdout",
          "text": [
            "Este método lo heredo de C\n"
          ]
        }
      ]
    }
  ]
}