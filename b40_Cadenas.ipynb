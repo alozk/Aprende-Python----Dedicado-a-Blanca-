{
  "nbformat": 4,
  "nbformat_minor": 0,
  "metadata": {
    "colab": {
      "name": "b40_Cadenas.ipynb",
      "provenance": []
    },
    "kernelspec": {
      "name": "python3",
      "display_name": "Python 3"
    },
    "language_info": {
      "name": "python"
    }
  },
  "cells": [
    {
      "cell_type": "markdown",
      "source": [
        "Encontramos métodos y vamos a comenzar por los que son de manipulación de minúsculas y mayúsculas."
      ],
      "metadata": {
        "id": "M8fVVSgCjCKK"
      }
    },
    {
      "cell_type": "code",
      "execution_count": 1,
      "metadata": {
        "colab": {
          "base_uri": "https://localhost:8080/",
          "height": 35
        },
        "id": "_o2FTvE8eIYx",
        "outputId": "c4ae6442-e3a7-4ce3-f06e-3f031d74cfab"
      },
      "outputs": [
        {
          "output_type": "execute_result",
          "data": {
            "application/vnd.google.colaboratory.intrinsic+json": {
              "type": "string"
            },
            "text/plain": [
              "'HOLA MUNDO'"
            ]
          },
          "metadata": {},
          "execution_count": 1
        }
      ],
      "source": [
        "\"Hola Mundo\".upper()"
      ]
    },
    {
      "cell_type": "code",
      "source": [
        "\"Hola Mundo\".lower()"
      ],
      "metadata": {
        "colab": {
          "base_uri": "https://localhost:8080/",
          "height": 35
        },
        "id": "xePLrkfejUfP",
        "outputId": "febfac6f-7b94-4c76-8058-329261262a4b"
      },
      "execution_count": 2,
      "outputs": [
        {
          "output_type": "execute_result",
          "data": {
            "application/vnd.google.colaboratory.intrinsic+json": {
              "type": "string"
            },
            "text/plain": [
              "'hola mundo'"
            ]
          },
          "metadata": {},
          "execution_count": 2
        }
      ]
    },
    {
      "cell_type": "code",
      "source": [
        "\"hola mundo\".capitalize()"
      ],
      "metadata": {
        "colab": {
          "base_uri": "https://localhost:8080/",
          "height": 35
        },
        "id": "4AcnN3LZjYLa",
        "outputId": "cedfdfa7-e97d-4582-cb03-9c5bd7780ea1"
      },
      "execution_count": 3,
      "outputs": [
        {
          "output_type": "execute_result",
          "data": {
            "application/vnd.google.colaboratory.intrinsic+json": {
              "type": "string"
            },
            "text/plain": [
              "'Hola mundo'"
            ]
          },
          "metadata": {},
          "execution_count": 3
        }
      ]
    },
    {
      "cell_type": "code",
      "source": [
        "\"Hola mundo\".title()"
      ],
      "metadata": {
        "colab": {
          "base_uri": "https://localhost:8080/",
          "height": 35
        },
        "id": "BEObeNmAjc6p",
        "outputId": "bdee334d-7093-47f4-94d4-c5ef0d2d42ed"
      },
      "execution_count": 4,
      "outputs": [
        {
          "output_type": "execute_result",
          "data": {
            "application/vnd.google.colaboratory.intrinsic+json": {
              "type": "string"
            },
            "text/plain": [
              "'Hola Mundo'"
            ]
          },
          "metadata": {},
          "execution_count": 4
        }
      ]
    },
    {
      "cell_type": "code",
      "source": [
        "\"Hola mundo\".count('o')"
      ],
      "metadata": {
        "colab": {
          "base_uri": "https://localhost:8080/"
        },
        "id": "woBeSRS7jhsC",
        "outputId": "ca8fa80a-a5a2-4ac1-8fe7-e7084d4e46cb"
      },
      "execution_count": 5,
      "outputs": [
        {
          "output_type": "execute_result",
          "data": {
            "text/plain": [
              "2"
            ]
          },
          "metadata": {},
          "execution_count": 5
        }
      ]
    },
    {
      "cell_type": "code",
      "source": [
        "\"Hola mundo\".count('w')"
      ],
      "metadata": {
        "colab": {
          "base_uri": "https://localhost:8080/"
        },
        "id": "X3K0zLJ_jnkE",
        "outputId": "f46432f6-b9b1-4204-9b2b-0df6d9b6e6a9"
      },
      "execution_count": 6,
      "outputs": [
        {
          "output_type": "execute_result",
          "data": {
            "text/plain": [
              "0"
            ]
          },
          "metadata": {},
          "execution_count": 6
        }
      ]
    },
    {
      "cell_type": "code",
      "source": [
        "\"Hola mundo\".count('mundo')"
      ],
      "metadata": {
        "colab": {
          "base_uri": "https://localhost:8080/"
        },
        "id": "Gya97kmOjqwo",
        "outputId": "f2be99ed-8347-49ab-9675-f3295162dda0"
      },
      "execution_count": 7,
      "outputs": [
        {
          "output_type": "execute_result",
          "data": {
            "text/plain": [
              "1"
            ]
          },
          "metadata": {},
          "execution_count": 7
        }
      ]
    },
    {
      "cell_type": "code",
      "source": [
        "#¿A partir de que índice comienza la palabra que busco?\n",
        "\"Hola mundo\".find('mundo')"
      ],
      "metadata": {
        "colab": {
          "base_uri": "https://localhost:8080/"
        },
        "id": "Yjg1xQwUjxIn",
        "outputId": "09170915-599f-4fcb-fc34-f7a8aba9aa7c"
      },
      "execution_count": 9,
      "outputs": [
        {
          "output_type": "execute_result",
          "data": {
            "text/plain": [
              "5"
            ]
          },
          "metadata": {},
          "execution_count": 9
        }
      ]
    },
    {
      "cell_type": "code",
      "source": [
        "#Busca el índice de su última aparición (el inverso de 'find')\n",
        "\"Hola mundo mundo mundo\".rfind('mundo')"
      ],
      "metadata": {
        "colab": {
          "base_uri": "https://localhost:8080/"
        },
        "id": "mbnQAceTj8U6",
        "outputId": "5a555efc-437c-4763-b747-4c7a50dea773"
      },
      "execution_count": 12,
      "outputs": [
        {
          "output_type": "execute_result",
          "data": {
            "text/plain": [
              "17"
            ]
          },
          "metadata": {},
          "execution_count": 12
        }
      ]
    },
    {
      "cell_type": "code",
      "source": [
        "c = \"100\""
      ],
      "metadata": {
        "id": "hxf6HXjWkUEm"
      },
      "execution_count": 13,
      "outputs": []
    },
    {
      "cell_type": "code",
      "source": [
        "c.isdigit()"
      ],
      "metadata": {
        "colab": {
          "base_uri": "https://localhost:8080/"
        },
        "id": "g6ridv08kWnZ",
        "outputId": "b0d4c34f-5f50-4127-9b74-db5f184226da"
      },
      "execution_count": 14,
      "outputs": [
        {
          "output_type": "execute_result",
          "data": {
            "text/plain": [
              "True"
            ]
          },
          "metadata": {},
          "execution_count": 14
        }
      ]
    },
    {
      "cell_type": "code",
      "source": [
        "c2 = \"ABC123asdfg\""
      ],
      "metadata": {
        "id": "zmGUWkb5kayv"
      },
      "execution_count": 15,
      "outputs": []
    },
    {
      "cell_type": "code",
      "source": [
        "#¿Es alfanumérico?\n",
        "c2.isalnum()"
      ],
      "metadata": {
        "colab": {
          "base_uri": "https://localhost:8080/"
        },
        "id": "ICf23lWdkie_",
        "outputId": "ae08c1bc-e9f4-4792-9e3d-644424b03958"
      },
      "execution_count": 16,
      "outputs": [
        {
          "output_type": "execute_result",
          "data": {
            "text/plain": [
              "True"
            ]
          },
          "metadata": {},
          "execution_count": 16
        }
      ]
    },
    {
      "cell_type": "code",
      "source": [
        "#¿Y si ponemos un signo dentro?¿Es alfanumérico?\n",
        "c3 = \"ABC123asdfg+\"\n",
        "c3.isalnum()\n"
      ],
      "metadata": {
        "colab": {
          "base_uri": "https://localhost:8080/"
        },
        "id": "K-6VfrTAkuFD",
        "outputId": "ef0f5c2a-1411-41ab-a96c-2f916678d579"
      },
      "execution_count": 17,
      "outputs": [
        {
          "output_type": "execute_result",
          "data": {
            "text/plain": [
              "False"
            ]
          },
          "metadata": {},
          "execution_count": 17
        }
      ]
    },
    {
      "cell_type": "markdown",
      "source": [
        "Tenemos el alfanumérico, el alfa ('isalpha') y el numérico ('isnumeric'). Con el ejemplo de alfanumérico ha quedado claro y nos hacemos una idea del uso y funcionamiento de los otros dos. Siempre devolverá True o False, según si es cierto que es alfanumérico, alfabético o numérico respectivamente.\n",
        "\n",
        "Nota importante: al utilizar el 'isalpha' e 'isnumeric' hay que tener en cuenta que si en la cadena a analizar se utiliza un espacio (\" \"), nos devolverá False ya que cuenta lógicamente como un símbolo.\n",
        "\n",
        "Por ejemplo, \"Hola mundo\" devolvería False al tener un espacio entre las dos palabras."
      ],
      "metadata": {
        "id": "pCc6cAmJlGU6"
      }
    },
    {
      "cell_type": "code",
      "source": [
        "\"Hola mundo\".islower()"
      ],
      "metadata": {
        "colab": {
          "base_uri": "https://localhost:8080/"
        },
        "id": "B9d-1rTFsk4i",
        "outputId": "13f55927-1753-4190-997e-940ab13487d7"
      },
      "execution_count": 18,
      "outputs": [
        {
          "output_type": "execute_result",
          "data": {
            "text/plain": [
              "False"
            ]
          },
          "metadata": {},
          "execution_count": 18
        }
      ]
    },
    {
      "cell_type": "code",
      "source": [
        "\"Hola mundo\".isupper()"
      ],
      "metadata": {
        "colab": {
          "base_uri": "https://localhost:8080/"
        },
        "id": "qG3hZM1_so7I",
        "outputId": "e73fbfa9-d302-414d-c68f-5e62a50cf5ac"
      },
      "execution_count": 19,
      "outputs": [
        {
          "output_type": "execute_result",
          "data": {
            "text/plain": [
              "False"
            ]
          },
          "metadata": {},
          "execution_count": 19
        }
      ]
    },
    {
      "cell_type": "code",
      "source": [
        "\"           \".isspace()"
      ],
      "metadata": {
        "colab": {
          "base_uri": "https://localhost:8080/"
        },
        "id": "JSGgZVcosrUl",
        "outputId": "b006307d-2721-4f77-db13-3d5d2b1a49c4"
      },
      "execution_count": 22,
      "outputs": [
        {
          "output_type": "execute_result",
          "data": {
            "text/plain": [
              "True"
            ]
          },
          "metadata": {},
          "execution_count": 22
        }
      ]
    },
    {
      "cell_type": "code",
      "source": [
        "\"Hola Mundo\".istitle()"
      ],
      "metadata": {
        "colab": {
          "base_uri": "https://localhost:8080/"
        },
        "id": "kIGobt3Is1u-",
        "outputId": "5d22298e-51e3-4b7e-bf51-7a39ba09c4b7"
      },
      "execution_count": 23,
      "outputs": [
        {
          "output_type": "execute_result",
          "data": {
            "text/plain": [
              "True"
            ]
          },
          "metadata": {},
          "execution_count": 23
        }
      ]
    },
    {
      "cell_type": "code",
      "source": [
        "\"Hola mundo\".startswith(\"Hol\")"
      ],
      "metadata": {
        "colab": {
          "base_uri": "https://localhost:8080/"
        },
        "id": "-s7uFGWfs7jB",
        "outputId": "dfb3a4fc-b40f-49f9-e8c9-63162e697aeb"
      },
      "execution_count": 24,
      "outputs": [
        {
          "output_type": "execute_result",
          "data": {
            "text/plain": [
              "True"
            ]
          },
          "metadata": {},
          "execution_count": 24
        }
      ]
    },
    {
      "cell_type": "code",
      "source": [
        "\"Hola mundo\".endswith(\"o\")"
      ],
      "metadata": {
        "colab": {
          "base_uri": "https://localhost:8080/"
        },
        "id": "Qwx9qjk_tAm0",
        "outputId": "ba4b2d23-aafd-4344-b7ad-0271dbd27c30"
      },
      "execution_count": 25,
      "outputs": [
        {
          "output_type": "execute_result",
          "data": {
            "text/plain": [
              "True"
            ]
          },
          "metadata": {},
          "execution_count": 25
        }
      ]
    },
    {
      "cell_type": "markdown",
      "source": [
        "Y por último, un método más avanzado, que nos sirve para separar, unir y reemplazar cadenas.\n",
        "\n",
        "Por ejemplo, la función 'split':"
      ],
      "metadata": {
        "id": "RtIP2qYatIDw"
      }
    },
    {
      "cell_type": "code",
      "source": [
        "\"Hola mundo, ¿qué tal?\".split()"
      ],
      "metadata": {
        "colab": {
          "base_uri": "https://localhost:8080/"
        },
        "id": "lNI3-dAxtUnd",
        "outputId": "dec2cd5f-d9a6-42d1-9886-76fb2542df37"
      },
      "execution_count": 26,
      "outputs": [
        {
          "output_type": "execute_result",
          "data": {
            "text/plain": [
              "['Hola', 'mundo,', '¿qué', 'tal?']"
            ]
          },
          "metadata": {},
          "execution_count": 26
        }
      ]
    },
    {
      "cell_type": "code",
      "source": [
        "\"Hola mundo, ¿qué tal?\".split()[-1]"
      ],
      "metadata": {
        "colab": {
          "base_uri": "https://localhost:8080/",
          "height": 35
        },
        "id": "Oj0lxkLqtbNY",
        "outputId": "d557ddd5-246a-49d7-c0cf-31a03f3f6043"
      },
      "execution_count": 27,
      "outputs": [
        {
          "output_type": "execute_result",
          "data": {
            "application/vnd.google.colaboratory.intrinsic+json": {
              "type": "string"
            },
            "text/plain": [
              "'tal?'"
            ]
          },
          "metadata": {},
          "execution_count": 27
        }
      ]
    },
    {
      "cell_type": "code",
      "source": [
        "\"Hola mundo, ¿qué tal?\".split()[2:]"
      ],
      "metadata": {
        "colab": {
          "base_uri": "https://localhost:8080/"
        },
        "id": "gO9bY9NytfeN",
        "outputId": "658b58d1-cd08-4293-97ca-6ab261fd184c"
      },
      "execution_count": 29,
      "outputs": [
        {
          "output_type": "execute_result",
          "data": {
            "text/plain": [
              "['¿qué', 'tal?']"
            ]
          },
          "metadata": {},
          "execution_count": 29
        }
      ]
    },
    {
      "cell_type": "markdown",
      "source": [
        "¿Y si quiero separar a partir de la \",\"?"
      ],
      "metadata": {
        "id": "RP8ASlfKtsZk"
      }
    },
    {
      "cell_type": "code",
      "source": [
        "\"Palabra,tras,coma,tras,palabra\".split(',')"
      ],
      "metadata": {
        "colab": {
          "base_uri": "https://localhost:8080/"
        },
        "id": "FDacaHfatzh4",
        "outputId": "64adefe2-87fe-47a1-8939-bd190fc4a4ae"
      },
      "execution_count": 31,
      "outputs": [
        {
          "output_type": "execute_result",
          "data": {
            "text/plain": [
              "['Palabra', 'tras', 'coma', 'tras', 'palabra']"
            ]
          },
          "metadata": {},
          "execution_count": 31
        }
      ]
    },
    {
      "cell_type": "markdown",
      "source": [
        "Por otra parte tenemos el 'join', lo contrario al 'split'."
      ],
      "metadata": {
        "id": "fYLcrKayuDOF"
      }
    },
    {
      "cell_type": "code",
      "source": [
        "\",\".join('Hola mundo')"
      ],
      "metadata": {
        "colab": {
          "base_uri": "https://localhost:8080/",
          "height": 35
        },
        "id": "sdoazTFnuIhn",
        "outputId": "bf9fefd4-488e-4db6-9b51-e20926c2cd21"
      },
      "execution_count": 32,
      "outputs": [
        {
          "output_type": "execute_result",
          "data": {
            "application/vnd.google.colaboratory.intrinsic+json": {
              "type": "string"
            },
            "text/plain": [
              "'H,o,l,a, ,m,u,n,d,o'"
            ]
          },
          "metadata": {},
          "execution_count": 32
        }
      ]
    },
    {
      "cell_type": "code",
      "source": [
        "#Voy a hacer una combinación\n",
        "\"   \".join('Hola mundo').upper()"
      ],
      "metadata": {
        "colab": {
          "base_uri": "https://localhost:8080/",
          "height": 35
        },
        "id": "VhPuQb7puQbM",
        "outputId": "9d343720-86ee-4404-ffcd-293de6a46480"
      },
      "execution_count": 46,
      "outputs": [
        {
          "output_type": "execute_result",
          "data": {
            "application/vnd.google.colaboratory.intrinsic+json": {
              "type": "string"
            },
            "text/plain": [
              "'H   O   L   A       M   U   N   D   O'"
            ]
          },
          "metadata": {},
          "execution_count": 46
        }
      ]
    },
    {
      "cell_type": "markdown",
      "source": [
        "Si quisiéramos borrar todos los espacios y básicamente compactar el texto, podemos usar 'strip'."
      ],
      "metadata": {
        "id": "W7GpyjQzvCxV"
      }
    },
    {
      "cell_type": "code",
      "source": [
        "\"          Hola mundo    \".strip()"
      ],
      "metadata": {
        "colab": {
          "base_uri": "https://localhost:8080/",
          "height": 35
        },
        "id": "eVvjUJDZvKzs",
        "outputId": "1be8f8c1-d194-412f-d717-b0d81367720a"
      },
      "execution_count": 47,
      "outputs": [
        {
          "output_type": "execute_result",
          "data": {
            "application/vnd.google.colaboratory.intrinsic+json": {
              "type": "string"
            },
            "text/plain": [
              "'Hola mundo'"
            ]
          },
          "metadata": {},
          "execution_count": 47
        }
      ]
    },
    {
      "cell_type": "code",
      "source": [
        "#También podemos hacerlo con otros signos\n",
        "\"___________Hola mundo___\".strip('_')"
      ],
      "metadata": {
        "colab": {
          "base_uri": "https://localhost:8080/",
          "height": 35
        },
        "id": "Y58pGq-TvRiY",
        "outputId": "0c620524-755c-41e0-abb3-c088f78f88f2"
      },
      "execution_count": 51,
      "outputs": [
        {
          "output_type": "execute_result",
          "data": {
            "application/vnd.google.colaboratory.intrinsic+json": {
              "type": "string"
            },
            "text/plain": [
              "'Hola mundo'"
            ]
          },
          "metadata": {},
          "execution_count": 51
        }
      ]
    },
    {
      "cell_type": "markdown",
      "source": [
        "También tenemos 'replace' para reemplazar a nuestro gusto las letras de una cadena:"
      ],
      "metadata": {
        "id": "Wr4eYqmDvneq"
      }
    },
    {
      "cell_type": "code",
      "source": [
        "\"Hola chico\".replace('o','a')"
      ],
      "metadata": {
        "colab": {
          "base_uri": "https://localhost:8080/",
          "height": 35
        },
        "id": "0nomDDO8vujm",
        "outputId": "1e7fbda8-5c19-4c7e-ee0c-df25aaa1a757"
      },
      "execution_count": 52,
      "outputs": [
        {
          "output_type": "execute_result",
          "data": {
            "application/vnd.google.colaboratory.intrinsic+json": {
              "type": "string"
            },
            "text/plain": [
              "'Hala chica'"
            ]
          },
          "metadata": {},
          "execution_count": 52
        }
      ]
    },
    {
      "cell_type": "markdown",
      "source": [
        "Esta claro que esa no era mi intención, pero podemos reemplazar palabras enteras, así que..."
      ],
      "metadata": {
        "id": "Uc3G52TVv5XN"
      }
    },
    {
      "cell_type": "code",
      "source": [
        "\"Hola chico\".replace('chico','chica')"
      ],
      "metadata": {
        "colab": {
          "base_uri": "https://localhost:8080/",
          "height": 35
        },
        "id": "BIASVxeFv_WQ",
        "outputId": "ee1aa495-c580-4bdb-fd64-eb7f617643d8"
      },
      "execution_count": 53,
      "outputs": [
        {
          "output_type": "execute_result",
          "data": {
            "application/vnd.google.colaboratory.intrinsic+json": {
              "type": "string"
            },
            "text/plain": [
              "'Hola chica'"
            ]
          },
          "metadata": {},
          "execution_count": 53
        }
      ]
    },
    {
      "cell_type": "code",
      "source": [
        "#¿Y si aquí solo quiero borrar 2 veces 'mundo'?\n",
        "\"Hola mundo mundo mundo\".replace('mundo','',2)"
      ],
      "metadata": {
        "colab": {
          "base_uri": "https://localhost:8080/",
          "height": 35
        },
        "id": "SBSuV9XUwJHz",
        "outputId": "10efbe79-6841-4427-d662-fadec9e999e0"
      },
      "execution_count": 54,
      "outputs": [
        {
          "output_type": "execute_result",
          "data": {
            "application/vnd.google.colaboratory.intrinsic+json": {
              "type": "string"
            },
            "text/plain": [
              "'Hola   mundo'"
            ]
          },
          "metadata": {},
          "execution_count": 54
        }
      ]
    },
    {
      "cell_type": "code",
      "source": [
        "#¿Pero y ese espacio? Es que hay que indicarlo:\n",
        "\"Hola mundo mundo mundo\".replace(' mundo','',2) #espacio antes de poner 'mundo'"
      ],
      "metadata": {
        "colab": {
          "base_uri": "https://localhost:8080/",
          "height": 35
        },
        "id": "oBrrDSppwaln",
        "outputId": "4e316cd3-1b8b-4ba9-de70-308ff2d119ce"
      },
      "execution_count": 55,
      "outputs": [
        {
          "output_type": "execute_result",
          "data": {
            "application/vnd.google.colaboratory.intrinsic+json": {
              "type": "string"
            },
            "text/plain": [
              "'Hola mundo'"
            ]
          },
          "metadata": {},
          "execution_count": 55
        }
      ]
    }
  ]
}