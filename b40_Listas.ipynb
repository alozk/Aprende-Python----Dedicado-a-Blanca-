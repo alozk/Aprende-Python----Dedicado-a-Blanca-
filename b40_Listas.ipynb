{
  "nbformat": 4,
  "nbformat_minor": 0,
  "metadata": {
    "colab": {
      "name": "b40_Listas.ipynb",
      "provenance": []
    },
    "kernelspec": {
      "name": "python3",
      "display_name": "Python 3"
    },
    "language_info": {
      "name": "python"
    }
  },
  "cells": [
    {
      "cell_type": "code",
      "execution_count": 1,
      "metadata": {
        "id": "SmnTY673945V"
      },
      "outputs": [],
      "source": [
        "lista = [1,2,3,4,5]\n",
        "lista.append(6) #Para añadir"
      ]
    },
    {
      "cell_type": "code",
      "source": [
        "lista"
      ],
      "metadata": {
        "colab": {
          "base_uri": "https://localhost:8080/"
        },
        "id": "Yq73v7QfN9fo",
        "outputId": "9dcc2da6-091b-458a-ce7a-9251b69e401e"
      },
      "execution_count": 2,
      "outputs": [
        {
          "output_type": "execute_result",
          "data": {
            "text/plain": [
              "[1, 2, 3, 4, 5, 6]"
            ]
          },
          "metadata": {},
          "execution_count": 2
        }
      ]
    },
    {
      "cell_type": "code",
      "source": [
        "lista.clear() #Para borrar todo el contenido"
      ],
      "metadata": {
        "id": "i_aQ1hPpOIYb"
      },
      "execution_count": 3,
      "outputs": []
    },
    {
      "cell_type": "code",
      "source": [
        "lista"
      ],
      "metadata": {
        "colab": {
          "base_uri": "https://localhost:8080/"
        },
        "id": "SLAcJUoLONlA",
        "outputId": "c26bf5d4-d85d-46de-f30d-58d4a5cacd60"
      },
      "execution_count": 4,
      "outputs": [
        {
          "output_type": "execute_result",
          "data": {
            "text/plain": [
              "[]"
            ]
          },
          "metadata": {},
          "execution_count": 4
        }
      ]
    },
    {
      "cell_type": "code",
      "source": [
        "#Unir varias listas\n",
        "l1 = [1,2,3]\n",
        "l2 = [4,5,6]\n",
        "\n",
        "l1.extend(l2) #Una unión de la lista 1 con las lista 2"
      ],
      "metadata": {
        "id": "knnHjR0DORJH"
      },
      "execution_count": 5,
      "outputs": []
    },
    {
      "cell_type": "code",
      "source": [
        "l1"
      ],
      "metadata": {
        "colab": {
          "base_uri": "https://localhost:8080/"
        },
        "id": "NCF9A2W5OfFH",
        "outputId": "69a98962-d8fe-4480-fcaa-2e0ffc05ffb0"
      },
      "execution_count": 6,
      "outputs": [
        {
          "output_type": "execute_result",
          "data": {
            "text/plain": [
              "[1, 2, 3, 4, 5, 6]"
            ]
          },
          "metadata": {},
          "execution_count": 6
        }
      ]
    },
    {
      "cell_type": "code",
      "source": [
        "#Hacer 'count' de un elemento en una lista\n",
        "['Hola','mundo','Hola'].count('Hola')"
      ],
      "metadata": {
        "colab": {
          "base_uri": "https://localhost:8080/"
        },
        "id": "Rx9dainhOkRH",
        "outputId": "49f91502-f411-4d76-b72f-478e82023e9c"
      },
      "execution_count": 7,
      "outputs": [
        {
          "output_type": "execute_result",
          "data": {
            "text/plain": [
              "2"
            ]
          },
          "metadata": {},
          "execution_count": 7
        }
      ]
    },
    {
      "cell_type": "code",
      "source": [
        "#'Index' para conocer donde empieza un elemento\n",
        "['Hola','mundo','Hola'].index('Hola') #Como el 'find' de las cadenas"
      ],
      "metadata": {
        "colab": {
          "base_uri": "https://localhost:8080/"
        },
        "id": "JzRnUl7XO1_5",
        "outputId": "e9c9854a-8de4-4b2d-8a95-8680ae52dcad"
      },
      "execution_count": 9,
      "outputs": [
        {
          "output_type": "execute_result",
          "data": {
            "text/plain": [
              "0"
            ]
          },
          "metadata": {},
          "execution_count": 9
        }
      ]
    },
    {
      "cell_type": "code",
      "source": [
        "l = [1,2,3]\n",
        "l.insert(0,3) #Para insertar donde queramos, en la posición 0 un 3"
      ],
      "metadata": {
        "id": "Gkd_OOxYPsl2"
      },
      "execution_count": 12,
      "outputs": []
    },
    {
      "cell_type": "code",
      "source": [
        "l"
      ],
      "metadata": {
        "colab": {
          "base_uri": "https://localhost:8080/"
        },
        "id": "SN6iD1sGQFIO",
        "outputId": "29170e24-914d-4836-a35f-676f334720bd"
      },
      "execution_count": 13,
      "outputs": [
        {
          "output_type": "execute_result",
          "data": {
            "text/plain": [
              "[3, 1, 2, 3]"
            ]
          },
          "metadata": {},
          "execution_count": 13
        }
      ]
    },
    {
      "cell_type": "markdown",
      "source": [
        "Si quisiéramos añadir al final, con el 'append' es suficiente, pero si queremos añadir en otro lugar, si hace falta emplear el 'insert'."
      ],
      "metadata": {
        "id": "g1sYUjrRQQyl"
      }
    },
    {
      "cell_type": "code",
      "source": [
        "#Acordarse de que el 'pop' quita el último elemento o elegir que elemento\n",
        "l = [0,2,4,6,8,10]"
      ],
      "metadata": {
        "id": "v4ndFCMuQdfh"
      },
      "execution_count": 17,
      "outputs": []
    },
    {
      "cell_type": "code",
      "source": [
        "l.pop()"
      ],
      "metadata": {
        "colab": {
          "base_uri": "https://localhost:8080/"
        },
        "id": "8WVuomaVRDfb",
        "outputId": "0a4fc580-43a2-47bd-da1d-6fde930baf6f"
      },
      "execution_count": 18,
      "outputs": [
        {
          "output_type": "execute_result",
          "data": {
            "text/plain": [
              "10"
            ]
          },
          "metadata": {},
          "execution_count": 18
        }
      ]
    },
    {
      "cell_type": "code",
      "source": [
        "l"
      ],
      "metadata": {
        "colab": {
          "base_uri": "https://localhost:8080/"
        },
        "id": "WEHinDvIRFtv",
        "outputId": "29443d5c-16a9-4f7f-c6e0-8f278285d9d3"
      },
      "execution_count": 19,
      "outputs": [
        {
          "output_type": "execute_result",
          "data": {
            "text/plain": [
              "[0, 2, 4, 6, 8]"
            ]
          },
          "metadata": {},
          "execution_count": 19
        }
      ]
    },
    {
      "cell_type": "code",
      "source": [
        "#Si quiero quitar el 6 de la lista...\n",
        "l.pop(3)"
      ],
      "metadata": {
        "colab": {
          "base_uri": "https://localhost:8080/"
        },
        "id": "Sxk0WmCuRH18",
        "outputId": "5aa78efb-d3d6-47b2-c2f9-f5779ae3c872"
      },
      "execution_count": 20,
      "outputs": [
        {
          "output_type": "execute_result",
          "data": {
            "text/plain": [
              "6"
            ]
          },
          "metadata": {},
          "execution_count": 20
        }
      ]
    },
    {
      "cell_type": "code",
      "source": [
        "l"
      ],
      "metadata": {
        "colab": {
          "base_uri": "https://localhost:8080/"
        },
        "id": "s8739tZLRWy_",
        "outputId": "80b36c30-c141-4bde-df6f-84b20e13f693"
      },
      "execution_count": 21,
      "outputs": [
        {
          "output_type": "execute_result",
          "data": {
            "text/plain": [
              "[0, 2, 4, 8]"
            ]
          },
          "metadata": {},
          "execution_count": 21
        }
      ]
    },
    {
      "cell_type": "code",
      "source": [
        "#Con el 'remove' también podemos borrar\n",
        "#Si quiero borrar el 4...\n",
        "l.remove(4) #Basta con decir borrar 4, no hace falta indicar su posición"
      ],
      "metadata": {
        "id": "iDrx2qAVTSYH"
      },
      "execution_count": 22,
      "outputs": []
    },
    {
      "cell_type": "code",
      "source": [
        "l"
      ],
      "metadata": {
        "colab": {
          "base_uri": "https://localhost:8080/"
        },
        "id": "OQzvAqvdTksb",
        "outputId": "b1e1d7b9-185d-4354-8b06-2b26e9e3729b"
      },
      "execution_count": 23,
      "outputs": [
        {
          "output_type": "execute_result",
          "data": {
            "text/plain": [
              "[0, 2, 8]"
            ]
          },
          "metadata": {},
          "execution_count": 23
        }
      ]
    },
    {
      "cell_type": "markdown",
      "source": [
        "Si tuvieramos varios elementos repetidos y queremos borrar uno en específico, tal vez conviene usar el 'pop' dado que se es más preciso que usando un 'remove' y borrando un número que está repetido en la lista."
      ],
      "metadata": {
        "id": "FF5uvompTwA_"
      }
    },
    {
      "cell_type": "code",
      "source": [
        "#Darle la vuelta a la lista\n",
        "l.reverse()"
      ],
      "metadata": {
        "id": "6ZBRs1kHUn3Z"
      },
      "execution_count": 24,
      "outputs": []
    },
    {
      "cell_type": "code",
      "source": [
        "l"
      ],
      "metadata": {
        "colab": {
          "base_uri": "https://localhost:8080/"
        },
        "id": "Qv0p6a2NUspv",
        "outputId": "86c375fe-1b06-4417-ec99-8143f23975d9"
      },
      "execution_count": 25,
      "outputs": [
        {
          "output_type": "execute_result",
          "data": {
            "text/plain": [
              "[8, 2, 0]"
            ]
          },
          "metadata": {},
          "execution_count": 25
        }
      ]
    },
    {
      "cell_type": "code",
      "source": [
        "#A una cadena no podemos darle la vuelta con 'reverse'\n",
        "#Pero si podemos si están las letras separadas\n",
        "lista = list(\"Hola mundo\")\n",
        "lista"
      ],
      "metadata": {
        "colab": {
          "base_uri": "https://localhost:8080/"
        },
        "id": "7dOt6bXkUvaV",
        "outputId": "bfb70397-c434-4c3c-ed23-ddc5b454c299"
      },
      "execution_count": 26,
      "outputs": [
        {
          "output_type": "execute_result",
          "data": {
            "text/plain": [
              "['H', 'o', 'l', 'a', ' ', 'm', 'u', 'n', 'd', 'o']"
            ]
          },
          "metadata": {},
          "execution_count": 26
        }
      ]
    },
    {
      "cell_type": "code",
      "source": [
        "lista.reverse()"
      ],
      "metadata": {
        "id": "_mTdLicsU_y6"
      },
      "execution_count": 27,
      "outputs": []
    },
    {
      "cell_type": "code",
      "source": [
        "lista"
      ],
      "metadata": {
        "colab": {
          "base_uri": "https://localhost:8080/"
        },
        "id": "DhTH0ZIKVB00",
        "outputId": "5f692a38-bd3c-4df9-8697-12ee96aefe40"
      },
      "execution_count": 28,
      "outputs": [
        {
          "output_type": "execute_result",
          "data": {
            "text/plain": [
              "['o', 'd', 'n', 'u', 'm', ' ', 'a', 'l', 'o', 'H']"
            ]
          },
          "metadata": {},
          "execution_count": 28
        }
      ]
    },
    {
      "cell_type": "code",
      "source": [
        "#Y volver a juntas los caracteres otra vez\n",
        "cadena = \"\".join(lista)"
      ],
      "metadata": {
        "id": "8dYYRbOdVSKq"
      },
      "execution_count": 29,
      "outputs": []
    },
    {
      "cell_type": "code",
      "source": [
        "cadena"
      ],
      "metadata": {
        "colab": {
          "base_uri": "https://localhost:8080/",
          "height": 35
        },
        "id": "YYtti40bVZTM",
        "outputId": "fcc6b744-2385-4544-9c25-8f929ccabf1e"
      },
      "execution_count": 30,
      "outputs": [
        {
          "output_type": "execute_result",
          "data": {
            "application/vnd.google.colaboratory.intrinsic+json": {
              "type": "string"
            },
            "text/plain": [
              "'odnum aloH'"
            ]
          },
          "metadata": {},
          "execution_count": 30
        }
      ]
    },
    {
      "cell_type": "code",
      "source": [
        "#Ordenar números\n",
        "lista = [3,7,1,-4,6,9,2]"
      ],
      "metadata": {
        "id": "YMcl8adWV4_Q"
      },
      "execution_count": 31,
      "outputs": []
    },
    {
      "cell_type": "code",
      "source": [
        "lista.sort()"
      ],
      "metadata": {
        "id": "EvmA_RavWDnI"
      },
      "execution_count": 32,
      "outputs": []
    },
    {
      "cell_type": "code",
      "source": [
        "lista"
      ],
      "metadata": {
        "colab": {
          "base_uri": "https://localhost:8080/"
        },
        "id": "goNjOJekWFkY",
        "outputId": "86e1c88c-20cd-4c3c-bd2c-e35ffb8bc893"
      },
      "execution_count": 33,
      "outputs": [
        {
          "output_type": "execute_result",
          "data": {
            "text/plain": [
              "[-4, 1, 2, 3, 6, 7, 9]"
            ]
          },
          "metadata": {},
          "execution_count": 33
        }
      ]
    },
    {
      "cell_type": "markdown",
      "source": [
        "Si quisiéramos ordenar de mayor a menor, podemos hacer el 'sort' como ahora y después un 'reverse' o podemos hacer de golpe un lista.sort(reverse=True)"
      ],
      "metadata": {
        "id": "O866jRzpWPWK"
      }
    },
    {
      "cell_type": "code",
      "source": [
        "#Ordenar números de mayor a menor\n",
        "lista = [3,7,1,-4,6,9,2]"
      ],
      "metadata": {
        "id": "BAHJkHoTWb9k"
      },
      "execution_count": 34,
      "outputs": []
    },
    {
      "cell_type": "code",
      "source": [
        "lista.sort(reverse=True)"
      ],
      "metadata": {
        "id": "N81LILq2Wf3T"
      },
      "execution_count": 35,
      "outputs": []
    },
    {
      "cell_type": "code",
      "source": [
        "lista"
      ],
      "metadata": {
        "colab": {
          "base_uri": "https://localhost:8080/"
        },
        "id": "1iAydPyqWi2M",
        "outputId": "9d29150f-9685-414f-f7af-dbf7f52f49de"
      },
      "execution_count": 36,
      "outputs": [
        {
          "output_type": "execute_result",
          "data": {
            "text/plain": [
              "[9, 7, 6, 3, 2, 1, -4]"
            ]
          },
          "metadata": {},
          "execution_count": 36
        }
      ]
    },
    {
      "cell_type": "markdown",
      "source": [
        "Podemos hacerlo con letras y palabras pero entonces tienen que estar todas en mayúsculas o minúsculas, si no el orden será extraño."
      ],
      "metadata": {
        "id": "0f5bv3wEWl2J"
      }
    },
    {
      "cell_type": "code",
      "source": [
        "lista = [\"hola\",\"zanahoria\",\"mundo\",\"arroz\",\"catorce\",\"animal\"]"
      ],
      "metadata": {
        "id": "tTpOhsbHWwRg"
      },
      "execution_count": 43,
      "outputs": []
    },
    {
      "cell_type": "code",
      "source": [
        "lista.sort()"
      ],
      "metadata": {
        "id": "ECg08SGqW6uW"
      },
      "execution_count": 44,
      "outputs": []
    },
    {
      "cell_type": "code",
      "source": [
        "lista"
      ],
      "metadata": {
        "colab": {
          "base_uri": "https://localhost:8080/"
        },
        "id": "oc5lK52yW8co",
        "outputId": "6d4a32a7-c89b-4bc5-bc9b-d0c5db41db6e"
      },
      "execution_count": 45,
      "outputs": [
        {
          "output_type": "execute_result",
          "data": {
            "text/plain": [
              "['animal', 'arroz', 'catorce', 'hola', 'mundo', 'zanahoria']"
            ]
          },
          "metadata": {},
          "execution_count": 45
        }
      ]
    }
  ]
}