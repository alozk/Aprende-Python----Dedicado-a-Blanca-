{
  "nbformat": 4,
  "nbformat_minor": 0,
  "metadata": {
    "colab": {
      "name": "b42_Conjuntos.ipynb",
      "provenance": []
    },
    "kernelspec": {
      "name": "python3",
      "display_name": "Python 3"
    },
    "language_info": {
      "name": "python"
    }
  },
  "cells": [
    {
      "cell_type": "code",
      "execution_count": 1,
      "metadata": {
        "id": "yVk2dfkIYEiu"
      },
      "outputs": [],
      "source": [
        "c = set()"
      ]
    },
    {
      "cell_type": "code",
      "source": [
        "#Repasamos que para añadir usábamos 'add'\n",
        "c.add(1)\n",
        "c.add(2)\n",
        "c.add(3)"
      ],
      "metadata": {
        "id": "jfxhYlxauGlh"
      },
      "execution_count": 4,
      "outputs": []
    },
    {
      "cell_type": "code",
      "source": [
        "c"
      ],
      "metadata": {
        "colab": {
          "base_uri": "https://localhost:8080/"
        },
        "id": "0kwh3zkyuRD-",
        "outputId": "ccc8aa3d-9b11-40f5-a779-bbdbc7589d1f"
      },
      "execution_count": 5,
      "outputs": [
        {
          "output_type": "execute_result",
          "data": {
            "text/plain": [
              "{1, 2, 3}"
            ]
          },
          "metadata": {},
          "execution_count": 5
        }
      ]
    },
    {
      "cell_type": "code",
      "source": [
        "#Podemos eliminar con 'discard'\n",
        "c.discard(1)"
      ],
      "metadata": {
        "id": "l3-zwdpOuZMr"
      },
      "execution_count": 6,
      "outputs": []
    },
    {
      "cell_type": "code",
      "source": [
        "c"
      ],
      "metadata": {
        "colab": {
          "base_uri": "https://localhost:8080/"
        },
        "id": "8jbdFRZduejQ",
        "outputId": "3593ed73-10de-44f3-dd88-7b0404df316a"
      },
      "execution_count": 7,
      "outputs": [
        {
          "output_type": "execute_result",
          "data": {
            "text/plain": [
              "{2, 3}"
            ]
          },
          "metadata": {},
          "execution_count": 7
        }
      ]
    },
    {
      "cell_type": "code",
      "source": [
        "c.add(1)"
      ],
      "metadata": {
        "id": "xbYQ2C74ukWh"
      },
      "execution_count": 8,
      "outputs": []
    },
    {
      "cell_type": "markdown",
      "source": [
        "Imaginemos que queremos copiar un conjunto:"
      ],
      "metadata": {
        "id": "1lmnj0VSujsv"
      }
    },
    {
      "cell_type": "code",
      "source": [
        "c2 = c"
      ],
      "metadata": {
        "id": "5d69Hm0bus1X"
      },
      "execution_count": 10,
      "outputs": []
    },
    {
      "cell_type": "code",
      "source": [
        "#Si añado un elemento al set c2...\n",
        "c2.add(4)"
      ],
      "metadata": {
        "id": "JB21Nw9hvTnM"
      },
      "execution_count": 11,
      "outputs": []
    },
    {
      "cell_type": "code",
      "source": [
        "#También aparecerá en el set c\n",
        "c"
      ],
      "metadata": {
        "colab": {
          "base_uri": "https://localhost:8080/"
        },
        "id": "-GFmqdKmvcMz",
        "outputId": "7a038620-ea40-48ff-b889-55f192043159"
      },
      "execution_count": 13,
      "outputs": [
        {
          "output_type": "execute_result",
          "data": {
            "text/plain": [
              "{1, 2, 3, 4}"
            ]
          },
          "metadata": {},
          "execution_count": 13
        }
      ]
    },
    {
      "cell_type": "code",
      "source": [
        "#Pero también podemos copiar con 'copy'\n",
        "c2 = c.copy()"
      ],
      "metadata": {
        "id": "acxveiU7vm3B"
      },
      "execution_count": 14,
      "outputs": []
    },
    {
      "cell_type": "code",
      "source": [
        "#Haciéndolo con 'copy', si la modificamos, los cambios no se pasan a la original\n",
        "c2.discard(4)"
      ],
      "metadata": {
        "id": "z7QRtVtHvwUD"
      },
      "execution_count": 15,
      "outputs": []
    },
    {
      "cell_type": "code",
      "source": [
        "c2"
      ],
      "metadata": {
        "colab": {
          "base_uri": "https://localhost:8080/"
        },
        "id": "JHbmngvNwAPg",
        "outputId": "ce7b438e-3639-43b6-f27e-5a0b11233196"
      },
      "execution_count": 16,
      "outputs": [
        {
          "output_type": "execute_result",
          "data": {
            "text/plain": [
              "{1, 2, 3}"
            ]
          },
          "metadata": {},
          "execution_count": 16
        }
      ]
    },
    {
      "cell_type": "code",
      "source": [
        "c"
      ],
      "metadata": {
        "colab": {
          "base_uri": "https://localhost:8080/"
        },
        "id": "m0fSPY9TwBkV",
        "outputId": "202476e8-06e6-4c4e-f645-baa52b509f7e"
      },
      "execution_count": 17,
      "outputs": [
        {
          "output_type": "execute_result",
          "data": {
            "text/plain": [
              "{1, 2, 3, 4}"
            ]
          },
          "metadata": {},
          "execution_count": 17
        }
      ]
    },
    {
      "cell_type": "markdown",
      "source": [
        "El 'clear' para borrar todo el contenido, funciona igual que con las listas."
      ],
      "metadata": {
        "id": "-9UZx75kwFP1"
      }
    },
    {
      "cell_type": "code",
      "source": [
        "c2.clear()"
      ],
      "metadata": {
        "id": "td9iOzvzwJ9n"
      },
      "execution_count": 18,
      "outputs": []
    },
    {
      "cell_type": "code",
      "source": [
        "c2"
      ],
      "metadata": {
        "colab": {
          "base_uri": "https://localhost:8080/"
        },
        "id": "oP44Hk8vwL80",
        "outputId": "d167103e-a269-43e8-b095-de863317ad0a"
      },
      "execution_count": 19,
      "outputs": [
        {
          "output_type": "execute_result",
          "data": {
            "text/plain": [
              "set()"
            ]
          },
          "metadata": {},
          "execution_count": 19
        }
      ]
    },
    {
      "cell_type": "markdown",
      "source": [
        "Ahora vamos a crear 4 conjuntos y vamos a trabajar con ellos:"
      ],
      "metadata": {
        "id": "jlxTBRryxHTE"
      }
    },
    {
      "cell_type": "code",
      "source": [
        "c1 = {1,2,3}\n",
        "c2 = {3,4,5}\n",
        "c3 = {-1,99}\n",
        "c4 = {1,2,3,4,5}"
      ],
      "metadata": {
        "id": "UrN0ADnfxPgg"
      },
      "execution_count": 20,
      "outputs": []
    },
    {
      "cell_type": "code",
      "source": [
        "#¿Son disjuntos el conjunto c1 y c3? (Es decir, no coincide ningún elemento)\n",
        "c1.isdisjoint(c3)"
      ],
      "metadata": {
        "colab": {
          "base_uri": "https://localhost:8080/"
        },
        "id": "Ah4p96dKxf3C",
        "outputId": "1f82b7b3-2d26-4660-8834-abcb8b0902e4"
      },
      "execution_count": 22,
      "outputs": [
        {
          "output_type": "execute_result",
          "data": {
            "text/plain": [
              "True"
            ]
          },
          "metadata": {},
          "execution_count": 22
        }
      ]
    },
    {
      "cell_type": "code",
      "source": [
        "#¿Y el conjunto 1 con el 2?\n",
        "c1.isdisjoint(c2)"
      ],
      "metadata": {
        "colab": {
          "base_uri": "https://localhost:8080/"
        },
        "id": "FQXpgYfXxzcb",
        "outputId": "d3996e9a-3edc-4ccb-8024-ca64466c4726"
      },
      "execution_count": 23,
      "outputs": [
        {
          "output_type": "execute_result",
          "data": {
            "text/plain": [
              "False"
            ]
          },
          "metadata": {},
          "execution_count": 23
        }
      ]
    },
    {
      "cell_type": "code",
      "source": [
        "#¿Es un subconjunto c1 del c4? (Es decir c1 forma parte del conjunto c4)\n",
        "c1.issubset(c4)"
      ],
      "metadata": {
        "colab": {
          "base_uri": "https://localhost:8080/"
        },
        "id": "E8w3Qz0CyrMt",
        "outputId": "362f30a5-c34e-437c-8649-b3b31a1ca1ff"
      },
      "execution_count": 25,
      "outputs": [
        {
          "output_type": "execute_result",
          "data": {
            "text/plain": [
              "True"
            ]
          },
          "metadata": {},
          "execution_count": 25
        }
      ]
    },
    {
      "cell_type": "code",
      "source": [
        "#Y por último, ¿es el c4 un superset de c1? (Es decir, si c4 es un contenedor de c1)\n",
        "c4.issuperset(c1)"
      ],
      "metadata": {
        "colab": {
          "base_uri": "https://localhost:8080/"
        },
        "id": "tSnv7bZ_zC4_",
        "outputId": "ad586fac-feea-4420-a0e7-ae965fc6ccf8"
      },
      "execution_count": 27,
      "outputs": [
        {
          "output_type": "execute_result",
          "data": {
            "text/plain": [
              "True"
            ]
          },
          "metadata": {},
          "execution_count": 27
        }
      ]
    },
    {
      "cell_type": "markdown",
      "source": [
        "Una vez hemos visto estas 3 formas para comparar conjuntos, vamos a ver unos métodos un poco más avanzados. Se utilizan para hacer uniones, diferencias y otras operaciones avanzadas entre conjuntos.\n",
        "\n",
        "Siempre tienen dos formas, una que devuelve un conjunto con el nuevo resultado y otra que actualiza el conjunto directamente con el propio resultado. Éstas últimas incluyen una palabra dentro del método que se llama 'update'.\n",
        "\n",
        "Por ejemplo:"
      ],
      "metadata": {
        "id": "iOKJYG1UzbeS"
      }
    },
    {
      "cell_type": "code",
      "source": [
        "#Una unión del primer conjunto con el segundo, ¿qué saldría?\n",
        "c1 = {1,2,3}\n",
        "c2 = {3,4,5}\n",
        "c3 = {-1,99}\n",
        "c4 = {1,2,3,4,5}"
      ],
      "metadata": {
        "id": "bY1-JhfQ1-g0"
      },
      "execution_count": 28,
      "outputs": []
    },
    {
      "cell_type": "code",
      "source": [
        "#Vamos a hacerlo\n",
        "c1.union(c2)  #Recordemos que los elementos repetidos se borraban"
      ],
      "metadata": {
        "colab": {
          "base_uri": "https://localhost:8080/"
        },
        "id": "u_REDpXf2KiU",
        "outputId": "ecc64301-0d69-411a-9d2a-d0fcf87605a1"
      },
      "execution_count": 31,
      "outputs": [
        {
          "output_type": "execute_result",
          "data": {
            "text/plain": [
              "{1, 2, 3, 4, 5}"
            ]
          },
          "metadata": {},
          "execution_count": 31
        }
      ]
    },
    {
      "cell_type": "code",
      "source": [
        "#¿Es igual al conjunto 4?\n",
        "c1.union(c2) == c4"
      ],
      "metadata": {
        "colab": {
          "base_uri": "https://localhost:8080/"
        },
        "id": "nCQKGqiT2WTo",
        "outputId": "5a44f02a-a1ad-4e12-ace2-648751500875"
      },
      "execution_count": 30,
      "outputs": [
        {
          "output_type": "execute_result",
          "data": {
            "text/plain": [
              "True"
            ]
          },
          "metadata": {},
          "execution_count": 30
        }
      ]
    },
    {
      "cell_type": "code",
      "source": [
        "#Lo une pero no lo actualiza, c1 sigue siendo c1 y lo mismo c2\n",
        "print(c1,c2)"
      ],
      "metadata": {
        "colab": {
          "base_uri": "https://localhost:8080/"
        },
        "id": "MZNQS57Y2kkm",
        "outputId": "6bd6a733-59e6-4aef-cc47-523f53920dbb"
      },
      "execution_count": 34,
      "outputs": [
        {
          "output_type": "stream",
          "name": "stdout",
          "text": [
            "{1, 2, 3} {3, 4, 5}\n"
          ]
        }
      ]
    },
    {
      "cell_type": "code",
      "source": [
        "#Pero si hicieramos 'update'...\n",
        "c1.update(c2)"
      ],
      "metadata": {
        "id": "SWTb4yRj3V-f"
      },
      "execution_count": 35,
      "outputs": []
    },
    {
      "cell_type": "code",
      "source": [
        "#Ahora si tendriamos en c1 la combinación con c2\n",
        "c1"
      ],
      "metadata": {
        "colab": {
          "base_uri": "https://localhost:8080/"
        },
        "id": "E-JcPSV53cFk",
        "outputId": "23c32177-613d-419e-d687-a504a366327f"
      },
      "execution_count": 36,
      "outputs": [
        {
          "output_type": "execute_result",
          "data": {
            "text/plain": [
              "{1, 2, 3, 4, 5}"
            ]
          },
          "metadata": {},
          "execution_count": 36
        }
      ]
    },
    {
      "cell_type": "code",
      "source": [
        "#Volvemos a copiar los originales para seguir con los ejemplos\n",
        "c1 = {1,2,3}\n",
        "c2 = {3,4,5}\n",
        "c3 = {-1,99}\n",
        "c4 = {1,2,3,4,5}"
      ],
      "metadata": {
        "id": "NaIovqyR3n1w"
      },
      "execution_count": 37,
      "outputs": []
    },
    {
      "cell_type": "code",
      "source": [
        "#También podemos encontrar los elementos que no son comunes entre conjuntos\n",
        "c1.difference(c2)"
      ],
      "metadata": {
        "colab": {
          "base_uri": "https://localhost:8080/"
        },
        "id": "1_2STJZC3kig",
        "outputId": "6e338db8-2c54-4973-a98f-1e32ffd6071b"
      },
      "execution_count": 38,
      "outputs": [
        {
          "output_type": "execute_result",
          "data": {
            "text/plain": [
              "{1, 2}"
            ]
          },
          "metadata": {},
          "execution_count": 38
        }
      ]
    },
    {
      "cell_type": "code",
      "source": [
        "#Esta función también se puede hacer con un 'update'\n",
        "c1.difference_update(c2)"
      ],
      "metadata": {
        "id": "jfN-k6EE3-dO"
      },
      "execution_count": 39,
      "outputs": []
    },
    {
      "cell_type": "code",
      "source": [
        "c1"
      ],
      "metadata": {
        "colab": {
          "base_uri": "https://localhost:8080/"
        },
        "id": "AfDIjfbm4Hta",
        "outputId": "e1b21540-2065-45ae-ee06-9ebeed5e33ab"
      },
      "execution_count": 40,
      "outputs": [
        {
          "output_type": "execute_result",
          "data": {
            "text/plain": [
              "{1, 2}"
            ]
          },
          "metadata": {},
          "execution_count": 40
        }
      ]
    },
    {
      "cell_type": "code",
      "source": [
        "#Volvemos a copiar los originales para seguir con los ejemplos\n",
        "c1 = {1,2,3}\n",
        "c2 = {3,4,5}\n",
        "c3 = {-1,99}\n",
        "c4 = {1,2,3,4,5}"
      ],
      "metadata": {
        "id": "OwMSz9kG4Miz"
      },
      "execution_count": 41,
      "outputs": []
    },
    {
      "cell_type": "code",
      "source": [
        "#Otro método es para devolver los elementos comunes en ambos conjuntos\n",
        "c1.intersection(c2)"
      ],
      "metadata": {
        "colab": {
          "base_uri": "https://localhost:8080/"
        },
        "id": "u3mhFSZ-4NeS",
        "outputId": "61cc7aad-4fea-4c37-dc88-e213abca6121"
      },
      "execution_count": 49,
      "outputs": [
        {
          "output_type": "execute_result",
          "data": {
            "text/plain": [
              "{3}"
            ]
          },
          "metadata": {},
          "execution_count": 49
        }
      ]
    },
    {
      "cell_type": "code",
      "source": [
        "#Y para hacerlo con 'update'...\n",
        "c1.intersection_update(c2)"
      ],
      "metadata": {
        "id": "V4VY7Z3M4bp5"
      },
      "execution_count": 50,
      "outputs": []
    },
    {
      "cell_type": "code",
      "source": [
        "c1"
      ],
      "metadata": {
        "colab": {
          "base_uri": "https://localhost:8080/"
        },
        "id": "zwjRArK94mxo",
        "outputId": "bd208c6a-5ce6-4484-a278-b2b153f02ebe"
      },
      "execution_count": 51,
      "outputs": [
        {
          "output_type": "execute_result",
          "data": {
            "text/plain": [
              "{3}"
            ]
          },
          "metadata": {},
          "execution_count": 51
        }
      ]
    },
    {
      "cell_type": "code",
      "source": [
        "#Volvemos a copiar los originales para seguir con los ejemplos\n",
        "c1 = {1,2,3}\n",
        "c2 = {3,4,5}\n",
        "c3 = {-1,99}\n",
        "c4 = {1,2,3,4,5}"
      ],
      "metadata": {
        "id": "HR_I66rs45iC"
      },
      "execution_count": 53,
      "outputs": []
    },
    {
      "cell_type": "code",
      "source": [
        "#También podemos ver elementos simétricos\n",
        "c1.symmetric_difference(c2) #Los elementos que no concuerdan entre los dos"
      ],
      "metadata": {
        "colab": {
          "base_uri": "https://localhost:8080/"
        },
        "id": "oegR8lgN4weE",
        "outputId": "f54c6830-ea43-4634-8141-378b165940d5"
      },
      "execution_count": 54,
      "outputs": [
        {
          "output_type": "execute_result",
          "data": {
            "text/plain": [
              "{1, 2, 4, 5}"
            ]
          },
          "metadata": {},
          "execution_count": 54
        }
      ]
    }
  ]
}