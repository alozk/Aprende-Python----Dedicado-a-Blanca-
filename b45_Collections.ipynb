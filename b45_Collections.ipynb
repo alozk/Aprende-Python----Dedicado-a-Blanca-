{
  "nbformat": 4,
  "nbformat_minor": 0,
  "metadata": {
    "colab": {
      "name": "b45_Collections.ipynb",
      "provenance": []
    },
    "kernelspec": {
      "name": "python3",
      "display_name": "Python 3"
    },
    "language_info": {
      "name": "python"
    }
  },
  "cells": [
    {
      "cell_type": "markdown",
      "source": [
        "El módulo integrado de colecciones nos porvé de distintas alternativas. Vanos a comenzar echando un vistazo a los contadores, las cuales son una de las colecciones más interesantes que incorpora el módulo y representan una subclase del diccionario que nos ayuda a contar objetos. Son muy útiles en conjunto con otras colecciones para contar por ejemplo cuántas se repite los elementos de una lista o los caracteres de una cadena.\n",
        "\n",
        "Vamos a comenzar importando..."
      ],
      "metadata": {
        "id": "QU7_Q_O0-avD"
      }
    },
    {
      "cell_type": "code",
      "execution_count": 1,
      "metadata": {
        "id": "0LcOsYnI-G_S"
      },
      "outputs": [],
      "source": [
        "from collections import Counter"
      ]
    },
    {
      "cell_type": "code",
      "source": [
        "l = [1,2,3,4,1,2,3,1,2,1]"
      ],
      "metadata": {
        "id": "5feBNVTg_Z7Q"
      },
      "execution_count": 2,
      "outputs": []
    },
    {
      "cell_type": "markdown",
      "source": [
        "Vamos a transformar esta lista a un contador:"
      ],
      "metadata": {
        "id": "gfkUZloo_hbP"
      }
    },
    {
      "cell_type": "code",
      "source": [
        "Counter (l)"
      ],
      "metadata": {
        "colab": {
          "base_uri": "https://localhost:8080/"
        },
        "id": "_VWlU-DS_o4z",
        "outputId": "f191bfa6-e6c1-4894-a449-6b4a3296ae36"
      },
      "execution_count": 3,
      "outputs": [
        {
          "output_type": "execute_result",
          "data": {
            "text/plain": [
              "Counter({1: 4, 2: 3, 3: 2, 4: 1})"
            ]
          },
          "metadata": {},
          "execution_count": 3
        }
      ]
    },
    {
      "cell_type": "markdown",
      "source": [
        "Nos está indicando que:\n",
        "\n",
        "el número 1 está cuatro veces;\n",
        "\n",
        "el número 2, está tres veces;\n",
        "\n",
        "el número 3, está dos veces;\n",
        "\n",
        "y el número 4, está una vez."
      ],
      "metadata": {
        "id": "QgAzZoUw_sqi"
      }
    },
    {
      "cell_type": "markdown",
      "source": [
        "Probamos ahora con una cadena:"
      ],
      "metadata": {
        "id": "uZ1x1hbVgSQU"
      }
    },
    {
      "cell_type": "code",
      "source": [
        "p = 'palabra'"
      ],
      "metadata": {
        "id": "Fn8lwOq1gVAw"
      },
      "execution_count": 4,
      "outputs": []
    },
    {
      "cell_type": "code",
      "source": [
        "Counter(p)"
      ],
      "metadata": {
        "colab": {
          "base_uri": "https://localhost:8080/"
        },
        "id": "aHgBKLbKgXpd",
        "outputId": "ef0b5864-e4e9-4d0a-afcc-e53ea3e408c7"
      },
      "execution_count": 5,
      "outputs": [
        {
          "output_type": "execute_result",
          "data": {
            "text/plain": [
              "Counter({'a': 3, 'b': 1, 'l': 1, 'p': 1, 'r': 1})"
            ]
          },
          "metadata": {},
          "execution_count": 5
        }
      ]
    },
    {
      "cell_type": "code",
      "source": [
        "mascotas = 'perro gato pez gato loro perro perro'"
      ],
      "metadata": {
        "id": "BtPEyWQAggN2"
      },
      "execution_count": 13,
      "outputs": []
    },
    {
      "cell_type": "code",
      "source": [
        "Counter(mascotas)"
      ],
      "metadata": {
        "colab": {
          "base_uri": "https://localhost:8080/"
        },
        "id": "POC_fNWKgpK8",
        "outputId": "fc7f4754-564e-4d32-92d4-61ae70bd29b4"
      },
      "execution_count": 14,
      "outputs": [
        {
          "output_type": "execute_result",
          "data": {
            "text/plain": [
              "Counter({' ': 6,\n",
              "         'a': 2,\n",
              "         'e': 4,\n",
              "         'g': 2,\n",
              "         'l': 1,\n",
              "         'o': 7,\n",
              "         'p': 4,\n",
              "         'r': 7,\n",
              "         't': 2,\n",
              "         'z': 1})"
            ]
          },
          "metadata": {},
          "execution_count": 14
        }
      ]
    },
    {
      "cell_type": "markdown",
      "source": [
        "Cuenta como anteriormentes, las letras. Sin embargo, si quisiéramos contar las palabras en lugar de las letras:\n",
        "\n",
        "Utilizamos 'split' para separar por espacios:"
      ],
      "metadata": {
        "id": "pqYXXENrgv5s"
      }
    },
    {
      "cell_type": "code",
      "source": [
        "mascotas.split()"
      ],
      "metadata": {
        "colab": {
          "base_uri": "https://localhost:8080/"
        },
        "id": "xDMyIPqqg3er",
        "outputId": "37269532-eb0f-4f9f-b5bb-9a876eb7234a"
      },
      "execution_count": 15,
      "outputs": [
        {
          "output_type": "execute_result",
          "data": {
            "text/plain": [
              "['perro', 'gato', 'pez', 'gato', 'loro', 'perro', 'perro']"
            ]
          },
          "metadata": {},
          "execution_count": 15
        }
      ]
    },
    {
      "cell_type": "code",
      "source": [
        "Counter(mascotas.split())"
      ],
      "metadata": {
        "colab": {
          "base_uri": "https://localhost:8080/"
        },
        "id": "sibRmYj-hKF3",
        "outputId": "fa6b84fa-5ffe-4039-efcd-c9dbc84bd22e"
      },
      "execution_count": 16,
      "outputs": [
        {
          "output_type": "execute_result",
          "data": {
            "text/plain": [
              "Counter({'gato': 2, 'loro': 1, 'perro': 3, 'pez': 1})"
            ]
          },
          "metadata": {},
          "execution_count": 16
        }
      ]
    },
    {
      "cell_type": "markdown",
      "source": [
        "Utilicemos otros counters:"
      ],
      "metadata": {
        "id": "SumwyxK5haH6"
      }
    },
    {
      "cell_type": "code",
      "source": [
        "#Guardamos como variable el split de mascotas\n",
        "c = Counter(mascotas.split())"
      ],
      "metadata": {
        "id": "ILoDz9z6hdWE"
      },
      "execution_count": 17,
      "outputs": []
    },
    {
      "cell_type": "code",
      "source": [
        "c.most_common() #Nos dice cuáles son los elementos más comunes"
      ],
      "metadata": {
        "colab": {
          "base_uri": "https://localhost:8080/"
        },
        "id": "On8jVh_ahj5J",
        "outputId": "ecaddfb9-3103-46c1-8634-4968f8f12f52"
      },
      "execution_count": 18,
      "outputs": [
        {
          "output_type": "execute_result",
          "data": {
            "text/plain": [
              "[('perro', 3), ('gato', 2), ('pez', 1), ('loro', 1)]"
            ]
          },
          "metadata": {},
          "execution_count": 18
        }
      ]
    },
    {
      "cell_type": "markdown",
      "source": [
        "Si quisiéramos solo el que más se repite, indicamos un 1:"
      ],
      "metadata": {
        "id": "GDZgNCe0h03i"
      }
    },
    {
      "cell_type": "code",
      "source": [
        "c.most_common(1)"
      ],
      "metadata": {
        "colab": {
          "base_uri": "https://localhost:8080/"
        },
        "id": "0JlgbDtih0Jn",
        "outputId": "ac2a5e79-296a-43d9-8bd1-6908da83b87c"
      },
      "execution_count": 19,
      "outputs": [
        {
          "output_type": "execute_result",
          "data": {
            "text/plain": [
              "[('perro', 3)]"
            ]
          },
          "metadata": {},
          "execution_count": 19
        }
      ]
    },
    {
      "cell_type": "markdown",
      "source": [
        "Ahora probamos todo los que sabemos con una lista de números repetidos:"
      ],
      "metadata": {
        "id": "EnNJrbtImZ96"
      }
    },
    {
      "cell_type": "code",
      "source": [
        "l = [10,30,10,10,20,10,20,20,30,10]"
      ],
      "metadata": {
        "id": "3JvMQZlQmgH2"
      },
      "execution_count": 21,
      "outputs": []
    },
    {
      "cell_type": "code",
      "source": [
        "c = Counter(l)"
      ],
      "metadata": {
        "id": "qWeuK6LcofMI"
      },
      "execution_count": 22,
      "outputs": []
    },
    {
      "cell_type": "code",
      "source": [
        "c.items()"
      ],
      "metadata": {
        "colab": {
          "base_uri": "https://localhost:8080/"
        },
        "id": "n0KmZBkqoi-L",
        "outputId": "62a3d90b-533e-4147-d7c5-f8e91b7a6897"
      },
      "execution_count": 23,
      "outputs": [
        {
          "output_type": "execute_result",
          "data": {
            "text/plain": [
              "dict_items([(10, 5), (30, 2), (20, 3)])"
            ]
          },
          "metadata": {},
          "execution_count": 23
        }
      ]
    },
    {
      "cell_type": "code",
      "source": [
        "c.keys()"
      ],
      "metadata": {
        "colab": {
          "base_uri": "https://localhost:8080/"
        },
        "id": "2HVhLKkHom-a",
        "outputId": "f96deac7-53f5-4300-dd8a-9264f5344b39"
      },
      "execution_count": 24,
      "outputs": [
        {
          "output_type": "execute_result",
          "data": {
            "text/plain": [
              "dict_keys([10, 30, 20])"
            ]
          },
          "metadata": {},
          "execution_count": 24
        }
      ]
    },
    {
      "cell_type": "code",
      "source": [
        "c.values()"
      ],
      "metadata": {
        "colab": {
          "base_uri": "https://localhost:8080/"
        },
        "id": "EDYTtKV0op7g",
        "outputId": "151e87bd-e179-45bb-9a1a-ca307bbd915d"
      },
      "execution_count": 25,
      "outputs": [
        {
          "output_type": "execute_result",
          "data": {
            "text/plain": [
              "dict_values([5, 2, 3])"
            ]
          },
          "metadata": {},
          "execution_count": 25
        }
      ]
    },
    {
      "cell_type": "code",
      "source": [
        "sum(c.values())"
      ],
      "metadata": {
        "colab": {
          "base_uri": "https://localhost:8080/"
        },
        "id": "ucaoIf6BouEO",
        "outputId": "d59efea4-b56d-47be-e227-797f018cfd7c"
      },
      "execution_count": 26,
      "outputs": [
        {
          "output_type": "execute_result",
          "data": {
            "text/plain": [
              "10"
            ]
          },
          "metadata": {},
          "execution_count": 26
        }
      ]
    },
    {
      "cell_type": "code",
      "source": [
        "list(c)"
      ],
      "metadata": {
        "colab": {
          "base_uri": "https://localhost:8080/"
        },
        "id": "ngX_fjojozFD",
        "outputId": "d2db957e-bd20-4c9a-b46f-7221f49d6921"
      },
      "execution_count": 27,
      "outputs": [
        {
          "output_type": "execute_result",
          "data": {
            "text/plain": [
              "[10, 30, 20]"
            ]
          },
          "metadata": {},
          "execution_count": 27
        }
      ]
    },
    {
      "cell_type": "code",
      "source": [
        "dict(c)"
      ],
      "metadata": {
        "colab": {
          "base_uri": "https://localhost:8080/"
        },
        "id": "G9pH_IXzo1V3",
        "outputId": "3ae7b224-9d12-4113-f46e-88b876e94b2b"
      },
      "execution_count": 28,
      "outputs": [
        {
          "output_type": "execute_result",
          "data": {
            "text/plain": [
              "{10: 5, 20: 3, 30: 2}"
            ]
          },
          "metadata": {},
          "execution_count": 28
        }
      ]
    },
    {
      "cell_type": "code",
      "source": [
        "d = dict(c)"
      ],
      "metadata": {
        "id": "qAsV3tQ7o_QT"
      },
      "execution_count": 29,
      "outputs": []
    },
    {
      "cell_type": "code",
      "source": [
        "d.most_common(1)"
      ],
      "metadata": {
        "colab": {
          "base_uri": "https://localhost:8080/",
          "height": 165
        },
        "id": "YKkd--6No6Nt",
        "outputId": "a18286b2-1cdb-4509-88a5-0631553e682b"
      },
      "execution_count": 30,
      "outputs": [
        {
          "output_type": "error",
          "ename": "AttributeError",
          "evalue": "ignored",
          "traceback": [
            "\u001b[0;31m---------------------------------------------------------------------------\u001b[0m",
            "\u001b[0;31mAttributeError\u001b[0m                            Traceback (most recent call last)",
            "\u001b[0;32m<ipython-input-30-96fbc61ae3b7>\u001b[0m in \u001b[0;36m<module>\u001b[0;34m()\u001b[0m\n\u001b[0;32m----> 1\u001b[0;31m \u001b[0md\u001b[0m\u001b[0;34m.\u001b[0m\u001b[0mmost_common\u001b[0m\u001b[0;34m(\u001b[0m\u001b[0;36m1\u001b[0m\u001b[0;34m)\u001b[0m\u001b[0;34m\u001b[0m\u001b[0;34m\u001b[0m\u001b[0m\n\u001b[0m",
            "\u001b[0;31mAttributeError\u001b[0m: 'dict' object has no attribute 'most_common'"
          ]
        }
      ]
    },
    {
      "cell_type": "markdown",
      "source": [
        "Este último ya no nos funciona porque es un diccionario normal."
      ],
      "metadata": {
        "id": "Mzj_rkFipDTN"
      }
    },
    {
      "cell_type": "code",
      "source": [
        "set(c)  #Devuelve lo mismo de la lista pero en conjunto"
      ],
      "metadata": {
        "colab": {
          "base_uri": "https://localhost:8080/"
        },
        "id": "G2Vz4BF_pKKP",
        "outputId": "8efb4110-9372-4d16-c6b5-f4ba7467dbfb"
      },
      "execution_count": 31,
      "outputs": [
        {
          "output_type": "execute_result",
          "data": {
            "text/plain": [
              "{10, 20, 30}"
            ]
          },
          "metadata": {},
          "execution_count": 31
        }
      ]
    },
    {
      "cell_type": "markdown",
      "source": [
        "Si queremos contar con un diccionario que nunca dé error pese a que no contiene una determinada clave, podemos utilizar un diccionario con un tipo por defecto. Y este se inicializará automáticamente al acceder a uno de sus  elementos por primera vez aunque este no exista.\n",
        "\n",
        "Veamos un ejemplo:"
      ],
      "metadata": {
        "id": "zddkTImBpUdX"
      }
    },
    {
      "cell_type": "code",
      "source": [
        "d = {}"
      ],
      "metadata": {
        "id": "f_d8iHbSsD4w"
      },
      "execution_count": 34,
      "outputs": []
    },
    {
      "cell_type": "code",
      "source": [
        "d['algo']"
      ],
      "metadata": {
        "colab": {
          "base_uri": "https://localhost:8080/",
          "height": 165
        },
        "id": "Zc6ZG80HsGiW",
        "outputId": "5f27077f-913f-41aa-ab98-acc37d6bc426"
      },
      "execution_count": 35,
      "outputs": [
        {
          "output_type": "error",
          "ename": "KeyError",
          "evalue": "ignored",
          "traceback": [
            "\u001b[0;31m---------------------------------------------------------------------------\u001b[0m",
            "\u001b[0;31mKeyError\u001b[0m                                  Traceback (most recent call last)",
            "\u001b[0;32m<ipython-input-35-2f70309d579d>\u001b[0m in \u001b[0;36m<module>\u001b[0;34m()\u001b[0m\n\u001b[0;32m----> 1\u001b[0;31m \u001b[0md\u001b[0m\u001b[0;34m[\u001b[0m\u001b[0;34m'algo'\u001b[0m\u001b[0;34m]\u001b[0m\u001b[0;34m\u001b[0m\u001b[0;34m\u001b[0m\u001b[0m\n\u001b[0m",
            "\u001b[0;31mKeyError\u001b[0m: 'algo'"
          ]
        }
      ]
    },
    {
      "cell_type": "markdown",
      "source": [
        "Da error porque no existe esa clave, no existe ese elemento en el diccionario.\n",
        "\n",
        "En cambio, si hacemos:"
      ],
      "metadata": {
        "id": "4AsxFuv7sNdF"
      }
    },
    {
      "cell_type": "code",
      "source": [
        "from collections import defaultdict"
      ],
      "metadata": {
        "id": "LmNmRVw1sdQF"
      },
      "execution_count": 36,
      "outputs": []
    },
    {
      "cell_type": "markdown",
      "source": [
        "defaultdict, que es el diccionario con valor por defecto, automáticamente cuando accedamos a la clave o intentemos consultarla, se creará con un valor por defecto."
      ],
      "metadata": {
        "id": "gJh1mPMDsnuV"
      }
    },
    {
      "cell_type": "code",
      "source": [
        "d = defaultdict(float) #y le tenemos que indicar un tipo por defecto, por ejemplo: float"
      ],
      "metadata": {
        "id": "XKvRyUccs39k"
      },
      "execution_count": 37,
      "outputs": []
    },
    {
      "cell_type": "code",
      "source": [
        "d['algo']"
      ],
      "metadata": {
        "colab": {
          "base_uri": "https://localhost:8080/"
        },
        "id": "trnhN8KVtF0o",
        "outputId": "700044ea-f0fb-45a8-97ff-3066cb0928f9"
      },
      "execution_count": 38,
      "outputs": [
        {
          "output_type": "execute_result",
          "data": {
            "text/plain": [
              "0.0"
            ]
          },
          "metadata": {},
          "execution_count": 38
        }
      ]
    },
    {
      "cell_type": "code",
      "source": [
        "d = defaultdict(str)"
      ],
      "metadata": {
        "id": "Df90DE-1tdAF"
      },
      "execution_count": 39,
      "outputs": []
    },
    {
      "cell_type": "code",
      "source": [
        "d['algo']"
      ],
      "metadata": {
        "colab": {
          "base_uri": "https://localhost:8080/",
          "height": 35
        },
        "id": "A-pO7nS7tgN6",
        "outputId": "ebb00f8c-e906-4d2b-fc68-70bb8a0c25da"
      },
      "execution_count": 40,
      "outputs": [
        {
          "output_type": "execute_result",
          "data": {
            "application/vnd.google.colaboratory.intrinsic+json": {
              "type": "string"
            },
            "text/plain": [
              "''"
            ]
          },
          "metadata": {},
          "execution_count": 40
        }
      ]
    },
    {
      "cell_type": "code",
      "source": [
        "d = defaultdict(object)"
      ],
      "metadata": {
        "id": "HF34rWVxtht6"
      },
      "execution_count": 41,
      "outputs": []
    },
    {
      "cell_type": "code",
      "source": [
        "d['algo']"
      ],
      "metadata": {
        "colab": {
          "base_uri": "https://localhost:8080/"
        },
        "id": "HwmeRHSNtlDS",
        "outputId": "b8b6a164-31d5-4d65-d619-4d4cb612cb81"
      },
      "execution_count": 42,
      "outputs": [
        {
          "output_type": "execute_result",
          "data": {
            "text/plain": [
              "<object at 0x7ff7444b0f30>"
            ]
          },
          "metadata": {},
          "execution_count": 42
        }
      ]
    },
    {
      "cell_type": "code",
      "source": [
        "d"
      ],
      "metadata": {
        "colab": {
          "base_uri": "https://localhost:8080/"
        },
        "id": "pYv-vO2ptsYL",
        "outputId": "11e25178-b2de-4a08-e755-d97061aea76f"
      },
      "execution_count": 43,
      "outputs": [
        {
          "output_type": "execute_result",
          "data": {
            "text/plain": [
              "defaultdict(object, {'algo': <object at 0x7ff7444b0f30>})"
            ]
          },
          "metadata": {},
          "execution_count": 43
        }
      ]
    },
    {
      "cell_type": "code",
      "source": [
        "d = defaultdict(int)"
      ],
      "metadata": {
        "id": "RZWzVy90uAHt"
      },
      "execution_count": 44,
      "outputs": []
    },
    {
      "cell_type": "code",
      "source": [
        "d['algo'] = 10.5"
      ],
      "metadata": {
        "id": "wKO-eWqEuGKI"
      },
      "execution_count": 45,
      "outputs": []
    },
    {
      "cell_type": "code",
      "source": [
        "d['algo']"
      ],
      "metadata": {
        "colab": {
          "base_uri": "https://localhost:8080/"
        },
        "id": "1ThZGv5uuJ91",
        "outputId": "c1cb5636-51cd-4201-b29b-5065d30683b7"
      },
      "execution_count": 46,
      "outputs": [
        {
          "output_type": "execute_result",
          "data": {
            "text/plain": [
              "10.5"
            ]
          },
          "metadata": {},
          "execution_count": 46
        }
      ]
    },
    {
      "cell_type": "code",
      "source": [
        "d['algomas']"
      ],
      "metadata": {
        "colab": {
          "base_uri": "https://localhost:8080/"
        },
        "id": "TimzfkPWxI9O",
        "outputId": "79331758-ce35-4dde-cb57-35160da0529d"
      },
      "execution_count": 47,
      "outputs": [
        {
          "output_type": "execute_result",
          "data": {
            "text/plain": [
              "0"
            ]
          },
          "metadata": {},
          "execution_count": 47
        }
      ]
    },
    {
      "cell_type": "code",
      "source": [
        "d"
      ],
      "metadata": {
        "colab": {
          "base_uri": "https://localhost:8080/"
        },
        "id": "Jx7qSASpxL0t",
        "outputId": "fcf6118e-574d-44da-9f89-b6a39a6873ce"
      },
      "execution_count": 48,
      "outputs": [
        {
          "output_type": "execute_result",
          "data": {
            "text/plain": [
              "defaultdict(int, {'algo': 10.5, 'algomas': 0})"
            ]
          },
          "metadata": {},
          "execution_count": 48
        }
      ]
    },
    {
      "cell_type": "markdown",
      "source": [
        "Otro de los problemas de los diccionarios, es que son colecciones desordenadas."
      ],
      "metadata": {
        "id": "iuo4eYedxSFt"
      }
    },
    {
      "cell_type": "code",
      "source": [
        "n = {}"
      ],
      "metadata": {
        "id": "hjjGmQ8_xYqH"
      },
      "execution_count": 49,
      "outputs": []
    },
    {
      "cell_type": "code",
      "source": [
        "n['uno'] = ['one']\n",
        "n['dos'] = ['two']\n",
        "n['tres'] = ['three']"
      ],
      "metadata": {
        "id": "Oh7yu_yrxaZR"
      },
      "execution_count": 50,
      "outputs": []
    },
    {
      "cell_type": "code",
      "source": [
        "n"
      ],
      "metadata": {
        "colab": {
          "base_uri": "https://localhost:8080/"
        },
        "id": "AJyt-mJgxkxo",
        "outputId": "0af4519b-4ef5-4e7a-b8f7-c8abdc30ee69"
      },
      "execution_count": 51,
      "outputs": [
        {
          "output_type": "execute_result",
          "data": {
            "text/plain": [
              "{'dos': ['two'], 'tres': ['three'], 'uno': ['one']}"
            ]
          },
          "metadata": {},
          "execution_count": 51
        }
      ]
    },
    {
      "cell_type": "code",
      "source": [
        "from collections import OrderedDict"
      ],
      "metadata": {
        "id": "72Vx6F0IxnFZ"
      },
      "execution_count": 52,
      "outputs": []
    },
    {
      "cell_type": "code",
      "source": [
        "n = OrderedDict()"
      ],
      "metadata": {
        "id": "sIWPIoDqxuoK"
      },
      "execution_count": 53,
      "outputs": []
    },
    {
      "cell_type": "code",
      "source": [
        "n['uno'] = ['one']\n",
        "n['dos'] = ['two']\n",
        "n['tres'] = ['three']"
      ],
      "metadata": {
        "id": "PEfdZGl3xxbh"
      },
      "execution_count": 54,
      "outputs": []
    },
    {
      "cell_type": "code",
      "source": [
        "n"
      ],
      "metadata": {
        "colab": {
          "base_uri": "https://localhost:8080/"
        },
        "id": "OJMqBtT8xyp4",
        "outputId": "b7180674-e579-4b33-ce02-9e239eee1aca"
      },
      "execution_count": 55,
      "outputs": [
        {
          "output_type": "execute_result",
          "data": {
            "text/plain": [
              "OrderedDict([('uno', ['one']), ('dos', ['two']), ('tres', ['three'])])"
            ]
          },
          "metadata": {},
          "execution_count": 55
        }
      ]
    },
    {
      "cell_type": "markdown",
      "source": [
        "Y de esta manera nos lo pone en el mismo orden que nosotros decidimos crear el diccionario.\n",
        "\n",
        "Lo único que tenemos que tener en cuenta (con estos diccionarios ordenados), es que no son equivalentes como serían por ejemplo dos diccionarios con los mismos elementos (aunque estén desordenados). Como son normales en realidad son iguales."
      ],
      "metadata": {
        "id": "ils7WvRhxz38"
      }
    },
    {
      "cell_type": "code",
      "source": [
        "n1 = {}\n",
        "n1['uno'] = ['one']\n",
        "n1['dos'] = ['two']\n",
        "\n",
        "n2 = {}\n",
        "n2['dos'] = ['two']\n",
        "n2['uno'] = ['one']"
      ],
      "metadata": {
        "id": "FFBYI9lY2LoQ"
      },
      "execution_count": 58,
      "outputs": []
    },
    {
      "cell_type": "markdown",
      "source": [
        "Si comparamos ambos diccionarios:"
      ],
      "metadata": {
        "id": "2Unr7GhM2bwf"
      }
    },
    {
      "cell_type": "code",
      "source": [
        "n1 == n2"
      ],
      "metadata": {
        "colab": {
          "base_uri": "https://localhost:8080/"
        },
        "id": "2xLhmXn82e9d",
        "outputId": "bd6b642d-a5e6-4f4f-f1ec-24e93d6fa5dd"
      },
      "execution_count": 59,
      "outputs": [
        {
          "output_type": "execute_result",
          "data": {
            "text/plain": [
              "True"
            ]
          },
          "metadata": {},
          "execution_count": 59
        }
      ]
    },
    {
      "cell_type": "markdown",
      "source": [
        "Como son desordenados por defecto, en realidad son equivalentes.\n",
        "\n",
        "Pero si hacemos lo mismo utilizando OrderedDict, la cosa cambia:"
      ],
      "metadata": {
        "id": "OIFOTxSy2kr3"
      }
    },
    {
      "cell_type": "code",
      "source": [
        "n1 = OrderedDict()\n",
        "n1['uno'] = ['one']\n",
        "n1['dos'] = ['two']\n",
        "\n",
        "n2 = OrderedDict()\n",
        "n2['dos'] = ['two']\n",
        "n2['uno'] = ['one']"
      ],
      "metadata": {
        "id": "QkLe_mdL2xkZ"
      },
      "execution_count": 60,
      "outputs": []
    },
    {
      "cell_type": "code",
      "source": [
        "n1 == n2"
      ],
      "metadata": {
        "colab": {
          "base_uri": "https://localhost:8080/"
        },
        "id": "XJqJuFYR25TM",
        "outputId": "cfdc7636-b5b0-4f90-93bc-d3b6c170ee5c"
      },
      "execution_count": 61,
      "outputs": [
        {
          "output_type": "execute_result",
          "data": {
            "text/plain": [
              "False"
            ]
          },
          "metadata": {},
          "execution_count": 61
        }
      ]
    },
    {
      "cell_type": "markdown",
      "source": [
        "Ahora si que se tiene en cuenta el orden y por tanto son diferentes.\n",
        "\n",
        "Trabajamos ahora con tuplas."
      ],
      "metadata": {
        "id": "FNPq0Lh52-pv"
      }
    },
    {
      "cell_type": "code",
      "source": [
        "from collections import namedtuple"
      ],
      "metadata": {
        "id": "y6x7Jjqv3dJq"
      },
      "execution_count": 62,
      "outputs": []
    },
    {
      "cell_type": "code",
      "source": [
        "Persona = namedtuple('Persona','nombre apellido edad')"
      ],
      "metadata": {
        "id": "jRJ9hdSv3g5b"
      },
      "execution_count": 63,
      "outputs": []
    },
    {
      "cell_type": "code",
      "source": [
        "p = Persona(nombre = 'Paco', apellido = 'Porras', edad = 24)"
      ],
      "metadata": {
        "id": "ucCIMbaa3pRD"
      },
      "execution_count": 64,
      "outputs": []
    },
    {
      "cell_type": "code",
      "source": [
        "p.nombre"
      ],
      "metadata": {
        "colab": {
          "base_uri": "https://localhost:8080/",
          "height": 35
        },
        "id": "0GZesxNd66Aq",
        "outputId": "3ef9a8ea-180d-410a-cdef-bc39b88b0dfb"
      },
      "execution_count": 65,
      "outputs": [
        {
          "output_type": "execute_result",
          "data": {
            "application/vnd.google.colaboratory.intrinsic+json": {
              "type": "string"
            },
            "text/plain": [
              "'Paco'"
            ]
          },
          "metadata": {},
          "execution_count": 65
        }
      ]
    },
    {
      "cell_type": "code",
      "source": [
        "p.apellido"
      ],
      "metadata": {
        "colab": {
          "base_uri": "https://localhost:8080/",
          "height": 35
        },
        "id": "aXStJN0A68Lx",
        "outputId": "def8aea5-bdd4-4b35-8abe-344090897b21"
      },
      "execution_count": 66,
      "outputs": [
        {
          "output_type": "execute_result",
          "data": {
            "application/vnd.google.colaboratory.intrinsic+json": {
              "type": "string"
            },
            "text/plain": [
              "'Porras'"
            ]
          },
          "metadata": {},
          "execution_count": 66
        }
      ]
    },
    {
      "cell_type": "code",
      "source": [
        "p.edad"
      ],
      "metadata": {
        "colab": {
          "base_uri": "https://localhost:8080/"
        },
        "id": "fe17Yb3j7AUu",
        "outputId": "0ae4beb0-0f04-44e9-c180-87cbe8ef0283"
      },
      "execution_count": 67,
      "outputs": [
        {
          "output_type": "execute_result",
          "data": {
            "text/plain": [
              "24"
            ]
          },
          "metadata": {},
          "execution_count": 67
        }
      ]
    },
    {
      "cell_type": "code",
      "source": [
        "p #Una tupla con nombre. Una persona con nombre, apellido y edad"
      ],
      "metadata": {
        "colab": {
          "base_uri": "https://localhost:8080/"
        },
        "id": "1Y4iHvhx7B9y",
        "outputId": "de24a86f-2886-4a4e-d962-0c67881766b5"
      },
      "execution_count": 69,
      "outputs": [
        {
          "output_type": "execute_result",
          "data": {
            "text/plain": [
              "Persona(nombre='Paco', apellido='Porras', edad=24)"
            ]
          },
          "metadata": {},
          "execution_count": 69
        }
      ]
    },
    {
      "cell_type": "code",
      "source": [
        "p[0]"
      ],
      "metadata": {
        "colab": {
          "base_uri": "https://localhost:8080/",
          "height": 35
        },
        "id": "tnMc4Ynq7Sh8",
        "outputId": "a4f9310b-b261-4056-e250-cbd729638aed"
      },
      "execution_count": 70,
      "outputs": [
        {
          "output_type": "execute_result",
          "data": {
            "application/vnd.google.colaboratory.intrinsic+json": {
              "type": "string"
            },
            "text/plain": [
              "'Paco'"
            ]
          },
          "metadata": {},
          "execution_count": 70
        }
      ]
    },
    {
      "cell_type": "markdown",
      "source": [
        "Es como unas clases muy sencillas para guardar información estructurada e inmutable."
      ],
      "metadata": {
        "id": "7DCvkPbb7ZyA"
      }
    }
  ]
}